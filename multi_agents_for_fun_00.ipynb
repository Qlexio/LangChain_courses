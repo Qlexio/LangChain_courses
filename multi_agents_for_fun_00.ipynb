{
 "cells": [
  {
   "cell_type": "code",
   "execution_count": 1,
   "metadata": {},
   "outputs": [],
   "source": [
    "from langchain.agents import Tool\n",
    "from langchain_community.tools import DuckDuckGoSearchRun\n",
    "from langchain_mistralai import ChatMistralAI\n",
    "from langchain_core.prompts import ChatPromptTemplate\n",
    "from langgraph.graph import StateGraph, END\n",
    "from typing import Dict, List, Optional, TypedDict\n"
   ]
  },
  {
   "cell_type": "code",
   "execution_count": 2,
   "metadata": {},
   "outputs": [],
   "source": [
    "import sys\n",
    "\n",
    "# sys.path.append(\"../\")\n",
    "\n",
    "from custom_features.models import MODELS\n",
    "from custom_features.params_setting_fct import set_api_keys, set_langsmith\n",
    "\n",
    "set_api_keys()\n",
    "set_langsmith()"
   ]
  },
  {
   "cell_type": "code",
   "execution_count": 17,
   "metadata": {},
   "outputs": [],
   "source": [
    "\n",
    "# 1. Définition des Outils\n",
    "search = DuckDuckGoSearchRun()\n",
    "tools = [\n",
    "    Tool(\n",
    "        name=\"Recherche sur Internet\",\n",
    "        func=search.run,\n",
    "        description=\"utile pour lorsque vous avez besoin de répondre à des questions sur des sujets d'actualité. L'entrée doit être une requête de recherche.\",\n",
    "    ),\n",
    "]\n"
   ]
  },
  {
   "cell_type": "code",
   "execution_count": 18,
   "metadata": {},
   "outputs": [],
   "source": [
    "\n",
    "# 2. Définition des Agents (avec LLM et Prompt)\n",
    "llm = ChatMistralAI(temperature=0)\n",
    "\n",
    "prompt_chercheur = ChatPromptTemplate.from_messages(\n",
    "    [\n",
    "        (\n",
    "            \"system\",\n",
    "            \"Tu es un chercheur expert. Utilise l'outil de 'Recherche sur Internet' pour trouver des informations pertinentes pour répondre à la question de l'utilisateur. Une fois que tu as les informations, transmets-les à l'agent 'Répondeur'.\",\n",
    "        ),\n",
    "        (\"user\", \"{question}\"),\n",
    "    ]\n",
    ")\n",
    "prompt_repondeur = ChatPromptTemplate.from_messages(\n",
    "    [\n",
    "        (\n",
    "            \"system\",\n",
    "            \"Tu es un répondeur expert. On va te fournir des informations provenant d'un chercheur. Utilise ces informations pour formuler une réponse concise et informative à la question de l'utilisateur.\",\n",
    "        ),\n",
    "        (\"user\", \"Informations du chercheur: {informations}\\n\\nQuestion de l'utilisateur: {question}\"),\n",
    "    ]\n",
    ")\n",
    "\n",
    "# agent_chercheur = {\"question\": lambda state: state[\"question\"]} | prompt_chercheur | llm\n",
    "# agent_repondeur = {\"informations\": lambda state: state[\"informations\"], \"question\": lambda state: state[\"question\"]} | prompt_repondeur | llm\n",
    "# Agent Chercheur MODIFIÉ pour retourner un dictionnaire mettant à jour l'état avec 'informations'\n",
    "def agent_chercheur_node(state):\n",
    "    question = state['question']\n",
    "    resultat_recherche = search.run(question) # Utilisation de l'outil de recherche\n",
    "    return {\"informations\": resultat_recherche} # Retourne un dictionnaire pour mettre à jour l'état\n",
    "\n",
    "# Agent Répondeur MODIFIÉ (légèrement) pour accéder à 'informations' depuis l'état\n",
    "def agent_repondeur_node(state):\n",
    "    informations = state['informations']\n",
    "    question = state['question']\n",
    "    prompt_avec_informations = prompt_repondeur.format_messages(informations=informations, question=question)\n",
    "    reponse = llm.invoke(prompt_avec_informations)\n",
    "    return {\"reponse\": reponse.content} # Retourne la réponse, pourrait aussi mettre à jour l'état si nécessaire\n"
   ]
  },
  {
   "cell_type": "code",
   "execution_count": 20,
   "metadata": {},
   "outputs": [],
   "source": [
    "\n",
    "# 3. Définition du Graph LangGraph\n",
    "class AgentState(TypedDict):\n",
    "    question: str\n",
    "    informations: Optional[str]\n",
    "    reponse: Optional[str] # 'reponse' sera mis à jour par le répondeur\n",
    "\n",
    "builder = StateGraph(AgentState)\n",
    "\n",
    "# Ajout des nodes (agents)\n",
    "builder.add_node(\"chercheur\", agent_chercheur_node)\n",
    "builder.add_node(\"repondeur\", agent_repondeur_node)\n",
    "\n",
    "# Définition des edges (transitions)\n",
    "builder.set_entry_point(\"chercheur\")\n",
    "builder.add_edge(\"chercheur\", \"repondeur\")\n",
    "builder.add_edge(\"repondeur\", END) # Fin du graph après le répondeur\n",
    "\n",
    "# Compilation du Graph\n",
    "graph = builder.compile()\n"
   ]
  },
  {
   "cell_type": "code",
   "execution_count": 21,
   "metadata": {},
   "outputs": [],
   "source": [
    "\n",
    "# 4. Exécution du Workflow\n",
    "inputs = {\"question\": \"Quelle est la capitale de la France?\"}\n",
    "resultats = graph.invoke(inputs)\n"
   ]
  },
  {
   "cell_type": "code",
   "execution_count": 22,
   "metadata": {},
   "outputs": [
    {
     "name": "stdout",
     "output_type": "stream",
     "text": [
      "Question: Quelle est la capitale de la France?\n",
      "Réponse: Plongez dans le charme de Paris, la capitale de la France ! Explorez son histoire riche, ses attractions et sa cuisine délicieuse dans notre guide complet. Paris est la capitale de la France. Elle compte environ 2,2 millions d'habitants intra-muros et plus de 12 millions en intégrant les agglomérations alentours. Elle est située dans la partie nord de la France, est traversée par la Seine entre les confluents de la Marne et l'Oise. La capitale comptait au 1er janvier 2023 très précisément 2 133 111 habitants et ils sont répartis sur vingt arrondissements. Côté superficie, Paris s'étend sur 105,4 km². Et même si chaque année le nombre de parisiens tend à diminuer légèrement, Paris reste de loin la ville la plus peuplée de France. La capitale de la France est Paris. Située au nord du pays, Paris est la plus grande ville de France et l'une des plus influentes au monde. Elle est célèbre pour son riche patrimoine historique et culturel, ses monuments emblématiques et son importance politique et économique. La ville de Paris est la capitale politique de la France. Toutes les autres fonctions de commandement, de création de richesses ou de rayonnement national sont venues s'y agréger, donnant naissance à l'expression « capitale économique ».\n"
     ]
    }
   ],
   "source": [
    "\n",
    "# 5. Affichage du résultat\n",
    "reponse_finale = resultats['informations'] # La réponse du répondeur est stockée dans 'informations' dans cet exemple simplifié.\n",
    "print(f\"Question: {inputs['question']}\")\n",
    "print(f\"Réponse: {reponse_finale}\")"
   ]
  },
  {
   "cell_type": "code",
   "execution_count": null,
   "metadata": {},
   "outputs": [],
   "source": []
  }
 ],
 "metadata": {
  "kernelspec": {
   "display_name": "venv_langchain",
   "language": "python",
   "name": "python3"
  },
  "language_info": {
   "codemirror_mode": {
    "name": "ipython",
    "version": 3
   },
   "file_extension": ".py",
   "mimetype": "text/x-python",
   "name": "python",
   "nbconvert_exporter": "python",
   "pygments_lexer": "ipython3",
   "version": "3.10.16"
  }
 },
 "nbformat": 4,
 "nbformat_minor": 2
}
