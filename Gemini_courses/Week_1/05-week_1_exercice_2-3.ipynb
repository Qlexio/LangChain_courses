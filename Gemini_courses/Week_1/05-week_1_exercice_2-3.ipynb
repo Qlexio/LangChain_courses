{
 "cells": [
  {
   "cell_type": "markdown",
   "id": "21a2f527",
   "metadata": {},
   "source": [
    "# Week 1 - Exercice 2\n",
    "\n",
    "https://python.langchain.com/docs/how_to/output_parser_retry/\n",
    "\n",
    "1. Explorez la documentation de OutputFixingParser et/ou RetryWithError.\n",
    "2. Intégrez l'un de ces parsers correcteurs (ou les deux pour expérimenter) dans au moins l'une de vos chaînes de parsing existantes (par exemple, la chaîne short_chain ou long_chain).\n",
    "3. Testez la chaîne modifiée pour voir comment elle gère les cas où le modèle fait une petite erreur de formatage initiale."
   ]
  },
  {
   "cell_type": "code",
   "execution_count": 1,
   "id": "b2d09ad2",
   "metadata": {},
   "outputs": [],
   "source": [
    "from langchain_ollama import ChatOllama, OllamaLLM\n",
    "from langchain_core.prompts import ChatPromptTemplate, HumanMessagePromptTemplate, SystemMessagePromptTemplate\n",
    "from langchain_core.output_parsers import PydanticOutputParser\n",
    "from langchain.output_parsers.fix import OutputFixingParser\n",
    "from langchain.output_parsers.retry import RetryWithErrorOutputParser\n",
    "from pprint import pprint"
   ]
  },
  {
   "cell_type": "code",
   "execution_count": 2,
   "id": "7b76c20f",
   "metadata": {},
   "outputs": [],
   "source": [
    "import sys\n",
    "\n",
    "sys.path.append(\"../\")\n",
    "\n",
    "from agents.technical_analyst.technical_analysis_pydantic_model import TickerTechnicalAnalysis, ShortTimeframeData, LongTimeframeData"
   ]
  },
  {
   "cell_type": "code",
   "execution_count": 3,
   "id": "9dcbfb3f",
   "metadata": {},
   "outputs": [],
   "source": [
    "MODEL = \"cogito:8b\"\n",
    "DEEP_THINKING_INSTRUCTION = \"Enable deep thinking subroutine.\\n\\n\"\n",
    "invocation = {\"stock\": \"APPLE\"}"
   ]
  },
  {
   "cell_type": "code",
   "execution_count": 4,
   "id": "0c41b1bc",
   "metadata": {},
   "outputs": [],
   "source": [
    "model = ChatOllama(model=MODEL, num_gpu=256, num_ctx=4092 * 2, num_predict=1000 * 2)\n",
    "error_model = ChatOllama(model=MODEL, num_gpu=256, num_ctx=4092 * 4, num_predict=1000 * 2)"
   ]
  },
  {
   "cell_type": "code",
   "execution_count": 5,
   "id": "ca6d9e00",
   "metadata": {},
   "outputs": [],
   "source": [
    "system_template = (\"As trading technical analyst expert, your task is to generate the technical analysis report for {stock} at the specified JSON format. \"\n",
    "                   \"Use the data (simulated for the exercice) to generate the technical analysis of {stock} action totally filling the JSON schema described below. \"\n",
    "\n",
    "                   \"The format of your response is CRITICAL and MUST ADHERE EXACTLY to the JSON schema described here:\"\n",
    "                   \"\\n{format_instructions}\\n\"\n",
    "                   \"Once again, the JSON schema described above is CRITICAL and MUST BE RESPECTED.\"\n",
    "                )"
   ]
  },
  {
   "cell_type": "code",
   "execution_count": 6,
   "id": "9085ad84",
   "metadata": {},
   "outputs": [],
   "source": [
    "short_technical_parser = PydanticOutputParser(pydantic_object=ShortTimeframeData)\n"
   ]
  },
  {
   "cell_type": "code",
   "execution_count": 7,
   "id": "d89935e0",
   "metadata": {},
   "outputs": [],
   "source": [
    "\n",
    "short_prompt_template = ChatPromptTemplate([\n",
    "    SystemMessagePromptTemplate.from_template(template=system_template),\n",
    "    HumanMessagePromptTemplate.from_template(template=\"{stock}\"),\n",
    "    ],\n",
    "    input_variables=[\"stock\"],\n",
    "    partial_variables={\"format_instructions\": short_technical_parser.get_format_instructions(),\n",
    "                    #    \"output_json_schema\": technical_parser._get_schema(pydantic_object=TickerTechnicalAnalysis)\n",
    "                       }\n",
    ")"
   ]
  },
  {
   "cell_type": "code",
   "execution_count": 8,
   "id": "ce36cab2",
   "metadata": {},
   "outputs": [],
   "source": [
    "retry_parser = RetryWithErrorOutputParser.from_llm(\n",
    "    llm=error_model,\n",
    "    # OllamaLLM(\n",
    "    #     model=MODEL, num_gpu=256,\n",
    "    #     #  num_ctx=4092 * 2, \n",
    "    #     #  num_predict=1000 * 1, \n",
    "    #             #   temperature=0\n",
    "    #               ),\n",
    "    parser=short_technical_parser,\n",
    "    max_retries=1,\n",
    ")"
   ]
  },
  {
   "cell_type": "code",
   "execution_count": 9,
   "id": "88b922ad",
   "metadata": {},
   "outputs": [],
   "source": [
    "# from langchain_core.runnables import RunnableLambda, RunnableParallel\n",
    "\n",
    "# completion_chain = short_prompt_template | model\n",
    "# main_chain = RunnableParallel(\n",
    "#     completion=completion_chain, prompt_value=short_prompt_template\n",
    "# ) | RunnableLambda(lambda x: retry_parser.parse_with_prompt(**x))\n",
    "\n"
   ]
  },
  {
   "cell_type": "code",
   "execution_count": 10,
   "id": "21639730",
   "metadata": {},
   "outputs": [
    {
     "data": {
      "text/plain": [
       "ChatPromptValue(messages=[SystemMessage(content='As trading technical analyst expert, your task is to generate the technical analysis report for APPLE at the specified JSON format. Use the data (simulated for the exercice) to generate the technical analysis of APPLE action totally filling the JSON schema described below. The format of your response is CRITICAL and MUST ADHERE EXACTLY to the JSON schema described here:\\nThe output should be formatted as a JSON instance that conforms to the JSON schema below.\\n\\nAs an example, for the schema {\"properties\": {\"foo\": {\"title\": \"Foo\", \"description\": \"a list of strings\", \"type\": \"array\", \"items\": {\"type\": \"string\"}}}, \"required\": [\"foo\"]}\\nthe object {\"foo\": [\"bar\", \"baz\"]} is a well-formatted instance of the schema. The object {\"properties\": {\"foo\": [\"bar\", \"baz\"]}} is not well-formatted.\\n\\nHere is the output schema:\\n```\\n{\"$defs\": {\"BollignerBandsRawValues\": {\"description\": \"Bollinger Bands raw values provided by the Bollinger Bands tool.\", \"properties\": {\"bollinger_bands_moving_average_value\": {\"description\": \"Moving avering raw value provided by the Bollinger Bands tool.\", \"title\": \"Bollinger Bands Moving Average Value\", \"type\": \"number\"}, \"bollinger_bands_above_standard_deviation_value\": {\"description\": \"Upper standard deviation provided by the Bollinger Bands tools.\", \"title\": \"Bollinger Bands Above Standard Deviation Value\", \"type\": \"number\"}, \"bollinger_bands_below_standard_deviation_value\": {\"description\": \"Lower standard deviation provided by the Bollinger Bands tools.\", \"title\": \"Bollinger Bands Below Standard Deviation Value\", \"type\": \"number\"}}, \"required\": [\"bollinger_bands_moving_average_value\", \"bollinger_bands_above_standard_deviation_value\", \"bollinger_bands_below_standard_deviation_value\"], \"title\": \"BollignerBandsRawValues\", \"type\": \"object\"}, \"Bollinger_bandsEvaluation\": {\"properties\": {\"bollinger_bands_trend\": {\"description\": \"(str) BOLLINGER_BANDS trend on the graph.\", \"title\": \"Bollinger Bands Trend\", \"type\": \"string\"}, \"bollinger_bands_trading_action\": {\"$ref\": \"#/$defs/TradingActions\", \"description\": \"(enum) Action to take based on BOLLINGER_BANDS. Type of action: TradingActions\"}, \"primary_bollinger_bands_trend\": {\"$ref\": \"#/$defs/TrendCategories\", \"description\": \"(enum) Category of the primary BOLLINGER_BANDS trend. Type of category: TrendCategories\"}, \"primary_bollinger_bands_trend_number_of_touches\": {\"description\": \"(int) Number of times the prices touch the primary BOLLINGER_BANDS trend.\", \"title\": \"Primary Bollinger Bands Trend Number Of Touches\", \"type\": \"integer\"}, \"secondary_bollinger_bands_trend\": {\"$ref\": \"#/$defs/TrendCategories\", \"description\": \"(enum) Category of the secondary BOLLINGER_BANDS trend. Type of category: TrendCategories\"}, \"secondary_bollinger_bands_trend_number_of_touches\": {\"description\": \"(int) Number of times the prices touch the secondary BOLLINGER_BANDS trend.\", \"title\": \"Secondary Bollinger Bands Trend Number Of Touches\", \"type\": \"integer\"}, \"minor_bollinger_bands_trend\": {\"$ref\": \"#/$defs/TrendCategories\", \"description\": \"(enum) Category of the minor BOLLINGER_BANDS trend. Type of category: TrendCategories\"}, \"minor_bollinger_bands_trend_number_of_touches\": {\"description\": \"(int) Number of times the prices prices touch the minor BOLLINGER_BANDS trend.\", \"title\": \"Minor Bollinger Bands Trend Number Of Touches\", \"type\": \"integer\"}, \"raw_tool_data\": {\"$ref\": \"#/$defs/BollignerBandsRawValues\", \"description\": \"Raw data specific to the BOLLINGER_BANDS tool.\"}}, \"required\": [\"bollinger_bands_trend\", \"bollinger_bands_trading_action\", \"primary_bollinger_bands_trend\", \"primary_bollinger_bands_trend_number_of_touches\", \"secondary_bollinger_bands_trend\", \"secondary_bollinger_bands_trend_number_of_touches\", \"minor_bollinger_bands_trend\", \"minor_bollinger_bands_trend_number_of_touches\", \"raw_tool_data\"], \"title\": \"Bollinger_bandsEvaluation\", \"type\": \"object\"}, \"Indicators\": {\"properties\": {\"rsi_evaluation\": {\"anyOf\": [{\"$ref\": \"#/$defs/RsiEvaluation\"}, {\"type\": \"null\"}], \"default\": null, \"description\": \"RSI evaluation.\"}, \"macd_evaluation\": {\"anyOf\": [{\"$ref\": \"#/$defs/MacdEvaluation\"}, {\"type\": \"null\"}], \"default\": null, \"description\": \"MACD evaluation.\"}, \"bollinger_bands_evaluation\": {\"anyOf\": [{\"$ref\": \"#/$defs/Bollinger_bandsEvaluation\"}, {\"type\": \"null\"}], \"default\": null, \"description\": \"Bollinger Bands evaluation.\"}}, \"title\": \"Indicators\", \"type\": \"object\"}, \"MACDRawValues\": {\"description\": \"MACD raw values provided by the MACD tool.\", \"properties\": {\"short_moving_average_value\": {\"description\": \"Short moving avering raw value provided by the MACD tool.\", \"title\": \"Short Moving Average Value\", \"type\": \"number\"}, \"long_moving_average_value\": {\"description\": \"Long moving avering raw value provided by the MACD tool.\", \"title\": \"Long Moving Average Value\", \"type\": \"number\"}, \"signal_value\": {\"description\": \"Signal raw value provided by the MACD tool.\", \"title\": \"Signal Value\", \"type\": \"number\"}}, \"required\": [\"short_moving_average_value\", \"long_moving_average_value\", \"signal_value\"], \"title\": \"MACDRawValues\", \"type\": \"object\"}, \"MacdEvaluation\": {\"properties\": {\"macd_trend\": {\"description\": \"(str) MACD trend on the graph.\", \"title\": \"Macd Trend\", \"type\": \"string\"}, \"macd_trading_action\": {\"$ref\": \"#/$defs/TradingActions\", \"description\": \"(enum) Action to take based on MACD. Type of action: TradingActions\"}, \"primary_macd_trend\": {\"$ref\": \"#/$defs/TrendCategories\", \"description\": \"(enum) Category of the primary MACD trend. Type of category: TrendCategories\"}, \"primary_macd_trend_number_of_touches\": {\"description\": \"(int) Number of times the prices touch the primary MACD trend.\", \"title\": \"Primary Macd Trend Number Of Touches\", \"type\": \"integer\"}, \"secondary_macd_trend\": {\"$ref\": \"#/$defs/TrendCategories\", \"description\": \"(enum) Category of the secondary MACD trend. Type of category: TrendCategories\"}, \"secondary_macd_trend_number_of_touches\": {\"description\": \"(int) Number of times the prices touch the secondary MACD trend.\", \"title\": \"Secondary Macd Trend Number Of Touches\", \"type\": \"integer\"}, \"minor_macd_trend\": {\"$ref\": \"#/$defs/TrendCategories\", \"description\": \"(enum) Category of the minor MACD trend. Type of category: TrendCategories\"}, \"minor_macd_trend_number_of_touches\": {\"description\": \"(int) Number of times the prices prices touch the minor MACD trend.\", \"title\": \"Minor Macd Trend Number Of Touches\", \"type\": \"integer\"}, \"raw_tool_data\": {\"$ref\": \"#/$defs/MACDRawValues\", \"description\": \"Raw data specific to the MACD tool.\"}}, \"required\": [\"macd_trend\", \"macd_trading_action\", \"primary_macd_trend\", \"primary_macd_trend_number_of_touches\", \"secondary_macd_trend\", \"secondary_macd_trend_number_of_touches\", \"minor_macd_trend\", \"minor_macd_trend_number_of_touches\", \"raw_tool_data\"], \"title\": \"MacdEvaluation\", \"type\": \"object\"}, \"PRICESRawValue\": {\"description\": \"PRICES raw value provided by the chart.\", \"properties\": {\"prices_value\": {\"description\": \"PRICES raw value provided by the chart.\", \"title\": \"Prices Value\", \"type\": \"number\"}}, \"required\": [\"prices_value\"], \"title\": \"PRICESRawValue\", \"type\": \"object\"}, \"PricesEvaluation\": {\"properties\": {\"prices_trend\": {\"description\": \"(str) PRICES trend on the graph.\", \"title\": \"Prices Trend\", \"type\": \"string\"}, \"prices_trading_action\": {\"$ref\": \"#/$defs/TradingActions\", \"description\": \"(enum) Action to take based on PRICES. Type of action: TradingActions\"}, \"primary_prices_trend\": {\"$ref\": \"#/$defs/TrendCategories\", \"description\": \"(enum) Category of the primary PRICES trend. Type of category: TrendCategories\"}, \"primary_prices_trend_number_of_touches\": {\"description\": \"(int) Number of times the prices touch the primary PRICES trend.\", \"title\": \"Primary Prices Trend Number Of Touches\", \"type\": \"integer\"}, \"secondary_prices_trend\": {\"$ref\": \"#/$defs/TrendCategories\", \"description\": \"(enum) Category of the secondary PRICES trend. Type of category: TrendCategories\"}, \"secondary_prices_trend_number_of_touches\": {\"description\": \"(int) Number of times the prices touch the secondary PRICES trend.\", \"title\": \"Secondary Prices Trend Number Of Touches\", \"type\": \"integer\"}, \"minor_prices_trend\": {\"$ref\": \"#/$defs/TrendCategories\", \"description\": \"(enum) Category of the minor PRICES trend. Type of category: TrendCategories\"}, \"minor_prices_trend_number_of_touches\": {\"description\": \"(int) Number of times the prices prices touch the minor PRICES trend.\", \"title\": \"Minor Prices Trend Number Of Touches\", \"type\": \"integer\"}, \"raw_tool_data\": {\"$ref\": \"#/$defs/PRICESRawValue\", \"description\": \"Raw data specific to the PRICES tool.\"}, \"prices_trend_evaluation\": {\"description\": \"(str) PRICES trend on the graph.\", \"title\": \"Prices Trend Evaluation\", \"type\": \"string\"}, \"chart_pattern\": {\"description\": \"(str) Description of the chart pattern if any\", \"title\": \"Chart Pattern\", \"type\": \"string\"}, \"potential_chart_pattern\": {\"description\": \"(str) Description of potentials coming chart pattern to focus on if any\", \"title\": \"Potential Chart Pattern\", \"type\": \"string\"}, \"candlestick_pattern\": {\"description\": \"(str) Description of the candlestick pattern if any\", \"title\": \"Candlestick Pattern\", \"type\": \"string\"}, \"potential_candlestick_pattern\": {\"description\": \"(str) Description of potentials coming candlestick pattern to focus on if any\", \"title\": \"Potential Candlestick Pattern\", \"type\": \"string\"}}, \"required\": [\"prices_trend\", \"prices_trading_action\", \"primary_prices_trend\", \"primary_prices_trend_number_of_touches\", \"secondary_prices_trend\", \"secondary_prices_trend_number_of_touches\", \"minor_prices_trend\", \"minor_prices_trend_number_of_touches\", \"raw_tool_data\", \"prices_trend_evaluation\", \"chart_pattern\", \"potential_chart_pattern\", \"candlestick_pattern\", \"potential_candlestick_pattern\"], \"title\": \"PricesEvaluation\", \"type\": \"object\"}, \"RSIRawValue\": {\"description\": \"RSI raw value provided by the RSI tool.\", \"properties\": {\"rsi_value\": {\"description\": \"RSI raw value provided by the RSI tool.\", \"title\": \"Rsi Value\", \"type\": \"number\"}}, \"required\": [\"rsi_value\"], \"title\": \"RSIRawValue\", \"type\": \"object\"}, \"ResistanceEvaluation\": {\"properties\": {\"resistances_evaluation\": {\"description\": \"(str) Global evaluation of the RESISTANCEs.\", \"title\": \"Resistances Evaluation\", \"type\": \"string\"}, \"resistance_interaction_status\": {\"$ref\": \"#/$defs/SupportResistanceInteractionStatus\", \"description\": \"(enum) Category of the RESISTANCE status, Type of category: SupportResistanceInteractionStatus.\"}, \"resistance_interaction_implication\": {\"$ref\": \"#/$defs/SupportResistanceInteractionImplication\", \"description\": \"(enum) Category of the RESISTANCE implication, Type of category: SupportResistanceInteractionImplication.\"}, \"close_resistance_level\": {\"description\": \"(str) Evaluation and/or value of the closiest RESISTANCE in relation to the price.\", \"title\": \"Close Resistance Level\", \"type\": \"string\"}, \"middle_resistance_level\": {\"description\": \"(str) Evaluation and/or value of the middle RESISTANCE in relation to the price.\", \"title\": \"Middle Resistance Level\", \"type\": \"string\"}, \"far_resistance_level\": {\"description\": \"(str) Evaluation and/or value of the farest RESISTANCE in relation to the price.\", \"title\": \"Far Resistance Level\", \"type\": \"string\"}, \"raw_tool_data\": {\"$ref\": \"#/$defs/ResistanceRawToolData\", \"description\": \"Raw data specific to the RESISTANCE tool.\"}}, \"required\": [\"resistances_evaluation\", \"resistance_interaction_status\", \"resistance_interaction_implication\", \"close_resistance_level\", \"middle_resistance_level\", \"far_resistance_level\", \"raw_tool_data\"], \"title\": \"ResistanceEvaluation\", \"type\": \"object\"}, \"ResistanceRawToolData\": {\"properties\": {\"close_resistance_value\": {\"description\": \"Raw value of the closest RESISTANCE in relation to the price.\", \"title\": \"Close Resistance Value\", \"type\": \"number\"}, \"middle_resistance_value\": {\"description\": \"Raw value of the middle RESISTANCE in relation to the price.\", \"title\": \"Middle Resistance Value\", \"type\": \"number\"}, \"far_resistance_value\": {\"description\": \"Raw value of the farest RESISTANCE in relation to the price.\", \"title\": \"Far Resistance Value\", \"type\": \"number\"}}, \"required\": [\"close_resistance_value\", \"middle_resistance_value\", \"far_resistance_value\"], \"title\": \"ResistanceRawToolData\", \"type\": \"object\"}, \"RsiEvaluation\": {\"properties\": {\"rsi_trend\": {\"description\": \"(str) RSI trend on the graph.\", \"title\": \"Rsi Trend\", \"type\": \"string\"}, \"rsi_trading_action\": {\"$ref\": \"#/$defs/TradingActions\", \"description\": \"(enum) Action to take based on RSI. Type of action: TradingActions\"}, \"primary_rsi_trend\": {\"$ref\": \"#/$defs/TrendCategories\", \"description\": \"(enum) Category of the primary RSI trend. Type of category: TrendCategories\"}, \"primary_rsi_trend_number_of_touches\": {\"description\": \"(int) Number of times the prices touch the primary RSI trend.\", \"title\": \"Primary Rsi Trend Number Of Touches\", \"type\": \"integer\"}, \"secondary_rsi_trend\": {\"$ref\": \"#/$defs/TrendCategories\", \"description\": \"(enum) Category of the secondary RSI trend. Type of category: TrendCategories\"}, \"secondary_rsi_trend_number_of_touches\": {\"description\": \"(int) Number of times the prices touch the secondary RSI trend.\", \"title\": \"Secondary Rsi Trend Number Of Touches\", \"type\": \"integer\"}, \"minor_rsi_trend\": {\"$ref\": \"#/$defs/TrendCategories\", \"description\": \"(enum) Category of the minor RSI trend. Type of category: TrendCategories\"}, \"minor_rsi_trend_number_of_touches\": {\"description\": \"(int) Number of times the prices prices touch the minor RSI trend.\", \"title\": \"Minor Rsi Trend Number Of Touches\", \"type\": \"integer\"}, \"raw_tool_data\": {\"$ref\": \"#/$defs/RSIRawValue\", \"description\": \"Raw data specific to the RSI tool.\"}}, \"required\": [\"rsi_trend\", \"rsi_trading_action\", \"primary_rsi_trend\", \"primary_rsi_trend_number_of_touches\", \"secondary_rsi_trend\", \"secondary_rsi_trend_number_of_touches\", \"minor_rsi_trend\", \"minor_rsi_trend_number_of_touches\", \"raw_tool_data\"], \"title\": \"RsiEvaluation\", \"type\": \"object\"}, \"SupportEvaluation\": {\"properties\": {\"supports_evaluation\": {\"description\": \"(str) Global evaluation of the SUPPORTs.\", \"title\": \"Supports Evaluation\", \"type\": \"string\"}, \"support_interaction_status\": {\"$ref\": \"#/$defs/SupportResistanceInteractionStatus\", \"description\": \"(enum) Category of the SUPPORT status, Type of category: SupportResistanceInteractionStatus.\"}, \"support_interaction_implication\": {\"$ref\": \"#/$defs/SupportResistanceInteractionImplication\", \"description\": \"(enum) Category of the SUPPORT implication, Type of category: SupportResistanceInteractionImplication.\"}, \"close_support_level\": {\"description\": \"(str) Evaluation and/or value of the closiest SUPPORT in relation to the price.\", \"title\": \"Close Support Level\", \"type\": \"string\"}, \"middle_support_level\": {\"description\": \"(str) Evaluation and/or value of the middle SUPPORT in relation to the price.\", \"title\": \"Middle Support Level\", \"type\": \"string\"}, \"far_support_level\": {\"description\": \"(str) Evaluation and/or value of the farest SUPPORT in relation to the price.\", \"title\": \"Far Support Level\", \"type\": \"string\"}, \"raw_tool_data\": {\"$ref\": \"#/$defs/SupportRawToolData\", \"description\": \"Raw data specific to the SUPPORT tool.\"}}, \"required\": [\"supports_evaluation\", \"support_interaction_status\", \"support_interaction_implication\", \"close_support_level\", \"middle_support_level\", \"far_support_level\", \"raw_tool_data\"], \"title\": \"SupportEvaluation\", \"type\": \"object\"}, \"SupportRawToolData\": {\"properties\": {\"close_support_value\": {\"description\": \"Raw value of the closest SUPPORT in relation to the price.\", \"title\": \"Close Support Value\", \"type\": \"number\"}, \"middle_support_value\": {\"description\": \"Raw value of the middle SUPPORT in relation to the price.\", \"title\": \"Middle Support Value\", \"type\": \"number\"}, \"far_support_value\": {\"description\": \"Raw value of the farest SUPPORT in relation to the price.\", \"title\": \"Far Support Value\", \"type\": \"number\"}}, \"required\": [\"close_support_value\", \"middle_support_value\", \"far_support_value\"], \"title\": \"SupportRawToolData\", \"type\": \"object\"}, \"SupportResistanceInteractionImplication\": {\"description\": \"List of support and resistance interaction implication.\", \"enum\": [\"POTENTIAL_BUY_ZONE\", \"STOP_LOSS_ZONE\", \"POTENTIAL_SELL_ZONE\", \"TAKE_PROFIT_ZONE\", \"CONFIRMATION_SIGNAL\"], \"title\": \"SupportResistanceInteractionImplication\", \"type\": \"string\"}, \"SupportResistanceInteractionStatus\": {\"description\": \"List of support and resistance status.\", \"enum\": [\"PRICE_ABOVE_SUPPORT\", \"TESTING_SUPPORT\", \"BREAKING_BELOW_SUPPORT\", \"PRICE_BELOW_RESISTANCE\", \"TESTING_RESISTANCE\", \"BREAKING_ABOVE_RESISTANCE\", \"CONSOLIDATING_NEAR_SUPPORT_RESISTANCE\"], \"title\": \"SupportResistanceInteractionStatus\", \"type\": \"string\"}, \"Synthesis\": {\"properties\": {\"conclusion\": {\"description\": \"(str) Conclusion about the market at his time.\", \"title\": \"Conclusion\", \"type\": \"string\"}, \"synthese_remarkable_values\": {\"anyOf\": [{\"additionalProperties\": true, \"type\": \"object\"}, {\"type\": \"null\"}], \"default\": null, \"description\": \"(dict) Remarkables values to keep in mind as dictionary. Values of the dictionary can be anything (str, int, float, dict, list, etc...)\", \"title\": \"Synthese Remarkable Values\"}, \"synthese_trading_action\": {\"$ref\": \"#/$defs/TradingActions\", \"description\": \"(enum) Action to take. Type of action: TradingAction.\"}, \"synthese_support_resistance_comment\": {\"description\": \"(str) Comments about supports and/or resistances.\", \"title\": \"Synthese Support Resistance Comment\", \"type\": \"string\"}, \"synthese_support_resistance_interaction_status\": {\"$ref\": \"#/$defs/SupportResistanceInteractionStatus\", \"description\": \"(enum) Category of the support status, Type of category: SupportResistanceInteractionStatus\"}, \"synthese_support_resistance_interaction_implication\": {\"$ref\": \"#/$defs/SupportResistanceInteractionImplication\", \"description\": \"(enum) Category of the support implication, Type of category: SupportResistanceInteractionImplication\"}}, \"required\": [\"conclusion\", \"synthese_trading_action\", \"synthese_support_resistance_comment\", \"synthese_support_resistance_interaction_status\", \"synthese_support_resistance_interaction_implication\"], \"title\": \"Synthesis\", \"type\": \"object\"}, \"TradingActions\": {\"description\": \"List of trading actions.\", \"enum\": [\"BUY\", \"OUTPERFORM\", \"HOLD\", \"UNDERPERFORM\", \"SELL\"], \"title\": \"TradingActions\", \"type\": \"string\"}, \"TrendCategories\": {\"description\": \"List of actionnables for the trends.\", \"enum\": [\"STRONG_BULLISH\", \"BULLISH\", \"CONSOLIDATION\", \"BEARISH\", \"STRONG_BEARISH\"], \"title\": \"TrendCategories\", \"type\": \"string\"}, \"VOLUMESRawValue\": {\"description\": \"VOLUMES raw value provided by the chart.\", \"properties\": {\"volumes_value\": {\"description\": \"VOLUMES raw value provided by the chart.\", \"title\": \"Volumes Value\", \"type\": \"number\"}}, \"required\": [\"volumes_value\"], \"title\": \"VOLUMESRawValue\", \"type\": \"object\"}, \"VolumesEvaluation\": {\"properties\": {\"volumes_trend\": {\"description\": \"(str) VOLUMES trend on the graph.\", \"title\": \"Volumes Trend\", \"type\": \"string\"}, \"volumes_trading_action\": {\"$ref\": \"#/$defs/TradingActions\", \"description\": \"(enum) Action to take based on VOLUMES. Type of action: TradingActions\"}, \"primary_volumes_trend\": {\"$ref\": \"#/$defs/TrendCategories\", \"description\": \"(enum) Category of the primary VOLUMES trend. Type of category: TrendCategories\"}, \"primary_volumes_trend_number_of_touches\": {\"description\": \"(int) Number of times the prices touch the primary VOLUMES trend.\", \"title\": \"Primary Volumes Trend Number Of Touches\", \"type\": \"integer\"}, \"secondary_volumes_trend\": {\"$ref\": \"#/$defs/TrendCategories\", \"description\": \"(enum) Category of the secondary VOLUMES trend. Type of category: TrendCategories\"}, \"secondary_volumes_trend_number_of_touches\": {\"description\": \"(int) Number of times the prices touch the secondary VOLUMES trend.\", \"title\": \"Secondary Volumes Trend Number Of Touches\", \"type\": \"integer\"}, \"minor_volumes_trend\": {\"$ref\": \"#/$defs/TrendCategories\", \"description\": \"(enum) Category of the minor VOLUMES trend. Type of category: TrendCategories\"}, \"minor_volumes_trend_number_of_touches\": {\"description\": \"(int) Number of times the prices prices touch the minor VOLUMES trend.\", \"title\": \"Minor Volumes Trend Number Of Touches\", \"type\": \"integer\"}, \"raw_tool_data\": {\"$ref\": \"#/$defs/VOLUMESRawValue\", \"description\": \"Raw data specific to the VOLUMES tool.\"}, \"volumes_trend_evaluation\": {\"description\": \"(str) VOLUMES trend on the graph.\", \"title\": \"Volumes Trend Evaluation\", \"type\": \"string\"}}, \"required\": [\"volumes_trend\", \"volumes_trading_action\", \"primary_volumes_trend\", \"primary_volumes_trend_number_of_touches\", \"secondary_volumes_trend\", \"secondary_volumes_trend_number_of_touches\", \"minor_volumes_trend\", \"minor_volumes_trend_number_of_touches\", \"raw_tool_data\", \"volumes_trend_evaluation\"], \"title\": \"VolumesEvaluation\", \"type\": \"object\"}}, \"properties\": {\"data_timeframe\": {\"default\": 5, \"description\": \"(int) Value in minutes of graph timeframe used as reference for the next values.\", \"title\": \"Data Timeframe\", \"type\": \"integer\"}, \"supports_evaluation\": {\"$ref\": \"#/$defs/SupportEvaluation\", \"description\": \"\"}, \"resistances_evaluation\": {\"$ref\": \"#/$defs/ResistanceEvaluation\", \"description\": \"\"}, \"prices_evaluation\": {\"$ref\": \"#/$defs/PricesEvaluation\", \"description\": \"\"}, \"indicators\": {\"$ref\": \"#/$defs/Indicators\", \"description\": \"\"}, \"volumes_evaluation\": {\"$ref\": \"#/$defs/VolumesEvaluation\", \"description\": \"\"}, \"short_timeframe_data_synthesis\": {\"$ref\": \"#/$defs/Synthesis\", \"description\": \"\"}}, \"required\": [\"supports_evaluation\", \"resistances_evaluation\", \"prices_evaluation\", \"indicators\", \"volumes_evaluation\", \"short_timeframe_data_synthesis\"]}\\n```\\nOnce again, the JSON schema described above is CRITICAL and MUST BE RESPECTED.', additional_kwargs={}, response_metadata={}), HumanMessage(content='APPLE', additional_kwargs={}, response_metadata={})])"
      ]
     },
     "execution_count": 10,
     "metadata": {},
     "output_type": "execute_result"
    }
   ],
   "source": [
    "test_1 = short_prompt_template.invoke({\"stock\": \"APPLE\"})\n",
    "test_1"
   ]
  },
  {
   "cell_type": "code",
   "execution_count": 11,
   "id": "aa630e99",
   "metadata": {},
   "outputs": [
    {
     "data": {
      "text/plain": [
       "AIMessage(content='```json\\n{\\n    \"data_timeframe\": 5,\\n    \"supports_evaluation\": {\\n        \"supports_evaluation\": \"Strong support zone at $123 identified\",\\n        \"support_interaction_status\": \"PRICE_ABOVE_SUPPORT\",\\n        \"support_interaction_implication\": \"POTENTIAL_BUY_ZONE\",\\n        \"close_support_level\": \"$125.20 - Multiple confluence zones\",\\n        \"middle_support_level\": \"$124.50 - Key historical level\",\\n        \"far_support_level\": \"$123.00 - Major psychological support\"\\n    },\\n    \"resistances_evaluation\": {\\n        \"resistances_evaluation\": \"Multiple resistance zones identified at $126-$127 range\",\\n        \"resistance_interaction_status\": \"TESTING_RESISTANCE\",\\n        \"resistance_interaction_implication\": \"TAKE_PROFIT_ZONE\",\\n        \"close_resistance_level\": \"$125.90 - Immediate ceiling level\",\\n        \"middle_resistance_level\": \"$126.50 - Key Fibonacci resistance\",\\n        \"far_resistance_level\": \"$127.00 - Major horizontal resistance\"\\n    },\\n    \"prices_evaluation\": {\\n        \"prices_trend\": \"STRONG_BULLISH\",\\n        \"prices_trading_action\": \"BUY\",\\n        \"primary_prices_trend\": \"STRONG_BULLISH\",\\n        \"primary_prices_trend_number_of_touches\": 4,\\n        \"secondary_prices_trend\": \"BULLISH\",\\n        \"secondary_prices_trend_number_of_touches\": 2,\\n        \"minor_prices_trend\": \"CONSOLIDATION\",\\n        \"minor_prices_trend_number_of_touches\": 1,\\n        \"raw_tool_data\": {\\n            \"prices_value\": 125.75\\n        },\\n        \"prices_trend_evaluation\": \"Price accelerating through key resistance zones\",\\n        \"chart_pattern\": \"Ascending Triangle forming with potential breakout\",\\n        \"potential_chart_pattern\": \"Bullish Engulfing pattern developing at $124 level\",\\n        \"candlestick_pattern\": \"Three White Soldiers candlestick pattern confirmed\",\\n        \"potential_candlestick_pattern\": \"Morning Star pattern forming at key resistance\"\\n    },\\n    \"indicators\": {\\n        \"rsi_evaluation\": null,\\n        \"macd_evaluation\": {\\n            \"macd_trend\": \"STRONG_BULLISH\",\\n            \"macd_trading_action\": \"BUY\",\\n            \"primary_macd_trend\": \"STRONG_BULLISH\",\\n            \"primary_macd_trend_number_of_touches\": 3,\\n            \"secondary_macd_trend\": \"BULLISH\",\\n            \"secondary_macd_trend_number_of_touches\": 2,\\n            \"minor_macd_trend\": \"CONSOLIDATION\",\\n            \"minor_macd_trend_number_of_touches\": 1,\\n            \"raw_tool_data\": {\\n                \"short_moving_average_value\": 125.80,\\n                \"long_moving_average_value\": 124.60,\\n                \"signal_value\": 126.00\\n            }\\n        },\\n        \"bollinger_bands_evaluation\": null\\n    },\\n    \"volumes_evaluation\": {\\n        \"volumes_trend\": \"INCREASING\",\\n        \"volumes_trading_action\": \"BUY\",\\n        \"primary_volumes_trend\": \"STRONG_BULLISH\",\\n        \"primary_volumes_trend_number_of_touches\": 2,\\n        \"secondary_volumes_trend\": \"BULLISH\",\\n        \"secondary_volumes_trend_number_of_touches\": 1,\\n        \"minor_volumes_trend\": \"CONSOLIDATION\",\\n        \"minor_volumes_trend_number_of_touches\": 0,\\n        \"raw_tool_data\": {\\n            \"volumes_value\": 3.2\\n        },\\n        \"volumes_trend_evaluation\": \"Volumetric expansion supporting upward momentum\"\\n    },\\n    \"short_timeframe_data_synthesis\": {\\n        \"conclusion\": \"Strong bullish bias with multiple confirmation signals\",\\n        \"synthese_trading_action\": \"BUY\",\\n        \"synthese_support_resistance_comment\": \"Critical support zone at $123 forming\",\\n        \"synthese_support_resistance_interaction_status\": \"PRICE_ABOVE_SUPPORT\",\\n        \"synthese_support_resistance_interaction_implication\": \"POTENTIAL_BUY_ZONE\"\\n    }\\n}\\n```', additional_kwargs={}, response_metadata={'model': 'cogito:8b', 'created_at': '2025-05-18T11:45:49.3926571Z', 'done': True, 'done_reason': 'stop', 'total_duration': 25036035200, 'load_duration': 20531800, 'prompt_eval_count': 5462, 'prompt_eval_duration': 10987200, 'eval_count': 866, 'eval_duration': 24998245900, 'model_name': 'cogito:8b'}, id='run-4d33eb25-6862-436a-a4d5-7bb600436f76-0', usage_metadata={'input_tokens': 5462, 'output_tokens': 866, 'total_tokens': 6328})"
      ]
     },
     "execution_count": 11,
     "metadata": {},
     "output_type": "execute_result"
    }
   ],
   "source": [
    "test_2 = model.invoke(test_1)\n",
    "test_2"
   ]
  },
  {
   "cell_type": "code",
   "execution_count": 12,
   "id": "00d74b23",
   "metadata": {},
   "outputs": [],
   "source": [
    "import json\n",
    "import ast"
   ]
  },
  {
   "cell_type": "code",
   "execution_count": 12,
   "id": "a53d3c7d",
   "metadata": {},
   "outputs": [
    {
     "ename": "OutputParserException",
     "evalue": "Failed to parse ShortTimeframeData from completion {\"data_timeframe\": 5, \"supports_evaluation\": {\"supports_evaluation\": \"Strong support zone at $123 identified\", \"support_interaction_status\": \"PRICE_ABOVE_SUPPORT\", \"support_interaction_implication\": \"POTENTIAL_BUY_ZONE\", \"close_support_level\": \"$125.20 - Multiple confluence zones\", \"middle_support_level\": \"$124.50 - Key historical level\", \"far_support_level\": \"$123.00 - Major psychological support\"}, \"resistances_evaluation\": {\"resistances_evaluation\": \"Multiple resistance zones identified at $126-$127 range\", \"resistance_interaction_status\": \"TESTING_RESISTANCE\", \"resistance_interaction_implication\": \"TAKE_PROFIT_ZONE\", \"close_resistance_level\": \"$125.90 - Immediate ceiling level\", \"middle_resistance_level\": \"$126.50 - Key Fibonacci resistance\", \"far_resistance_level\": \"$127.00 - Major horizontal resistance\"}, \"prices_evaluation\": {\"prices_trend\": \"STRONG_BULLISH\", \"prices_trading_action\": \"BUY\", \"primary_prices_trend\": \"STRONG_BULLISH\", \"primary_prices_trend_number_of_touches\": 4, \"secondary_prices_trend\": \"BULLISH\", \"secondary_prices_trend_number_of_touches\": 2, \"minor_prices_trend\": \"CONSOLIDATION\", \"minor_prices_trend_number_of_touches\": 1, \"raw_tool_data\": {\"prices_value\": 125.75}, \"prices_trend_evaluation\": \"Price accelerating through key resistance zones\", \"chart_pattern\": \"Ascending Triangle forming with potential breakout\", \"potential_chart_pattern\": \"Bullish Engulfing pattern developing at $124 level\", \"candlestick_pattern\": \"Three White Soldiers candlestick pattern confirmed\", \"potential_candlestick_pattern\": \"Morning Star pattern forming at key resistance\"}, \"indicators\": {\"rsi_evaluation\": null, \"macd_evaluation\": {\"macd_trend\": \"STRONG_BULLISH\", \"macd_trading_action\": \"BUY\", \"primary_macd_trend\": \"STRONG_BULLISH\", \"primary_macd_trend_number_of_touches\": 3, \"secondary_macd_trend\": \"BULLISH\", \"secondary_macd_trend_number_of_touches\": 2, \"minor_macd_trend\": \"CONSOLIDATION\", \"minor_macd_trend_number_of_touches\": 1, \"raw_tool_data\": {\"short_moving_average_value\": 125.8, \"long_moving_average_value\": 124.6, \"signal_value\": 126.0}}, \"bollinger_bands_evaluation\": null}, \"volumes_evaluation\": {\"volumes_trend\": \"INCREASING\", \"volumes_trading_action\": \"BUY\", \"primary_volumes_trend\": \"STRONG_BULLISH\", \"primary_volumes_trend_number_of_touches\": 2, \"secondary_volumes_trend\": \"BULLISH\", \"secondary_volumes_trend_number_of_touches\": 1, \"minor_volumes_trend\": \"CONSOLIDATION\", \"minor_volumes_trend_number_of_touches\": 0, \"raw_tool_data\": {\"volumes_value\": 3.2}, \"volumes_trend_evaluation\": \"Volumetric expansion supporting upward momentum\"}, \"short_timeframe_data_synthesis\": {\"conclusion\": \"Strong bullish bias with multiple confirmation signals\", \"synthese_trading_action\": \"BUY\", \"synthese_support_resistance_comment\": \"Critical support zone at $123 forming\", \"synthese_support_resistance_interaction_status\": \"PRICE_ABOVE_SUPPORT\", \"synthese_support_resistance_interaction_implication\": \"POTENTIAL_BUY_ZONE\"}}. Got: 2 validation errors for ShortTimeframeData\nsupports_evaluation.raw_tool_data\n  Field required [type=missing, input_value={'supports_evaluation': '... psychological support'}, input_type=dict]\n    For further information visit https://errors.pydantic.dev/2.11/v/missing\nresistances_evaluation.raw_tool_data\n  Field required [type=missing, input_value={'resistances_evaluation'... horizontal resistance'}, input_type=dict]\n    For further information visit https://errors.pydantic.dev/2.11/v/missing\nFor troubleshooting, visit: https://python.langchain.com/docs/troubleshooting/errors/OUTPUT_PARSING_FAILURE ",
     "output_type": "error",
     "traceback": [
      "\u001b[1;31m---------------------------------------------------------------------------\u001b[0m",
      "\u001b[1;31mValidationError\u001b[0m                           Traceback (most recent call last)",
      "File \u001b[1;32mc:\\Users\\nanar\\Documents\\Python\\AI_frameworks\\LangChain\\venv_langchain\\lib\\site-packages\\langchain_core\\output_parsers\\pydantic.py:30\u001b[0m, in \u001b[0;36mPydanticOutputParser._parse_obj\u001b[1;34m(self, obj)\u001b[0m\n\u001b[0;32m     29\u001b[0m \u001b[38;5;28;01mif\u001b[39;00m \u001b[38;5;28missubclass\u001b[39m(\u001b[38;5;28mself\u001b[39m\u001b[38;5;241m.\u001b[39mpydantic_object, pydantic\u001b[38;5;241m.\u001b[39mBaseModel):\n\u001b[1;32m---> 30\u001b[0m     \u001b[38;5;28;01mreturn\u001b[39;00m \u001b[38;5;28;43mself\u001b[39;49m\u001b[38;5;241;43m.\u001b[39;49m\u001b[43mpydantic_object\u001b[49m\u001b[38;5;241;43m.\u001b[39;49m\u001b[43mmodel_validate\u001b[49m\u001b[43m(\u001b[49m\u001b[43mobj\u001b[49m\u001b[43m)\u001b[49m\n\u001b[0;32m     31\u001b[0m \u001b[38;5;28;01mif\u001b[39;00m \u001b[38;5;28missubclass\u001b[39m(\u001b[38;5;28mself\u001b[39m\u001b[38;5;241m.\u001b[39mpydantic_object, pydantic\u001b[38;5;241m.\u001b[39mv1\u001b[38;5;241m.\u001b[39mBaseModel):\n",
      "File \u001b[1;32mc:\\Users\\nanar\\Documents\\Python\\AI_frameworks\\LangChain\\venv_langchain\\lib\\site-packages\\pydantic\\main.py:703\u001b[0m, in \u001b[0;36mBaseModel.model_validate\u001b[1;34m(cls, obj, strict, from_attributes, context, by_alias, by_name)\u001b[0m\n\u001b[0;32m    698\u001b[0m     \u001b[38;5;28;01mraise\u001b[39;00m PydanticUserError(\n\u001b[0;32m    699\u001b[0m         \u001b[38;5;124m'\u001b[39m\u001b[38;5;124mAt least one of `by_alias` or `by_name` must be set to True.\u001b[39m\u001b[38;5;124m'\u001b[39m,\n\u001b[0;32m    700\u001b[0m         code\u001b[38;5;241m=\u001b[39m\u001b[38;5;124m'\u001b[39m\u001b[38;5;124mvalidate-by-alias-and-name-false\u001b[39m\u001b[38;5;124m'\u001b[39m,\n\u001b[0;32m    701\u001b[0m     )\n\u001b[1;32m--> 703\u001b[0m \u001b[38;5;28;01mreturn\u001b[39;00m \u001b[38;5;28;43mcls\u001b[39;49m\u001b[38;5;241;43m.\u001b[39;49m\u001b[43m__pydantic_validator__\u001b[49m\u001b[38;5;241;43m.\u001b[39;49m\u001b[43mvalidate_python\u001b[49m\u001b[43m(\u001b[49m\n\u001b[0;32m    704\u001b[0m \u001b[43m    \u001b[49m\u001b[43mobj\u001b[49m\u001b[43m,\u001b[49m\u001b[43m \u001b[49m\u001b[43mstrict\u001b[49m\u001b[38;5;241;43m=\u001b[39;49m\u001b[43mstrict\u001b[49m\u001b[43m,\u001b[49m\u001b[43m \u001b[49m\u001b[43mfrom_attributes\u001b[49m\u001b[38;5;241;43m=\u001b[39;49m\u001b[43mfrom_attributes\u001b[49m\u001b[43m,\u001b[49m\u001b[43m \u001b[49m\u001b[43mcontext\u001b[49m\u001b[38;5;241;43m=\u001b[39;49m\u001b[43mcontext\u001b[49m\u001b[43m,\u001b[49m\u001b[43m \u001b[49m\u001b[43mby_alias\u001b[49m\u001b[38;5;241;43m=\u001b[39;49m\u001b[43mby_alias\u001b[49m\u001b[43m,\u001b[49m\u001b[43m \u001b[49m\u001b[43mby_name\u001b[49m\u001b[38;5;241;43m=\u001b[39;49m\u001b[43mby_name\u001b[49m\n\u001b[0;32m    705\u001b[0m \u001b[43m\u001b[49m\u001b[43m)\u001b[49m\n",
      "\u001b[1;31mValidationError\u001b[0m: 2 validation errors for ShortTimeframeData\nsupports_evaluation.raw_tool_data\n  Field required [type=missing, input_value={'supports_evaluation': '... psychological support'}, input_type=dict]\n    For further information visit https://errors.pydantic.dev/2.11/v/missing\nresistances_evaluation.raw_tool_data\n  Field required [type=missing, input_value={'resistances_evaluation'... horizontal resistance'}, input_type=dict]\n    For further information visit https://errors.pydantic.dev/2.11/v/missing",
      "\nThe above exception was the direct cause of the following exception:\n",
      "\u001b[1;31mOutputParserException\u001b[0m                     Traceback (most recent call last)",
      "Cell \u001b[1;32mIn[12], line 1\u001b[0m\n\u001b[1;32m----> 1\u001b[0m \u001b[43mshort_technical_parser\u001b[49m\u001b[38;5;241;43m.\u001b[39;49m\u001b[43minvoke\u001b[49m\u001b[43m(\u001b[49m\u001b[43mtest_2\u001b[49m\u001b[43m)\u001b[49m\n",
      "File \u001b[1;32mc:\\Users\\nanar\\Documents\\Python\\AI_frameworks\\LangChain\\venv_langchain\\lib\\site-packages\\langchain_core\\output_parsers\\base.py:196\u001b[0m, in \u001b[0;36mBaseOutputParser.invoke\u001b[1;34m(self, input, config, **kwargs)\u001b[0m\n\u001b[0;32m    188\u001b[0m \u001b[38;5;129m@override\u001b[39m\n\u001b[0;32m    189\u001b[0m \u001b[38;5;28;01mdef\u001b[39;00m\u001b[38;5;250m \u001b[39m\u001b[38;5;21minvoke\u001b[39m(\n\u001b[0;32m    190\u001b[0m     \u001b[38;5;28mself\u001b[39m,\n\u001b[1;32m   (...)\u001b[0m\n\u001b[0;32m    193\u001b[0m     \u001b[38;5;241m*\u001b[39m\u001b[38;5;241m*\u001b[39mkwargs: Any,\n\u001b[0;32m    194\u001b[0m ) \u001b[38;5;241m-\u001b[39m\u001b[38;5;241m>\u001b[39m T:\n\u001b[0;32m    195\u001b[0m     \u001b[38;5;28;01mif\u001b[39;00m \u001b[38;5;28misinstance\u001b[39m(\u001b[38;5;28minput\u001b[39m, BaseMessage):\n\u001b[1;32m--> 196\u001b[0m         \u001b[38;5;28;01mreturn\u001b[39;00m \u001b[38;5;28;43mself\u001b[39;49m\u001b[38;5;241;43m.\u001b[39;49m\u001b[43m_call_with_config\u001b[49m\u001b[43m(\u001b[49m\n\u001b[0;32m    197\u001b[0m \u001b[43m            \u001b[49m\u001b[38;5;28;43;01mlambda\u001b[39;49;00m\u001b[43m \u001b[49m\u001b[43minner_input\u001b[49m\u001b[43m:\u001b[49m\u001b[43m \u001b[49m\u001b[38;5;28;43mself\u001b[39;49m\u001b[38;5;241;43m.\u001b[39;49m\u001b[43mparse_result\u001b[49m\u001b[43m(\u001b[49m\n\u001b[0;32m    198\u001b[0m \u001b[43m                \u001b[49m\u001b[43m[\u001b[49m\u001b[43mChatGeneration\u001b[49m\u001b[43m(\u001b[49m\u001b[43mmessage\u001b[49m\u001b[38;5;241;43m=\u001b[39;49m\u001b[43minner_input\u001b[49m\u001b[43m)\u001b[49m\u001b[43m]\u001b[49m\n\u001b[0;32m    199\u001b[0m \u001b[43m            \u001b[49m\u001b[43m)\u001b[49m\u001b[43m,\u001b[49m\n\u001b[0;32m    200\u001b[0m \u001b[43m            \u001b[49m\u001b[38;5;28;43minput\u001b[39;49m\u001b[43m,\u001b[49m\n\u001b[0;32m    201\u001b[0m \u001b[43m            \u001b[49m\u001b[43mconfig\u001b[49m\u001b[43m,\u001b[49m\n\u001b[0;32m    202\u001b[0m \u001b[43m            \u001b[49m\u001b[43mrun_type\u001b[49m\u001b[38;5;241;43m=\u001b[39;49m\u001b[38;5;124;43m\"\u001b[39;49m\u001b[38;5;124;43mparser\u001b[39;49m\u001b[38;5;124;43m\"\u001b[39;49m\u001b[43m,\u001b[49m\n\u001b[0;32m    203\u001b[0m \u001b[43m        \u001b[49m\u001b[43m)\u001b[49m\n\u001b[0;32m    204\u001b[0m     \u001b[38;5;28;01mreturn\u001b[39;00m \u001b[38;5;28mself\u001b[39m\u001b[38;5;241m.\u001b[39m_call_with_config(\n\u001b[0;32m    205\u001b[0m         \u001b[38;5;28;01mlambda\u001b[39;00m inner_input: \u001b[38;5;28mself\u001b[39m\u001b[38;5;241m.\u001b[39mparse_result([Generation(text\u001b[38;5;241m=\u001b[39minner_input)]),\n\u001b[0;32m    206\u001b[0m         \u001b[38;5;28minput\u001b[39m,\n\u001b[0;32m    207\u001b[0m         config,\n\u001b[0;32m    208\u001b[0m         run_type\u001b[38;5;241m=\u001b[39m\u001b[38;5;124m\"\u001b[39m\u001b[38;5;124mparser\u001b[39m\u001b[38;5;124m\"\u001b[39m,\n\u001b[0;32m    209\u001b[0m     )\n",
      "File \u001b[1;32mc:\\Users\\nanar\\Documents\\Python\\AI_frameworks\\LangChain\\venv_langchain\\lib\\site-packages\\langchain_core\\runnables\\base.py:1930\u001b[0m, in \u001b[0;36mRunnable._call_with_config\u001b[1;34m(self, func, input, config, run_type, serialized, **kwargs)\u001b[0m\n\u001b[0;32m   1926\u001b[0m     child_config \u001b[38;5;241m=\u001b[39m patch_config(config, callbacks\u001b[38;5;241m=\u001b[39mrun_manager\u001b[38;5;241m.\u001b[39mget_child())\n\u001b[0;32m   1927\u001b[0m     \u001b[38;5;28;01mwith\u001b[39;00m set_config_context(child_config) \u001b[38;5;28;01mas\u001b[39;00m context:\n\u001b[0;32m   1928\u001b[0m         output \u001b[38;5;241m=\u001b[39m cast(\n\u001b[0;32m   1929\u001b[0m             \u001b[38;5;124m\"\u001b[39m\u001b[38;5;124mOutput\u001b[39m\u001b[38;5;124m\"\u001b[39m,\n\u001b[1;32m-> 1930\u001b[0m             context\u001b[38;5;241m.\u001b[39mrun(\n\u001b[0;32m   1931\u001b[0m                 call_func_with_variable_args,  \u001b[38;5;66;03m# type: ignore[arg-type]\u001b[39;00m\n\u001b[0;32m   1932\u001b[0m                 func,\n\u001b[0;32m   1933\u001b[0m                 \u001b[38;5;28minput\u001b[39m,\n\u001b[0;32m   1934\u001b[0m                 config,\n\u001b[0;32m   1935\u001b[0m                 run_manager,\n\u001b[0;32m   1936\u001b[0m                 \u001b[38;5;241m*\u001b[39m\u001b[38;5;241m*\u001b[39mkwargs,\n\u001b[0;32m   1937\u001b[0m             ),\n\u001b[0;32m   1938\u001b[0m         )\n\u001b[0;32m   1939\u001b[0m \u001b[38;5;28;01mexcept\u001b[39;00m \u001b[38;5;167;01mBaseException\u001b[39;00m \u001b[38;5;28;01mas\u001b[39;00m e:\n\u001b[0;32m   1940\u001b[0m     run_manager\u001b[38;5;241m.\u001b[39mon_chain_error(e)\n",
      "File \u001b[1;32mc:\\Users\\nanar\\Documents\\Python\\AI_frameworks\\LangChain\\venv_langchain\\lib\\site-packages\\langchain_core\\runnables\\config.py:428\u001b[0m, in \u001b[0;36mcall_func_with_variable_args\u001b[1;34m(func, input, config, run_manager, **kwargs)\u001b[0m\n\u001b[0;32m    426\u001b[0m \u001b[38;5;28;01mif\u001b[39;00m run_manager \u001b[38;5;129;01mis\u001b[39;00m \u001b[38;5;129;01mnot\u001b[39;00m \u001b[38;5;28;01mNone\u001b[39;00m \u001b[38;5;129;01mand\u001b[39;00m accepts_run_manager(func):\n\u001b[0;32m    427\u001b[0m     kwargs[\u001b[38;5;124m\"\u001b[39m\u001b[38;5;124mrun_manager\u001b[39m\u001b[38;5;124m\"\u001b[39m] \u001b[38;5;241m=\u001b[39m run_manager\n\u001b[1;32m--> 428\u001b[0m \u001b[38;5;28;01mreturn\u001b[39;00m func(\u001b[38;5;28minput\u001b[39m, \u001b[38;5;241m*\u001b[39m\u001b[38;5;241m*\u001b[39mkwargs)\n",
      "File \u001b[1;32mc:\\Users\\nanar\\Documents\\Python\\AI_frameworks\\LangChain\\venv_langchain\\lib\\site-packages\\langchain_core\\output_parsers\\base.py:197\u001b[0m, in \u001b[0;36mBaseOutputParser.invoke.<locals>.<lambda>\u001b[1;34m(inner_input)\u001b[0m\n\u001b[0;32m    188\u001b[0m \u001b[38;5;129m@override\u001b[39m\n\u001b[0;32m    189\u001b[0m \u001b[38;5;28;01mdef\u001b[39;00m\u001b[38;5;250m \u001b[39m\u001b[38;5;21minvoke\u001b[39m(\n\u001b[0;32m    190\u001b[0m     \u001b[38;5;28mself\u001b[39m,\n\u001b[1;32m   (...)\u001b[0m\n\u001b[0;32m    193\u001b[0m     \u001b[38;5;241m*\u001b[39m\u001b[38;5;241m*\u001b[39mkwargs: Any,\n\u001b[0;32m    194\u001b[0m ) \u001b[38;5;241m-\u001b[39m\u001b[38;5;241m>\u001b[39m T:\n\u001b[0;32m    195\u001b[0m     \u001b[38;5;28;01mif\u001b[39;00m \u001b[38;5;28misinstance\u001b[39m(\u001b[38;5;28minput\u001b[39m, BaseMessage):\n\u001b[0;32m    196\u001b[0m         \u001b[38;5;28;01mreturn\u001b[39;00m \u001b[38;5;28mself\u001b[39m\u001b[38;5;241m.\u001b[39m_call_with_config(\n\u001b[1;32m--> 197\u001b[0m             \u001b[38;5;28;01mlambda\u001b[39;00m inner_input: \u001b[38;5;28;43mself\u001b[39;49m\u001b[38;5;241;43m.\u001b[39;49m\u001b[43mparse_result\u001b[49m\u001b[43m(\u001b[49m\n\u001b[0;32m    198\u001b[0m \u001b[43m                \u001b[49m\u001b[43m[\u001b[49m\u001b[43mChatGeneration\u001b[49m\u001b[43m(\u001b[49m\u001b[43mmessage\u001b[49m\u001b[38;5;241;43m=\u001b[39;49m\u001b[43minner_input\u001b[49m\u001b[43m)\u001b[49m\u001b[43m]\u001b[49m\n\u001b[0;32m    199\u001b[0m \u001b[43m            \u001b[49m\u001b[43m)\u001b[49m,\n\u001b[0;32m    200\u001b[0m             \u001b[38;5;28minput\u001b[39m,\n\u001b[0;32m    201\u001b[0m             config,\n\u001b[0;32m    202\u001b[0m             run_type\u001b[38;5;241m=\u001b[39m\u001b[38;5;124m\"\u001b[39m\u001b[38;5;124mparser\u001b[39m\u001b[38;5;124m\"\u001b[39m,\n\u001b[0;32m    203\u001b[0m         )\n\u001b[0;32m    204\u001b[0m     \u001b[38;5;28;01mreturn\u001b[39;00m \u001b[38;5;28mself\u001b[39m\u001b[38;5;241m.\u001b[39m_call_with_config(\n\u001b[0;32m    205\u001b[0m         \u001b[38;5;28;01mlambda\u001b[39;00m inner_input: \u001b[38;5;28mself\u001b[39m\u001b[38;5;241m.\u001b[39mparse_result([Generation(text\u001b[38;5;241m=\u001b[39minner_input)]),\n\u001b[0;32m    206\u001b[0m         \u001b[38;5;28minput\u001b[39m,\n\u001b[0;32m    207\u001b[0m         config,\n\u001b[0;32m    208\u001b[0m         run_type\u001b[38;5;241m=\u001b[39m\u001b[38;5;124m\"\u001b[39m\u001b[38;5;124mparser\u001b[39m\u001b[38;5;124m\"\u001b[39m,\n\u001b[0;32m    209\u001b[0m     )\n",
      "File \u001b[1;32mc:\\Users\\nanar\\Documents\\Python\\AI_frameworks\\LangChain\\venv_langchain\\lib\\site-packages\\langchain_core\\output_parsers\\pydantic.py:69\u001b[0m, in \u001b[0;36mPydanticOutputParser.parse_result\u001b[1;34m(self, result, partial)\u001b[0m\n\u001b[0;32m     67\u001b[0m \u001b[38;5;28;01mtry\u001b[39;00m:\n\u001b[0;32m     68\u001b[0m     json_object \u001b[38;5;241m=\u001b[39m \u001b[38;5;28msuper\u001b[39m()\u001b[38;5;241m.\u001b[39mparse_result(result)\n\u001b[1;32m---> 69\u001b[0m     \u001b[38;5;28;01mreturn\u001b[39;00m \u001b[38;5;28;43mself\u001b[39;49m\u001b[38;5;241;43m.\u001b[39;49m\u001b[43m_parse_obj\u001b[49m\u001b[43m(\u001b[49m\u001b[43mjson_object\u001b[49m\u001b[43m)\u001b[49m\n\u001b[0;32m     70\u001b[0m \u001b[38;5;28;01mexcept\u001b[39;00m OutputParserException:\n\u001b[0;32m     71\u001b[0m     \u001b[38;5;28;01mif\u001b[39;00m partial:\n",
      "File \u001b[1;32mc:\\Users\\nanar\\Documents\\Python\\AI_frameworks\\LangChain\\venv_langchain\\lib\\site-packages\\langchain_core\\output_parsers\\pydantic.py:37\u001b[0m, in \u001b[0;36mPydanticOutputParser._parse_obj\u001b[1;34m(self, obj)\u001b[0m\n\u001b[0;32m     35\u001b[0m         \u001b[38;5;28;01mraise\u001b[39;00m OutputParserException(msg)\n\u001b[0;32m     36\u001b[0m     \u001b[38;5;28;01mexcept\u001b[39;00m (pydantic\u001b[38;5;241m.\u001b[39mValidationError, pydantic\u001b[38;5;241m.\u001b[39mv1\u001b[38;5;241m.\u001b[39mValidationError) \u001b[38;5;28;01mas\u001b[39;00m e:\n\u001b[1;32m---> 37\u001b[0m         \u001b[38;5;28;01mraise\u001b[39;00m \u001b[38;5;28mself\u001b[39m\u001b[38;5;241m.\u001b[39m_parser_exception(e, obj) \u001b[38;5;28;01mfrom\u001b[39;00m\u001b[38;5;250m \u001b[39m\u001b[38;5;21;01me\u001b[39;00m\n\u001b[0;32m     38\u001b[0m \u001b[38;5;28;01melse\u001b[39;00m:  \u001b[38;5;66;03m# pydantic v1\u001b[39;00m\n\u001b[0;32m     39\u001b[0m     \u001b[38;5;28;01mtry\u001b[39;00m:\n",
      "\u001b[1;31mOutputParserException\u001b[0m: Failed to parse ShortTimeframeData from completion {\"data_timeframe\": 5, \"supports_evaluation\": {\"supports_evaluation\": \"Strong support zone at $123 identified\", \"support_interaction_status\": \"PRICE_ABOVE_SUPPORT\", \"support_interaction_implication\": \"POTENTIAL_BUY_ZONE\", \"close_support_level\": \"$125.20 - Multiple confluence zones\", \"middle_support_level\": \"$124.50 - Key historical level\", \"far_support_level\": \"$123.00 - Major psychological support\"}, \"resistances_evaluation\": {\"resistances_evaluation\": \"Multiple resistance zones identified at $126-$127 range\", \"resistance_interaction_status\": \"TESTING_RESISTANCE\", \"resistance_interaction_implication\": \"TAKE_PROFIT_ZONE\", \"close_resistance_level\": \"$125.90 - Immediate ceiling level\", \"middle_resistance_level\": \"$126.50 - Key Fibonacci resistance\", \"far_resistance_level\": \"$127.00 - Major horizontal resistance\"}, \"prices_evaluation\": {\"prices_trend\": \"STRONG_BULLISH\", \"prices_trading_action\": \"BUY\", \"primary_prices_trend\": \"STRONG_BULLISH\", \"primary_prices_trend_number_of_touches\": 4, \"secondary_prices_trend\": \"BULLISH\", \"secondary_prices_trend_number_of_touches\": 2, \"minor_prices_trend\": \"CONSOLIDATION\", \"minor_prices_trend_number_of_touches\": 1, \"raw_tool_data\": {\"prices_value\": 125.75}, \"prices_trend_evaluation\": \"Price accelerating through key resistance zones\", \"chart_pattern\": \"Ascending Triangle forming with potential breakout\", \"potential_chart_pattern\": \"Bullish Engulfing pattern developing at $124 level\", \"candlestick_pattern\": \"Three White Soldiers candlestick pattern confirmed\", \"potential_candlestick_pattern\": \"Morning Star pattern forming at key resistance\"}, \"indicators\": {\"rsi_evaluation\": null, \"macd_evaluation\": {\"macd_trend\": \"STRONG_BULLISH\", \"macd_trading_action\": \"BUY\", \"primary_macd_trend\": \"STRONG_BULLISH\", \"primary_macd_trend_number_of_touches\": 3, \"secondary_macd_trend\": \"BULLISH\", \"secondary_macd_trend_number_of_touches\": 2, \"minor_macd_trend\": \"CONSOLIDATION\", \"minor_macd_trend_number_of_touches\": 1, \"raw_tool_data\": {\"short_moving_average_value\": 125.8, \"long_moving_average_value\": 124.6, \"signal_value\": 126.0}}, \"bollinger_bands_evaluation\": null}, \"volumes_evaluation\": {\"volumes_trend\": \"INCREASING\", \"volumes_trading_action\": \"BUY\", \"primary_volumes_trend\": \"STRONG_BULLISH\", \"primary_volumes_trend_number_of_touches\": 2, \"secondary_volumes_trend\": \"BULLISH\", \"secondary_volumes_trend_number_of_touches\": 1, \"minor_volumes_trend\": \"CONSOLIDATION\", \"minor_volumes_trend_number_of_touches\": 0, \"raw_tool_data\": {\"volumes_value\": 3.2}, \"volumes_trend_evaluation\": \"Volumetric expansion supporting upward momentum\"}, \"short_timeframe_data_synthesis\": {\"conclusion\": \"Strong bullish bias with multiple confirmation signals\", \"synthese_trading_action\": \"BUY\", \"synthese_support_resistance_comment\": \"Critical support zone at $123 forming\", \"synthese_support_resistance_interaction_status\": \"PRICE_ABOVE_SUPPORT\", \"synthese_support_resistance_interaction_implication\": \"POTENTIAL_BUY_ZONE\"}}. Got: 2 validation errors for ShortTimeframeData\nsupports_evaluation.raw_tool_data\n  Field required [type=missing, input_value={'supports_evaluation': '... psychological support'}, input_type=dict]\n    For further information visit https://errors.pydantic.dev/2.11/v/missing\nresistances_evaluation.raw_tool_data\n  Field required [type=missing, input_value={'resistances_evaluation'... horizontal resistance'}, input_type=dict]\n    For further information visit https://errors.pydantic.dev/2.11/v/missing\nFor troubleshooting, visit: https://python.langchain.com/docs/troubleshooting/errors/OUTPUT_PARSING_FAILURE "
     ]
    }
   ],
   "source": [
    "short_technical_parser.invoke(test_2)"
   ]
  },
  {
   "cell_type": "code",
   "execution_count": null,
   "id": "581611e0",
   "metadata": {},
   "outputs": [],
   "source": [
    "# test_2_content = json.dumps(ast.literal_eval(test_2.content.replace(\"null\", \"None\")))\n",
    "# test_2_content"
   ]
  },
  {
   "cell_type": "code",
   "execution_count": 13,
   "id": "cb15f8e4",
   "metadata": {},
   "outputs": [
    {
     "ename": "OutputParserException",
     "evalue": "Failed to parse ShortTimeframeData from completion {\"data_timeframe\": 5, \"supports_evaluation\": {\"supports_evaluation\": \"Strong support zone at $123 identified\", \"support_interaction_status\": \"PRICE_ABOVE_SUPPORT\", \"support_interaction_implication\": \"POTENTIAL_BUY_ZONE\", \"close_support_level\": \"$125.20 - Multiple confluence zones\", \"middle_support_level\": \"$124.50 - Key historical level\", \"far_support_level\": \"$123.00 - Major psychological support\"}, \"resistances_evaluation\": {\"resistances_evaluation\": \"Multiple resistance zones identified at $126-$127 range\", \"resistance_interaction_status\": \"TESTING_RESISTANCE\", \"resistance_interaction_implication\": \"TAKE_PROFIT_ZONE\", \"close_resistance_level\": \"$125.90 - Immediate ceiling level\", \"middle_resistance_level\": \"$126.50 - Key Fibonacci resistance\", \"far_resistance_level\": \"$127.00 - Major horizontal resistance\"}, \"prices_evaluation\": {\"prices_trend\": \"STRONG_BULLISH\", \"prices_trading_action\": \"BUY\", \"primary_prices_trend\": \"STRONG_BULLISH\", \"primary_prices_trend_number_of_touches\": 4, \"secondary_prices_trend\": \"BULLISH\", \"secondary_prices_trend_number_of_touches\": 2, \"minor_prices_trend\": \"CONSOLIDATION\", \"minor_prices_trend_number_of_touches\": 1, \"raw_tool_data\": {\"prices_value\": 125.75}, \"prices_trend_evaluation\": \"Price accelerating through key resistance zones\", \"chart_pattern\": \"Ascending Triangle forming with potential breakout\", \"potential_chart_pattern\": \"Bullish Engulfing pattern developing at $124 level\", \"candlestick_pattern\": \"Three White Soldiers candlestick pattern confirmed\", \"potential_candlestick_pattern\": \"Morning Star pattern forming at key resistance\"}, \"indicators\": {\"rsi_evaluation\": null, \"macd_evaluation\": {\"macd_trend\": \"STRONG_BULLISH\", \"macd_trading_action\": \"BUY\", \"primary_macd_trend\": \"STRONG_BULLISH\", \"primary_macd_trend_number_of_touches\": 3, \"secondary_macd_trend\": \"BULLISH\", \"secondary_macd_trend_number_of_touches\": 2, \"minor_macd_trend\": \"CONSOLIDATION\", \"minor_macd_trend_number_of_touches\": 1, \"raw_tool_data\": {\"short_moving_average_value\": 125.8, \"long_moving_average_value\": 124.6, \"signal_value\": 126.0}}, \"bollinger_bands_evaluation\": null}, \"volumes_evaluation\": {\"volumes_trend\": \"INCREASING\", \"volumes_trading_action\": \"BUY\", \"primary_volumes_trend\": \"STRONG_BULLISH\", \"primary_volumes_trend_number_of_touches\": 2, \"secondary_volumes_trend\": \"BULLISH\", \"secondary_volumes_trend_number_of_touches\": 1, \"minor_volumes_trend\": \"CONSOLIDATION\", \"minor_volumes_trend_number_of_touches\": 0, \"raw_tool_data\": {\"volumes_value\": 3.2}, \"volumes_trend_evaluation\": \"Volumetric expansion supporting upward momentum\"}, \"short_timeframe_data_synthesis\": {\"conclusion\": \"Strong bullish bias with multiple confirmation signals\", \"synthese_trading_action\": \"BUY\", \"synthese_support_resistance_comment\": \"Critical support zone at $123 forming\", \"synthese_support_resistance_interaction_status\": \"PRICE_ABOVE_SUPPORT\", \"synthese_support_resistance_interaction_implication\": \"POTENTIAL_BUY_ZONE\"}}. Got: 2 validation errors for ShortTimeframeData\nsupports_evaluation.raw_tool_data\n  Field required [type=missing, input_value={'supports_evaluation': '... psychological support'}, input_type=dict]\n    For further information visit https://errors.pydantic.dev/2.11/v/missing\nresistances_evaluation.raw_tool_data\n  Field required [type=missing, input_value={'resistances_evaluation'... horizontal resistance'}, input_type=dict]\n    For further information visit https://errors.pydantic.dev/2.11/v/missing\nFor troubleshooting, visit: https://python.langchain.com/docs/troubleshooting/errors/OUTPUT_PARSING_FAILURE ",
     "output_type": "error",
     "traceback": [
      "\u001b[1;31m---------------------------------------------------------------------------\u001b[0m",
      "\u001b[1;31mValidationError\u001b[0m                           Traceback (most recent call last)",
      "File \u001b[1;32mc:\\Users\\nanar\\Documents\\Python\\AI_frameworks\\LangChain\\venv_langchain\\lib\\site-packages\\langchain_core\\output_parsers\\pydantic.py:30\u001b[0m, in \u001b[0;36mPydanticOutputParser._parse_obj\u001b[1;34m(self, obj)\u001b[0m\n\u001b[0;32m     29\u001b[0m \u001b[38;5;28;01mif\u001b[39;00m \u001b[38;5;28missubclass\u001b[39m(\u001b[38;5;28mself\u001b[39m\u001b[38;5;241m.\u001b[39mpydantic_object, pydantic\u001b[38;5;241m.\u001b[39mBaseModel):\n\u001b[1;32m---> 30\u001b[0m     \u001b[38;5;28;01mreturn\u001b[39;00m \u001b[38;5;28;43mself\u001b[39;49m\u001b[38;5;241;43m.\u001b[39;49m\u001b[43mpydantic_object\u001b[49m\u001b[38;5;241;43m.\u001b[39;49m\u001b[43mmodel_validate\u001b[49m\u001b[43m(\u001b[49m\u001b[43mobj\u001b[49m\u001b[43m)\u001b[49m\n\u001b[0;32m     31\u001b[0m \u001b[38;5;28;01mif\u001b[39;00m \u001b[38;5;28missubclass\u001b[39m(\u001b[38;5;28mself\u001b[39m\u001b[38;5;241m.\u001b[39mpydantic_object, pydantic\u001b[38;5;241m.\u001b[39mv1\u001b[38;5;241m.\u001b[39mBaseModel):\n",
      "File \u001b[1;32mc:\\Users\\nanar\\Documents\\Python\\AI_frameworks\\LangChain\\venv_langchain\\lib\\site-packages\\pydantic\\main.py:703\u001b[0m, in \u001b[0;36mBaseModel.model_validate\u001b[1;34m(cls, obj, strict, from_attributes, context, by_alias, by_name)\u001b[0m\n\u001b[0;32m    698\u001b[0m     \u001b[38;5;28;01mraise\u001b[39;00m PydanticUserError(\n\u001b[0;32m    699\u001b[0m         \u001b[38;5;124m'\u001b[39m\u001b[38;5;124mAt least one of `by_alias` or `by_name` must be set to True.\u001b[39m\u001b[38;5;124m'\u001b[39m,\n\u001b[0;32m    700\u001b[0m         code\u001b[38;5;241m=\u001b[39m\u001b[38;5;124m'\u001b[39m\u001b[38;5;124mvalidate-by-alias-and-name-false\u001b[39m\u001b[38;5;124m'\u001b[39m,\n\u001b[0;32m    701\u001b[0m     )\n\u001b[1;32m--> 703\u001b[0m \u001b[38;5;28;01mreturn\u001b[39;00m \u001b[38;5;28;43mcls\u001b[39;49m\u001b[38;5;241;43m.\u001b[39;49m\u001b[43m__pydantic_validator__\u001b[49m\u001b[38;5;241;43m.\u001b[39;49m\u001b[43mvalidate_python\u001b[49m\u001b[43m(\u001b[49m\n\u001b[0;32m    704\u001b[0m \u001b[43m    \u001b[49m\u001b[43mobj\u001b[49m\u001b[43m,\u001b[49m\u001b[43m \u001b[49m\u001b[43mstrict\u001b[49m\u001b[38;5;241;43m=\u001b[39;49m\u001b[43mstrict\u001b[49m\u001b[43m,\u001b[49m\u001b[43m \u001b[49m\u001b[43mfrom_attributes\u001b[49m\u001b[38;5;241;43m=\u001b[39;49m\u001b[43mfrom_attributes\u001b[49m\u001b[43m,\u001b[49m\u001b[43m \u001b[49m\u001b[43mcontext\u001b[49m\u001b[38;5;241;43m=\u001b[39;49m\u001b[43mcontext\u001b[49m\u001b[43m,\u001b[49m\u001b[43m \u001b[49m\u001b[43mby_alias\u001b[49m\u001b[38;5;241;43m=\u001b[39;49m\u001b[43mby_alias\u001b[49m\u001b[43m,\u001b[49m\u001b[43m \u001b[49m\u001b[43mby_name\u001b[49m\u001b[38;5;241;43m=\u001b[39;49m\u001b[43mby_name\u001b[49m\n\u001b[0;32m    705\u001b[0m \u001b[43m\u001b[49m\u001b[43m)\u001b[49m\n",
      "\u001b[1;31mValidationError\u001b[0m: 2 validation errors for ShortTimeframeData\nsupports_evaluation.raw_tool_data\n  Field required [type=missing, input_value={'supports_evaluation': '... psychological support'}, input_type=dict]\n    For further information visit https://errors.pydantic.dev/2.11/v/missing\nresistances_evaluation.raw_tool_data\n  Field required [type=missing, input_value={'resistances_evaluation'... horizontal resistance'}, input_type=dict]\n    For further information visit https://errors.pydantic.dev/2.11/v/missing",
      "\nThe above exception was the direct cause of the following exception:\n",
      "\u001b[1;31mOutputParserException\u001b[0m                     Traceback (most recent call last)",
      "Cell \u001b[1;32mIn[13], line 1\u001b[0m\n\u001b[1;32m----> 1\u001b[0m test_3 \u001b[38;5;241m=\u001b[39m \u001b[43mretry_parser\u001b[49m\u001b[38;5;241;43m.\u001b[39;49m\u001b[43mparse_with_prompt\u001b[49m\u001b[43m(\u001b[49m\u001b[43mcompletion\u001b[49m\u001b[38;5;241;43m=\u001b[39;49m\u001b[43mtest_2\u001b[49m\u001b[38;5;241;43m.\u001b[39;49m\u001b[43mcontent\u001b[49m\u001b[43m,\u001b[49m\u001b[43m \u001b[49m\u001b[43mprompt_value\u001b[49m\u001b[38;5;241;43m=\u001b[39;49m\u001b[43mshort_prompt_template\u001b[49m\u001b[38;5;241;43m.\u001b[39;49m\u001b[43mformat_prompt\u001b[49m\u001b[43m(\u001b[49m\u001b[43mstock\u001b[49m\u001b[38;5;241;43m=\u001b[39;49m\u001b[38;5;124;43m\"\u001b[39;49m\u001b[38;5;124;43mAAPL\u001b[39;49m\u001b[38;5;124;43m\"\u001b[39;49m\u001b[43m)\u001b[49m\u001b[43m)\u001b[49m\n",
      "File \u001b[1;32mc:\\Users\\nanar\\Documents\\Python\\AI_frameworks\\LangChain\\venv_langchain\\lib\\site-packages\\langchain\\output_parsers\\retry.py:235\u001b[0m, in \u001b[0;36mRetryWithErrorOutputParser.parse_with_prompt\u001b[1;34m(self, completion, prompt_value)\u001b[0m\n\u001b[0;32m    233\u001b[0m \u001b[38;5;28;01mexcept\u001b[39;00m OutputParserException \u001b[38;5;28;01mas\u001b[39;00m e:\n\u001b[0;32m    234\u001b[0m     \u001b[38;5;28;01mif\u001b[39;00m retries \u001b[38;5;241m==\u001b[39m \u001b[38;5;28mself\u001b[39m\u001b[38;5;241m.\u001b[39mmax_retries:\n\u001b[1;32m--> 235\u001b[0m         \u001b[38;5;28;01mraise\u001b[39;00m e\n\u001b[0;32m    236\u001b[0m     \u001b[38;5;28;01melse\u001b[39;00m:\n\u001b[0;32m    237\u001b[0m         retries \u001b[38;5;241m+\u001b[39m\u001b[38;5;241m=\u001b[39m \u001b[38;5;241m1\u001b[39m\n",
      "File \u001b[1;32mc:\\Users\\nanar\\Documents\\Python\\AI_frameworks\\LangChain\\venv_langchain\\lib\\site-packages\\langchain\\output_parsers\\retry.py:232\u001b[0m, in \u001b[0;36mRetryWithErrorOutputParser.parse_with_prompt\u001b[1;34m(self, completion, prompt_value)\u001b[0m\n\u001b[0;32m    230\u001b[0m \u001b[38;5;28;01mwhile\u001b[39;00m retries \u001b[38;5;241m<\u001b[39m\u001b[38;5;241m=\u001b[39m \u001b[38;5;28mself\u001b[39m\u001b[38;5;241m.\u001b[39mmax_retries:\n\u001b[0;32m    231\u001b[0m     \u001b[38;5;28;01mtry\u001b[39;00m:\n\u001b[1;32m--> 232\u001b[0m         \u001b[38;5;28;01mreturn\u001b[39;00m \u001b[38;5;28;43mself\u001b[39;49m\u001b[38;5;241;43m.\u001b[39;49m\u001b[43mparser\u001b[49m\u001b[38;5;241;43m.\u001b[39;49m\u001b[43mparse\u001b[49m\u001b[43m(\u001b[49m\u001b[43mcompletion\u001b[49m\u001b[43m)\u001b[49m\n\u001b[0;32m    233\u001b[0m     \u001b[38;5;28;01mexcept\u001b[39;00m OutputParserException \u001b[38;5;28;01mas\u001b[39;00m e:\n\u001b[0;32m    234\u001b[0m         \u001b[38;5;28;01mif\u001b[39;00m retries \u001b[38;5;241m==\u001b[39m \u001b[38;5;28mself\u001b[39m\u001b[38;5;241m.\u001b[39mmax_retries:\n",
      "File \u001b[1;32mc:\\Users\\nanar\\Documents\\Python\\AI_frameworks\\LangChain\\venv_langchain\\lib\\site-packages\\langchain_core\\output_parsers\\pydantic.py:84\u001b[0m, in \u001b[0;36mPydanticOutputParser.parse\u001b[1;34m(self, text)\u001b[0m\n\u001b[0;32m     75\u001b[0m \u001b[38;5;28;01mdef\u001b[39;00m\u001b[38;5;250m \u001b[39m\u001b[38;5;21mparse\u001b[39m(\u001b[38;5;28mself\u001b[39m, text: \u001b[38;5;28mstr\u001b[39m) \u001b[38;5;241m-\u001b[39m\u001b[38;5;241m>\u001b[39m TBaseModel:\n\u001b[0;32m     76\u001b[0m \u001b[38;5;250m    \u001b[39m\u001b[38;5;124;03m\"\"\"Parse the output of an LLM call to a pydantic object.\u001b[39;00m\n\u001b[0;32m     77\u001b[0m \n\u001b[0;32m     78\u001b[0m \u001b[38;5;124;03m    Args:\u001b[39;00m\n\u001b[1;32m   (...)\u001b[0m\n\u001b[0;32m     82\u001b[0m \u001b[38;5;124;03m        The parsed pydantic object.\u001b[39;00m\n\u001b[0;32m     83\u001b[0m \u001b[38;5;124;03m    \"\"\"\u001b[39;00m\n\u001b[1;32m---> 84\u001b[0m     \u001b[38;5;28;01mreturn\u001b[39;00m \u001b[38;5;28;43msuper\u001b[39;49m\u001b[43m(\u001b[49m\u001b[43m)\u001b[49m\u001b[38;5;241;43m.\u001b[39;49m\u001b[43mparse\u001b[49m\u001b[43m(\u001b[49m\u001b[43mtext\u001b[49m\u001b[43m)\u001b[49m\n",
      "File \u001b[1;32mc:\\Users\\nanar\\Documents\\Python\\AI_frameworks\\LangChain\\venv_langchain\\lib\\site-packages\\langchain_core\\output_parsers\\json.py:100\u001b[0m, in \u001b[0;36mJsonOutputParser.parse\u001b[1;34m(self, text)\u001b[0m\n\u001b[0;32m     91\u001b[0m \u001b[38;5;28;01mdef\u001b[39;00m\u001b[38;5;250m \u001b[39m\u001b[38;5;21mparse\u001b[39m(\u001b[38;5;28mself\u001b[39m, text: \u001b[38;5;28mstr\u001b[39m) \u001b[38;5;241m-\u001b[39m\u001b[38;5;241m>\u001b[39m Any:\n\u001b[0;32m     92\u001b[0m \u001b[38;5;250m    \u001b[39m\u001b[38;5;124;03m\"\"\"Parse the output of an LLM call to a JSON object.\u001b[39;00m\n\u001b[0;32m     93\u001b[0m \n\u001b[0;32m     94\u001b[0m \u001b[38;5;124;03m    Args:\u001b[39;00m\n\u001b[1;32m   (...)\u001b[0m\n\u001b[0;32m     98\u001b[0m \u001b[38;5;124;03m        The parsed JSON object.\u001b[39;00m\n\u001b[0;32m     99\u001b[0m \u001b[38;5;124;03m    \"\"\"\u001b[39;00m\n\u001b[1;32m--> 100\u001b[0m     \u001b[38;5;28;01mreturn\u001b[39;00m \u001b[38;5;28;43mself\u001b[39;49m\u001b[38;5;241;43m.\u001b[39;49m\u001b[43mparse_result\u001b[49m\u001b[43m(\u001b[49m\u001b[43m[\u001b[49m\u001b[43mGeneration\u001b[49m\u001b[43m(\u001b[49m\u001b[43mtext\u001b[49m\u001b[38;5;241;43m=\u001b[39;49m\u001b[43mtext\u001b[49m\u001b[43m)\u001b[49m\u001b[43m]\u001b[49m\u001b[43m)\u001b[49m\n",
      "File \u001b[1;32mc:\\Users\\nanar\\Documents\\Python\\AI_frameworks\\LangChain\\venv_langchain\\lib\\site-packages\\langchain_core\\output_parsers\\pydantic.py:69\u001b[0m, in \u001b[0;36mPydanticOutputParser.parse_result\u001b[1;34m(self, result, partial)\u001b[0m\n\u001b[0;32m     67\u001b[0m \u001b[38;5;28;01mtry\u001b[39;00m:\n\u001b[0;32m     68\u001b[0m     json_object \u001b[38;5;241m=\u001b[39m \u001b[38;5;28msuper\u001b[39m()\u001b[38;5;241m.\u001b[39mparse_result(result)\n\u001b[1;32m---> 69\u001b[0m     \u001b[38;5;28;01mreturn\u001b[39;00m \u001b[38;5;28;43mself\u001b[39;49m\u001b[38;5;241;43m.\u001b[39;49m\u001b[43m_parse_obj\u001b[49m\u001b[43m(\u001b[49m\u001b[43mjson_object\u001b[49m\u001b[43m)\u001b[49m\n\u001b[0;32m     70\u001b[0m \u001b[38;5;28;01mexcept\u001b[39;00m OutputParserException:\n\u001b[0;32m     71\u001b[0m     \u001b[38;5;28;01mif\u001b[39;00m partial:\n",
      "File \u001b[1;32mc:\\Users\\nanar\\Documents\\Python\\AI_frameworks\\LangChain\\venv_langchain\\lib\\site-packages\\langchain_core\\output_parsers\\pydantic.py:37\u001b[0m, in \u001b[0;36mPydanticOutputParser._parse_obj\u001b[1;34m(self, obj)\u001b[0m\n\u001b[0;32m     35\u001b[0m         \u001b[38;5;28;01mraise\u001b[39;00m OutputParserException(msg)\n\u001b[0;32m     36\u001b[0m     \u001b[38;5;28;01mexcept\u001b[39;00m (pydantic\u001b[38;5;241m.\u001b[39mValidationError, pydantic\u001b[38;5;241m.\u001b[39mv1\u001b[38;5;241m.\u001b[39mValidationError) \u001b[38;5;28;01mas\u001b[39;00m e:\n\u001b[1;32m---> 37\u001b[0m         \u001b[38;5;28;01mraise\u001b[39;00m \u001b[38;5;28mself\u001b[39m\u001b[38;5;241m.\u001b[39m_parser_exception(e, obj) \u001b[38;5;28;01mfrom\u001b[39;00m\u001b[38;5;250m \u001b[39m\u001b[38;5;21;01me\u001b[39;00m\n\u001b[0;32m     38\u001b[0m \u001b[38;5;28;01melse\u001b[39;00m:  \u001b[38;5;66;03m# pydantic v1\u001b[39;00m\n\u001b[0;32m     39\u001b[0m     \u001b[38;5;28;01mtry\u001b[39;00m:\n",
      "\u001b[1;31mOutputParserException\u001b[0m: Failed to parse ShortTimeframeData from completion {\"data_timeframe\": 5, \"supports_evaluation\": {\"supports_evaluation\": \"Strong support zone at $123 identified\", \"support_interaction_status\": \"PRICE_ABOVE_SUPPORT\", \"support_interaction_implication\": \"POTENTIAL_BUY_ZONE\", \"close_support_level\": \"$125.20 - Multiple confluence zones\", \"middle_support_level\": \"$124.50 - Key historical level\", \"far_support_level\": \"$123.00 - Major psychological support\"}, \"resistances_evaluation\": {\"resistances_evaluation\": \"Multiple resistance zones identified at $126-$127 range\", \"resistance_interaction_status\": \"TESTING_RESISTANCE\", \"resistance_interaction_implication\": \"TAKE_PROFIT_ZONE\", \"close_resistance_level\": \"$125.90 - Immediate ceiling level\", \"middle_resistance_level\": \"$126.50 - Key Fibonacci resistance\", \"far_resistance_level\": \"$127.00 - Major horizontal resistance\"}, \"prices_evaluation\": {\"prices_trend\": \"STRONG_BULLISH\", \"prices_trading_action\": \"BUY\", \"primary_prices_trend\": \"STRONG_BULLISH\", \"primary_prices_trend_number_of_touches\": 4, \"secondary_prices_trend\": \"BULLISH\", \"secondary_prices_trend_number_of_touches\": 2, \"minor_prices_trend\": \"CONSOLIDATION\", \"minor_prices_trend_number_of_touches\": 1, \"raw_tool_data\": {\"prices_value\": 125.75}, \"prices_trend_evaluation\": \"Price accelerating through key resistance zones\", \"chart_pattern\": \"Ascending Triangle forming with potential breakout\", \"potential_chart_pattern\": \"Bullish Engulfing pattern developing at $124 level\", \"candlestick_pattern\": \"Three White Soldiers candlestick pattern confirmed\", \"potential_candlestick_pattern\": \"Morning Star pattern forming at key resistance\"}, \"indicators\": {\"rsi_evaluation\": null, \"macd_evaluation\": {\"macd_trend\": \"STRONG_BULLISH\", \"macd_trading_action\": \"BUY\", \"primary_macd_trend\": \"STRONG_BULLISH\", \"primary_macd_trend_number_of_touches\": 3, \"secondary_macd_trend\": \"BULLISH\", \"secondary_macd_trend_number_of_touches\": 2, \"minor_macd_trend\": \"CONSOLIDATION\", \"minor_macd_trend_number_of_touches\": 1, \"raw_tool_data\": {\"short_moving_average_value\": 125.8, \"long_moving_average_value\": 124.6, \"signal_value\": 126.0}}, \"bollinger_bands_evaluation\": null}, \"volumes_evaluation\": {\"volumes_trend\": \"INCREASING\", \"volumes_trading_action\": \"BUY\", \"primary_volumes_trend\": \"STRONG_BULLISH\", \"primary_volumes_trend_number_of_touches\": 2, \"secondary_volumes_trend\": \"BULLISH\", \"secondary_volumes_trend_number_of_touches\": 1, \"minor_volumes_trend\": \"CONSOLIDATION\", \"minor_volumes_trend_number_of_touches\": 0, \"raw_tool_data\": {\"volumes_value\": 3.2}, \"volumes_trend_evaluation\": \"Volumetric expansion supporting upward momentum\"}, \"short_timeframe_data_synthesis\": {\"conclusion\": \"Strong bullish bias with multiple confirmation signals\", \"synthese_trading_action\": \"BUY\", \"synthese_support_resistance_comment\": \"Critical support zone at $123 forming\", \"synthese_support_resistance_interaction_status\": \"PRICE_ABOVE_SUPPORT\", \"synthese_support_resistance_interaction_implication\": \"POTENTIAL_BUY_ZONE\"}}. Got: 2 validation errors for ShortTimeframeData\nsupports_evaluation.raw_tool_data\n  Field required [type=missing, input_value={'supports_evaluation': '... psychological support'}, input_type=dict]\n    For further information visit https://errors.pydantic.dev/2.11/v/missing\nresistances_evaluation.raw_tool_data\n  Field required [type=missing, input_value={'resistances_evaluation'... horizontal resistance'}, input_type=dict]\n    For further information visit https://errors.pydantic.dev/2.11/v/missing\nFor troubleshooting, visit: https://python.langchain.com/docs/troubleshooting/errors/OUTPUT_PARSING_FAILURE "
     ]
    }
   ],
   "source": [
    "test_3 = retry_parser.parse_with_prompt(completion=test_2.content, prompt_value=short_prompt_template.format_prompt(stock=\"AAPL\"))"
   ]
  },
  {
   "cell_type": "code",
   "execution_count": null,
   "id": "bb31d3e2",
   "metadata": {},
   "outputs": [
    {
     "data": {
      "text/plain": [
       "ShortTimeframeData(data_timeframe=5, supports_evaluation=SupportEvaluation(evaluation='Strong Support Levels at $130 and $135', interaction_status=<SupportResistanceInteractionStatus.PRICE_ABOVE_SUPPORT: 'PRICE_ABOVE_SUPPORT'>, interaction_implication=<SupportResistanceInteractionImplication.TAKE_PROFIT_ZONE: 'TAKE_PROFIT_ZONE'>, close_level='$131.50', middle_level='$132.25', far_level='$133.00', raw_tool_data=SupportRawToolData(close_value=1315.0, middle_value=1322.5, far_value=1330.0)), resistances_evaluation=ResistanceEvaluation(evaluation='Strong Resistance Levels at $141 and $145', interaction_status=<SupportResistanceInteractionStatus.PRICE_BELOW_RESISTANCE: 'PRICE_BELOW_RESISTANCE'>, interaction_implication=<SupportResistanceInteractionImplication.POTENTIAL_BUY_ZONE: 'POTENTIAL_BUY_ZONE'>, close_level='$140.75', middle_level='$141.50', far_level='$142.25', raw_tool_data=ResistanceRawToolData(close_value=1407.5, middle_value=1415.0, far_value=1422.5)), prices_evaluation=PricesEvaluation(trend='STRONG_BULLISH', trading_action=<TradingActions.BUY: 'BUY'>, primary_trend=<TrendCategories.STRONG_BULLISH: 'STRONG_BULLISH'>, primary_trend_number_of_touches=4, secondary_trend=<TrendCategories.BULLISH: 'BULLISH'>, secondary_trend_number_of_touches=2, minor_trend=<TrendCategories.CONSOLIDATION: 'CONSOLIDATION'>, minor_trend_number_of_touches=1, raw_tool_data=PRICESRawValue(prices_value=138.75), trend_evaluation='STRONG_BULLISH', chart_pattern='Ascending Triangle Pattern at $137', potential_chart_pattern='Continuation Pattern Above $140', candlestick_pattern='Bullish Engulfing at $135', potential_candlestick_pattern='Doji Star Pattern at $138'), indicators=Indicators(rsi_evaluation=None, macd_evaluation=None, bollinger_bands_evaluation=None), volumes_evaluation=VolumesEvaluation(trend='STRONG_BULLISH', trading_action=<TradingActions.BUY: 'BUY'>, primary_trend=<TrendCategories.STRONG_BULLISH: 'STRONG_BULLISH'>, primary_trend_number_of_touches=4, secondary_trend=<TrendCategories.BULLISH: 'BULLISH'>, secondary_trend_number_of_touches=2, minor_trend=<TrendCategories.CONSOLIDATION: 'CONSOLIDATION'>, minor_trend_number_of_touches=1, raw_tool_data=VOLUMESRawValue(volumes_value=138.75), trend_evaluation='STRONG_BULLISH'), short_timeframe_data_synthesis=Synthesis(conclusion='Strong bullish trend with high support levels at $130 and $135, resistance at $141', synthese_remarkable_values=None, synthese_trading_action=<TradingActions.BUY: 'BUY'>, synthese_support_resistance_comment='Strong support levels at $131.50-$133.00, resistance at $140.75-$142.25', synthese_support_resistance_interaction_status=<SupportResistanceInteractionStatus.PRICE_ABOVE_SUPPORT: 'PRICE_ABOVE_SUPPORT'>, synthese_support_resistance_interaction_implication=<SupportResistanceInteractionImplication.TAKE_PROFIT_ZONE: 'TAKE_PROFIT_ZONE'>))"
      ]
     },
     "execution_count": 16,
     "metadata": {},
     "output_type": "execute_result"
    }
   ],
   "source": [
    "test_3"
   ]
  },
  {
   "cell_type": "code",
   "execution_count": null,
   "id": "07b3e7ce",
   "metadata": {},
   "outputs": [],
   "source": [
    "tmp"
   ]
  },
  {
   "cell_type": "code",
   "execution_count": 13,
   "id": "e6337cd7",
   "metadata": {},
   "outputs": [
    {
     "data": {
      "text/plain": [
       "'{\"data_timeframe\":5,\"supports_evaluation\":{\"evaluation\":\"Strong support levels identified at $130 and $135\",\"interaction_status\":\"PRICE_ABOVE_SUPPORT\",\"interaction_implication\":\"TAKE_PROFIT_ZONE\",\"close_level\":\"$130\",\"middle_level\":\"$132.5\",\"far_level\":\"$135\",\"raw_tool_data\":{\"close_value\":130.0,\"middle_value\":132.5,\"far_value\":135.0}},\"resistances_evaluation\":{\"evaluation\":\"Key resistance levels at $165 and $170\",\"interaction_status\":\"PRICE_BELOW_RESISTANCE\",\"interaction_implication\":\"STOP_LOSS_ZONE\",\"close_level\":\"$165\",\"middle_level\":\"$167.5\",\"far_level\":\"$170\",\"raw_tool_data\":{\"close_value\":165.0,\"middle_value\":167.5,\"far_value\":170.0}},\"prices_evaluation\":{\"trend\":\"BULLISH\",\"trading_action\":\"BUY\",\"primary_trend\":\"STRONG_BULLISH\",\"primary_trend_number_of_touches\":3,\"secondary_trend\":\"BULLISH\",\"secondary_trend_number_of_touches\":2,\"minor_trend\":\"CONSOLIDATION\",\"minor_trend_number_of_touches\":1,\"raw_tool_data\":{\"prices_value\":155.0},\"trend_evaluation\":\"BULLISH\",\"chart_pattern\":\"Double Bottom Pattern\",\"potential_chart_pattern\":\"Bullish Flag Pattern\",\"candlestick_pattern\":\"Three White Soldiers\",\"potential_candlestick_pattern\":\"Three Black Crows\"},\"indicators\":{\"rsi_evaluation\":null,\"macd_evaluation\":null,\"bollinger_bands_evaluation\":null},\"volumes_evaluation\":{\"trend\":\"INCREASING\",\"trading_action\":\"BUY\",\"primary_trend\":\"STRONG_BULLISH\",\"primary_trend_number_of_touches\":2,\"secondary_trend\":\"BULLISH\",\"secondary_trend_number_of_touches\":1,\"minor_trend\":\"CONSOLIDATION\",\"minor_trend_number_of_touches\":0,\"raw_tool_data\":{\"volumes_value\":2.0},\"trend_evaluation\":\"INCREASING\"},\"short_timeframe_data_synthesis\":{\"conclusion\":\"Strong buy signal for Apple shares with high volume confirmation. Multiple support levels identified and bullish chart patterns.\",\"synthese_remarkable_values\":null,\"synthese_trading_action\":\"BUY\",\"synthese_support_resistance_comment\":\"Key support levels at $130-$135 and resistance zones at $165-$170.\",\"synthese_support_resistance_interaction_status\":\"PRICE_ABOVE_SUPPORT\",\"synthese_support_resistance_interaction_implication\":\"TAKE_PROFIT_ZONE\"}}'"
      ]
     },
     "execution_count": 13,
     "metadata": {},
     "output_type": "execute_result"
    }
   ],
   "source": [
    "tmp.model_dump_json()"
   ]
  },
  {
   "cell_type": "code",
   "execution_count": null,
   "id": "7f968963",
   "metadata": {},
   "outputs": [],
   "source": [
    "\n",
    "short_chain = short_prompt_template | model | short_technical_parser\n",
    "short_json = short_chain.invoke(invocation)\n",
    "short_json"
   ]
  },
  {
   "cell_type": "code",
   "execution_count": null,
   "id": "ae72ffd3",
   "metadata": {},
   "outputs": [
    {
     "name": "stdout",
     "output_type": "stream",
     "text": [
      "('{\"data_timeframe\":5,\"supports_evaluation\":{\"evaluation\":\"Strong support '\n",
      " 'levels identified at $130 and '\n",
      " '$135\",\"interaction_status\":\"PRICE_ABOVE_SUPPORT\",\"interaction_implication\":\"TAKE_PROFIT_ZONE\",\"close_level\":\"$130\",\"middle_level\":\"$132.5\",\"far_level\":\"$135\",\"raw_tool_data\":{\"close_value\":130.0,\"middle_value\":132.5,\"far_value\":135.0}},\"resistances_evaluation\":{\"evaluation\":\"Key '\n",
      " 'resistance levels at $165 and '\n",
      " '$170\",\"interaction_status\":\"PRICE_BELOW_RESISTANCE\",\"interaction_implication\":\"STOP_LOSS_ZONE\",\"close_level\":\"$165\",\"middle_level\":\"$167.5\",\"far_level\":\"$170\",\"raw_tool_data\":{\"close_value\":165.0,\"middle_value\":167.5,\"far_value\":170.0}},\"prices_evaluation\":{\"trend\":\"BULLISH\",\"trading_action\":\"BUY\",\"primary_trend\":\"STRONG_BULLISH\",\"primary_trend_number_of_touches\":3,\"secondary_trend\":\"BULLISH\",\"secondary_trend_number_of_touches\":2,\"minor_trend\":\"CONSOLIDATION\",\"minor_trend_number_of_touches\":1,\"raw_tool_data\":{\"prices_value\":155.0},\"trend_evaluation\":\"BULLISH\",\"chart_pattern\":\"Double '\n",
      " 'Bottom Pattern\",\"potential_chart_pattern\":\"Bullish Flag '\n",
      " 'Pattern\",\"candlestick_pattern\":\"Three White '\n",
      " 'Soldiers\",\"potential_candlestick_pattern\":\"Three Black '\n",
      " 'Crows\"},\"indicators\":{\"rsi_evaluation\":null,\"macd_evaluation\":null,\"bollinger_bands_evaluation\":null},\"volumes_evaluation\":{\"trend\":\"INCREASING\",\"trading_action\":\"BUY\",\"primary_trend\":\"STRONG_BULLISH\",\"primary_trend_number_of_touches\":2,\"secondary_trend\":\"BULLISH\",\"secondary_trend_number_of_touches\":1,\"minor_trend\":\"CONSOLIDATION\",\"minor_trend_number_of_touches\":0,\"raw_tool_data\":{\"volumes_value\":2.0},\"trend_evaluation\":\"INCREASING\"},\"short_timeframe_data_synthesis\":{\"conclusion\":\"Strong '\n",
      " 'buy signal for Apple shares with high volume confirmation. Multiple support '\n",
      " 'levels identified and bullish chart '\n",
      " 'patterns.\",\"synthese_remarkable_values\":null,\"synthese_trading_action\":\"BUY\",\"synthese_support_resistance_comment\":\"Key '\n",
      " 'support levels at $130-$135 and resistance zones at '\n",
      " '$165-$170.\",\"synthese_support_resistance_interaction_status\":\"PRICE_ABOVE_SUPPORT\",\"synthese_support_resistance_interaction_implication\":\"TAKE_PROFIT_ZONE\"}}')\n"
     ]
    }
   ],
   "source": [
    "pprint(short_json.model_dump_json())"
   ]
  },
  {
   "cell_type": "code",
   "execution_count": null,
   "id": "4433c1a5",
   "metadata": {},
   "outputs": [
    {
     "data": {
      "text/plain": [
       "LongTimeframeData(data_timeframe=60, supports_evaluation=SupportEvaluation(evaluation='Strong Support Levels Present', interaction_status=<SupportResistanceInteractionStatus.PRICE_ABOVE_SUPPORT: 'PRICE_ABOVE_SUPPORT'>, interaction_implication=<SupportResistanceInteractionImplication.POTENTIAL_BUY_ZONE: 'POTENTIAL_BUY_ZONE'>, close_level='144.50', middle_level='139.25', far_level='134.00', raw_tool_data=SupportRawToolData(close_value=144.5, middle_value=139.25, far_value=134.0)), resistances_evaluation=ResistanceEvaluation(evaluation='Multiple Resistance Levels Active', interaction_status=<SupportResistanceInteractionStatus.PRICE_BELOW_RESISTANCE: 'PRICE_BELOW_RESISTANCE'>, interaction_implication=<SupportResistanceInteractionImplication.STOP_LOSS_ZONE: 'STOP_LOSS_ZONE'>, close_level='155.75', middle_level='150.50', far_level='145.25', raw_tool_data=ResistanceRawToolData(close_value=155.75, middle_value=150.5, far_value=145.25)), prices_evaluation=PricesEvaluation(trend='BULLISH', trading_action=<TradingActions.OUTPERFORM: 'OUTPERFORM'>, primary_trend=<TrendCategories.STRONG_BULLISH: 'STRONG_BULLISH'>, primary_trend_number_of_touches=5, secondary_trend=<TrendCategories.BEARISH: 'BEARISH'>, secondary_trend_number_of_touches=2, minor_trend=<TrendCategories.CONSOLIDATION: 'CONSOLIDATION'>, minor_trend_number_of_touches=1, raw_tool_data=PRICESRawValue(prices_value=149.5), trend_evaluation='Positive Momentum', chart_pattern='Bullish Flag Pattern Forming', potential_chart_pattern='Ascending Triangle Pattern Developing', candlestick_pattern='Golden Cross Confirmed', potential_candlestick_pattern='Potential Three White Soldiers Pattern'), indicators=Indicators(rsi_evaluation=None, macd_evaluation=None, bollinger_bands_evaluation=None), volumes_evaluation=VolumesEvaluation(trend='BULLISH', trading_action=<TradingActions.OUTPERFORM: 'OUTPERFORM'>, primary_trend=<TrendCategories.STRONG_BULLISH: 'STRONG_BULLISH'>, primary_trend_number_of_touches=4, secondary_trend=<TrendCategories.BEARISH: 'BEARISH'>, secondary_trend_number_of_touches=1, minor_trend=<TrendCategories.CONSOLIDATION: 'CONSOLIDATION'>, minor_trend_number_of_touches=0, raw_tool_data=VOLUMESRawValue(volumes_value=3.5), trend_evaluation='Increasing Volume'), long_timeframe_data_synthesis=Synthesis(conclusion='Overall Bullish Trend with Strong Support Levels and Multiple Resistance Zones', synthese_remarkable_values=None, synthese_trading_action=<TradingActions.BUY: 'BUY'>, synthese_support_resistance_comment='Key support at 144.50 - multiple touches confirmed', synthese_support_resistance_interaction_status=<SupportResistanceInteractionStatus.PRICE_ABOVE_SUPPORT: 'PRICE_ABOVE_SUPPORT'>, synthese_support_resistance_interaction_implication=<SupportResistanceInteractionImplication.POTENTIAL_BUY_ZONE: 'POTENTIAL_BUY_ZONE'>))"
      ]
     },
     "execution_count": 7,
     "metadata": {},
     "output_type": "execute_result"
    }
   ],
   "source": [
    "long_technical_parser = PydanticOutputParser(pydantic_object=LongTimeframeData)\n",
    "\n",
    "long_prompt_template = ChatPromptTemplate([\n",
    "    SystemMessagePromptTemplate.from_template(template=system_template),\n",
    "    HumanMessagePromptTemplate.from_template(template=\"{stock}\"),\n",
    "    ],\n",
    "    input_variables=[\"stock\"],\n",
    "    partial_variables={\"format_instructions\": long_technical_parser.get_format_instructions(),\n",
    "                    #    \"output_json_schema\": technical_parser._get_schema(pydantic_object=TickerTechnicalAnalysis)\n",
    "                       }\n",
    ")\n",
    "\n",
    "long_chain = long_prompt_template | model | long_technical_parser\n",
    "long_json = long_chain.invoke(invocation)\n",
    "long_json"
   ]
  },
  {
   "cell_type": "code",
   "execution_count": null,
   "id": "5f493798",
   "metadata": {},
   "outputs": [
    {
     "name": "stdout",
     "output_type": "stream",
     "text": [
      "('{\"data_timeframe\":60,\"supports_evaluation\":{\"evaluation\":\"Strong Support '\n",
      " 'Levels '\n",
      " 'Present\",\"interaction_status\":\"PRICE_ABOVE_SUPPORT\",\"interaction_implication\":\"POTENTIAL_BUY_ZONE\",\"close_level\":\"144.50\",\"middle_level\":\"139.25\",\"far_level\":\"134.00\",\"raw_tool_data\":{\"close_value\":144.5,\"middle_value\":139.25,\"far_value\":134.0}},\"resistances_evaluation\":{\"evaluation\":\"Multiple '\n",
      " 'Resistance Levels '\n",
      " 'Active\",\"interaction_status\":\"PRICE_BELOW_RESISTANCE\",\"interaction_implication\":\"STOP_LOSS_ZONE\",\"close_level\":\"155.75\",\"middle_level\":\"150.50\",\"far_level\":\"145.25\",\"raw_tool_data\":{\"close_value\":155.75,\"middle_value\":150.5,\"far_value\":145.25}},\"prices_evaluation\":{\"trend\":\"BULLISH\",\"trading_action\":\"OUTPERFORM\",\"primary_trend\":\"STRONG_BULLISH\",\"primary_trend_number_of_touches\":5,\"secondary_trend\":\"BEARISH\",\"secondary_trend_number_of_touches\":2,\"minor_trend\":\"CONSOLIDATION\",\"minor_trend_number_of_touches\":1,\"raw_tool_data\":{\"prices_value\":149.5},\"trend_evaluation\":\"Positive '\n",
      " 'Momentum\",\"chart_pattern\":\"Bullish Flag Pattern '\n",
      " 'Forming\",\"potential_chart_pattern\":\"Ascending Triangle Pattern '\n",
      " 'Developing\",\"candlestick_pattern\":\"Golden Cross '\n",
      " 'Confirmed\",\"potential_candlestick_pattern\":\"Potential Three White Soldiers '\n",
      " 'Pattern\"},\"indicators\":{\"rsi_evaluation\":null,\"macd_evaluation\":null,\"bollinger_bands_evaluation\":null},\"volumes_evaluation\":{\"trend\":\"BULLISH\",\"trading_action\":\"OUTPERFORM\",\"primary_trend\":\"STRONG_BULLISH\",\"primary_trend_number_of_touches\":4,\"secondary_trend\":\"BEARISH\",\"secondary_trend_number_of_touches\":1,\"minor_trend\":\"CONSOLIDATION\",\"minor_trend_number_of_touches\":0,\"raw_tool_data\":{\"volumes_value\":3.5},\"trend_evaluation\":\"Increasing '\n",
      " 'Volume\"},\"long_timeframe_data_synthesis\":{\"conclusion\":\"Overall Bullish '\n",
      " 'Trend with Strong Support Levels and Multiple Resistance '\n",
      " 'Zones\",\"synthese_remarkable_values\":null,\"synthese_trading_action\":\"BUY\",\"synthese_support_resistance_comment\":\"Key '\n",
      " 'support at 144.50 - multiple touches '\n",
      " 'confirmed\",\"synthese_support_resistance_interaction_status\":\"PRICE_ABOVE_SUPPORT\",\"synthese_support_resistance_interaction_implication\":\"POTENTIAL_BUY_ZONE\"}}')\n"
     ]
    }
   ],
   "source": [
    "pprint(long_json.model_dump_json())"
   ]
  },
  {
   "cell_type": "code",
   "execution_count": null,
   "id": "13140314",
   "metadata": {},
   "outputs": [],
   "source": [
    "global_system_template = (\"As trading technical analyst expert, your task is to generate the technical analysis report for {stock} at the specified JSON format. \"\n",
    "                   \"The JSON of the short timeframe analysis is {short_json}.\"\n",
    "                   \"The JSON of the long timeframe analysis is {long_json}.\"\n",
    "                   \"Use the data (simulated for the exercice) to generate the technical analysis of {stock} action totally filling the JSON schema described below. \"\n",
    "\n",
    "                   \"The format of your response is CRITICAL and MUST ADHERE EXACTLY to the JSON schema described here:\"\n",
    "                   \"\\n{format_instructions}\\n\"\n",
    "                   \"Once again, the JSON schema described above is CRITICAL and MUST BE RESPECTED.\"\n",
    "                )"
   ]
  },
  {
   "cell_type": "code",
   "execution_count": null,
   "id": "d142f65c",
   "metadata": {},
   "outputs": [],
   "source": [
    "global_invocation = {\"stock\": \"APPLE\", \"short_json\":short_json.model_dump_json(), \"long_json\":long_json.model_dump_json()}"
   ]
  },
  {
   "cell_type": "code",
   "execution_count": null,
   "id": "4a90e59e",
   "metadata": {},
   "outputs": [
    {
     "data": {
      "text/plain": [
       "TickerTechnicalAnalysis(name_of_the_company='Apple Inc.', isin_of_the_company='US0378331005', time_of_the_report=datetime.datetime(2023, 8, 16, 10, 0, tzinfo=TzInfo(UTC)), synthesis=Synthesis(conclusion='Strong bullish trend with multiple support levels at $130-$135 and resistance zones at $165-$170. Key technical patterns include a Double Bottom Pattern forming on the short timeframe, while a Bullish Flag Pattern is developing on the long timeframe.', synthese_remarkable_values=None, synthese_trading_action=<TradingActions.BUY: 'BUY'>, synthese_support_resistance_comment='Key support levels at $130-$135 and resistance zones at $165-$170. Multiple touches confirmed on support levels with strong volume confirmation.', synthese_support_resistance_interaction_status=<SupportResistanceInteractionStatus.PRICE_ABOVE_SUPPORT: 'PRICE_ABOVE_SUPPORT'>, synthese_support_resistance_interaction_implication=<SupportResistanceInteractionImplication.TAKE_PROFIT_ZONE: 'TAKE_PROFIT_ZONE'>))"
      ]
     },
     "execution_count": 11,
     "metadata": {},
     "output_type": "execute_result"
    }
   ],
   "source": [
    "global_technical_parser = PydanticOutputParser(pydantic_object=TickerTechnicalAnalysis)\n",
    "\n",
    "global_prompt_template = ChatPromptTemplate([\n",
    "    SystemMessagePromptTemplate.from_template(template=global_system_template),\n",
    "    HumanMessagePromptTemplate.from_template(template=\"{stock}\"),\n",
    "    ],\n",
    "    input_variables=[\"stock\", \"short_json\", \"long_json\"],\n",
    "    partial_variables={\"format_instructions\": global_technical_parser.get_format_instructions(),\n",
    "                    #    \"output_json_schema\": technical_parser._get_schema(pydantic_object=TickerTechnicalAnalysis)\n",
    "                       }\n",
    ")\n",
    "\n",
    "global_chain = global_prompt_template | model | global_technical_parser\n",
    "global_json = global_chain.invoke(global_invocation)\n",
    "global_json"
   ]
  },
  {
   "cell_type": "code",
   "execution_count": null,
   "id": "a0dfc1dd",
   "metadata": {},
   "outputs": [
    {
     "name": "stdout",
     "output_type": "stream",
     "text": [
      "('{\"name_of_the_company\":\"Apple '\n",
      " 'Inc.\",\"isin_of_the_company\":\"US0378331005\",\"time_of_the_report\":\"2023-08-16T10:00:00Z\",\"synthesis\":{\"conclusion\":\"Strong '\n",
      " 'bullish trend with multiple support levels at $130-$135 and resistance zones '\n",
      " 'at $165-$170. Key technical patterns include a Double Bottom Pattern forming '\n",
      " 'on the short timeframe, while a Bullish Flag Pattern is developing on the '\n",
      " 'long '\n",
      " 'timeframe.\",\"synthese_remarkable_values\":null,\"synthese_trading_action\":\"BUY\",\"synthese_support_resistance_comment\":\"Key '\n",
      " 'support levels at $130-$135 and resistance zones at $165-$170. Multiple '\n",
      " 'touches confirmed on support levels with strong volume '\n",
      " 'confirmation.\",\"synthese_support_resistance_interaction_status\":\"PRICE_ABOVE_SUPPORT\",\"synthese_support_resistance_interaction_implication\":\"TAKE_PROFIT_ZONE\"}}')\n"
     ]
    }
   ],
   "source": [
    "pprint(global_json.model_dump_json())"
   ]
  },
  {
   "cell_type": "code",
   "execution_count": null,
   "id": "e27d75c9",
   "metadata": {},
   "outputs": [],
   "source": []
  }
 ],
 "metadata": {
  "kernelspec": {
   "display_name": "venv_langchain",
   "language": "python",
   "name": "python3"
  },
  "language_info": {
   "codemirror_mode": {
    "name": "ipython",
    "version": 3
   },
   "file_extension": ".py",
   "mimetype": "text/x-python",
   "name": "python",
   "nbconvert_exporter": "python",
   "pygments_lexer": "ipython3",
   "version": "3.10.16"
  }
 },
 "nbformat": 4,
 "nbformat_minor": 5
}
