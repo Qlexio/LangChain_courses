{
 "cells": [
  {
   "cell_type": "markdown",
   "id": "2602baf6",
   "metadata": {},
   "source": [
    "# Week 1 - Exercice 3\n",
    "\n",
    "Rework outparsers to smaller tasks then review LCEL and RetryWithErrorOutputParser"
   ]
  },
  {
   "cell_type": "code",
   "execution_count": 1,
   "id": "265446e8",
   "metadata": {},
   "outputs": [],
   "source": [
    "from langchain_ollama import ChatOllama\n",
    "from langchain_core.prompts import ChatPromptTemplate, HumanMessagePromptTemplate, SystemMessagePromptTemplate, PromptTemplate\n",
    "from langchain_core.output_parsers import PydanticOutputParser\n",
    "from langchain.output_parsers.retry import RetryWithErrorOutputParser, NAIVE_RETRY_WITH_ERROR_PROMPT\n",
    "\n",
    "import re"
   ]
  },
  {
   "cell_type": "code",
   "execution_count": 2,
   "id": "7ff5845f",
   "metadata": {},
   "outputs": [],
   "source": [
    "import sys\n",
    "\n",
    "sys.path.append(\"../\")\n",
    "\n",
    "import agents.technical_analyst.technical_analysis_pydantic_model as _pydantic_models"
   ]
  },
  {
   "cell_type": "code",
   "execution_count": 3,
   "id": "83c0b3f0",
   "metadata": {},
   "outputs": [],
   "source": [
    "MODEL = \"cogito:8b\"\n",
    "# MODEL = \"adeelahmad/ReasonableLLAMA-Jr-3b:latest\"\n",
    "DEEP_THINKING_INSTRUCTION = \"Enable deep thinking subroutine.\\n\\n\"\n",
    "invocation = {\"stock\": \"APPLE\", \"timeframe\": \"5 minutes\"}"
   ]
  },
  {
   "cell_type": "code",
   "execution_count": 4,
   "id": "571f3f38",
   "metadata": {},
   "outputs": [
    {
     "data": {
      "text/plain": [
       "'Enable deep thinking subroutine.\\n\\nPrompt:\\n{prompt}\\nCompletion:\\n{completion}\\n\\nAbove, the Completion did not satisfy the constraints given in the Prompt.\\nDetails: {error}\\nYOU MUST RESPECT THE SCHEMA PROVIDED IN THE PROMPT.\\nPlease try again:'"
      ]
     },
     "execution_count": 4,
     "metadata": {},
     "output_type": "execute_result"
    }
   ],
   "source": [
    "RETRY_PROMPT_TEMPLATE = NAIVE_RETRY_WITH_ERROR_PROMPT.template.split(\"\\n\")\n",
    "RETRY_PROMPT_TEMPLATE = RETRY_PROMPT_TEMPLATE[:-1] + [\"YOU MUST RESPECT THE SCHEMA PROVIDED IN THE PROMPT.\"] + RETRY_PROMPT_TEMPLATE[-1:]\n",
    "RETRY_PROMPT_TEMPLATE = DEEP_THINKING_INSTRUCTION + \"\\n\".join(RETRY_PROMPT_TEMPLATE)\n",
    "RETRY_PROMPT_TEMPLATE"
   ]
  },
  {
   "cell_type": "code",
   "execution_count": 5,
   "id": "664d8ed0",
   "metadata": {},
   "outputs": [],
   "source": [
    "model = ChatOllama(model=MODEL, num_gpu=256, num_ctx=4092 * 0.25, num_predict=1000 * 1, extract_reasoning=True)\n",
    "error_model = ChatOllama(model=MODEL, num_gpu=256, num_ctx=4092 * 1, num_predict=1000 * 2)"
   ]
  },
  {
   "cell_type": "code",
   "execution_count": 6,
   "id": "dd071af4",
   "metadata": {},
   "outputs": [],
   "source": [
    "system_template = DEEP_THINKING_INSTRUCTION + (\"As trading technical analyst expert, your task is to generate the technical analysis report for {stock} at the specified JSON format. \"\n",
    "                   \"Use the data (simulated for the exercice) to generate the technical analysis of {stock} action totally filling the JSON schema described below. \"\n",
    "                   \"The timeframe of {stock} data is {timeframe}. \"\n",
    "\n",
    "                   \"The format of your response is CRITICAL and MUST ADHERE EXACTLY to the JSON schema described here:\"\n",
    "                   \"\\n{format_instructions}\\n\"\n",
    "                   \"Thus, You MUST RESPECT the type of JSON schema entries. \"\n",
    "                   \"Once again, the JSON schema described above is CRITICAL and MUST BE RESPECTED.\"\n",
    "                )"
   ]
  },
  {
   "cell_type": "markdown",
   "id": "035534d6",
   "metadata": {},
   "source": [
    "### pricesEvaluation"
   ]
  },
  {
   "cell_type": "code",
   "execution_count": 7,
   "id": "890e7899",
   "metadata": {},
   "outputs": [],
   "source": [
    "prices_evaluation_parser = PydanticOutputParser(pydantic_object=_pydantic_models.PRICESEvaluation)"
   ]
  },
  {
   "cell_type": "code",
   "execution_count": 8,
   "id": "24b7202e",
   "metadata": {},
   "outputs": [],
   "source": [
    "prices_prompt_template = ChatPromptTemplate([\n",
    "    SystemMessagePromptTemplate.from_template(template=system_template),\n",
    "    HumanMessagePromptTemplate.from_template(template=\"{stock}\"),\n",
    "    ],\n",
    "    input_variables=[\"stock\", \"timeframe\"],\n",
    "    partial_variables={\"format_instructions\": prices_evaluation_parser.get_format_instructions()}\n",
    ")\n"
   ]
  },
  {
   "cell_type": "code",
   "execution_count": 9,
   "id": "6e79f8bc",
   "metadata": {},
   "outputs": [],
   "source": [
    "# prices_retry_parser = RetryWithErrorOutputParser.from_llm(\n",
    "#     llm=error_model,\n",
    "#     parser=prices_evaluation_parser,\n",
    "#     max_retries=3,\n",
    "# )"
   ]
  },
  {
   "cell_type": "code",
   "execution_count": 10,
   "id": "96dbc007",
   "metadata": {},
   "outputs": [],
   "source": [
    "prices_retry_parser = RetryWithErrorOutputParser(\n",
    "    parser=prices_evaluation_parser,\n",
    "    retry_chain = PromptTemplate.from_template(RETRY_PROMPT_TEMPLATE) | error_model | (lambda response: response.content),  # | (lambda response: re.sub(r\"<think>[\\n\\W\\w]+</think>\", \"\", response.content)),\n",
    "    max_retries=10,\n",
    ")"
   ]
  },
  {
   "cell_type": "code",
   "execution_count": 11,
   "id": "43c925f2",
   "metadata": {},
   "outputs": [
    {
     "data": {
      "text/plain": [
       "PromptTemplate(input_variables=['completion', 'error', 'prompt'], input_types={}, partial_variables={}, template='Enable deep thinking subroutine.\\n\\nPrompt:\\n{prompt}\\nCompletion:\\n{completion}\\n\\nAbove, the Completion did not satisfy the constraints given in the Prompt.\\nDetails: {error}\\nYOU MUST RESPECT THE SCHEMA PROVIDED IN THE PROMPT.\\nPlease try again:')\n",
       "| ChatOllama(model='cogito:8b', num_ctx=4092, num_gpu=256, num_predict=2000)\n",
       "| RunnableLambda(lambda response: response.content)"
      ]
     },
     "execution_count": 11,
     "metadata": {},
     "output_type": "execute_result"
    }
   ],
   "source": [
    "prices_retry_parser.retry_chain"
   ]
  },
  {
   "cell_type": "code",
   "execution_count": 12,
   "id": "3f6107bb",
   "metadata": {},
   "outputs": [
    {
     "data": {
      "text/plain": [
       "\"APPLE stands for:\\n\\nA - Apple Computer (company name)\\nP - Personal computers\\nP - PowerBook laptops\\nL - Lisa computer line\\nE - Established in 1976 by Steve Jobs, Steve Wozniak, and Ronald Wayne\\n\\nApple Inc. is a major technology company that designs, manufactures, and markets consumer electronics, software, and online services. It's known for products like the iPhone, iPad, Mac computers, Apple Watch, AirPods, and various software applications.\\n\\nWould you like to know more about any specific aspect of Apple?\""
      ]
     },
     "execution_count": 12,
     "metadata": {},
     "output_type": "execute_result"
    }
   ],
   "source": [
    "tmp_chain = prices_prompt_template | model | (lambda response: re.sub(r\"<think>[\\n\\W\\w]+</think>\", \"\", response.content))\n",
    "tmp_response = tmp_chain.invoke(invocation)\n",
    "tmp_response"
   ]
  },
  {
   "cell_type": "code",
   "execution_count": 13,
   "id": "54862694",
   "metadata": {},
   "outputs": [],
   "source": [
    "# prices_evaluation_parser.invoke(tmp_response)"
   ]
  },
  {
   "cell_type": "code",
   "execution_count": 14,
   "id": "238c32dd",
   "metadata": {},
   "outputs": [
    {
     "name": "stdout",
     "output_type": "stream",
     "text": [
      "Retry: 1\n",
      "Completion <think>\n",
      "Okay, let's break down what the user is asking for. They want a technical analysis report for Apple Inc., specifically formatted as a JSON object that follows their strict schema.\n",
      "\n",
      "First, I need to recall the structure of the required JSON schema they provided. It has several key elements:\n",
      "\n",
      "1. Prices trend\n",
      "2. Trading action (BUY, OUTPERFORM, HOLD, UNDERPERFORM, SELL)\n",
      "3. Primary prices trend category (STRONG_BULLISH, BULLISH, CONSOLIDATION, BEARISH, STRONG_BEARISH)\n",
      "4. Number of touches for primary and secondary trends\n",
      "5. Raw data value from the PRICES tool\n",
      "6. Evaluation of the prices trend\n",
      "7. Chart pattern description\n",
      "8. Potential chart pattern to focus on\n",
      "9. Candlestick pattern description\n",
      "10. Potential candlestick pattern\n",
      "\n",
      "Since it's a simulated analysis, I'll need to make up plausible values for each of these fields based on 5-minute timeframe data. The primary and secondary trends should be different, with their respective numbers of touches.\n",
      "\n",
      "For the raw data value (PRICESRawValue), let's use a placeholder number that looks realistic for stock prices.\n",
      "\n",
      "Trading actions like BUY or HOLD are typical, so I'll choose one of those.\n",
      "\n",
      "The chart pattern could be something common like \"Head and Shoulders\" or \"Double Top\".\n",
      "\n",
      "Potential patterns might include reversal signs or continuation signals based on the current trend.\n",
      "\n",
      "Candlestick patterns often relate to price action, such as bullish engulfing or bearish harami. I'll pick a few examples that fit.\n",
      "\n",
      "Now, structuring this all into the JSON format while adhering strictly to the schema is crucial. Each key must match exactly, and the types (strings, numbers, enums) must be respected.\n",
      "</think>\n",
      "\n",
      "Here's the technical analysis report for Apple in the specified JSON format:\n",
      "\n",
      "```json\n",
      "{\n",
      "    \"prices_trend\": \"STRONG_BULLISH\",\n",
      "    \"prices_trading_action\": \"BUY\",\n",
      "    \"primary_prices_trend\": \"BULLISH\",\n",
      "    \"primary_prices_trend_number_of_touches\": 3,\n",
      "    \"secondary_prices_trend\": \"CONSOLIDATION\",\n",
      "    \"secondary_prices_trend_number_of_touches\": 1,\n",
      "    \"minor_prices_trend\": \"STRONG_BEARISH\",\n",
      "    \"minor_prices_trend_number_of_touches\": 2,\n",
      "    \"raw_tool_data\": {\n",
      "        \"prices_value\": 172.45\n",
      "    },\n",
      "    \"prices_trend_evaluation\": \"Strong upward momentum with clear resistance levels\",\n",
      "    \"chart_pattern\": \"Head and Shoulders reversal pattern forming at key resistance level\",\n",
      "    \"potential_chart_pattern\": \"Double Top reversal setup expected if price breaks above $175.50\",\n",
      "    \"candlestick_pattern\": \"Bullish Engulfing pattern on 5-minute timeframe suggesting strong buying pressure\",\n",
      "    \"potential_candlestick_pattern\": \"Bearish Harami pattern forming, indicating possible trend weakness\"\n",
      "}\n",
      "```\n",
      "\n",
      "This analysis provides a comprehensive view of Apple's technical position using the specified schema.\n",
      "\n"
     ]
    }
   ],
   "source": [
    "tmp_result = prices_retry_parser.parse_with_prompt(completion=tmp_response, prompt_value=prices_prompt_template.format_prompt(**invocation))"
   ]
  },
  {
   "cell_type": "code",
   "execution_count": 15,
   "id": "424a01a7",
   "metadata": {},
   "outputs": [
    {
     "data": {
      "text/plain": [
       "PricesEvaluation(trend='STRONG_BULLISH', trading_action=<TradingActions.BUY: 'BUY'>, primary_trend=<TrendCategories.BULLISH: 'BULLISH'>, primary_trend_number_of_touches=3, secondary_trend=<TrendCategories.CONSOLIDATION: 'CONSOLIDATION'>, secondary_trend_number_of_touches=1, minor_trend=<TrendCategories.STRONG_BEARISH: 'STRONG_BEARISH'>, minor_trend_number_of_touches=2, raw_tool_data=PRICESRawValue(prices_value=172.45), trend_evaluation='Strong upward momentum with clear resistance levels', chart_pattern='Head and Shoulders reversal pattern forming at key resistance level', potential_chart_pattern='Double Top reversal setup expected if price breaks above $175.50', candlestick_pattern='Bullish Engulfing pattern on 5-minute timeframe suggesting strong buying pressure', potential_candlestick_pattern='Bearish Harami pattern forming, indicating possible trend weakness')"
      ]
     },
     "execution_count": 15,
     "metadata": {},
     "output_type": "execute_result"
    }
   ],
   "source": [
    "tmp_result"
   ]
  },
  {
   "cell_type": "code",
   "execution_count": null,
   "id": "70ba77f3",
   "metadata": {},
   "outputs": [],
   "source": [
    "\n",
    "support_chain = short_prompt_template | model | support_evaluation_parser\n",
    "support_json = support_chain.invoke(invocation)\n",
    "support_json"
   ]
  },
  {
   "cell_type": "markdown",
   "id": "c2cc18f4",
   "metadata": {},
   "source": [
    "### RESISTANCEEvaluation"
   ]
  },
  {
   "cell_type": "markdown",
   "id": "9a20ee47",
   "metadata": {},
   "source": [
    "### PRICESEvaluation"
   ]
  },
  {
   "cell_type": "markdown",
   "id": "8becacd0",
   "metadata": {},
   "source": [
    "### Indicators"
   ]
  },
  {
   "cell_type": "markdown",
   "id": "c53fe87b",
   "metadata": {},
   "source": [
    "### VOLUMESEvaluation"
   ]
  }
 ],
 "metadata": {
  "kernelspec": {
   "display_name": "venv_langchain",
   "language": "python",
   "name": "python3"
  },
  "language_info": {
   "codemirror_mode": {
    "name": "ipython",
    "version": 3
   },
   "file_extension": ".py",
   "mimetype": "text/x-python",
   "name": "python",
   "nbconvert_exporter": "python",
   "pygments_lexer": "ipython3",
   "version": "3.10.16"
  }
 },
 "nbformat": 4,
 "nbformat_minor": 5
}
