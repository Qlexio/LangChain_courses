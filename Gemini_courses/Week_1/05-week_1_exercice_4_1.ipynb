{
 "cells": [
  {
   "cell_type": "markdown",
   "id": "4296fb20",
   "metadata": {},
   "source": [
    "# Week 1 - Exercice 4\n",
    "\n",
    "Reproduce exercice 3 with another analysis => ESG"
   ]
  },
  {
   "cell_type": "code",
   "execution_count": 1,
   "id": "c5d8bb38",
   "metadata": {},
   "outputs": [],
   "source": [
    "import sys\n",
    "\n",
    "sys.path.append(\"../\")\n",
    "\n",
    "from agents.esg_analyst.esg_analysis_LLM_logic import ESGAnalysisLLMLogic"
   ]
  },
  {
   "cell_type": "code",
   "execution_count": 2,
   "id": "b6650a1e",
   "metadata": {},
   "outputs": [],
   "source": [
    "# from langchain_core.output_parsers import PydanticOutputParser\n",
    "# import agents.esg_analyst.esg_analysis_pydantic_model as _pydantic_models\n",
    "# from agents.esg_analyst.esg_analysis_pydantic_model import CarbonEmissionsLevel\n",
    "# import json"
   ]
  },
  {
   "cell_type": "code",
   "execution_count": 3,
   "id": "fbd25a84",
   "metadata": {},
   "outputs": [],
   "source": [
    "# carbon_output = {\n",
    "#     \"carbon_emissions_evaluation\": \"Analysis reveals significant increase in carbon emissions from Year 1 to Year 3 (from 3.9 tons CO2 to 2345678.0 tons CO2). The jump is particularly pronounced in scope_2 emissions, indicating potential growth-related environmental impacts.\",\n",
    "#     \"carbon_emissions_risk_level\": 'MEDIUM',\n",
    "#     \"raw_tool_data\": {\n",
    "#         \"carbon_risk_value\": 100.0,\n",
    "#         \"year_1_value\": {\n",
    "#             \"total_year_1_value\": 3.9,\n",
    "#             \"scope_1_year_1_value\": 2.8,\n",
    "#             \"scope_2_year_1_value\": 0.5\n",
    "#         },\n",
    "#         \"year_2_value\": {\n",
    "#             \"total_year_2_value\": 12.5,\n",
    "#             \"scope_1_year_2_value\": 8.0,\n",
    "#             \"scope_2_year_2_value\": 4.5\n",
    "#         },\n",
    "#         \"year_3_value\": {\n",
    "#             \"total_year_3_value\": 2345678.0,\n",
    "#             \"scope_1_year_3_value\": 1234567.0,\n",
    "#             \"scope_2_year_3_value\": 8901234.0\n",
    "#         }\n",
    "#     }\n",
    "# }\n"
   ]
  },
  {
   "cell_type": "code",
   "execution_count": 4,
   "id": "bd388b41",
   "metadata": {},
   "outputs": [],
   "source": [
    "# carbon_parser = PydanticOutputParser(pydantic_object=_pydantic_models.CarbonEmissions)\n"
   ]
  },
  {
   "cell_type": "code",
   "execution_count": 5,
   "id": "25c517d8",
   "metadata": {},
   "outputs": [],
   "source": [
    "# carbon_parser.invoke(json.dumps(carbon_output))"
   ]
  },
  {
   "cell_type": "code",
   "execution_count": null,
   "id": "5b15b83e",
   "metadata": {},
   "outputs": [],
   "source": []
  },
  {
   "cell_type": "code",
   "execution_count": 6,
   "id": "002d5a4a",
   "metadata": {},
   "outputs": [],
   "source": [
    "esg_analysis = ESGAnalysisLLMLogic()"
   ]
  },
  {
   "cell_type": "code",
   "execution_count": 7,
   "id": "6479e3c4",
   "metadata": {},
   "outputs": [],
   "source": [
    "# esg_analysis.carbon_emissions_output_parser()"
   ]
  },
  {
   "cell_type": "code",
   "execution_count": 8,
   "id": "38ee747e",
   "metadata": {},
   "outputs": [
    {
     "name": "stdout",
     "output_type": "stream",
     "text": [
      "**  sustainability_risk\n",
      "\t\t\tTime: 8.156\n",
      "esg_risk_evaluation=\"AAPL's environmental performance has improved in recent years due to investments in renewable energy and carbon neutrality goals, while its governance structure maintains a strong focus on shareholder value but faces some challenges in transparency.\" esg_risk_level=<ESGRiskLevel.WEAK: 'WEAK'> environmental_issues_evaluation='Positive trends observed: 1) Increased investment in solar power generation, 2) Improved water management practices, and 3) Reduction of carbon emissions through supply chain optimizations.' societal_issues_evaluation='Concerns remain regarding labor practices across global manufacturing facilities, but recent audits show improvement in worker safety standards. Community engagement programs are expanding in key markets.' governance_issues_evaluation=\"Strong corporate governance with clear leadership and transparent reporting structures. However, there's room for improvement in board diversity and stakeholder representation within decision-making processes.\" raw_tool_data=SustainabillityRiskRawValue(global_notation_value=15.0, environmental_issues_value=14.0, societal_issues_value=16.0, governance_issues_value=13.0)\n",
      "**  exposure_risk\n",
      "\t\t\tTime: 1.498\n",
      "esg_exposure_risk_evaluation='High ESG Risk Exposure' esg_exposure_risk_level=<ExposureRiskLevel.HIGH: 'HIGH'> raw_tool_data=ExposureRiskRawValue(exposure_risk_value=75.0)\n",
      "**  management_score\n",
      "\t\t\tTime: 1.681\n",
      "esg_management_score_evaluation=\"Based on our analysis, Apple Inc.'s ESG management practices align with industry best practices.\" esg_management_score_level=<ESGManagementScore.HIGH: 'HIGH'> raw_tool_data=ManagementScoreRawValue(management_score_value=85.2)\n",
      "**  carbon_emissions\n",
      "\t\t**  year-1_value\n",
      "\t\t\tTime: 1.274\n",
      "total=34.5 scope_1=22.3 scope_2=12.2\n",
      "\t\t**  year-2_value\n",
      "\t\t\tTime: 1.254\n",
      "total=1.9 scope_1=0.8 scope_2=1.1\n",
      "\t\t**  year-3_value\n",
      "\t\t\tTime: 1.244\n",
      "total=5.4 scope_1=2.9 scope_2=2.5\n",
      "\t** carbon emissions gathering\n",
      "\t\t\tTime: 4.255\n",
      "carbon_emissions_evaluation='The carbon emissions have shown significant reduction over three years from 34.5 tons in Year 1 to 5.4 tons in Year 3, with the largest decrease between Year 2 and Year 3 from 1.9 tons to 5.4 tons.' carbon_emissions_risk_level=<CarbonEmissionsLevel.NEGLIGIBLE: 'NEGLIGIBLE'> raw_tool_data=CarbonEmissionsRawValue(carbon_risk_value=0.1, year_1_value=None, year_2_value=None, year_3_value=None)\n",
      "**  activities_involvements\n",
      "\t\t\tTime: 2.615\n",
      "positive_involvements_evaluation='Apple Inc. has shown significant commitment to renewable energy sources and environmental sustainability initiatives.' negative_involvements_evaluation=\"Apple's supply chain practices have faced scrutiny in the past, particularly regarding labor conditions at manufacturing facilities.\" controversies_risk_evaluation=\"Recent controversies surrounding Apple's market dominance and privacy policies may pose risks to its long-term reputation.\" raw_tool_data=None\n",
      "\n",
      "Ticker Ananlysis\n",
      "\n",
      "\t\t\tTime: 26.229\n"
     ]
    }
   ],
   "source": [
    "output = esg_analysis.tickers_output_parser()"
   ]
  },
  {
   "cell_type": "code",
   "execution_count": 9,
   "id": "1b213c9e",
   "metadata": {},
   "outputs": [
    {
     "data": {
      "text/plain": [
       "TickerESGAnalysis(name_of_the_company='Apple Inc.', isin_of_the_company='US0378331005', time_of_the_report=datetime.datetime(2024, 1, 19, 8, 0, tzinfo=TzInfo(UTC)), sustainability_risk=SustainabilityRisk(esg_risk_evaluation=\"AAPL's environmental performance has improved in recent years due to investments in renewable energy and carbon neutrality goals, while its governance structure maintains a strong focus on shareholder value but faces some challenges in transparency.\", esg_risk_level=<ESGRiskLevel.WEAK: 'WEAK'>, environmental_issues_evaluation='Positive trends observed: 1) Increased investment in solar power generation, 2) Improved water management practices, and 3) Reduction of carbon emissions through supply chain optimizations.', societal_issues_evaluation='Concerns remain regarding labor practices across global manufacturing facilities, but recent audits show improvement in worker safety standards. Community engagement programs are expanding in key markets.', governance_issues_evaluation=\"Strong corporate governance with clear leadership and transparent reporting structures. However, there's room for improvement in board diversity and stakeholder representation within decision-making processes.\", raw_tool_data=SustainabillityRiskRawValue(global_notation_value=15.0, environmental_issues_value=14.0, societal_issues_value=16.0, governance_issues_value=13.0)), exposure_risk=ExposureRisk(esg_exposure_risk_evaluation='High ESG Risk Exposure', esg_exposure_risk_level=<ExposureRiskLevel.HIGH: 'HIGH'>, raw_tool_data=ExposureRiskRawValue(exposure_risk_value=75.0)), management_score=ManagementScore(esg_management_score_evaluation=\"Based on our analysis, Apple Inc.'s ESG management practices align with industry best practices.\", esg_management_score_level=<ESGManagementScore.HIGH: 'HIGH'>, raw_tool_data=ManagementScoreRawValue(management_score_value=85.2)), carbon_emissions=CarbonEmissions(carbon_emissions_evaluation='The carbon emissions have shown significant reduction over three years from 34.5 tons in Year 1 to 5.4 tons in Year 3, with the largest decrease between Year 2 and Year 3 from 1.9 tons to 5.4 tons.', carbon_emissions_risk_level=<CarbonEmissionsLevel.NEGLIGIBLE: 'NEGLIGIBLE'>, raw_tool_data=CarbonEmissionsRawValue(carbon_risk_value=0.1, year_1_value=None, year_2_value=None, year_3_value=None)), activities_involvements=ActivitiesInvolvements(positive_involvements_evaluation='Apple Inc. has shown significant commitment to renewable energy sources and environmental sustainability initiatives.', negative_involvements_evaluation=\"Apple's supply chain practices have faced scrutiny in the past, particularly regarding labor conditions at manufacturing facilities.\", controversies_risk_evaluation=\"Recent controversies surrounding Apple's market dominance and privacy policies may pose risks to its long-term reputation.\", raw_tool_data=None), synthesis=Synthesis(conclusion='', synthesis_trading_action=<TradingActions.HOLD: 'HOLD'>, synthesis_risk=<RisksLevel.NEGLIGIBLE: 'NEGLIGIBLE'>))"
      ]
     },
     "execution_count": 9,
     "metadata": {},
     "output_type": "execute_result"
    }
   ],
   "source": [
    "output"
   ]
  },
  {
   "cell_type": "code",
   "execution_count": null,
   "id": "5330d649",
   "metadata": {},
   "outputs": [],
   "source": []
  }
 ],
 "metadata": {
  "kernelspec": {
   "display_name": "venv_langchain",
   "language": "python",
   "name": "python3"
  },
  "language_info": {
   "codemirror_mode": {
    "name": "ipython",
    "version": 3
   },
   "file_extension": ".py",
   "mimetype": "text/x-python",
   "name": "python",
   "nbconvert_exporter": "python",
   "pygments_lexer": "ipython3",
   "version": "3.10.16"
  }
 },
 "nbformat": 4,
 "nbformat_minor": 5
}
