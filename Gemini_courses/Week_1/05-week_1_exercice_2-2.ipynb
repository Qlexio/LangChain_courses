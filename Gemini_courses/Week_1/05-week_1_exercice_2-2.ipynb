{
 "cells": [
  {
   "cell_type": "markdown",
   "id": "21a2f527",
   "metadata": {},
   "source": [
    "# Week 1 - Exercice 2\n",
    "\n",
    "1. À votre retour, codez le modèle Pydantic correspondant à cette dernière version de votre structure de sortie technique.\n",
    "2. Créez la chaîne LCEL simple (Prompt adapté -> Modèle Ollama -> PydanticOutputParser avec votre nouveau modèle).\n",
    "3. Invoquez-la pour tester."
   ]
  },
  {
   "cell_type": "code",
   "execution_count": 1,
   "id": "b2d09ad2",
   "metadata": {},
   "outputs": [],
   "source": [
    "from langchain_ollama import ChatOllama\n",
    "from langchain_core.prompts import ChatPromptTemplate, HumanMessagePromptTemplate, SystemMessagePromptTemplate\n",
    "from langchain_core.output_parsers import PydanticOutputParser\n",
    "from pprint import pprint"
   ]
  },
  {
   "cell_type": "code",
   "execution_count": 2,
   "id": "7b76c20f",
   "metadata": {},
   "outputs": [],
   "source": [
    "import sys\n",
    "\n",
    "sys.path.append(\"../\")\n",
    "\n",
    "from agents.technical_analyst.technical_analysis_pydantic_model import TickerTechnicalAnalysis, ShortTimeframeData, LongTimeframeData"
   ]
  },
  {
   "cell_type": "code",
   "execution_count": 3,
   "id": "9dcbfb3f",
   "metadata": {},
   "outputs": [],
   "source": [
    "MODEL = \"cogito:8b\"\n",
    "DEEP_THINKING_INSTRUCTION = \"Enable deep thinking subroutine.\\n\\n\"\n",
    "invocation = {\"stock\": \"APPLE\"}"
   ]
  },
  {
   "cell_type": "code",
   "execution_count": 4,
   "id": "0c41b1bc",
   "metadata": {},
   "outputs": [],
   "source": [
    "model = ChatOllama(model=MODEL, num_gpu=256, num_ctx=4092 * 2, num_predict=1000 * 1)"
   ]
  },
  {
   "cell_type": "code",
   "execution_count": null,
   "id": "ca6d9e00",
   "metadata": {},
   "outputs": [],
   "source": [
    "system_template = (\"As trading technical analyst expert, your task is to generate the technical analysis report for {stock} at the specified JSON format. \"\n",
    "                   \"Use the data (simulated for the exercice) to generate the technical analysis of {stock} action totally filling the JSON schema described below. \"\n",
    "\n",
    "                   \"The format of your response is CRITICAL and MUST ADHERE EXACTLY to the JSON schema described here:\"\n",
    "                   \"\\n{format_instructions}\\n\"\n",
    "                   \"Once again, the JSON schema described above is CRITICAL and MUST BE RESPECTED.\"\n",
    "                )"
   ]
  },
  {
   "cell_type": "code",
   "execution_count": 6,
   "id": "9085ad84",
   "metadata": {},
   "outputs": [
    {
     "ename": "OutputParserException",
     "evalue": "Failed to parse ShortTimeframeData from completion {\"data_timeframe\": 300, \"supports_evaluation\": {\"supports_evaluation\": \"Price found strong support near $150 level\", \"support_interaction_status\": \"PRICE_ABOVE_SUPPORT\", \"support_interaction_implication\": \"TAKE_PROFIT_ZONE\", \"close_support_level\": \"$150.20 (previous resistance)\", \"middle_support_level\": \"$148.50 (EMA 200 day)\", \"far_support_level\": \"$145.80 (previous low)\"}, \"resistances_evaluation\": {\"resistances_evaluation\": \"Resistance zones holding strong\", \"resistance_interaction_status\": \"PRICE_BELOW_RESISTANCE\", \"resistance_interaction_implication\": \"CONFIRMATION_SIGNAL\", \"close_resistance_level\": \"$160.30 (previous high)\", \"middle_resistance_level\": \"$162.80 (EMA 50 day)\", \"far_resistance_level\": \"$165.20 (psychological level)\"}, \"prices_evaluation\": {\"prices_trend\": \"STRONG_BULLISH\", \"prices_trading_action\": \"OUTPERFORM\", \"primary_prices_trend\": \"STRONG_BULLISH\", \"primary_prices_trend_number_of_touches\": 3, \"secondary_prices_trend\": \"BULLISH\", \"secondary_prices_trend_number_of_touches\": 2, \"minor_prices_trend\": \"CONSOLIDATION\", \"minor_prices_trend_number_of_touches\": 1, \"raw_tool_data\": {\"prices_value\": 160.3}, \"prices_trend_evaluation\": \"Price showing strength above resistance zone\", \"chart_pattern\": \"Triple Top Reversal Pattern (confirmed)\", \"potential_chart_pattern\": \"Bullish Flag Pattern (emerging)\", \"candlestick_pattern\": \"Dark Cloud Cover (bearish signal rejected)\", \"potential_candlestick_pattern\": \"Morning Star Pattern (bullish confirmation)\"}, \"indicators\": {\"rsi_evaluation\": null, \"macd_evaluation\": null, \"bollinger_bands_evaluation\": {\"bollinger_bands_trend\": \"STRONG_BULLISH\", \"bollinger_bands_trading_action\": \"BUY\", \"primary_bollinger_bands_trend\": \"STRONG_BULLISH\", \"primary_bollinger_bands_trend_number_of_touches\": 4, \"secondary_bollinger_bands_trend\": \"BULLISH\", \"secondary_bollinger_bands_trend_number_of_touches\": 3, \"minor_bollinger_bands_trend\": \"CONSOLIDATION\", \"minor_bollinger_bands_trend_number_of_touches\": 2, \"raw_tool_data\": {\"bollinger_bands_moving_average_value\": 160.2, \"bollinger_bands_above_standard_deviation_value\": 161.1, \"bollinger_bands_below_standard_deviation_value\": 159.3}}}, \"volumes_evaluation\": {\"volumes_trend\": \"STRONG_BULLISH\", \"volumes_trading_action\": \"OUTPERFORM\", \"primary_volumes_trend\": \"STRONG_BULLISH\", \"primary_volumes_trend_number_of_touches\": 4, \"secondary_volumes_trend\": \"BULLISH\", \"secondary_volumes_trend_number_of_touches\": 3, \"minor_volumes_trend\": \"CONSOLIDATION\", \"minor_volumes_trend_number_of_touches\": 2, \"raw_tool_data\": {\"volumes_value\": 160.3}, \"volumes_trend_evaluation\": \"Volume showing increasing buying pressure\"}, \"short_timeframe_data_synthesis\": {\"conclusion\": \"Strong buy signal with confirmed reversal pattern\", \"synthese_trading_action\": \"BUY\", \"synthese_support_resistance_comment\": \"Price found strong support near $150 level, Resistance zones holding well\", \"synthese_support_resistance_interaction_status\": \"PRICE_ABOVE_SUPPORT\", \"synthese_support_resistance_interaction_implication\": \"TAKE_PROFIT_ZONE\"}}. Got: 2 validation errors for ShortTimeframeData\nsupports_evaluation.raw_tool_data\n  Field required [type=missing, input_value={'supports_evaluation': '...$145.80 (previous low)'}, input_type=dict]\n    For further information visit https://errors.pydantic.dev/2.11/v/missing\nresistances_evaluation.raw_tool_data\n  Field required [type=missing, input_value={'resistances_evaluation'... (psychological level)'}, input_type=dict]\n    For further information visit https://errors.pydantic.dev/2.11/v/missing\nFor troubleshooting, visit: https://python.langchain.com/docs/troubleshooting/errors/OUTPUT_PARSING_FAILURE ",
     "output_type": "error",
     "traceback": [
      "\u001b[1;31m---------------------------------------------------------------------------\u001b[0m",
      "\u001b[1;31mValidationError\u001b[0m                           Traceback (most recent call last)",
      "File \u001b[1;32mc:\\Users\\nanar\\Documents\\Python\\AI_frameworks\\LangChain\\venv_langchain\\lib\\site-packages\\langchain_core\\output_parsers\\pydantic.py:30\u001b[0m, in \u001b[0;36mPydanticOutputParser._parse_obj\u001b[1;34m(self, obj)\u001b[0m\n\u001b[0;32m     29\u001b[0m \u001b[38;5;28;01mif\u001b[39;00m \u001b[38;5;28missubclass\u001b[39m(\u001b[38;5;28mself\u001b[39m\u001b[38;5;241m.\u001b[39mpydantic_object, pydantic\u001b[38;5;241m.\u001b[39mBaseModel):\n\u001b[1;32m---> 30\u001b[0m     \u001b[38;5;28;01mreturn\u001b[39;00m \u001b[38;5;28;43mself\u001b[39;49m\u001b[38;5;241;43m.\u001b[39;49m\u001b[43mpydantic_object\u001b[49m\u001b[38;5;241;43m.\u001b[39;49m\u001b[43mmodel_validate\u001b[49m\u001b[43m(\u001b[49m\u001b[43mobj\u001b[49m\u001b[43m)\u001b[49m\n\u001b[0;32m     31\u001b[0m \u001b[38;5;28;01mif\u001b[39;00m \u001b[38;5;28missubclass\u001b[39m(\u001b[38;5;28mself\u001b[39m\u001b[38;5;241m.\u001b[39mpydantic_object, pydantic\u001b[38;5;241m.\u001b[39mv1\u001b[38;5;241m.\u001b[39mBaseModel):\n",
      "File \u001b[1;32mc:\\Users\\nanar\\Documents\\Python\\AI_frameworks\\LangChain\\venv_langchain\\lib\\site-packages\\pydantic\\main.py:703\u001b[0m, in \u001b[0;36mBaseModel.model_validate\u001b[1;34m(cls, obj, strict, from_attributes, context, by_alias, by_name)\u001b[0m\n\u001b[0;32m    698\u001b[0m     \u001b[38;5;28;01mraise\u001b[39;00m PydanticUserError(\n\u001b[0;32m    699\u001b[0m         \u001b[38;5;124m'\u001b[39m\u001b[38;5;124mAt least one of `by_alias` or `by_name` must be set to True.\u001b[39m\u001b[38;5;124m'\u001b[39m,\n\u001b[0;32m    700\u001b[0m         code\u001b[38;5;241m=\u001b[39m\u001b[38;5;124m'\u001b[39m\u001b[38;5;124mvalidate-by-alias-and-name-false\u001b[39m\u001b[38;5;124m'\u001b[39m,\n\u001b[0;32m    701\u001b[0m     )\n\u001b[1;32m--> 703\u001b[0m \u001b[38;5;28;01mreturn\u001b[39;00m \u001b[38;5;28;43mcls\u001b[39;49m\u001b[38;5;241;43m.\u001b[39;49m\u001b[43m__pydantic_validator__\u001b[49m\u001b[38;5;241;43m.\u001b[39;49m\u001b[43mvalidate_python\u001b[49m\u001b[43m(\u001b[49m\n\u001b[0;32m    704\u001b[0m \u001b[43m    \u001b[49m\u001b[43mobj\u001b[49m\u001b[43m,\u001b[49m\u001b[43m \u001b[49m\u001b[43mstrict\u001b[49m\u001b[38;5;241;43m=\u001b[39;49m\u001b[43mstrict\u001b[49m\u001b[43m,\u001b[49m\u001b[43m \u001b[49m\u001b[43mfrom_attributes\u001b[49m\u001b[38;5;241;43m=\u001b[39;49m\u001b[43mfrom_attributes\u001b[49m\u001b[43m,\u001b[49m\u001b[43m \u001b[49m\u001b[43mcontext\u001b[49m\u001b[38;5;241;43m=\u001b[39;49m\u001b[43mcontext\u001b[49m\u001b[43m,\u001b[49m\u001b[43m \u001b[49m\u001b[43mby_alias\u001b[49m\u001b[38;5;241;43m=\u001b[39;49m\u001b[43mby_alias\u001b[49m\u001b[43m,\u001b[49m\u001b[43m \u001b[49m\u001b[43mby_name\u001b[49m\u001b[38;5;241;43m=\u001b[39;49m\u001b[43mby_name\u001b[49m\n\u001b[0;32m    705\u001b[0m \u001b[43m\u001b[49m\u001b[43m)\u001b[49m\n",
      "\u001b[1;31mValidationError\u001b[0m: 2 validation errors for ShortTimeframeData\nsupports_evaluation.raw_tool_data\n  Field required [type=missing, input_value={'supports_evaluation': '...$145.80 (previous low)'}, input_type=dict]\n    For further information visit https://errors.pydantic.dev/2.11/v/missing\nresistances_evaluation.raw_tool_data\n  Field required [type=missing, input_value={'resistances_evaluation'... (psychological level)'}, input_type=dict]\n    For further information visit https://errors.pydantic.dev/2.11/v/missing",
      "\nThe above exception was the direct cause of the following exception:\n",
      "\u001b[1;31mOutputParserException\u001b[0m                     Traceback (most recent call last)",
      "Cell \u001b[1;32mIn[6], line 14\u001b[0m\n\u001b[0;32m      3\u001b[0m short_prompt_template \u001b[38;5;241m=\u001b[39m ChatPromptTemplate([\n\u001b[0;32m      4\u001b[0m     SystemMessagePromptTemplate\u001b[38;5;241m.\u001b[39mfrom_template(template\u001b[38;5;241m=\u001b[39msystem_template),\n\u001b[0;32m      5\u001b[0m     HumanMessagePromptTemplate\u001b[38;5;241m.\u001b[39mfrom_template(template\u001b[38;5;241m=\u001b[39m\u001b[38;5;124m\"\u001b[39m\u001b[38;5;132;01m{stock}\u001b[39;00m\u001b[38;5;124m\"\u001b[39m),\n\u001b[1;32m   (...)\u001b[0m\n\u001b[0;32m     10\u001b[0m                        }\n\u001b[0;32m     11\u001b[0m )\n\u001b[0;32m     13\u001b[0m short_chain \u001b[38;5;241m=\u001b[39m short_prompt_template \u001b[38;5;241m|\u001b[39m model \u001b[38;5;241m|\u001b[39m short_technical_parser\n\u001b[1;32m---> 14\u001b[0m short_json \u001b[38;5;241m=\u001b[39m \u001b[43mshort_chain\u001b[49m\u001b[38;5;241;43m.\u001b[39;49m\u001b[43minvoke\u001b[49m\u001b[43m(\u001b[49m\u001b[43minvocation\u001b[49m\u001b[43m)\u001b[49m\n\u001b[0;32m     15\u001b[0m short_json\n",
      "File \u001b[1;32mc:\\Users\\nanar\\Documents\\Python\\AI_frameworks\\LangChain\\venv_langchain\\lib\\site-packages\\langchain_core\\runnables\\base.py:3034\u001b[0m, in \u001b[0;36mRunnableSequence.invoke\u001b[1;34m(self, input, config, **kwargs)\u001b[0m\n\u001b[0;32m   3032\u001b[0m                 \u001b[38;5;28minput\u001b[39m \u001b[38;5;241m=\u001b[39m context\u001b[38;5;241m.\u001b[39mrun(step\u001b[38;5;241m.\u001b[39minvoke, \u001b[38;5;28minput\u001b[39m, config, \u001b[38;5;241m*\u001b[39m\u001b[38;5;241m*\u001b[39mkwargs)\n\u001b[0;32m   3033\u001b[0m             \u001b[38;5;28;01melse\u001b[39;00m:\n\u001b[1;32m-> 3034\u001b[0m                 \u001b[38;5;28minput\u001b[39m \u001b[38;5;241m=\u001b[39m \u001b[43mcontext\u001b[49m\u001b[38;5;241;43m.\u001b[39;49m\u001b[43mrun\u001b[49m\u001b[43m(\u001b[49m\u001b[43mstep\u001b[49m\u001b[38;5;241;43m.\u001b[39;49m\u001b[43minvoke\u001b[49m\u001b[43m,\u001b[49m\u001b[43m \u001b[49m\u001b[38;5;28;43minput\u001b[39;49m\u001b[43m,\u001b[49m\u001b[43m \u001b[49m\u001b[43mconfig\u001b[49m\u001b[43m)\u001b[49m\n\u001b[0;32m   3035\u001b[0m \u001b[38;5;66;03m# finish the root run\u001b[39;00m\n\u001b[0;32m   3036\u001b[0m \u001b[38;5;28;01mexcept\u001b[39;00m \u001b[38;5;167;01mBaseException\u001b[39;00m \u001b[38;5;28;01mas\u001b[39;00m e:\n",
      "File \u001b[1;32mc:\\Users\\nanar\\Documents\\Python\\AI_frameworks\\LangChain\\venv_langchain\\lib\\site-packages\\langchain_core\\output_parsers\\base.py:196\u001b[0m, in \u001b[0;36mBaseOutputParser.invoke\u001b[1;34m(self, input, config, **kwargs)\u001b[0m\n\u001b[0;32m    188\u001b[0m \u001b[38;5;129m@override\u001b[39m\n\u001b[0;32m    189\u001b[0m \u001b[38;5;28;01mdef\u001b[39;00m\u001b[38;5;250m \u001b[39m\u001b[38;5;21minvoke\u001b[39m(\n\u001b[0;32m    190\u001b[0m     \u001b[38;5;28mself\u001b[39m,\n\u001b[1;32m   (...)\u001b[0m\n\u001b[0;32m    193\u001b[0m     \u001b[38;5;241m*\u001b[39m\u001b[38;5;241m*\u001b[39mkwargs: Any,\n\u001b[0;32m    194\u001b[0m ) \u001b[38;5;241m-\u001b[39m\u001b[38;5;241m>\u001b[39m T:\n\u001b[0;32m    195\u001b[0m     \u001b[38;5;28;01mif\u001b[39;00m \u001b[38;5;28misinstance\u001b[39m(\u001b[38;5;28minput\u001b[39m, BaseMessage):\n\u001b[1;32m--> 196\u001b[0m         \u001b[38;5;28;01mreturn\u001b[39;00m \u001b[38;5;28;43mself\u001b[39;49m\u001b[38;5;241;43m.\u001b[39;49m\u001b[43m_call_with_config\u001b[49m\u001b[43m(\u001b[49m\n\u001b[0;32m    197\u001b[0m \u001b[43m            \u001b[49m\u001b[38;5;28;43;01mlambda\u001b[39;49;00m\u001b[43m \u001b[49m\u001b[43minner_input\u001b[49m\u001b[43m:\u001b[49m\u001b[43m \u001b[49m\u001b[38;5;28;43mself\u001b[39;49m\u001b[38;5;241;43m.\u001b[39;49m\u001b[43mparse_result\u001b[49m\u001b[43m(\u001b[49m\n\u001b[0;32m    198\u001b[0m \u001b[43m                \u001b[49m\u001b[43m[\u001b[49m\u001b[43mChatGeneration\u001b[49m\u001b[43m(\u001b[49m\u001b[43mmessage\u001b[49m\u001b[38;5;241;43m=\u001b[39;49m\u001b[43minner_input\u001b[49m\u001b[43m)\u001b[49m\u001b[43m]\u001b[49m\n\u001b[0;32m    199\u001b[0m \u001b[43m            \u001b[49m\u001b[43m)\u001b[49m\u001b[43m,\u001b[49m\n\u001b[0;32m    200\u001b[0m \u001b[43m            \u001b[49m\u001b[38;5;28;43minput\u001b[39;49m\u001b[43m,\u001b[49m\n\u001b[0;32m    201\u001b[0m \u001b[43m            \u001b[49m\u001b[43mconfig\u001b[49m\u001b[43m,\u001b[49m\n\u001b[0;32m    202\u001b[0m \u001b[43m            \u001b[49m\u001b[43mrun_type\u001b[49m\u001b[38;5;241;43m=\u001b[39;49m\u001b[38;5;124;43m\"\u001b[39;49m\u001b[38;5;124;43mparser\u001b[39;49m\u001b[38;5;124;43m\"\u001b[39;49m\u001b[43m,\u001b[49m\n\u001b[0;32m    203\u001b[0m \u001b[43m        \u001b[49m\u001b[43m)\u001b[49m\n\u001b[0;32m    204\u001b[0m     \u001b[38;5;28;01mreturn\u001b[39;00m \u001b[38;5;28mself\u001b[39m\u001b[38;5;241m.\u001b[39m_call_with_config(\n\u001b[0;32m    205\u001b[0m         \u001b[38;5;28;01mlambda\u001b[39;00m inner_input: \u001b[38;5;28mself\u001b[39m\u001b[38;5;241m.\u001b[39mparse_result([Generation(text\u001b[38;5;241m=\u001b[39minner_input)]),\n\u001b[0;32m    206\u001b[0m         \u001b[38;5;28minput\u001b[39m,\n\u001b[0;32m    207\u001b[0m         config,\n\u001b[0;32m    208\u001b[0m         run_type\u001b[38;5;241m=\u001b[39m\u001b[38;5;124m\"\u001b[39m\u001b[38;5;124mparser\u001b[39m\u001b[38;5;124m\"\u001b[39m,\n\u001b[0;32m    209\u001b[0m     )\n",
      "File \u001b[1;32mc:\\Users\\nanar\\Documents\\Python\\AI_frameworks\\LangChain\\venv_langchain\\lib\\site-packages\\langchain_core\\runnables\\base.py:1930\u001b[0m, in \u001b[0;36mRunnable._call_with_config\u001b[1;34m(self, func, input, config, run_type, serialized, **kwargs)\u001b[0m\n\u001b[0;32m   1926\u001b[0m     child_config \u001b[38;5;241m=\u001b[39m patch_config(config, callbacks\u001b[38;5;241m=\u001b[39mrun_manager\u001b[38;5;241m.\u001b[39mget_child())\n\u001b[0;32m   1927\u001b[0m     \u001b[38;5;28;01mwith\u001b[39;00m set_config_context(child_config) \u001b[38;5;28;01mas\u001b[39;00m context:\n\u001b[0;32m   1928\u001b[0m         output \u001b[38;5;241m=\u001b[39m cast(\n\u001b[0;32m   1929\u001b[0m             \u001b[38;5;124m\"\u001b[39m\u001b[38;5;124mOutput\u001b[39m\u001b[38;5;124m\"\u001b[39m,\n\u001b[1;32m-> 1930\u001b[0m             context\u001b[38;5;241m.\u001b[39mrun(\n\u001b[0;32m   1931\u001b[0m                 call_func_with_variable_args,  \u001b[38;5;66;03m# type: ignore[arg-type]\u001b[39;00m\n\u001b[0;32m   1932\u001b[0m                 func,\n\u001b[0;32m   1933\u001b[0m                 \u001b[38;5;28minput\u001b[39m,\n\u001b[0;32m   1934\u001b[0m                 config,\n\u001b[0;32m   1935\u001b[0m                 run_manager,\n\u001b[0;32m   1936\u001b[0m                 \u001b[38;5;241m*\u001b[39m\u001b[38;5;241m*\u001b[39mkwargs,\n\u001b[0;32m   1937\u001b[0m             ),\n\u001b[0;32m   1938\u001b[0m         )\n\u001b[0;32m   1939\u001b[0m \u001b[38;5;28;01mexcept\u001b[39;00m \u001b[38;5;167;01mBaseException\u001b[39;00m \u001b[38;5;28;01mas\u001b[39;00m e:\n\u001b[0;32m   1940\u001b[0m     run_manager\u001b[38;5;241m.\u001b[39mon_chain_error(e)\n",
      "File \u001b[1;32mc:\\Users\\nanar\\Documents\\Python\\AI_frameworks\\LangChain\\venv_langchain\\lib\\site-packages\\langchain_core\\runnables\\config.py:428\u001b[0m, in \u001b[0;36mcall_func_with_variable_args\u001b[1;34m(func, input, config, run_manager, **kwargs)\u001b[0m\n\u001b[0;32m    426\u001b[0m \u001b[38;5;28;01mif\u001b[39;00m run_manager \u001b[38;5;129;01mis\u001b[39;00m \u001b[38;5;129;01mnot\u001b[39;00m \u001b[38;5;28;01mNone\u001b[39;00m \u001b[38;5;129;01mand\u001b[39;00m accepts_run_manager(func):\n\u001b[0;32m    427\u001b[0m     kwargs[\u001b[38;5;124m\"\u001b[39m\u001b[38;5;124mrun_manager\u001b[39m\u001b[38;5;124m\"\u001b[39m] \u001b[38;5;241m=\u001b[39m run_manager\n\u001b[1;32m--> 428\u001b[0m \u001b[38;5;28;01mreturn\u001b[39;00m func(\u001b[38;5;28minput\u001b[39m, \u001b[38;5;241m*\u001b[39m\u001b[38;5;241m*\u001b[39mkwargs)\n",
      "File \u001b[1;32mc:\\Users\\nanar\\Documents\\Python\\AI_frameworks\\LangChain\\venv_langchain\\lib\\site-packages\\langchain_core\\output_parsers\\base.py:197\u001b[0m, in \u001b[0;36mBaseOutputParser.invoke.<locals>.<lambda>\u001b[1;34m(inner_input)\u001b[0m\n\u001b[0;32m    188\u001b[0m \u001b[38;5;129m@override\u001b[39m\n\u001b[0;32m    189\u001b[0m \u001b[38;5;28;01mdef\u001b[39;00m\u001b[38;5;250m \u001b[39m\u001b[38;5;21minvoke\u001b[39m(\n\u001b[0;32m    190\u001b[0m     \u001b[38;5;28mself\u001b[39m,\n\u001b[1;32m   (...)\u001b[0m\n\u001b[0;32m    193\u001b[0m     \u001b[38;5;241m*\u001b[39m\u001b[38;5;241m*\u001b[39mkwargs: Any,\n\u001b[0;32m    194\u001b[0m ) \u001b[38;5;241m-\u001b[39m\u001b[38;5;241m>\u001b[39m T:\n\u001b[0;32m    195\u001b[0m     \u001b[38;5;28;01mif\u001b[39;00m \u001b[38;5;28misinstance\u001b[39m(\u001b[38;5;28minput\u001b[39m, BaseMessage):\n\u001b[0;32m    196\u001b[0m         \u001b[38;5;28;01mreturn\u001b[39;00m \u001b[38;5;28mself\u001b[39m\u001b[38;5;241m.\u001b[39m_call_with_config(\n\u001b[1;32m--> 197\u001b[0m             \u001b[38;5;28;01mlambda\u001b[39;00m inner_input: \u001b[38;5;28;43mself\u001b[39;49m\u001b[38;5;241;43m.\u001b[39;49m\u001b[43mparse_result\u001b[49m\u001b[43m(\u001b[49m\n\u001b[0;32m    198\u001b[0m \u001b[43m                \u001b[49m\u001b[43m[\u001b[49m\u001b[43mChatGeneration\u001b[49m\u001b[43m(\u001b[49m\u001b[43mmessage\u001b[49m\u001b[38;5;241;43m=\u001b[39;49m\u001b[43minner_input\u001b[49m\u001b[43m)\u001b[49m\u001b[43m]\u001b[49m\n\u001b[0;32m    199\u001b[0m \u001b[43m            \u001b[49m\u001b[43m)\u001b[49m,\n\u001b[0;32m    200\u001b[0m             \u001b[38;5;28minput\u001b[39m,\n\u001b[0;32m    201\u001b[0m             config,\n\u001b[0;32m    202\u001b[0m             run_type\u001b[38;5;241m=\u001b[39m\u001b[38;5;124m\"\u001b[39m\u001b[38;5;124mparser\u001b[39m\u001b[38;5;124m\"\u001b[39m,\n\u001b[0;32m    203\u001b[0m         )\n\u001b[0;32m    204\u001b[0m     \u001b[38;5;28;01mreturn\u001b[39;00m \u001b[38;5;28mself\u001b[39m\u001b[38;5;241m.\u001b[39m_call_with_config(\n\u001b[0;32m    205\u001b[0m         \u001b[38;5;28;01mlambda\u001b[39;00m inner_input: \u001b[38;5;28mself\u001b[39m\u001b[38;5;241m.\u001b[39mparse_result([Generation(text\u001b[38;5;241m=\u001b[39minner_input)]),\n\u001b[0;32m    206\u001b[0m         \u001b[38;5;28minput\u001b[39m,\n\u001b[0;32m    207\u001b[0m         config,\n\u001b[0;32m    208\u001b[0m         run_type\u001b[38;5;241m=\u001b[39m\u001b[38;5;124m\"\u001b[39m\u001b[38;5;124mparser\u001b[39m\u001b[38;5;124m\"\u001b[39m,\n\u001b[0;32m    209\u001b[0m     )\n",
      "File \u001b[1;32mc:\\Users\\nanar\\Documents\\Python\\AI_frameworks\\LangChain\\venv_langchain\\lib\\site-packages\\langchain_core\\output_parsers\\pydantic.py:69\u001b[0m, in \u001b[0;36mPydanticOutputParser.parse_result\u001b[1;34m(self, result, partial)\u001b[0m\n\u001b[0;32m     67\u001b[0m \u001b[38;5;28;01mtry\u001b[39;00m:\n\u001b[0;32m     68\u001b[0m     json_object \u001b[38;5;241m=\u001b[39m \u001b[38;5;28msuper\u001b[39m()\u001b[38;5;241m.\u001b[39mparse_result(result)\n\u001b[1;32m---> 69\u001b[0m     \u001b[38;5;28;01mreturn\u001b[39;00m \u001b[38;5;28;43mself\u001b[39;49m\u001b[38;5;241;43m.\u001b[39;49m\u001b[43m_parse_obj\u001b[49m\u001b[43m(\u001b[49m\u001b[43mjson_object\u001b[49m\u001b[43m)\u001b[49m\n\u001b[0;32m     70\u001b[0m \u001b[38;5;28;01mexcept\u001b[39;00m OutputParserException:\n\u001b[0;32m     71\u001b[0m     \u001b[38;5;28;01mif\u001b[39;00m partial:\n",
      "File \u001b[1;32mc:\\Users\\nanar\\Documents\\Python\\AI_frameworks\\LangChain\\venv_langchain\\lib\\site-packages\\langchain_core\\output_parsers\\pydantic.py:37\u001b[0m, in \u001b[0;36mPydanticOutputParser._parse_obj\u001b[1;34m(self, obj)\u001b[0m\n\u001b[0;32m     35\u001b[0m         \u001b[38;5;28;01mraise\u001b[39;00m OutputParserException(msg)\n\u001b[0;32m     36\u001b[0m     \u001b[38;5;28;01mexcept\u001b[39;00m (pydantic\u001b[38;5;241m.\u001b[39mValidationError, pydantic\u001b[38;5;241m.\u001b[39mv1\u001b[38;5;241m.\u001b[39mValidationError) \u001b[38;5;28;01mas\u001b[39;00m e:\n\u001b[1;32m---> 37\u001b[0m         \u001b[38;5;28;01mraise\u001b[39;00m \u001b[38;5;28mself\u001b[39m\u001b[38;5;241m.\u001b[39m_parser_exception(e, obj) \u001b[38;5;28;01mfrom\u001b[39;00m\u001b[38;5;250m \u001b[39m\u001b[38;5;21;01me\u001b[39;00m\n\u001b[0;32m     38\u001b[0m \u001b[38;5;28;01melse\u001b[39;00m:  \u001b[38;5;66;03m# pydantic v1\u001b[39;00m\n\u001b[0;32m     39\u001b[0m     \u001b[38;5;28;01mtry\u001b[39;00m:\n",
      "\u001b[1;31mOutputParserException\u001b[0m: Failed to parse ShortTimeframeData from completion {\"data_timeframe\": 300, \"supports_evaluation\": {\"supports_evaluation\": \"Price found strong support near $150 level\", \"support_interaction_status\": \"PRICE_ABOVE_SUPPORT\", \"support_interaction_implication\": \"TAKE_PROFIT_ZONE\", \"close_support_level\": \"$150.20 (previous resistance)\", \"middle_support_level\": \"$148.50 (EMA 200 day)\", \"far_support_level\": \"$145.80 (previous low)\"}, \"resistances_evaluation\": {\"resistances_evaluation\": \"Resistance zones holding strong\", \"resistance_interaction_status\": \"PRICE_BELOW_RESISTANCE\", \"resistance_interaction_implication\": \"CONFIRMATION_SIGNAL\", \"close_resistance_level\": \"$160.30 (previous high)\", \"middle_resistance_level\": \"$162.80 (EMA 50 day)\", \"far_resistance_level\": \"$165.20 (psychological level)\"}, \"prices_evaluation\": {\"prices_trend\": \"STRONG_BULLISH\", \"prices_trading_action\": \"OUTPERFORM\", \"primary_prices_trend\": \"STRONG_BULLISH\", \"primary_prices_trend_number_of_touches\": 3, \"secondary_prices_trend\": \"BULLISH\", \"secondary_prices_trend_number_of_touches\": 2, \"minor_prices_trend\": \"CONSOLIDATION\", \"minor_prices_trend_number_of_touches\": 1, \"raw_tool_data\": {\"prices_value\": 160.3}, \"prices_trend_evaluation\": \"Price showing strength above resistance zone\", \"chart_pattern\": \"Triple Top Reversal Pattern (confirmed)\", \"potential_chart_pattern\": \"Bullish Flag Pattern (emerging)\", \"candlestick_pattern\": \"Dark Cloud Cover (bearish signal rejected)\", \"potential_candlestick_pattern\": \"Morning Star Pattern (bullish confirmation)\"}, \"indicators\": {\"rsi_evaluation\": null, \"macd_evaluation\": null, \"bollinger_bands_evaluation\": {\"bollinger_bands_trend\": \"STRONG_BULLISH\", \"bollinger_bands_trading_action\": \"BUY\", \"primary_bollinger_bands_trend\": \"STRONG_BULLISH\", \"primary_bollinger_bands_trend_number_of_touches\": 4, \"secondary_bollinger_bands_trend\": \"BULLISH\", \"secondary_bollinger_bands_trend_number_of_touches\": 3, \"minor_bollinger_bands_trend\": \"CONSOLIDATION\", \"minor_bollinger_bands_trend_number_of_touches\": 2, \"raw_tool_data\": {\"bollinger_bands_moving_average_value\": 160.2, \"bollinger_bands_above_standard_deviation_value\": 161.1, \"bollinger_bands_below_standard_deviation_value\": 159.3}}}, \"volumes_evaluation\": {\"volumes_trend\": \"STRONG_BULLISH\", \"volumes_trading_action\": \"OUTPERFORM\", \"primary_volumes_trend\": \"STRONG_BULLISH\", \"primary_volumes_trend_number_of_touches\": 4, \"secondary_volumes_trend\": \"BULLISH\", \"secondary_volumes_trend_number_of_touches\": 3, \"minor_volumes_trend\": \"CONSOLIDATION\", \"minor_volumes_trend_number_of_touches\": 2, \"raw_tool_data\": {\"volumes_value\": 160.3}, \"volumes_trend_evaluation\": \"Volume showing increasing buying pressure\"}, \"short_timeframe_data_synthesis\": {\"conclusion\": \"Strong buy signal with confirmed reversal pattern\", \"synthese_trading_action\": \"BUY\", \"synthese_support_resistance_comment\": \"Price found strong support near $150 level, Resistance zones holding well\", \"synthese_support_resistance_interaction_status\": \"PRICE_ABOVE_SUPPORT\", \"synthese_support_resistance_interaction_implication\": \"TAKE_PROFIT_ZONE\"}}. Got: 2 validation errors for ShortTimeframeData\nsupports_evaluation.raw_tool_data\n  Field required [type=missing, input_value={'supports_evaluation': '...$145.80 (previous low)'}, input_type=dict]\n    For further information visit https://errors.pydantic.dev/2.11/v/missing\nresistances_evaluation.raw_tool_data\n  Field required [type=missing, input_value={'resistances_evaluation'... (psychological level)'}, input_type=dict]\n    For further information visit https://errors.pydantic.dev/2.11/v/missing\nFor troubleshooting, visit: https://python.langchain.com/docs/troubleshooting/errors/OUTPUT_PARSING_FAILURE "
     ]
    }
   ],
   "source": [
    "short_technical_parser = PydanticOutputParser(pydantic_object=ShortTimeframeData)\n",
    "\n",
    "short_prompt_template = ChatPromptTemplate([\n",
    "    SystemMessagePromptTemplate.from_template(template=system_template),\n",
    "    HumanMessagePromptTemplate.from_template(template=\"{stock}\"),\n",
    "    ],\n",
    "    input_variables=[\"stock\"],\n",
    "    partial_variables={\"format_instructions\": short_technical_parser.get_format_instructions(),\n",
    "                    #    \"output_json_schema\": technical_parser._get_schema(pydantic_object=TickerTechnicalAnalysis)\n",
    "                       }\n",
    ")\n",
    "\n",
    "short_chain = short_prompt_template | model | short_technical_parser\n",
    "short_json = short_chain.invoke(invocation)\n",
    "short_json"
   ]
  },
  {
   "cell_type": "code",
   "execution_count": 18,
   "id": "ae72ffd3",
   "metadata": {},
   "outputs": [
    {
     "name": "stdout",
     "output_type": "stream",
     "text": [
      "('{\"data_timeframe\":5,\"supports_evaluation\":{\"evaluation\":\"Strong support '\n",
      " 'levels identified at $130 and '\n",
      " '$135\",\"interaction_status\":\"PRICE_ABOVE_SUPPORT\",\"interaction_implication\":\"TAKE_PROFIT_ZONE\",\"close_level\":\"$130\",\"middle_level\":\"$132.5\",\"far_level\":\"$135\",\"raw_tool_data\":{\"close_value\":130.0,\"middle_value\":132.5,\"far_value\":135.0}},\"resistances_evaluation\":{\"evaluation\":\"Key '\n",
      " 'resistance levels at $165 and '\n",
      " '$170\",\"interaction_status\":\"PRICE_BELOW_RESISTANCE\",\"interaction_implication\":\"STOP_LOSS_ZONE\",\"close_level\":\"$165\",\"middle_level\":\"$167.5\",\"far_level\":\"$170\",\"raw_tool_data\":{\"close_value\":165.0,\"middle_value\":167.5,\"far_value\":170.0}},\"prices_evaluation\":{\"trend\":\"BULLISH\",\"trading_action\":\"BUY\",\"primary_trend\":\"STRONG_BULLISH\",\"primary_trend_number_of_touches\":3,\"secondary_trend\":\"BULLISH\",\"secondary_trend_number_of_touches\":2,\"minor_trend\":\"CONSOLIDATION\",\"minor_trend_number_of_touches\":1,\"raw_tool_data\":{\"prices_value\":155.0},\"trend_evaluation\":\"BULLISH\",\"chart_pattern\":\"Double '\n",
      " 'Bottom Pattern\",\"potential_chart_pattern\":\"Bullish Flag '\n",
      " 'Pattern\",\"candlestick_pattern\":\"Three White '\n",
      " 'Soldiers\",\"potential_candlestick_pattern\":\"Three Black '\n",
      " 'Crows\"},\"indicators\":{\"rsi_evaluation\":null,\"macd_evaluation\":null,\"bollinger_bands_evaluation\":null},\"volumes_evaluation\":{\"trend\":\"INCREASING\",\"trading_action\":\"BUY\",\"primary_trend\":\"STRONG_BULLISH\",\"primary_trend_number_of_touches\":2,\"secondary_trend\":\"BULLISH\",\"secondary_trend_number_of_touches\":1,\"minor_trend\":\"CONSOLIDATION\",\"minor_trend_number_of_touches\":0,\"raw_tool_data\":{\"volumes_value\":2.0},\"trend_evaluation\":\"INCREASING\"},\"short_timeframe_data_synthesis\":{\"conclusion\":\"Strong '\n",
      " 'buy signal for Apple shares with high volume confirmation. Multiple support '\n",
      " 'levels identified and bullish chart '\n",
      " 'patterns.\",\"synthese_remarkable_values\":null,\"synthese_trading_action\":\"BUY\",\"synthese_support_resistance_comment\":\"Key '\n",
      " 'support levels at $130-$135 and resistance zones at '\n",
      " '$165-$170.\",\"synthese_support_resistance_interaction_status\":\"PRICE_ABOVE_SUPPORT\",\"synthese_support_resistance_interaction_implication\":\"TAKE_PROFIT_ZONE\"}}')\n"
     ]
    }
   ],
   "source": [
    "pprint(short_json.model_dump_json())"
   ]
  },
  {
   "cell_type": "code",
   "execution_count": 7,
   "id": "4433c1a5",
   "metadata": {},
   "outputs": [
    {
     "data": {
      "text/plain": [
       "LongTimeframeData(data_timeframe=60, supports_evaluation=SupportEvaluation(evaluation='Strong Support Levels Present', interaction_status=<SupportResistanceInteractionStatus.PRICE_ABOVE_SUPPORT: 'PRICE_ABOVE_SUPPORT'>, interaction_implication=<SupportResistanceInteractionImplication.POTENTIAL_BUY_ZONE: 'POTENTIAL_BUY_ZONE'>, close_level='144.50', middle_level='139.25', far_level='134.00', raw_tool_data=SupportRawToolData(close_value=144.5, middle_value=139.25, far_value=134.0)), resistances_evaluation=ResistanceEvaluation(evaluation='Multiple Resistance Levels Active', interaction_status=<SupportResistanceInteractionStatus.PRICE_BELOW_RESISTANCE: 'PRICE_BELOW_RESISTANCE'>, interaction_implication=<SupportResistanceInteractionImplication.STOP_LOSS_ZONE: 'STOP_LOSS_ZONE'>, close_level='155.75', middle_level='150.50', far_level='145.25', raw_tool_data=ResistanceRawToolData(close_value=155.75, middle_value=150.5, far_value=145.25)), prices_evaluation=PricesEvaluation(trend='BULLISH', trading_action=<TradingActions.OUTPERFORM: 'OUTPERFORM'>, primary_trend=<TrendCategories.STRONG_BULLISH: 'STRONG_BULLISH'>, primary_trend_number_of_touches=5, secondary_trend=<TrendCategories.BEARISH: 'BEARISH'>, secondary_trend_number_of_touches=2, minor_trend=<TrendCategories.CONSOLIDATION: 'CONSOLIDATION'>, minor_trend_number_of_touches=1, raw_tool_data=PRICESRawValue(prices_value=149.5), trend_evaluation='Positive Momentum', chart_pattern='Bullish Flag Pattern Forming', potential_chart_pattern='Ascending Triangle Pattern Developing', candlestick_pattern='Golden Cross Confirmed', potential_candlestick_pattern='Potential Three White Soldiers Pattern'), indicators=Indicators(rsi_evaluation=None, macd_evaluation=None, bollinger_bands_evaluation=None), volumes_evaluation=VolumesEvaluation(trend='BULLISH', trading_action=<TradingActions.OUTPERFORM: 'OUTPERFORM'>, primary_trend=<TrendCategories.STRONG_BULLISH: 'STRONG_BULLISH'>, primary_trend_number_of_touches=4, secondary_trend=<TrendCategories.BEARISH: 'BEARISH'>, secondary_trend_number_of_touches=1, minor_trend=<TrendCategories.CONSOLIDATION: 'CONSOLIDATION'>, minor_trend_number_of_touches=0, raw_tool_data=VOLUMESRawValue(volumes_value=3.5), trend_evaluation='Increasing Volume'), long_timeframe_data_synthesis=Synthesis(conclusion='Overall Bullish Trend with Strong Support Levels and Multiple Resistance Zones', synthese_remarkable_values=None, synthese_trading_action=<TradingActions.BUY: 'BUY'>, synthese_support_resistance_comment='Key support at 144.50 - multiple touches confirmed', synthese_support_resistance_interaction_status=<SupportResistanceInteractionStatus.PRICE_ABOVE_SUPPORT: 'PRICE_ABOVE_SUPPORT'>, synthese_support_resistance_interaction_implication=<SupportResistanceInteractionImplication.POTENTIAL_BUY_ZONE: 'POTENTIAL_BUY_ZONE'>))"
      ]
     },
     "execution_count": 7,
     "metadata": {},
     "output_type": "execute_result"
    }
   ],
   "source": [
    "long_technical_parser = PydanticOutputParser(pydantic_object=LongTimeframeData)\n",
    "\n",
    "long_prompt_template = ChatPromptTemplate([\n",
    "    SystemMessagePromptTemplate.from_template(template=system_template),\n",
    "    HumanMessagePromptTemplate.from_template(template=\"{stock}\"),\n",
    "    ],\n",
    "    input_variables=[\"stock\"],\n",
    "    partial_variables={\"format_instructions\": long_technical_parser.get_format_instructions(),\n",
    "                    #    \"output_json_schema\": technical_parser._get_schema(pydantic_object=TickerTechnicalAnalysis)\n",
    "                       }\n",
    ")\n",
    "\n",
    "long_chain = long_prompt_template | model | long_technical_parser\n",
    "long_json = long_chain.invoke(invocation)\n",
    "long_json"
   ]
  },
  {
   "cell_type": "code",
   "execution_count": 19,
   "id": "5f493798",
   "metadata": {},
   "outputs": [
    {
     "name": "stdout",
     "output_type": "stream",
     "text": [
      "('{\"data_timeframe\":60,\"supports_evaluation\":{\"evaluation\":\"Strong Support '\n",
      " 'Levels '\n",
      " 'Present\",\"interaction_status\":\"PRICE_ABOVE_SUPPORT\",\"interaction_implication\":\"POTENTIAL_BUY_ZONE\",\"close_level\":\"144.50\",\"middle_level\":\"139.25\",\"far_level\":\"134.00\",\"raw_tool_data\":{\"close_value\":144.5,\"middle_value\":139.25,\"far_value\":134.0}},\"resistances_evaluation\":{\"evaluation\":\"Multiple '\n",
      " 'Resistance Levels '\n",
      " 'Active\",\"interaction_status\":\"PRICE_BELOW_RESISTANCE\",\"interaction_implication\":\"STOP_LOSS_ZONE\",\"close_level\":\"155.75\",\"middle_level\":\"150.50\",\"far_level\":\"145.25\",\"raw_tool_data\":{\"close_value\":155.75,\"middle_value\":150.5,\"far_value\":145.25}},\"prices_evaluation\":{\"trend\":\"BULLISH\",\"trading_action\":\"OUTPERFORM\",\"primary_trend\":\"STRONG_BULLISH\",\"primary_trend_number_of_touches\":5,\"secondary_trend\":\"BEARISH\",\"secondary_trend_number_of_touches\":2,\"minor_trend\":\"CONSOLIDATION\",\"minor_trend_number_of_touches\":1,\"raw_tool_data\":{\"prices_value\":149.5},\"trend_evaluation\":\"Positive '\n",
      " 'Momentum\",\"chart_pattern\":\"Bullish Flag Pattern '\n",
      " 'Forming\",\"potential_chart_pattern\":\"Ascending Triangle Pattern '\n",
      " 'Developing\",\"candlestick_pattern\":\"Golden Cross '\n",
      " 'Confirmed\",\"potential_candlestick_pattern\":\"Potential Three White Soldiers '\n",
      " 'Pattern\"},\"indicators\":{\"rsi_evaluation\":null,\"macd_evaluation\":null,\"bollinger_bands_evaluation\":null},\"volumes_evaluation\":{\"trend\":\"BULLISH\",\"trading_action\":\"OUTPERFORM\",\"primary_trend\":\"STRONG_BULLISH\",\"primary_trend_number_of_touches\":4,\"secondary_trend\":\"BEARISH\",\"secondary_trend_number_of_touches\":1,\"minor_trend\":\"CONSOLIDATION\",\"minor_trend_number_of_touches\":0,\"raw_tool_data\":{\"volumes_value\":3.5},\"trend_evaluation\":\"Increasing '\n",
      " 'Volume\"},\"long_timeframe_data_synthesis\":{\"conclusion\":\"Overall Bullish '\n",
      " 'Trend with Strong Support Levels and Multiple Resistance '\n",
      " 'Zones\",\"synthese_remarkable_values\":null,\"synthese_trading_action\":\"BUY\",\"synthese_support_resistance_comment\":\"Key '\n",
      " 'support at 144.50 - multiple touches '\n",
      " 'confirmed\",\"synthese_support_resistance_interaction_status\":\"PRICE_ABOVE_SUPPORT\",\"synthese_support_resistance_interaction_implication\":\"POTENTIAL_BUY_ZONE\"}}')\n"
     ]
    }
   ],
   "source": [
    "pprint(long_json.model_dump_json())"
   ]
  },
  {
   "cell_type": "code",
   "execution_count": 8,
   "id": "13140314",
   "metadata": {},
   "outputs": [],
   "source": [
    "global_system_template = (\"As trading technical analyst expert, your task is to generate the technical analysis report for {stock} at the specified JSON format. \"\n",
    "                   \"The JSON of the short timeframe analysis is {short_json}.\"\n",
    "                   \"The JSON of the long timeframe analysis is {long_json}.\"\n",
    "                   \"Use the data (simulated for the exercice) to generate the technical analysis of {stock} action totally filling the JSON schema described below. \"\n",
    "\n",
    "                   \"The format of your response is CRITICAL and MUST ADHERE EXACTLY to the JSON schema described here:\"\n",
    "                   \"\\n{format_instructions}\\n\"\n",
    "                   \"Once again, the JSON schema described above is CRITICAL and MUST BE RESPECTED.\"\n",
    "                )"
   ]
  },
  {
   "cell_type": "code",
   "execution_count": 9,
   "id": "d142f65c",
   "metadata": {},
   "outputs": [],
   "source": [
    "global_invocation = {\"stock\": \"APPLE\", \"short_json\":short_json.model_dump_json(), \"long_json\":long_json.model_dump_json()}"
   ]
  },
  {
   "cell_type": "code",
   "execution_count": 11,
   "id": "4a90e59e",
   "metadata": {},
   "outputs": [
    {
     "data": {
      "text/plain": [
       "TickerTechnicalAnalysis(name_of_the_company='Apple Inc.', isin_of_the_company='US0378331005', time_of_the_report=datetime.datetime(2023, 8, 16, 10, 0, tzinfo=TzInfo(UTC)), synthesis=Synthesis(conclusion='Strong bullish trend with multiple support levels at $130-$135 and resistance zones at $165-$170. Key technical patterns include a Double Bottom Pattern forming on the short timeframe, while a Bullish Flag Pattern is developing on the long timeframe.', synthese_remarkable_values=None, synthese_trading_action=<TradingActions.BUY: 'BUY'>, synthese_support_resistance_comment='Key support levels at $130-$135 and resistance zones at $165-$170. Multiple touches confirmed on support levels with strong volume confirmation.', synthese_support_resistance_interaction_status=<SupportResistanceInteractionStatus.PRICE_ABOVE_SUPPORT: 'PRICE_ABOVE_SUPPORT'>, synthese_support_resistance_interaction_implication=<SupportResistanceInteractionImplication.TAKE_PROFIT_ZONE: 'TAKE_PROFIT_ZONE'>))"
      ]
     },
     "execution_count": 11,
     "metadata": {},
     "output_type": "execute_result"
    }
   ],
   "source": [
    "global_technical_parser = PydanticOutputParser(pydantic_object=TickerTechnicalAnalysis)\n",
    "\n",
    "global_prompt_template = ChatPromptTemplate([\n",
    "    SystemMessagePromptTemplate.from_template(template=global_system_template),\n",
    "    HumanMessagePromptTemplate.from_template(template=\"{stock}\"),\n",
    "    ],\n",
    "    input_variables=[\"stock\", \"short_json\", \"long_json\"],\n",
    "    partial_variables={\"format_instructions\": global_technical_parser.get_format_instructions(),\n",
    "                    #    \"output_json_schema\": technical_parser._get_schema(pydantic_object=TickerTechnicalAnalysis)\n",
    "                       }\n",
    ")\n",
    "\n",
    "global_chain = global_prompt_template | model | global_technical_parser\n",
    "global_json = global_chain.invoke(global_invocation)\n",
    "global_json"
   ]
  },
  {
   "cell_type": "code",
   "execution_count": null,
   "id": "a0dfc1dd",
   "metadata": {},
   "outputs": [
    {
     "name": "stdout",
     "output_type": "stream",
     "text": [
      "('{\"name_of_the_company\":\"Apple '\n",
      " 'Inc.\",\"isin_of_the_company\":\"US0378331005\",\"time_of_the_report\":\"2023-08-16T10:00:00Z\",\"synthesis\":{\"conclusion\":\"Strong '\n",
      " 'bullish trend with multiple support levels at $130-$135 and resistance zones '\n",
      " 'at $165-$170. Key technical patterns include a Double Bottom Pattern forming '\n",
      " 'on the short timeframe, while a Bullish Flag Pattern is developing on the '\n",
      " 'long '\n",
      " 'timeframe.\",\"synthese_remarkable_values\":null,\"synthese_trading_action\":\"BUY\",\"synthese_support_resistance_comment\":\"Key '\n",
      " 'support levels at $130-$135 and resistance zones at $165-$170. Multiple '\n",
      " 'touches confirmed on support levels with strong volume '\n",
      " 'confirmation.\",\"synthese_support_resistance_interaction_status\":\"PRICE_ABOVE_SUPPORT\",\"synthese_support_resistance_interaction_implication\":\"TAKE_PROFIT_ZONE\"}}')\n"
     ]
    }
   ],
   "source": [
    "pprint(global_json.model_dump_json())"
   ]
  },
  {
   "cell_type": "code",
   "execution_count": null,
   "id": "e27d75c9",
   "metadata": {},
   "outputs": [],
   "source": []
  }
 ],
 "metadata": {
  "kernelspec": {
   "display_name": "venv_langchain",
   "language": "python",
   "name": "python3"
  },
  "language_info": {
   "codemirror_mode": {
    "name": "ipython",
    "version": 3
   },
   "file_extension": ".py",
   "mimetype": "text/x-python",
   "name": "python",
   "nbconvert_exporter": "python",
   "pygments_lexer": "ipython3",
   "version": "3.10.16"
  }
 },
 "nbformat": 4,
 "nbformat_minor": 5
}
