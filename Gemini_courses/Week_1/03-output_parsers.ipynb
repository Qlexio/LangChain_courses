{
 "cells": [
  {
   "cell_type": "markdown",
   "id": "519371b6",
   "metadata": {},
   "source": [
    "# Output parsers\n",
    "\n",
    "https://python.langchain.com/docs/how_to/output_parser_structured/"
   ]
  },
  {
   "cell_type": "code",
   "execution_count": 1,
   "id": "f9466333",
   "metadata": {},
   "outputs": [],
   "source": [
    "from langchain_ollama import ChatOllama\n",
    "\n",
    "DEEP_THINKING_INSTRUCTION = \"Enable deep thinking subroutine.\\n\\n\""
   ]
  },
  {
   "cell_type": "code",
   "execution_count": 2,
   "id": "386e7e49",
   "metadata": {},
   "outputs": [],
   "source": [
    "model = ChatOllama(model=\"cogito:8b\", num_gpu=256)"
   ]
  },
  {
   "cell_type": "code",
   "execution_count": null,
   "id": "6687ad1b",
   "metadata": {},
   "outputs": [],
   "source": [
    "from langchain_core.output_parsers import PydanticOutputParser\n",
    "from langchain_core.prompts import PromptTemplate\n",
    "from pydantic import BaseModel, Field, model_validator"
   ]
  },
  {
   "cell_type": "code",
   "execution_count": 4,
   "id": "f196ef72",
   "metadata": {},
   "outputs": [],
   "source": [
    "class Joke(BaseModel):\n",
    "    setup: str = Field(description=\"question to set up a joke\")\n",
    "    punchline: str = Field(description=\"answer to resolve the joke\")\n",
    "\n",
    "    @model_validator(mode=\"before\")\n",
    "    @classmethod\n",
    "    def question_ends_with_question_mark(cls, values: dict) -> dict:\n",
    "        setup = values.get(\"setup\")\n",
    "        if setup and setup[-1] != \"?\":\n",
    "            raise ValueError(\"Badly formed question!\")\n",
    "        return values"
   ]
  },
  {
   "cell_type": "code",
   "execution_count": 5,
   "id": "f89feffb",
   "metadata": {},
   "outputs": [],
   "source": [
    "parser = PydanticOutputParser(pydantic_object=Joke)"
   ]
  },
  {
   "cell_type": "code",
   "execution_count": 8,
   "id": "d8d36414",
   "metadata": {},
   "outputs": [],
   "source": [
    "prompt = PromptTemplate(\n",
    "    template=\"Answer the user query.\\n{format_instructions}\\n{query}\\n\",\n",
    "    input_variables=[\"query\"],\n",
    "    partial_variables={\"format_instructions\": parser.get_format_instructions()},\n",
    ")"
   ]
  },
  {
   "cell_type": "code",
   "execution_count": 9,
   "id": "9bbbc0c5",
   "metadata": {},
   "outputs": [
    {
     "data": {
      "text/plain": [
       "Joke(setup='Why did the chicken cross the road?', punchline='To get to the other side!')"
      ]
     },
     "execution_count": 9,
     "metadata": {},
     "output_type": "execute_result"
    }
   ],
   "source": [
    "prompt_and_model = prompt | model\n",
    "output = prompt_and_model.invoke({\"query\": \"Tell me a joke.\"})\n",
    "parser.invoke(output)"
   ]
  },
  {
   "cell_type": "code",
   "execution_count": 10,
   "id": "6e7a839f",
   "metadata": {},
   "outputs": [
    {
     "data": {
      "text/plain": [
       "AIMessage(content='{\\n    \"setup\": \"Why did the chicken cross the road?\",\\n    \"punchline\": \"To get to the other side!\"\\n}', additional_kwargs={}, response_metadata={'model': 'cogito:8b', 'created_at': '2025-05-03T15:00:11.2521054Z', 'done': True, 'done_reason': 'stop', 'total_duration': 1162762900, 'load_duration': 26024300, 'prompt_eval_count': 209, 'prompt_eval_duration': 215991800, 'eval_count': 30, 'eval_duration': 920225500, 'model_name': 'cogito:8b'}, id='run-2a262d47-e1b2-424c-9421-6a165d0b55f6-0', usage_metadata={'input_tokens': 209, 'output_tokens': 30, 'total_tokens': 239})"
      ]
     },
     "execution_count": 10,
     "metadata": {},
     "output_type": "execute_result"
    }
   ],
   "source": [
    "output"
   ]
  },
  {
   "cell_type": "code",
   "execution_count": 11,
   "id": "79d53995",
   "metadata": {},
   "outputs": [
    {
     "data": {
      "text/plain": [
       "Joke(setup='What did one neuron say to the other?', punchline='Nothing, they just passed along a signal.')"
      ]
     },
     "execution_count": 11,
     "metadata": {},
     "output_type": "execute_result"
    }
   ],
   "source": [
    "chain = prompt | model | parser\n",
    "chain.invoke({\"query\": \"Teach me something as question.\"})"
   ]
  },
  {
   "cell_type": "code",
   "execution_count": 12,
   "id": "a8abaf73",
   "metadata": {},
   "outputs": [
    {
     "data": {
      "text/plain": [
       "[Joke(setup=\"Why did the tech company's CEO only own one pair of shoes?\", punchline=''),\n",
       " Joke(setup=\"Why did the tech company's CEO only own one pair of shoes?\", punchline='Because'),\n",
       " Joke(setup=\"Why did the tech company's CEO only own one pair of shoes?\", punchline='Because every'),\n",
       " Joke(setup=\"Why did the tech company's CEO only own one pair of shoes?\", punchline='Because every time'),\n",
       " Joke(setup=\"Why did the tech company's CEO only own one pair of shoes?\", punchline='Because every time they'),\n",
       " Joke(setup=\"Why did the tech company's CEO only own one pair of shoes?\", punchline='Because every time they thought'),\n",
       " Joke(setup=\"Why did the tech company's CEO only own one pair of shoes?\", punchline='Because every time they thought they'),\n",
       " Joke(setup=\"Why did the tech company's CEO only own one pair of shoes?\", punchline='Because every time they thought they needed'),\n",
       " Joke(setup=\"Why did the tech company's CEO only own one pair of shoes?\", punchline='Because every time they thought they needed a'),\n",
       " Joke(setup=\"Why did the tech company's CEO only own one pair of shoes?\", punchline='Because every time they thought they needed a new'),\n",
       " Joke(setup=\"Why did the tech company's CEO only own one pair of shoes?\", punchline='Because every time they thought they needed a new pair'),\n",
       " Joke(setup=\"Why did the tech company's CEO only own one pair of shoes?\", punchline='Because every time they thought they needed a new pair,'),\n",
       " Joke(setup=\"Why did the tech company's CEO only own one pair of shoes?\", punchline='Because every time they thought they needed a new pair, it'),\n",
       " Joke(setup=\"Why did the tech company's CEO only own one pair of shoes?\", punchline='Because every time they thought they needed a new pair, it turned'),\n",
       " Joke(setup=\"Why did the tech company's CEO only own one pair of shoes?\", punchline='Because every time they thought they needed a new pair, it turned out'),\n",
       " Joke(setup=\"Why did the tech company's CEO only own one pair of shoes?\", punchline='Because every time they thought they needed a new pair, it turned out to'),\n",
       " Joke(setup=\"Why did the tech company's CEO only own one pair of shoes?\", punchline='Because every time they thought they needed a new pair, it turned out to be'),\n",
       " Joke(setup=\"Why did the tech company's CEO only own one pair of shoes?\", punchline='Because every time they thought they needed a new pair, it turned out to be a'),\n",
       " Joke(setup=\"Why did the tech company's CEO only own one pair of shoes?\", punchline='Because every time they thought they needed a new pair, it turned out to be a software'),\n",
       " Joke(setup=\"Why did the tech company's CEO only own one pair of shoes?\", punchline='Because every time they thought they needed a new pair, it turned out to be a software update'),\n",
       " Joke(setup=\"Why did the tech company's CEO only own one pair of shoes?\", punchline='Because every time they thought they needed a new pair, it turned out to be a software update!')]"
      ]
     },
     "execution_count": 12,
     "metadata": {},
     "output_type": "execute_result"
    }
   ],
   "source": [
    "list(chain.stream({\"query\": \"Tech me something weird a lot!\"}))"
   ]
  },
  {
   "cell_type": "code",
   "execution_count": null,
   "id": "890e5b24",
   "metadata": {},
   "outputs": [],
   "source": []
  }
 ],
 "metadata": {
  "kernelspec": {
   "display_name": "venv_langchain",
   "language": "python",
   "name": "python3"
  },
  "language_info": {
   "codemirror_mode": {
    "name": "ipython",
    "version": 3
   },
   "file_extension": ".py",
   "mimetype": "text/x-python",
   "name": "python",
   "nbconvert_exporter": "python",
   "pygments_lexer": "ipython3",
   "version": "3.10.16"
  }
 },
 "nbformat": 4,
 "nbformat_minor": 5
}
