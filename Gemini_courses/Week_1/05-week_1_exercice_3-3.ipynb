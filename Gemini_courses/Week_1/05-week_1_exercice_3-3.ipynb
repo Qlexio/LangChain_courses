{
 "cells": [
  {
   "cell_type": "markdown",
   "id": "1b3e6f08",
   "metadata": {},
   "source": [
    "# Week 1 - Exercice 3\n",
    "\n",
    "Appliquer les ajustements Pydantic :\n",
    "* Rends raw_tool_data optionnel dans create_generic_evaluation_model.\n",
    "* Valide la stratégie de décomposition pour Indicators en créant des chaînes séparées pour RSIEvaluation, MACDEvaluation, et BOLLINGER_BANDSEvaluation avant de les agréger dans Indicators. Cela devrait résoudre le problème de parsing pour Indicators.\n",
    "* Tu peux t'inspirer de la manière dont tu as injecté les JSONs partiels dans le prompt pour ShortTimeframeData.\n",
    "\n",
    "Une fois que la génération de Indicators est fonctionnelle et que tu es satisfait de la robustesse de la structure technique complète (au moins pour ShortTimeframeData), nous pourrons considérer ce point comme validé."
   ]
  },
  {
   "cell_type": "code",
   "execution_count": 1,
   "id": "a8a363d7",
   "metadata": {},
   "outputs": [],
   "source": [
    "import sys\n",
    "\n",
    "sys.path.append(\"../\")\n",
    "\n",
    "from agents.technical_analyst.technical_analysis_LLM_logic import TechnicalAnalysisLLMLogic"
   ]
  },
  {
   "cell_type": "code",
   "execution_count": 2,
   "id": "8816624d",
   "metadata": {},
   "outputs": [],
   "source": [
    "technical_logic = TechnicalAnalysisLLMLogic()"
   ]
  },
  {
   "cell_type": "code",
   "execution_count": 3,
   "id": "5a16c591",
   "metadata": {},
   "outputs": [],
   "source": [
    "# technical_logic.indicators_output_parser(\"5 minutes\")"
   ]
  },
  {
   "cell_type": "code",
   "execution_count": 4,
   "id": "3ee080f3",
   "metadata": {},
   "outputs": [],
   "source": [
    "# technical_logic.indicators_output_parser(\"5 minutes\")"
   ]
  },
  {
   "cell_type": "code",
   "execution_count": 5,
   "id": "07e50a43",
   "metadata": {},
   "outputs": [
    {
     "name": "stdout",
     "output_type": "stream",
     "text": [
      "**  short_timeframe_data  =>  5 minutes\n",
      "\t**  support\n",
      "\t\t\tTime: 4.513\n",
      "\t**  resistance\n",
      "\t\t\tTime: 3.414\n",
      "\t**  prices\n",
      "\t\t\tTime: 4.256\n",
      "\t**  indicators\n",
      "\t\t**  rsi\n",
      "\t\t\tTime: 3.222\n",
      "\t\t**  macd\n",
      "\t\t\tTime: 4.253\n",
      "\t\t**  bollinger_bands\n",
      "\t\t\tTime: 5.004\n",
      "\t** indicators gathering\n",
      "\t\t\tTime: 13.556\n",
      "\t**  volumes\n",
      "\t\t\tTime: 5.304\n",
      "\t**  synthesis\n",
      "\t\t\tTime: 56.563\n",
      "**  long_timeframe_data  =>  1 hour\n",
      "\t**  support\n",
      "\t\t\tTime: 3.672\n",
      "\t**  resistance\n",
      "\t\t\tTime: 4.336\n",
      "\t**  prices\n",
      "\t\t\tTime: 4.91\n",
      "\t**  indicators\n",
      "\t\t**  rsi\n",
      "\t\t\tTime: 3.707\n",
      "\t\t**  macd\n",
      "\t\t\tTime: 4.3\n",
      "\t\t**  bollinger_bands\n",
      "\t\t\tTime: 4.563\n",
      "\t** indicators gathering\n",
      "\t\t\tTime: 13.655\n",
      "\t**  volumes\n",
      "\t\t\tTime: 3.432\n",
      "\t**  synthesis\n",
      "\t\t\tTime: 57.368\n",
      "\n",
      "Ticker Ananlysis\n",
      "\n",
      "\t\t\tTime: 49.775\n"
     ]
    }
   ],
   "source": [
    "output = technical_logic.tickers_output_parser(timeframe=[\"5 minutes\", \"1 hour\"])"
   ]
  },
  {
   "cell_type": "code",
   "execution_count": 6,
   "id": "85c5cd96",
   "metadata": {},
   "outputs": [
    {
     "name": "stdout",
     "output_type": "stream",
     "text": [
      "TickerTechnicalAnalysis(name_of_the_company='Apple Inc.', isin_of_the_company='US0378331005', time_of_the_report=datetime.datetime(2023, 6, 20, 12, 0, tzinfo=TzInfo(UTC)), short_timeframe_data=ShortTimeframeData(data_timeframe=1, supports_evaluation=SupportEvaluation(evaluation='Yes', interaction_status=<SupportResistanceInteractionStatus.PRICE_ABOVE_SUPPORT: 'PRICE_ABOVE_SUPPORT'>, interaction_implication=<SupportResistanceInteractionImplication.STOP_LOSS_ZONE: 'STOP_LOSS_ZONE'>, close_level='/support/', middle_level='/support2/', far_level='/support3/', raw_tool_data=None), resistances_evaluation=ResistanceEvaluation(evaluation='Yes', interaction_status=<SupportResistanceInteractionStatus.PRICE_BELOW_RESISTANCE: 'PRICE_BELOW_RESISTANCE'>, interaction_implication=<SupportResistanceInteractionImplication.TAKE_PROFIT_ZONE: 'TAKE_PROFIT_ZONE'>, close_level='/resistance/', middle_level='/resistance2/', far_level='/resistance3/', raw_tool_data=None), prices_evaluation=PricesEvaluation(trend='UP_TREND', trading_action=<TradingActions.BUY: 'BUY'>, primary_trend=<TrendCategories.BULLISH: 'BULLISH'>, primary_trend_number_of_touches=8, secondary_trend=<TrendCategories.BEARISH: 'BEARISH'>, secondary_trend_number_of_touches=3, minor_trend=<TrendCategories.CONSOLIDATION: 'CONSOLIDATION'>, minor_trend_number_of_touches=0, raw_tool_data=None, trend_evaluation='/evaluate/', chart_pattern='UPWARD_CHANNEL', potential_chart_pattern='/chart_pattern/evaluate/', candlestick_pattern='BULLISH_ENVELOPE', potential_candlestick_pattern='/candlestick_pattern/evaluate/'), indicators=Indicators(rsi_evaluation=None, macd_evaluation=MacdEvaluation(trend='POSITIVE', trading_action=<TradingActions.BUY: 'BUY'>, primary_trend=<TrendCategories.BULLISH: 'BULLISH'>, primary_trend_number_of_touches=8, secondary_trend=<TrendCategories.BEARISH: 'BEARISH'>, secondary_trend_number_of_touches=3, minor_trend=<TrendCategories.CONSOLIDATION: 'CONSOLIDATION'>, minor_trend_number_of_touches=0, raw_tool_data=MACDRawValues(short_moving_average_value=160.0, long_moving_average_value=166.0, signal_value=-3.0)), bollinger_bands_evaluation=Bollinger_bandsEvaluation(trend='OUTSIED', trading_action=<TradingActions.BUY: 'BUY'>, primary_trend=<TrendCategories.BULLISH: 'BULLISH'>, primary_trend_number_of_touches=8, secondary_trend=<TrendCategories.BEARISH: 'BEARISH'>, secondary_trend_number_of_touches=3, minor_trend=<TrendCategories.CONSOLIDATION: 'CONSOLIDATION'>, minor_trend_number_of_touches=0, raw_tool_data=BollignerBandsRawValues(bollinger_bands_moving_average_value=165.0, bollinger_bands_above_standard_deviation_value=172.0, bollinger_bands_below_standard_deviation_value=158.0))), volumes_evaluation=VolumesEvaluation(trend='INCREASING', trading_action=<TradingActions.BUY: 'BUY'>, primary_trend=<TrendCategories.BULLISH: 'BULLISH'>, primary_trend_number_of_touches=8, secondary_trend=<TrendCategories.BEARISH: 'BEARISH'>, secondary_trend_number_of_touches=3, minor_trend=<TrendCategories.CONSOLIDATION: 'CONSOLIDATION'>, minor_trend_number_of_touches=0, raw_tool_data=None, trend_evaluation='/evaluate/'), short_timeframe_data_synthesis=Synthesis(conclusion='Strong Buy', synthese_remarkable_values={'candlestick_pattern': 'BULLISH_ENVELOPE', 'macd_trend': 'POSITIVE', 'volume_trend': 'INCREASING'}, synthese_trading_action=<TradingActions.BUY: 'BUY'>, synthese_support_resistance_comment='Use the support levels for stop loss and resistances for take profit', synthese_support_resistance_interaction_status=<SupportResistanceInteractionStatus.PRICE_ABOVE_SUPPORT: 'PRICE_ABOVE_SUPPORT'>, synthese_support_resistance_interaction_implication=<SupportResistanceInteractionImplication.STOP_LOSS_ZONE: 'STOP_LOSS_ZONE'>)), long_timeframe_data=LongTimeframeData(data_timeframe=3, supports_evaluation=SupportEvaluation(evaluation='Yes', interaction_status=<SupportResistanceInteractionStatus.PRICE_ABOVE_SUPPORT: 'PRICE_ABOVE_SUPPORT'>, interaction_implication=<SupportResistanceInteractionImplication.STOP_LOSS_ZONE: 'STOP_LOSS_ZONE'>, close_level='/support/', middle_level='/support2/', far_level='/support3/', raw_tool_data=None), resistances_evaluation=ResistanceEvaluation(evaluation='Yes', interaction_status=<SupportResistanceInteractionStatus.PRICE_BELOW_RESISTANCE: 'PRICE_BELOW_RESISTANCE'>, interaction_implication=<SupportResistanceInteractionImplication.TAKE_PROFIT_ZONE: 'TAKE_PROFIT_ZONE'>, close_level='/resistance/', middle_level='/resistance2/', far_level='/resistance3/', raw_tool_data=None), prices_evaluation=PricesEvaluation(trend='UP_TREND', trading_action=<TradingActions.BUY: 'BUY'>, primary_trend=<TrendCategories.BULLISH: 'BULLISH'>, primary_trend_number_of_touches=8, secondary_trend=<TrendCategories.BEARISH: 'BEARISH'>, secondary_trend_number_of_touches=3, minor_trend=<TrendCategories.CONSOLIDATION: 'CONSOLIDATION'>, minor_trend_number_of_touches=0, raw_tool_data=None, trend_evaluation='/evaluate/', chart_pattern='UPWARD_CHANNEL', potential_chart_pattern='/chart_pattern/evaluate/', candlestick_pattern='BULLISH_ENVELOPE', potential_candlestick_pattern='/candlestick_pattern/evaluate/'), indicators=Indicators(rsi_evaluation=None, macd_evaluation=MacdEvaluation(trend='POSITIVE', trading_action=<TradingActions.BUY: 'BUY'>, primary_trend=<TrendCategories.BULLISH: 'BULLISH'>, primary_trend_number_of_touches=8, secondary_trend=<TrendCategories.BEARISH: 'BEARISH'>, secondary_trend_number_of_touches=3, minor_trend=<TrendCategories.CONSOLIDATION: 'CONSOLIDATION'>, minor_trend_number_of_touches=0, raw_tool_data=MACDRawValues(short_moving_average_value=160.0, long_moving_average_value=166.0, signal_value=-3.0)), bollinger_bands_evaluation=Bollinger_bandsEvaluation(trend='OUTSIED', trading_action=<TradingActions.BUY: 'BUY'>, primary_trend=<TrendCategories.BULLISH: 'BULLISH'>, primary_trend_number_of_touches=8, secondary_trend=<TrendCategories.BEARISH: 'BEARISH'>, secondary_trend_number_of_touches=3, minor_trend=<TrendCategories.CONSOLIDATION: 'CONSOLIDATION'>, minor_trend_number_of_touches=0, raw_tool_data=BollignerBandsRawValues(bollinger_bands_moving_average_value=165.0, bollinger_bands_above_standard_deviation_value=172.0, bollinger_bands_below_standard_deviation_value=158.0))), volumes_evaluation=VolumesEvaluation(trend='INCREASING', trading_action=<TradingActions.BUY: 'BUY'>, primary_trend=<TrendCategories.BULLISH: 'BULLISH'>, primary_trend_number_of_touches=8, secondary_trend=<TrendCategories.BEARISH: 'BEARISH'>, secondary_trend_number_of_touches=3, minor_trend=<TrendCategories.CONSOLIDATION: 'CONSOLIDATION'>, minor_trend_number_of_touches=0, raw_tool_data=None, trend_evaluation='/evaluate/'), long_timeframe_data_synthesis=Synthesis(conclusion='Strong Buy', synthese_remarkable_values={'candlestick_pattern': 'BULLISH_ENVELOPE', 'macd_trend': 'POSITIVE', 'volume_trend': 'INCREASING'}, synthese_trading_action=<TradingActions.BUY: 'BUY'>, synthese_support_resistance_comment='Use the support levels for stop loss and resistances for take profit', synthese_support_resistance_interaction_status=<SupportResistanceInteractionStatus.PRICE_ABOVE_SUPPORT: 'PRICE_ABOVE_SUPPORT'>, synthese_support_resistance_interaction_implication=<SupportResistanceInteractionImplication.STOP_LOSS_ZONE: 'STOP_LOSS_ZONE'>)), synthesis=Synthesis(conclusion='Strong Buy', synthese_remarkable_values={'candlestick_pattern': 'BULLISH_ENVELOPE', 'macd_trend': 'POSITIVE', 'volume_trend': 'INCREASING'}, synthese_trading_action=<TradingActions.BUY: 'BUY'>, synthese_support_resistance_comment='Use the support levels for stop loss and resistances for take profit', synthese_support_resistance_interaction_status=<SupportResistanceInteractionStatus.PRICE_ABOVE_SUPPORT: 'PRICE_ABOVE_SUPPORT'>, synthese_support_resistance_interaction_implication=<SupportResistanceInteractionImplication.STOP_LOSS_ZONE: 'STOP_LOSS_ZONE'>))\n"
     ]
    }
   ],
   "source": [
    "import pprint\n",
    "\n",
    "pprint.pprint(output)"
   ]
  },
  {
   "cell_type": "code",
   "execution_count": 7,
   "id": "c24ce2b3",
   "metadata": {},
   "outputs": [
    {
     "data": {
      "text/plain": [
       "249.80299999999997"
      ]
     },
     "execution_count": 7,
     "metadata": {},
     "output_type": "execute_result"
    }
   ],
   "source": [
    "timer_sum = sum(technical_logic.timers)\n",
    "timer_sum"
   ]
  },
  {
   "cell_type": "code",
   "execution_count": 8,
   "id": "4524cf2e",
   "metadata": {},
   "outputs": [
    {
     "data": {
      "text/plain": [
       "13.147526315789472"
      ]
     },
     "execution_count": 8,
     "metadata": {},
     "output_type": "execute_result"
    }
   ],
   "source": [
    "mean_timer = timer_sum / len(technical_logic.timers)\n",
    "mean_timer"
   ]
  },
  {
   "cell_type": "code",
   "execution_count": null,
   "id": "2bdff96a",
   "metadata": {},
   "outputs": [],
   "source": []
  }
 ],
 "metadata": {
  "kernelspec": {
   "display_name": "venv_langchain",
   "language": "python",
   "name": "python3"
  },
  "language_info": {
   "codemirror_mode": {
    "name": "ipython",
    "version": 3
   },
   "file_extension": ".py",
   "mimetype": "text/x-python",
   "name": "python",
   "nbconvert_exporter": "python",
   "pygments_lexer": "ipython3",
   "version": "3.10.16"
  }
 },
 "nbformat": 4,
 "nbformat_minor": 5
}
