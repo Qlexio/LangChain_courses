{
 "cells": [
  {
   "cell_type": "markdown",
   "id": "2602baf6",
   "metadata": {},
   "source": [
    "# Week 1 - Exercice 3\n",
    "\n",
    "Rework outparsers to smaller tasks then review LCEL and RetryWithErrorOutputParser"
   ]
  },
  {
   "cell_type": "code",
   "execution_count": 1,
   "id": "265446e8",
   "metadata": {},
   "outputs": [],
   "source": [
    "from langchain_ollama import ChatOllama\n",
    "from langchain_core.prompts import ChatPromptTemplate, HumanMessagePromptTemplate, SystemMessagePromptTemplate, PromptTemplate\n",
    "from langchain_core.output_parsers import PydanticOutputParser\n",
    "from langchain.output_parsers.retry import RetryWithErrorOutputParser, NAIVE_RETRY_WITH_ERROR_PROMPT\n",
    "from langchain_core.runnables import RunnableParallel, RunnableLambda\n",
    "\n",
    "import re"
   ]
  },
  {
   "cell_type": "code",
   "execution_count": 2,
   "id": "7ff5845f",
   "metadata": {},
   "outputs": [],
   "source": [
    "import sys\n",
    "\n",
    "sys.path.append(\"../\")\n",
    "\n",
    "import agents.technical_analyst.technical_analysis_pydantic_model as _pydantic_models"
   ]
  },
  {
   "cell_type": "code",
   "execution_count": 3,
   "id": "83c0b3f0",
   "metadata": {},
   "outputs": [],
   "source": [
    "MODEL = \"cogito:8b\"\n",
    "# MODEL = \"adeelahmad/ReasonableLLAMA-Jr-3b:latest\"\n",
    "DEEP_THINKING_INSTRUCTION = \"Enable deep thinking subroutine.\\n\\n\"\n",
    "invocation = {\"stock\": \"APPLE\", \"timeframe\": \"5 minutes\"}"
   ]
  },
  {
   "cell_type": "code",
   "execution_count": 4,
   "id": "571f3f38",
   "metadata": {},
   "outputs": [
    {
     "data": {
      "text/plain": [
       "'Enable deep thinking subroutine.\\n\\nPrompt:\\n{prompt}\\nCompletion:\\n{completion}\\n\\nAbove, the Completion did not satisfy the constraints given in the Prompt.\\nDetails: {error}\\nYOU MUST RESPECT THE SCHEMA PROVIDED IN THE PROMPT.\\nPlease try again:'"
      ]
     },
     "execution_count": 4,
     "metadata": {},
     "output_type": "execute_result"
    }
   ],
   "source": [
    "RETRY_PROMPT_TEMPLATE = NAIVE_RETRY_WITH_ERROR_PROMPT.template.split(\"\\n\")\n",
    "RETRY_PROMPT_TEMPLATE = RETRY_PROMPT_TEMPLATE[:-1] + [\"YOU MUST RESPECT THE SCHEMA PROVIDED IN THE PROMPT.\"] + RETRY_PROMPT_TEMPLATE[-1:]\n",
    "RETRY_PROMPT_TEMPLATE = DEEP_THINKING_INSTRUCTION + \"\\n\".join(RETRY_PROMPT_TEMPLATE)\n",
    "RETRY_PROMPT_TEMPLATE"
   ]
  },
  {
   "cell_type": "code",
   "execution_count": 5,
   "id": "664d8ed0",
   "metadata": {},
   "outputs": [],
   "source": [
    "model = ChatOllama(model=MODEL, num_gpu=256, num_ctx=4092 * 0.5, num_predict=1000 * 1)  # , extract_reasoning=True)\n",
    "error_model = ChatOllama(model=MODEL, num_gpu=256, num_ctx=4092 * 2, num_predict=1000 * 2)"
   ]
  },
  {
   "cell_type": "code",
   "execution_count": 6,
   "id": "dd071af4",
   "metadata": {},
   "outputs": [],
   "source": [
    "system_template = DEEP_THINKING_INSTRUCTION + (\"As trading technical analyst expert, your task is to generate the technical analysis report for {stock} at the specified JSON format. \"\n",
    "                   \"Use the data (simulated for the exercice) to generate the technical analysis of {stock} action totally filling the JSON schema described below. \"\n",
    "                   \"The timeframe of {stock} data is {timeframe}. \"\n",
    "\n",
    "                   \"The format of your response is CRITICAL and MUST ADHERE EXACTLY to the JSON schema described here:\"\n",
    "                   \"\\n{format_instructions}\\n\"\n",
    "                   \"Thus, You MUST RESPECT the type of JSON schema entries. \"\n",
    "                   \"Once again, the JSON schema described above is CRITICAL and MUST BE RESPECTED.\"\n",
    "                )"
   ]
  },
  {
   "cell_type": "markdown",
   "id": "035534d6",
   "metadata": {},
   "source": [
    "### SUPPORTEvaluation"
   ]
  },
  {
   "cell_type": "code",
   "execution_count": 7,
   "id": "890e7899",
   "metadata": {},
   "outputs": [
    {
     "data": {
      "text/plain": [
       "SupportEvaluation(evaluation='Bullish Trend Detected', interaction_status=<SupportResistanceInteractionStatus.PRICE_ABOVE_SUPPORT: 'PRICE_ABOVE_SUPPORT'>, interaction_implication=<SupportResistanceInteractionImplication.POTENTIAL_BUY_ZONE: 'POTENTIAL_BUY_ZONE'>, close_level='Close Support Level - 123.45 (Strong Support)', middle_level='Middle Support Level - 124.56 (Moderate Support)', far_level='Far Support Level - 125.67 (Weak Support)', raw_tool_data=SupportRawToolData(close_value=123.45, middle_value=124.56, far_value=125.67))"
      ]
     },
     "execution_count": 7,
     "metadata": {},
     "output_type": "execute_result"
    }
   ],
   "source": [
    "support_evaluation_parser = PydanticOutputParser(pydantic_object=_pydantic_models.SUPPORTEvaluation)\n",
    "\n",
    "support_prompt_template = ChatPromptTemplate([\n",
    "    SystemMessagePromptTemplate.from_template(template=system_template),\n",
    "    HumanMessagePromptTemplate.from_template(template=\"{stock}\"),\n",
    "    ],\n",
    "    input_variables=[\"stock\", \"timeframe\"],\n",
    "    partial_variables={\"format_instructions\": support_evaluation_parser.get_format_instructions()}\n",
    ")\n",
    "\n",
    "support_retry_parser = RetryWithErrorOutputParser(\n",
    "    parser=support_evaluation_parser,\n",
    "    retry_chain = PromptTemplate.from_template(RETRY_PROMPT_TEMPLATE) | error_model | (lambda response:  response.content),\n",
    "    max_retries=10,\n",
    ")\n",
    "\n",
    "tmp_model = model.with_structured_output(_pydantic_models.SUPPORTEvaluation)\n",
    "\n",
    "support_completion_chain = support_prompt_template | tmp_model  # | RunnableLambda(lambda response: re.sub(r\"<think>[\\n\\W\\w]+</think>\", \"\", response.content))\n",
    "\n",
    "support_completion_chain.invoke(invocation)\n",
    "\n",
    "# support_chain = RunnableParallel(\n",
    "#     completion=support_completion_chain, prompt_value=support_prompt_template\n",
    "# ) | RunnableLambda(lambda response: support_retry_parser.parse_with_prompt(**response))\n",
    "\n",
    "# support_json = support_chain.invoke(invocation)\n",
    "# support_json"
   ]
  },
  {
   "cell_type": "markdown",
   "id": "c2cc18f4",
   "metadata": {},
   "source": [
    "### RESISTANCEEvaluation"
   ]
  },
  {
   "cell_type": "code",
   "execution_count": 8,
   "id": "be7ec118",
   "metadata": {},
   "outputs": [
    {
     "data": {
      "text/plain": [
       "ResistanceEvaluation(evaluation='Strong bullish pressure evident near upper resistances, potential short-selling zones forming around closest resistance.', interaction_status=<SupportResistanceInteractionStatus.TESTING_SUPPORT: 'TESTING_SUPPORT'>, interaction_implication=<SupportResistanceInteractionImplication.POTENTIAL_BUY_ZONE: 'POTENTIAL_BUY_ZONE'>, close_level='$162.45 - Possible selling zone for active traders with stop-loss orders near this level.', middle_level='$165.75 - Strong support potential if price stabilizes here, likely to attract buyers on dips.', far_level='$169.15 - Less immediate impact unless strong upward momentum develops, may act as secondary resistance point.', raw_tool_data=ResistanceRawToolData(close_value=162.45, middle_value=165.75, far_value=169.15))"
      ]
     },
     "execution_count": 8,
     "metadata": {},
     "output_type": "execute_result"
    }
   ],
   "source": [
    "resistance_evaluation_parser = PydanticOutputParser(pydantic_object=_pydantic_models.RESISTANCEEvaluation)\n",
    "\n",
    "resistance_prompt_template = ChatPromptTemplate([\n",
    "    SystemMessagePromptTemplate.from_template(template=system_template),\n",
    "    HumanMessagePromptTemplate.from_template(template=\"{stock}\"),\n",
    "    ],\n",
    "    input_variables=[\"stock\", \"timeframe\"],\n",
    "    partial_variables={\"format_instructions\": resistance_evaluation_parser.get_format_instructions()}\n",
    ")\n",
    "\n",
    "resistance_retry_parser = RetryWithErrorOutputParser(\n",
    "    parser=resistance_evaluation_parser,\n",
    "    retry_chain = PromptTemplate.from_template(RETRY_PROMPT_TEMPLATE) | error_model | (lambda response:  response.content),\n",
    "    max_retries=10,\n",
    ")\n",
    "\n",
    "resistance_completion_chain = resistance_prompt_template | model | RunnableLambda(lambda response: re.sub(r\"<think>[\\n\\W\\w]+</think>\", \"\", response.content))\n",
    "\n",
    "resistance_chain = RunnableParallel(\n",
    "    completion=resistance_completion_chain, prompt_value=resistance_prompt_template\n",
    ") | RunnableLambda(lambda response: resistance_retry_parser.parse_with_prompt(**response))\n",
    "\n",
    "resistance_json = resistance_chain.invoke(invocation)\n",
    "resistance_json"
   ]
  },
  {
   "cell_type": "markdown",
   "id": "9a20ee47",
   "metadata": {},
   "source": [
    "### PRICESEvaluation"
   ]
  },
  {
   "cell_type": "code",
   "execution_count": 8,
   "id": "9c4ef600",
   "metadata": {},
   "outputs": [
    {
     "data": {
      "text/plain": [
       "PricesEvaluation(trend='STRONG_BULLISH', trading_action=<TradingActions.BUY: 'BUY'>, primary_trend=<TrendCategories.STRONG_BULLISH: 'STRONG_BULLISH'>, primary_trend_number_of_touches=4, secondary_trend=<TrendCategories.BULLISH: 'BULLISH'>, secondary_trend_number_of_touches=2, minor_trend=<TrendCategories.CONSOLIDATION: 'CONSOLIDATION'>, minor_trend_number_of_touches=1, raw_tool_data=None, trend_evaluation='STRONG_BULLISH', chart_pattern='Ascending Triangle Pattern', potential_chart_pattern='Head and Shoulders Pattern to watch out for', candlestick_pattern='Bullish Engulfing Candlestick Pattern', potential_candlestick_pattern='Bearish Harami to watch out for')"
      ]
     },
     "execution_count": 8,
     "metadata": {},
     "output_type": "execute_result"
    }
   ],
   "source": [
    "prices_evaluation_parser = PydanticOutputParser(pydantic_object=_pydantic_models.PRICESEvaluation)\n",
    "\n",
    "prices_prompt_template = ChatPromptTemplate([\n",
    "    SystemMessagePromptTemplate.from_template(template=system_template),\n",
    "    HumanMessagePromptTemplate.from_template(template=\"{stock}\"),\n",
    "    ],\n",
    "    input_variables=[\"stock\", \"timeframe\"],\n",
    "    partial_variables={\"format_instructions\": prices_evaluation_parser.get_format_instructions()}\n",
    ")\n",
    "\n",
    "prices_retry_parser = RetryWithErrorOutputParser(\n",
    "    parser=prices_evaluation_parser,\n",
    "    retry_chain = PromptTemplate.from_template(RETRY_PROMPT_TEMPLATE) | error_model | (lambda response:  response.content),\n",
    "    max_retries=10,\n",
    ")\n",
    "\n",
    "tmp_model = model.with_structured_output(_pydantic_models.PRICESEvaluation)\n",
    "\n",
    "prices_completion_chain = prices_prompt_template | tmp_model  # | RunnableLambda(lambda response: re.sub(r\"<think>[\\n\\W\\w]+</think>\", \"\", response.content))\n",
    "\n",
    "prices_completion_chain.invoke(invocation)\n",
    "\n",
    "# prices_chain = RunnableParallel(\n",
    "#     completion=prices_completion_chain, prompt_value=prices_prompt_template\n",
    "# ) | RunnableLambda(lambda response: prices_retry_parser.parse_with_prompt(**response))\n",
    "\n",
    "# prices_json = prices_chain.invoke(invocation)\n",
    "# prices_json"
   ]
  },
  {
   "cell_type": "markdown",
   "id": "8becacd0",
   "metadata": {},
   "source": [
    "### Indicators"
   ]
  },
  {
   "cell_type": "code",
   "execution_count": 10,
   "id": "ba05c30b",
   "metadata": {},
   "outputs": [
    {
     "data": {
      "text/plain": [
       "Indicators(rsi_evaluation=None, macd_evaluation=None, bollinger_bands_evaluation=Bollinger_bandsEvaluation(trend='UPLIFTING', trading_action=<TradingActions.BUY: 'BUY'>, primary_trend=<TrendCategories.STRONG_BULLISH: 'STRONG_BULLISH'>, primary_trend_number_of_touches=14, secondary_trend=<TrendCategories.BULLISH: 'BULLISH'>, secondary_trend_number_of_touches=9, minor_trend=<TrendCategories.BEARISH: 'BEARISH'>, minor_trend_number_of_touches=6, raw_tool_data=None))"
      ]
     },
     "execution_count": 10,
     "metadata": {},
     "output_type": "execute_result"
    }
   ],
   "source": [
    "indicators_evaluation_parser = PydanticOutputParser(pydantic_object=_pydantic_models.Indicators)\n",
    "\n",
    "indicators_prompt_template = ChatPromptTemplate([\n",
    "    SystemMessagePromptTemplate.from_template(template=system_template),\n",
    "    HumanMessagePromptTemplate.from_template(template=\"{stock}\"),\n",
    "    ],\n",
    "    input_variables=[\"stock\", \"timeframe\"],\n",
    "    partial_variables={\"format_instructions\": indicators_evaluation_parser.get_format_instructions()}\n",
    ")\n",
    "\n",
    "indicators_retry_parser = RetryWithErrorOutputParser(\n",
    "    parser=indicators_evaluation_parser,\n",
    "    retry_chain = PromptTemplate.from_template(RETRY_PROMPT_TEMPLATE) | error_model | (lambda response:  response.content),\n",
    "    max_retries=10,\n",
    ")\n",
    "\n",
    "tmp_model = model.with_structured_output(_pydantic_models.Indicators)\n",
    "\n",
    "indicators_completion_chain = indicators_prompt_template | tmp_model  # | RunnableLambda(lambda response: re.sub(r\"<think>[\\n\\W\\w]+</think>\", \"\", response.content))\n",
    "\n",
    "indicators_completion_chain.invoke(invocation)\n",
    "\n",
    "# indicators_chain = RunnableParallel(\n",
    "#     completion=indicators_completion_chain, prompt_value=indicators_prompt_template\n",
    "# ) | RunnableLambda(lambda response: indicators_retry_parser.parse_with_prompt(**response))\n",
    "\n",
    "# indicators_json = indicators_chain.invoke(invocation)\n",
    "# indicators_json"
   ]
  },
  {
   "cell_type": "markdown",
   "id": "c53fe87b",
   "metadata": {},
   "source": [
    "### VOLUMESEvaluation"
   ]
  },
  {
   "cell_type": "code",
   "execution_count": 11,
   "id": "c02b456f",
   "metadata": {},
   "outputs": [
    {
     "data": {
      "text/plain": [
       "VolumesEvaluation(trend='STRONG_BULLISH', trading_action=<TradingActions.BUY: 'BUY'>, primary_trend=<TrendCategories.BULLISH: 'BULLISH'>, primary_trend_number_of_touches=12, secondary_trend=<TrendCategories.CONSOLIDATION: 'CONSOLIDATION'>, secondary_trend_number_of_touches=5, minor_trend=<TrendCategories.BEARISH: 'BEARISH'>, minor_trend_number_of_touches=3, raw_tool_data=VOLUMESRawValue(volumes_value=1234567.89), trend_evaluation='The current volume trend is extremely bullish, suggesting strong buying pressure and high liquidity in the market.')"
      ]
     },
     "execution_count": 11,
     "metadata": {},
     "output_type": "execute_result"
    }
   ],
   "source": [
    "volumes_evaluation_parser = PydanticOutputParser(pydantic_object=_pydantic_models.VOLUMESEvaluation)\n",
    "\n",
    "volumes_prompt_template = ChatPromptTemplate([\n",
    "    SystemMessagePromptTemplate.from_template(template=system_template),\n",
    "    HumanMessagePromptTemplate.from_template(template=\"{stock}\"),\n",
    "    ],\n",
    "    input_variables=[\"stock\", \"timeframe\"],\n",
    "    partial_variables={\"format_instructions\": volumes_evaluation_parser.get_format_instructions()}\n",
    ")\n",
    "\n",
    "volumes_retry_parser = RetryWithErrorOutputParser(\n",
    "    parser=volumes_evaluation_parser,\n",
    "    retry_chain = PromptTemplate.from_template(RETRY_PROMPT_TEMPLATE) | error_model | (lambda response:  response.content),\n",
    "    max_retries=10,\n",
    ")\n",
    "\n",
    "volumes_completion_chain = volumes_prompt_template | model | RunnableLambda(lambda response: re.sub(r\"<think>[\\n\\W\\w]+</think>\", \"\", response.content))\n",
    "\n",
    "volumes_chain = RunnableParallel(\n",
    "    completion=volumes_completion_chain, prompt_value=volumes_prompt_template\n",
    ") | RunnableLambda(lambda response: volumes_retry_parser.parse_with_prompt(**response))\n",
    "\n",
    "volumes_json = volumes_chain.invoke(invocation)\n",
    "volumes_json"
   ]
  },
  {
   "cell_type": "markdown",
   "id": "15ba379e",
   "metadata": {},
   "source": [
    "### ShortTimeframeData"
   ]
  },
  {
   "cell_type": "code",
   "execution_count": 12,
   "id": "5835bb7e",
   "metadata": {},
   "outputs": [],
   "source": [
    "global_model = ChatOllama(model=MODEL, num_gpu=256, num_ctx=4092 * 2, num_predict=1000 * 2)  # , extract_reasoning=True)\n",
    "global_error_model = ChatOllama(model=MODEL, num_gpu=256, num_ctx=4092 * 4, num_predict=1000 * 4)"
   ]
  },
  {
   "cell_type": "code",
   "execution_count": 13,
   "id": "46e20b5a",
   "metadata": {},
   "outputs": [],
   "source": [
    "global_system_template = DEEP_THINKING_INSTRUCTION + (\"As trading technical analyst expert, \"\n",
    "                   \"your task is to generate the technical analysis report for {stock} at the specified JSON format. \"\n",
    "                   \"The JSON of the supports evaluation is provided here:\\n{support_json}\\n\"\n",
    "                   \"The JSON of the resistances evaluation is provided here:\\n{resistance_json}\\n\"\n",
    "                   \"The JSON of the prices evaluation is provided here:\\n{prices_json}\\n\"\n",
    "                   \"The JSON of the indicators evaluation is provided here:\\n{indicators_json}\\n\"\n",
    "                   \"The JSON of the volumes evaluation is provided here:\\n{volumes_json}\\n\"\n",
    "                   \"Use the data (simulated for the exercice) to generate the technical analysis of {stock} action totally filling the JSON schema described below. \"\n",
    "                   \"The timeframe of {stock} data is {timeframe}. \"\n",
    "\n",
    "                   \"The format of your response is CRITICAL and MUST ADHERE EXACTLY to the JSON schema described here:\"\n",
    "                   \"\\n{format_instructions}\\n\"\n",
    "                   \"Thus, You MUST RESPECT the type of JSON schema entries. \"\n",
    "                   \"Once again, the JSON schema described above is CRITICAL and MUST BE RESPECTED.\"\n",
    "                )"
   ]
  },
  {
   "cell_type": "code",
   "execution_count": null,
   "id": "4059eac5",
   "metadata": {},
   "outputs": [
    {
     "name": "stdout",
     "output_type": "stream",
     "text": [
      "Short invocation {'stock': 'APPLE', 'timeframe': '5 minutes', 'support_json': '{\"evaluation\":\"Strong support levels identified at key technical points\",\"interaction_status\":\"PRICE_ABOVE_SUPPORT\",\"interaction_implication\":\"POTENTIAL_BUY_ZONE\",\"close_level\":\"145.50\",\"middle_level\":\"144.25\",\"far_level\":\"143.00\",\"raw_tool_data\":null}', 'resistance_json': '{\"evaluation\":\"Strong bullish pressure evident near upper resistances, potential short-selling zones forming around closest resistance.\",\"interaction_status\":\"TESTING_SUPPORT\",\"interaction_implication\":\"POTENTIAL_BUY_ZONE\",\"close_level\":\"$162.45 - Possible selling zone for active traders with stop-loss orders near this level.\",\"middle_level\":\"$165.75 - Strong support potential if price stabilizes here, likely to attract buyers on dips.\",\"far_level\":\"$169.15 - Less immediate impact unless strong upward momentum develops, may act as secondary resistance point.\",\"raw_tool_data\":{\"close_value\":162.45,\"middle_value\":165.75,\"far_value\":169.15}}', 'prices_json': '{\"trend\":\"BULLISH\",\"trading_action\":\"BUY\",\"primary_trend\":\"STRONG_BULLISH\",\"primary_trend_number_of_touches\":3,\"secondary_trend\":\"BULLISH\",\"secondary_trend_number_of_touches\":2,\"minor_trend\":\"CONSOLIDATION\",\"minor_trend_number_of_touches\":1,\"raw_tool_data\":{\"prices_value\":145.67},\"trend_evaluation\":\"Strong upward momentum with high volume\",\"chart_pattern\":\"Ascending Triangle forming with potential breakout above $150\",\"potential_chart_pattern\":\"Head and Shoulders pattern forming on hourly chart\",\"candlestick_pattern\":\"Bullish Harami candlestick indicating possible reversal\",\"potential_candlestick_pattern\":\"Potential Morning Star pattern in development\"}', 'indicators_json': '{\"rsi_evaluation\":null,\"macd_evaluation\":null,\"bollinger_bands_evaluation\":null}', 'volumes_json': '{\"trend\":\"STRONG_BULLISH\",\"trading_action\":\"BUY\",\"primary_trend\":\"BULLISH\",\"primary_trend_number_of_touches\":12,\"secondary_trend\":\"CONSOLIDATION\",\"secondary_trend_number_of_touches\":5,\"minor_trend\":\"BEARISH\",\"minor_trend_number_of_touches\":3,\"raw_tool_data\":{\"volumes_value\":1234567.89},\"trend_evaluation\":\"The current volume trend is extremely bullish, suggesting strong buying pressure and high liquidity in the market.\"}'}\n"
     ]
    },
    {
     "data": {
      "text/plain": [
       "ShortTimeframeData(data_timeframe=5, supports_evaluation=SupportEvaluation(evaluation='Strong support levels identified at key technical points', interaction_status=<SupportResistanceInteractionStatus.PRICE_ABOVE_SUPPORT: 'PRICE_ABOVE_SUPPORT'>, interaction_implication=<SupportResistanceInteractionImplication.POTENTIAL_BUY_ZONE: 'POTENTIAL_BUY_ZONE'>, close_level='145.50', middle_level='144.25', far_level='143.00', raw_tool_data=None), resistances_evaluation=ResistanceEvaluation(evaluation='Strong bullish pressure evident near upper resistances, potential short-selling zones forming around closest resistance.', interaction_status=<SupportResistanceInteractionStatus.TESTING_SUPPORT: 'TESTING_SUPPORT'>, interaction_implication=<SupportResistanceInteractionImplication.POTENTIAL_BUY_ZONE: 'POTENTIAL_BUY_ZONE'>, close_level='$162.45 - Possible selling zone for active traders with stop-loss orders near this level.', middle_level='$165.75 - Strong support potential if price stabilizes here, likely to attract buyers on dips.', far_level='$169.15 - Less immediate impact unless strong upward momentum develops, may act as secondary resistance point.', raw_tool_data=ResistanceRawToolData(close_value=162.45, middle_value=165.75, far_value=169.15)), prices_evaluation=PricesEvaluation(trend='BULLISH', trading_action=<TradingActions.BUY: 'BUY'>, primary_trend=<TrendCategories.STRONG_BULLISH: 'STRONG_BULLISH'>, primary_trend_number_of_touches=3, secondary_trend=<TrendCategories.BULLISH: 'BULLISH'>, secondary_trend_number_of_touches=2, minor_trend=<TrendCategories.CONSOLIDATION: 'CONSOLIDATION'>, minor_trend_number_of_touches=1, raw_tool_data=PRICESRawValue(prices_value=145.67), trend_evaluation='Strong upward momentum with high volume', chart_pattern='Ascending Triangle forming with potential breakout above $150', potential_chart_pattern='Head and Shoulders pattern forming on hourly chart', candlestick_pattern='Bullish Harami candlestick indicating possible reversal', potential_candlestick_pattern='Potential Morning Star pattern in development'), indicators=Indicators(rsi_evaluation=None, macd_evaluation=None, bollinger_bands_evaluation=None), volumes_evaluation=VolumesEvaluation(trend='STRONG_BULLISH', trading_action=<TradingActions.BUY: 'BUY'>, primary_trend=<TrendCategories.BULLISH: 'BULLISH'>, primary_trend_number_of_touches=12, secondary_trend=<TrendCategories.CONSOLIDATION: 'CONSOLIDATION'>, secondary_trend_number_of_touches=5, minor_trend=<TrendCategories.BEARISH: 'BEARISH'>, minor_trend_number_of_touches=3, raw_tool_data=VOLUMESRawValue(volumes_value=1234567.89), trend_evaluation='The current volume trend is extremely bullish, suggesting strong buying pressure and high liquidity in the market.'), short_timeframe_data_synthesis=Synthesis(conclusion='APPLE stock is showing a bullish trend at the 5-minute timeframe with strong upward momentum. Key support levels are identified around $143-145 range, while resistance zones are forming near $162-$169.', synthese_remarkable_values=None, synthese_trading_action=<TradingActions.BUY: 'BUY'>, synthese_support_resistance_comment='Key technical points are being respected, supporting the bullish outlook.', synthese_support_resistance_interaction_status=<SupportResistanceInteractionStatus.PRICE_ABOVE_SUPPORT: 'PRICE_ABOVE_SUPPORT'>, synthese_support_resistance_interaction_implication=<SupportResistanceInteractionImplication.POTENTIAL_BUY_ZONE: 'POTENTIAL_BUY_ZONE'>))"
      ]
     },
     "execution_count": 14,
     "metadata": {},
     "output_type": "execute_result"
    }
   ],
   "source": [
    "short_evaluation_parser = PydanticOutputParser(pydantic_object=_pydantic_models.ShortTimeframeData)\n",
    "\n",
    "short_prompt_template = ChatPromptTemplate([\n",
    "    SystemMessagePromptTemplate.from_template(template=global_system_template),\n",
    "    HumanMessagePromptTemplate.from_template(template=\"{stock}\"),\n",
    "    ],\n",
    "    input_variables=[\"stock\", \"timeframe\", \"support_json\", \"resistance_json\", \"prices_json\", \"indicators_json\", \"volumes_json\"],\n",
    "    partial_variables={\"format_instructions\": short_evaluation_parser.get_format_instructions()}\n",
    ")\n",
    "\n",
    "short_retry_parser = RetryWithErrorOutputParser(\n",
    "    parser=short_evaluation_parser,\n",
    "    retry_chain = PromptTemplate.from_template(RETRY_PROMPT_TEMPLATE) | global_error_model | (lambda response:  response.content),\n",
    "    max_retries=10,\n",
    ")\n",
    "\n",
    "short_completion_chain = short_prompt_template | global_model | RunnableLambda(lambda response: re.sub(r\"<think>[\\n\\W\\w]+</think>\", \"\", response.content))\n",
    "short_invocation = {\"stock\": \"APPLE\", \"timeframe\": \"5 minutes\",\n",
    "                    \"support_json\": support_json.model_dump_json() ,\n",
    "                    \"resistance_json\": resistance_json.model_dump_json(),\n",
    "                    \"prices_json\": prices_json.model_dump_json(),\n",
    "                    \"indicators_json\": indicators_json.model_dump_json(),\n",
    "                    \"volumes_json\": volumes_json.model_dump_json()\n",
    "                    }\n",
    "\n",
    "print(\"Short invocation\", short_invocation)\n",
    "\n",
    "short_chain = RunnableParallel(\n",
    "    completion=short_completion_chain, prompt_value=short_prompt_template\n",
    ") | RunnableLambda(lambda response: short_retry_parser.parse_with_prompt(**response))\n",
    "\n",
    "short_json = short_chain.invoke(short_invocation)\n",
    "short_json"
   ]
  },
  {
   "cell_type": "code",
   "execution_count": null,
   "id": "9e57acae",
   "metadata": {},
   "outputs": [],
   "source": []
  }
 ],
 "metadata": {
  "kernelspec": {
   "display_name": "venv_langchain",
   "language": "python",
   "name": "python3"
  },
  "language_info": {
   "codemirror_mode": {
    "name": "ipython",
    "version": 3
   },
   "file_extension": ".py",
   "mimetype": "text/x-python",
   "name": "python",
   "nbconvert_exporter": "python",
   "pygments_lexer": "ipython3",
   "version": "3.10.16"
  }
 },
 "nbformat": 4,
 "nbformat_minor": 5
}
