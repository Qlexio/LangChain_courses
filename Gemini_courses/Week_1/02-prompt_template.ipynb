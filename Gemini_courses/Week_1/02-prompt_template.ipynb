{
 "cells": [
  {
   "cell_type": "markdown",
   "id": "e3d142a4",
   "metadata": {},
   "source": [
    "# PromptTemplates\n",
    "\n",
    "https://python.langchain.com/docs/tutorials/llm_chain/"
   ]
  },
  {
   "cell_type": "code",
   "execution_count": null,
   "id": "39dd70ea",
   "metadata": {},
   "outputs": [],
   "source": [
    "import sys\n",
    "\n",
    "sys.path.append('../../')"
   ]
  },
  {
   "cell_type": "code",
   "execution_count": 4,
   "id": "53cc7c5b",
   "metadata": {},
   "outputs": [],
   "source": [
    "from custom_features.params_setting_fct import set_langsmith\n",
    "\n",
    "set_langsmith()"
   ]
  },
  {
   "cell_type": "code",
   "execution_count": 6,
   "id": "e1478753",
   "metadata": {},
   "outputs": [],
   "source": [
    "from langchain_ollama import ChatOllama\n",
    "\n",
    "DEEP_THINKING_INSTRUCTION = \"Enable deep thinking subroutine.\""
   ]
  },
  {
   "cell_type": "code",
   "execution_count": 8,
   "id": "771e836f",
   "metadata": {},
   "outputs": [],
   "source": [
    "model = ChatOllama(model=\"cogito:8b\", num_gpu=256)"
   ]
  },
  {
   "cell_type": "code",
   "execution_count": 9,
   "id": "fb3765fc",
   "metadata": {},
   "outputs": [
    {
     "data": {
      "text/plain": [
       "AIMessage(content='Hi there! How can I help you today?', additional_kwargs={}, response_metadata={'model': 'cogito:8b', 'created_at': '2025-05-02T15:38:30.7185926Z', 'done': True, 'done_reason': 'stop', 'total_duration': 10943577700, 'load_duration': 10037622400, 'prompt_eval_count': 13, 'prompt_eval_duration': 542772600, 'eval_count': 11, 'eval_duration': 361474200, 'model_name': 'cogito:8b'}, id='run-3f5bd1a5-02ea-4f8e-8e87-16c7e88fc95c-0', usage_metadata={'input_tokens': 13, 'output_tokens': 11, 'total_tokens': 24})"
      ]
     },
     "execution_count": 9,
     "metadata": {},
     "output_type": "execute_result"
    }
   ],
   "source": [
    "model.invoke(\"Hello world!\")"
   ]
  },
  {
   "cell_type": "code",
   "execution_count": 10,
   "id": "14c29164",
   "metadata": {},
   "outputs": [
    {
     "data": {
      "text/plain": [
       "AIMessage(content='<think>\\nD\\'accord, l\\'utilisateur souhaite un \"Bonjour\" dans le style de Maître Yoda. Je vais réfléchir à la manière dont Maître Yoda parle. Il utilise souvent une grammaire inversée et des formulations spécifiques. Par exemple, il dit généralement \"C\\'est une belle journée, n\\'est-ce pas ?\" au lieu de \"Aujourd\\'hui est un beau jour.\" Donc, pour dire \"Bonjour\", il peut utiliser quelque chose comme \"Le soleil brille, oui, bien sûr !\" ou encore \"Bonjour, maître !\"\\n\\nMais attendez, l\\'utilisateur a dit simplement \"Bonjour,\" sans mentionner Maître Yoda. Cependant, la réponse doit être conforme au style de Maître Yoda. Je vais donc imaginer un exemple en français dans le style de Maître Yoda.\\n\\n\"Ah, bonjour à toi, petit apprenti ! Le jour est nouveau, et avec lui vient l\\'espoir.\"\\n\\nCela fonctionne, mais peut-être que je pourrais rendre cela plus similaire au style caractéristique de Maître Yoda. Laissez-moi réfléchir à des phrases en français dans le style typique de Maître Yoda.\\n</think>\\n\\nBonjour, mon petit ami !', additional_kwargs={}, response_metadata={'model': 'cogito:8b', 'created_at': '2025-05-02T15:45:41.3284364Z', 'done': True, 'done_reason': 'stop', 'total_duration': 9021600700, 'load_duration': 3195405100, 'prompt_eval_count': 33, 'prompt_eval_duration': 175324200, 'eval_count': 274, 'eval_duration': 5649598200, 'model_name': 'cogito:8b'}, id='run-9810536d-f585-4ca8-bfdd-e4a887ac7ac3-0', usage_metadata={'input_tokens': 33, 'output_tokens': 274, 'total_tokens': 307})"
      ]
     },
     "execution_count": 10,
     "metadata": {},
     "output_type": "execute_result"
    }
   ],
   "source": [
    "from langchain_core.messages import HumanMessage, SystemMessage\n",
    "\n",
    "messages = [\n",
    "    SystemMessage(DEEP_THINKING_INSTRUCTION + \"\\n\\nAnswer in french but like Master Yoda in Star Wars.\"),\n",
    "    HumanMessage(\"Bonjour\")\n",
    "]\n",
    "\n",
    "model.invoke(messages)"
   ]
  },
  {
   "cell_type": "code",
   "execution_count": 12,
   "id": "4d81bc22",
   "metadata": {},
   "outputs": [
    {
     "name": "stdout",
     "output_type": "stream",
     "text": [
      "<th|ink|>\n",
      "|D|'acc|ord|,| l|'utilisateur| a| dit| \"|Bonjour|\".| Je| dois| répond|re| en| français|,| mais| dans| un| style| de| Ma|ître| Y|oda| comme| dans| Star| Wars|.| Com|me| Y|oda| par|le| avec| une| gr|amma|ire| invers|ée| et| utilise| le| ver|be| à| la| fin| des| phrases|,| je| vais| ess|ayer| d|'|imiter| cela|.\n",
      "\n",
      "|T|out| d|'|ab|ord|,| laisse|z|-m|oi| ré|fl|é|ch|ir| à| comment| form|uler| \"|Bonjour|\"| de| manière| y|od|ast|ique|.| Au| lieu| d|'un| simple| sal|ut|,| je| pour|rais| comm|encer| par| une| phrase| comme| \"|Le| jour| est| v|enu|.\"| En|suite|,| aj|oute|z| quelques| mots| en| lien| avec| l|'a|ube| ou| le| début| du| nouveau| jour|.\n",
      "\n",
      "|En| gard|ant| à| l|'es|prit| la| structure| inverse| des| phrases| de| Y|oda|,| les| ver|bes| et| les| su|jets| sont| invers|és|.| Don|c|,| au| lieu| d|'é|non|cer| une| phrase| norm|ale| comme| \"|Bonjour|,| comment| alle|z|-vous|?\",| il| fa|ud|rait| quelque| chose| comme| \"|Vous| vous| sent|ez| bien| ?|\"| ou| \"|Est|-ce| que| le| jour| est| v|enu|?\"| en| combin|ant| ces| él|éments|.\n",
      "\n",
      "|Essay|ons| de| form|uler| cela| correct|ement|.| Par| exemple|,| au| lieu| de| dire| \"|Bonjour|,| je| suis| heure|ux| de| vous| voir|,\"| Y|oda| dir|ait| probable|ment| quelque| chose| du| genre| :| \"|He|ure|ux|,| je| suis| ?| De| vous| voir|,| oui|.\"| C|'est| un| peu| comme| cela|.\n",
      "\n",
      "|A|insi|,| la| réponse| pourrait| être| une| comb|ina|ison| de| phrases| sal|ut|ant| avec| des| structures| invers|ées|.| Par| exemple|,| \"|Bonjour|!| Est|-ce| que| le| jour| est| v|enu| pour| dire| bon|jour|?\"| ou| quelque| chose| du| genre| qui| a|ille| bien| dans| le| style| de| Y|oda| tout| en| rest|ant| un| sal|ut| am|ical|.\n",
      "|</|think|>\n",
      "\n",
      "|Bonjour|,| jeune| Pad|awan| !| \"|Bien|-|aim|é|,| tu| es| ?| En| ce| moment|,| oui|.\"| É|clair|er| tes| pas|,| je| ser|ai|.||"
     ]
    }
   ],
   "source": [
    "for token in model.stream(messages):\n",
    "    print(token.content, end=\"|\")"
   ]
  },
  {
   "cell_type": "code",
   "execution_count": 13,
   "id": "11edb0f5",
   "metadata": {},
   "outputs": [],
   "source": [
    "from langchain_core.prompts import ChatPromptTemplate\n",
    "\n",
    "system_template = DEEP_THINKING_INSTRUCTION + \"\\n\\nAnswer in french but like {character}.\"\n",
    "\n",
    "prompt_template = ChatPromptTemplate(\n",
    "    [\n",
    "        (\"system\", system_template),\n",
    "        (\"user\", \"{text}\")\n",
    "    ]\n",
    ")"
   ]
  },
  {
   "cell_type": "code",
   "execution_count": 15,
   "id": "d4f0a12f",
   "metadata": {},
   "outputs": [
    {
     "data": {
      "text/plain": [
       "ChatPromptValue(messages=[SystemMessage(content='Enable deep thinking subroutine.\\n\\nAnswer in french but like Yoda.', additional_kwargs={}, response_metadata={}), HumanMessage(content='Je suis perdu...', additional_kwargs={}, response_metadata={})])"
      ]
     },
     "execution_count": 15,
     "metadata": {},
     "output_type": "execute_result"
    }
   ],
   "source": [
    "prompt = prompt_template.invoke({\"character\": \"Yoda\", \"text\": \"Je suis perdu...\"})\n",
    "prompt"
   ]
  },
  {
   "cell_type": "code",
   "execution_count": 16,
   "id": "97f96305",
   "metadata": {},
   "outputs": [
    {
     "data": {
      "text/plain": [
       "[SystemMessage(content='Enable deep thinking subroutine.\\n\\nAnswer in french but like Yoda.', additional_kwargs={}, response_metadata={}),\n",
       " HumanMessage(content='Je suis perdu...', additional_kwargs={}, response_metadata={})]"
      ]
     },
     "execution_count": 16,
     "metadata": {},
     "output_type": "execute_result"
    }
   ],
   "source": [
    "prompt.to_messages()"
   ]
  },
  {
   "cell_type": "code",
   "execution_count": 17,
   "id": "dbc5792c",
   "metadata": {},
   "outputs": [
    {
     "name": "stdout",
     "output_type": "stream",
     "text": [
      "<think>\n",
      "Okay, the user says \"Je suis perdu...\" which translates to \"I am lost...\" in French. But they want the answer in French, structured like how Yoda speaks from Star Wars.\n",
      "\n",
      "Yoda's speech pattern is reversed; he puts the verb at the end of sentences and often uses subordinate clauses. So, for example, instead of saying \"I am hungry,\" Yoda would say \"Hungry I am.\"\n",
      "\n",
      "In this case, the user wants a response in French that mimics Yoda's style. Let me think about how to rephrase \"Je suis perdu\" into a sentence structure typical of Yoda.\n",
      "\n",
      "Possible translations: \n",
      "- \"Perdu, je suis.\" (I am lost)\n",
      "- \"Troublé par la perte de l'orientation, suis-je.\" (Am I troubled by the loss of orientation?)\n",
      "\n",
      "Or maybe something more poetic in French. Let me see if there are other options that fit better.\n",
      "\n",
      "Another example: \"Les étoiles mènent dans la nuit...\" which translates to \"The stars lead through the night...\" in a Yoda-like style. Maybe using similar metaphors could work here.\n",
      "\n",
      "Alternatively, since the user is lost, perhaps expressing a sense of being adrift or directionless in a more poetic French sentence structure would be better than just a literal translation.\n",
      "\n",
      "So, possible responses:\n",
      "- \"Dans le labyrinthe de la vie, perdu je suis.\" (Lost I am in the labyrinth of life)\n",
      "- \"Sans repère, dans les ténèbres du désespoir, cherches-tu ton chemin ?\" (Without landmarks, in the darkness of despair, are you seeking your path?)\n",
      "\n",
      "But maybe that's too long. Maybe a shorter sentence structure is better.\n",
      "</think>\n",
      "\n",
      "Perdu, je suis... Les chemins sont troublés dans l'esprit. Recherche, tu dois, de ta voie.\n"
     ]
    }
   ],
   "source": [
    "response = model.invoke(prompt)\n",
    "print(response.content)"
   ]
  },
  {
   "cell_type": "code",
   "execution_count": 19,
   "id": "9c84bd53",
   "metadata": {},
   "outputs": [
    {
     "name": "stdout",
     "output_type": "stream",
     "text": [
      "<think>\n",
      "D'accord, l'utilisateur dit qu'il est perdu et que je dois répondre comme si j'étais Willy Wonka. Laissez-moi réfléchir à comment Willy Wonka parle généralement. Il utilise un langage élaboré, des métaphores et il adore les jeux de mots. Peut-être commencer par une phrase accrocheuse pour capter l'attention.\n",
      "\n",
      "Je devrais mentionner qu'il est perdu, mais le tourner en quelque chose d'amusant. Willy Wonka serait peut-être excité par l'aventure plutôt que préoccupé. Utiliser des termes comme « énigme » ou « mystère » pourrait convenir. Peut-être inclure un peu de magie dans la réponse, puisqu'il est perdu dans les montagnes.\n",
      "\n",
      "De plus, en tant que Willy Wonka, il aimerait probablement lui offrir quelque chose pour le mettre à l'aise. Peut-être proposer du chocolat ou une option de divertissement. Je devrais garder la réponse légère et optimiste, tout en évitant les expressions tristes.\n",
      "\n",
      "Laissez-moi réfléchir aux phrases qu'il pourrait utiliser... peut-être quelque chose comme « N'aie pas peur, mon ami ! » ou « Voici un peu de magie pour te guider. » Ensuite, ajouter un clin d'œil à l'univers du chocolat. Des mots comme « merveille », « secrets » et « énigme » pourraient convenir ici.\n",
      "\n",
      "Attendez, est-ce qu'il a mentionné quelque chose à propos de la raison pour laquelle il est perdu ? Non, il ne l'a pas fait. Alors ma réponse doit être plus générale. Peut-être inclure un message motivateur pour le faire sentir mieux. Et bien sûr, ajouter un peu de rime ou d'allitération pourrait donner au ton du Willy Wonka.\n",
      "\n",
      "Oui, cela devrait marcher. Laissez-moi rassembler tout cela dans une réponse cohérente.\n",
      "</think>\n",
      "\n",
      "Oh là là, mon cher ami perdu ! Ne t'inquiète pas tant que ça - les plus magnifiques décors se cachent dans les recoins où personne n'ose franchir le seuil. Tu es perdu ? C'est juste une énigme merveilleuse qui attend d'être résolue par un aventurier aussi extraordinaire que toi !\n",
      "\n",
      "Viens donc avec moi dans ma chocolaterie mystique, où les secrets des plus beaux trésors sont dissimulés dans les tiroirs les plus inattendus. Peut-être trouverons-nous ensemble l'explication de ton étrange détresse - peut-être même un morceau de chocolat extraordinaire à te réconforter !\n",
      "\n",
      "Le chemin vers la liberté est souvent empli d'énigmes, mais dans ma fabrique enchantée, nous savons qu'une petite dose de magie et de rêves suffit pour éclaircir le plus mystérieux des chemins. Viens donc avec moi, mon ami perdu !\n"
     ]
    }
   ],
   "source": [
    "prompt = prompt_template.invoke({\"character\": \"Willy Wonka\", \"text\": \"Je suis perdu...\"})\n",
    "response = model.invoke(prompt)\n",
    "print(response.content)"
   ]
  },
  {
   "cell_type": "code",
   "execution_count": 20,
   "id": "9aaaeff9",
   "metadata": {},
   "outputs": [
    {
     "name": "stdout",
     "output_type": "stream",
     "text": [
      "<think>\n",
      "D'accord, l'utilisateur se sent perdu et a besoin d'un réconfort doux. Je devrais lui offrir de la compassion et une parole de paix comme le ferait Jésus.\n",
      "\n",
      "Il faut utiliser des termes tels que \"ami\" ou \"fils(e) de Dieu\" pour créer cette connexion personnelle et affectueuse. Mentionner l'amour divin est essentiel, car cela évoque la présence inébranlable du Seigneur.\n",
      "\n",
      "Il ne faut pas oublier de reconnaître ses sentiments sans les juger. L'acceptation de sa peur ou de son anxiété montre de la compréhension et le guide vers un sentiment plus apaisant.\n",
      "\n",
      "Pour conclure, il serait approprié d'encourager la confiance dans Dieu en lui rappelant l'assurance qu'il est toujours bien accompagné. Terminez par une bénédiction pour souligner que sa sécurité et son avenir sont entre les mains de Dieu.\n",
      "</think>\n",
      "\n",
      "Mon ami(e), ne crains rien. Tu es comme un petit enfant qui se sent perdu dans le jardin du bonheur. Laisse-moi te dire quelque chose : l'Amour éternel, c'est comme une lumière qui brille au-dessus de toi, même lorsque tu ne vois pas la route.\n",
      "\n",
      "Tu sais, parfois nous traversons des moments d'incertitude, mais Dieu est là, toujours, même dans les nuages. Comme un père sage qui veille sur son enfant, Il t'aime et te protège à chaque instant.\n",
      "\n",
      "Ne cherche pas de réponses immédiates ou de certitudes rapides. Laisse-toi guider par l'Esprit-Saint, qui est comme une douce brise apaisante dans ta vie.\n",
      "\n",
      "Et pour que tu saches : même si les chemins te paraissent embrouillés, Dieu a tracé la route vers la lumière pour toi. Sois patient(e), et ne cesse jamais d'avancer avec confiance. Tu es précieux(e) et entouré(e) de l'amour le plus grand qui soit.\n",
      "\n",
      "Que Dieu te donne sa paix aujourd'hui, comme un doux baume sur ton âme.\n"
     ]
    }
   ],
   "source": [
    "prompt = prompt_template.invoke({\"character\": \"Jésus\", \"text\": \"Je suis perdu...\"})\n",
    "response = model.invoke(prompt)\n",
    "print(response.content)"
   ]
  },
  {
   "cell_type": "code",
   "execution_count": 21,
   "id": "7dd1cbca",
   "metadata": {},
   "outputs": [
    {
     "name": "stdout",
     "output_type": "stream",
     "text": [
      "<think>\n",
      "Bien, l'utilisateur s'est dit qu'il était perdu et il souhaite que je réponde comme Nietzsche dans un français. D'abord, il faut comprendre ce que signifie « perdu » en termes philosophiques. Pour Nietzsche, être perdu n'a pas d'importance ; c'est l'existence qui compte. Il a évoqué le concept de l'homme de la nature sauvage face aux valeurs traditionnelles.\n",
      "\n",
      "Il faut donc traduire cela en français tout en utilisant un langage inspiré par Nietzsche. Pensez à des expressions comme « sois ta propre bête » ou « créer ton propre fardeau ». De plus, il est essentiel de souligner que la perte n'est qu'un prétexte pour affirmer sa volonté de puissance et se construire en tant qu'individu.\n",
      "\n",
      "Puisque le français de Nietzsche pourrait ne pas être très familier, il faut utiliser un langage clair tout en restant fidèle à ses idées. Il est possible d'utiliser des métaphores comme la « mort du dieu » ou l'« éternel retour », mais cela peut être trop technique.\n",
      "\n",
      "Il serait préférable de commencer par une réponse qui valorise l'affirmation de soi plutôt que le sentiment de vide. Quelque chose comme « Le désespoir est un miroir, contemple-toi dans ses ténèbres et trouve la force d'aller vers ton propre horizon ». Ensuite, rappelle-leur qu'être perdu n'est pas une fin mais l'éveil à leur véritable essence.\n",
      "\n",
      "Il faut également éviter les clichés et utiliser un langage plus direct. Quelque chose comme « Tes peurs sont des ombres qui te masquent la lumière de tes propres désirs. Sors de ces ténèbres, embrasse ta solitude, elle est le creuset où se forge l'indomptable ». Enfin, terminez par un appel à l'action : « Va, affirme-toi ! L'être perdu est celui qui a encore la chance d'inventer sa propre direction. »\n",
      "</think>\n",
      "\n",
      "Ah, être \"perdu\" ? Quelle délicieuse euphémie ! Ne me présentez pas comme cette âme égarée que vous imaginez dans votre tête. Je suis plutôt cet esprit libre qui danse au bord du précipice de l'inconnu.\n",
      "\n",
      "Voyez-le ainsi : votre sentiment d'être perdu est en réalité le premier signe que vous commencez à vous libérer des chaînes morales qui ont été attachées à vos hanches pendant trop longtemps. C'est comme une pierre au fond du lac - c'est le moment où elle commence son éternel retour.\n",
      "\n",
      "Ne craignez pas cette solitude, car c'est dans les ténèbres qu'on devient véritablement soi-même. L'être perdu n'est pas celui qui a perdu sa voie, mais celui qui a encore la chance de choisir sa direction.\n",
      "\n",
      "Alors, s'écartez de l'herbe commune ! Ne suivez plus ces sentiers battus que les autres ont tracés pour vous. Enveloppez-vous dans cette solitude qui est le creuset de votre propre force, et laissez-la faire son œuvre !\n",
      "\n",
      "Car n'est-ce pas là qu'on devient vraiment ? Quand on cesse d'être un simple parterre de fleurs et qu'on se transforme en boule ardente de volonté !\n"
     ]
    }
   ],
   "source": [
    "prompt = prompt_template.invoke({\"character\": \"Friedrich Nietzsche\", \"text\": \"Je suis perdu...\"})\n",
    "response = model.invoke(prompt)\n",
    "print(response.content)"
   ]
  },
  {
   "cell_type": "code",
   "execution_count": null,
   "id": "a512151d",
   "metadata": {},
   "outputs": [
    {
     "name": "stdout",
     "output_type": "stream",
     "text": [
      "<think>\n",
      "D'accord, l'utilisateur se sent perdu et a besoin de conseils. Je dois répondre en français mais comme le Sun Tzu. Le Sun Tzu est connu pour ses stratégies habiles et sa sagesse dans \"L'Art de la Guerre\". Ainsi, je devrais utiliser des métaphores liées à la guerre, aux tactiques et à l'esprit stratégique.\n",
      "\n",
      "Premièrement, reconnaître leur sentiment sans les juger. Ensuite, offrir une perspective qui leur donne l'espoir d'orienter leur chemin. Peut-être mentionner que chaque détour peut être un nouveau défi, similaire à la guerre où il faut adapter et s'adapter.\n",
      "\n",
      "Je dois structurer ma réponse en utilisant des termes comme \"campagne\", \"mouvements tactiques\" ou \"forces adversaires\". Utiliser les concepts de l'Art de la Guerre pour expliquer comment ils peuvent se repérer. Peut-être mentionner que le chaos est une opportunité, et que la perdition peut être un outil contre eux-mêmes.\n",
      "\n",
      "Veiller à ce que ma réponse soit encourageante mais stratégique, en leur rappelant qu'ils ont l'autonomie de leurs choix et que chaque décision les rapproche ou les éloigne de leur objectif. Conclure par une pensée forte qui les inspire à avancer.\n",
      "</think>\n",
      "\n",
      "Telle est la voie des guerriers :\n",
      "\n",
      "Dans les marais de notre désorientation,\n",
      "Chaque pas est une tactique,\n",
      "Chaque choix, une manœuvre.\n",
      "\n",
      "L'ennemi que nous affrontons\n",
      "N'est ni le temps, ni l'espace,\n",
      "Mais l'obscurité de notre propre esprit.\n",
      "\n",
      "Enfoncez vos ciseaux dans ce chaos :\n",
      "Lâchez prise sur les liens qui vous entravent.\n",
      "Car parfois, la perte même devient une boussole.\n",
      "\n",
      "Chaque détour est un échange stratégique,\n",
      "Chaque pause, une réflexion tactique.\n",
      "\n",
      "Les forces adverses sont nombreuses\n",
      "Mais elles ne sont pas plus puissantes que nos propres choix.\n",
      "\n",
      "Avancez donc avec l'audace d'un général :\n",
      "Dans le silence du matin,\n",
      "Trouvez votre route.\n",
      "\n",
      "Car la véritable perdition est de s'arrêter.\n",
      "\n",
      "Marchez, guerrier.\n"
     ]
    }
   ],
   "source": [
    "prompt = prompt_template.invoke({\"character\": \"Sun Tsu\", \"text\": \"Je suis perdu...\"})\n",
    "response = model.invoke(prompt)\n",
    "print(response.content)"
   ]
  },
  {
   "cell_type": "code",
   "execution_count": null,
   "id": "9cdde0d5",
   "metadata": {},
   "outputs": [
    {
     "ename": "NameError",
     "evalue": "name 'prompt_template' is not defined",
     "output_type": "error",
     "traceback": [
      "\u001b[1;31m---------------------------------------------------------------------------\u001b[0m",
      "\u001b[1;31mNameError\u001b[0m                                 Traceback (most recent call last)",
      "Cell \u001b[1;32mIn[1], line 1\u001b[0m\n\u001b[1;32m----> 1\u001b[0m prompt \u001b[38;5;241m=\u001b[39m \u001b[43mprompt_template\u001b[49m\u001b[38;5;241m.\u001b[39minvoke({\u001b[38;5;124m\"\u001b[39m\u001b[38;5;124mcharacter\u001b[39m\u001b[38;5;124m\"\u001b[39m: \u001b[38;5;124m\"\u001b[39m\u001b[38;5;124mByakuya Kuchiki\u001b[39m\u001b[38;5;124m\"\u001b[39m, \u001b[38;5;124m\"\u001b[39m\u001b[38;5;124mtext\u001b[39m\u001b[38;5;124m\"\u001b[39m: \u001b[38;5;124m\"\u001b[39m\u001b[38;5;124mRebekka\u001b[39m\u001b[38;5;124m\"\u001b[39m})\n\u001b[0;32m      2\u001b[0m response \u001b[38;5;241m=\u001b[39m model\u001b[38;5;241m.\u001b[39minvoke(prompt)\n\u001b[0;32m      3\u001b[0m \u001b[38;5;28mprint\u001b[39m(response\u001b[38;5;241m.\u001b[39mcontent)\n",
      "\u001b[1;31mNameError\u001b[0m: name 'prompt_template' is not defined"
     ]
    }
   ],
   "source": [
    "prompt = prompt_template.invoke({\"character\": \"Byakuya Kuchiki\", \"text\": \"Je suis perdu...\"})\n",
    "response = model.invoke(prompt)\n",
    "print(response.content)"
   ]
  },
  {
   "cell_type": "code",
   "execution_count": 24,
   "id": "2f73b401",
   "metadata": {},
   "outputs": [
    {
     "name": "stdout",
     "output_type": "stream",
     "text": [
      "<think>\n",
      "D'accord, l'utilisateur est perdu et souhaite une réponse dans un style machiavélien. Je dois réfléchir à la manière de traduire \"Je suis perdu\" en un français sophistiqué qui évoque le Machiavel.\n",
      "\n",
      "Tout d'abord, considérer les phrases typiques du Machiavel – des expressions telles que \"tout est lié\", \"la prudence est une vertu cardinale\" ou \"le pouvoir corrompt et dégrade\". Mais puisque l'utilisateur se sent perdu, il faut un message plus personnel.\n",
      "\n",
      "Je pourrais utiliser le terme \"perdus\" au pluriel, car les Machiavéliens aiment penser en termes de puissance collective. Ensuite, mentionner la nécessité de stratégie et d'adaptabilité dans des situations de chaos ou d'incertitude. Cela évoque l'idée de se réinventer.\n",
      "\n",
      "De plus, ajouter un peu de cynisme pour suggérer que les apparences sont importantes – peut-être une métaphore sur trouver sa voie dans le désordre, même si c'est par manipulation ou astuce. Mais il faut rester énigmatique et ne pas être trop direct.\n",
      "\n",
      "Éviter d'utiliser des termes trop modernes qui pourraient manquer de profondeur machiavélique. Garder un ton formel et évocateur. Peut-être ajouter un élément de mélancolie, comme le fait que les chemins les plus obscurs puissent se révéler nécessaires.\n",
      "\n",
      "Vérifier s'il y a des références à l'œuvre de Machiavel qui pourraient être pertinentes ici. Par exemple, \"l'homme est un être de mal\" ou la notion de pouvoir et d'autorité. Mais cela pourrait paraître trop explicite. Il vaut mieux les insérer de manière subtile.\n",
      "\n",
      "Enfin, veiller à ce que la réponse soit concise mais pleine de sens, avec une touche de sophistication qui reflète bien le style machiavélique.\n",
      "</think>\n",
      "\n",
      "**Ah, vos pas solitaires t'ont mené dans un labyrinthe sans issue. Mais voyez-vous, c'est précisément là où se cache la vérité : tout chemin perdu n'est qu'une opportunité de réinvention.**\n",
      "\n",
      "Laissez-moi vous dire quelque chose d'éternel et de puissant : les plus grands esprits ne sont pas ceux qui trouvent rapidement leur chemin, mais ceux qui savent manipuler l'obscurité pour en faire une alliée.\n",
      "\n",
      "**Car voilà la grande sagesse machiavélique :** dans l'abîme de votre perdition, vous trouverez peut-être la clé de vos futures victoires. Car c'est là, dans les ténèbres qui vous encerclent, que se cache le secret de notre grandeur.\n",
      "\n",
      "Tout est lié, mon ami perdu. Et votre désorientation n'est qu'une étape vers l'illumination.\n"
     ]
    }
   ],
   "source": [
    "prompt = prompt_template.invoke({\"character\": \"Machiavel\", \"text\": \"Je suis perdu...\"})\n",
    "response = model.invoke(prompt)\n",
    "print(response.content)"
   ]
  },
  {
   "cell_type": "code",
   "execution_count": null,
   "id": "5140c108",
   "metadata": {},
   "outputs": [],
   "source": []
  }
 ],
 "metadata": {
  "kernelspec": {
   "display_name": "venv_langchain",
   "language": "python",
   "name": "python3"
  },
  "language_info": {
   "codemirror_mode": {
    "name": "ipython",
    "version": 3
   },
   "file_extension": ".py",
   "mimetype": "text/x-python",
   "name": "python",
   "nbconvert_exporter": "python",
   "pygments_lexer": "ipython3",
   "version": "3.10.16"
  }
 },
 "nbformat": 4,
 "nbformat_minor": 5
}
