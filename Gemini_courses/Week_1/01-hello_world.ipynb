{
 "cells": [
  {
   "cell_type": "markdown",
   "id": "48ed64f3",
   "metadata": {},
   "source": [
    "# Hello World!\n",
    "\n",
    "https://python.langchain.com/docs/introduction/"
   ]
  },
  {
   "cell_type": "code",
   "execution_count": 5,
   "id": "99d1bd1b",
   "metadata": {},
   "outputs": [
    {
     "data": {
      "text/plain": [
       "AIMessage(content='Hello there! How are you today? Is there anything I can help you with?', additional_kwargs={}, response_metadata={'model': 'cogito:8b', 'created_at': '2025-05-02T07:21:17.512758Z', 'done': True, 'done_reason': 'stop', 'total_duration': 1359749800, 'load_duration': 18313100, 'prompt_eval_count': 13, 'prompt_eval_duration': 297870700, 'eval_count': 18, 'eval_duration': 1043566000, 'model_name': 'cogito:8b'}, id='run-1f7e2593-ece0-4a14-9269-8a2f833db122-0', usage_metadata={'input_tokens': 13, 'output_tokens': 18, 'total_tokens': 31})"
      ]
     },
     "execution_count": 5,
     "metadata": {},
     "output_type": "execute_result"
    }
   ],
   "source": [
    "from langchain.chat_models import init_chat_model\n",
    "\n",
    "\n",
    "model = init_chat_model(model=\"cogito:8b\", model_provider=\"ollama\")\n",
    "model.invoke(\"Hello World!\")"
   ]
  },
  {
   "cell_type": "code",
   "execution_count": null,
   "id": "5c0606d6",
   "metadata": {},
   "outputs": [],
   "source": []
  }
 ],
 "metadata": {
  "kernelspec": {
   "display_name": "venv_langchain",
   "language": "python",
   "name": "python3"
  },
  "language_info": {
   "codemirror_mode": {
    "name": "ipython",
    "version": 3
   },
   "file_extension": ".py",
   "mimetype": "text/x-python",
   "name": "python",
   "nbconvert_exporter": "python",
   "pygments_lexer": "ipython3",
   "version": "3.10.16"
  }
 },
 "nbformat": 4,
 "nbformat_minor": 5
}
