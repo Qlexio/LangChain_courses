{
 "cells": [
  {
   "cell_type": "markdown",
   "id": "21a2f527",
   "metadata": {},
   "source": [
    "# Week 1 - Exercice 2\n",
    "\n",
    "1. À votre retour, codez le modèle Pydantic correspondant à cette dernière version de votre structure de sortie technique.\n",
    "2. Créez la chaîne LCEL simple (Prompt adapté -> Modèle Ollama -> PydanticOutputParser avec votre nouveau modèle).\n",
    "3. Invoquez-la pour tester."
   ]
  },
  {
   "cell_type": "code",
   "execution_count": 1,
   "id": "b2d09ad2",
   "metadata": {},
   "outputs": [],
   "source": [
    "from langchain_ollama import ChatOllama\n",
    "from langchain_core.prompts import ChatPromptTemplate, HumanMessagePromptTemplate, SystemMessagePromptTemplate\n",
    "from langchain_core.output_parsers import PydanticOutputParser\n",
    "from pydantic import BaseModel, RootModel, Field, ConfigDict\n",
    "from enum import Enum\n",
    "from typing import Optional, Type, Dict, Any\n",
    "from datetime import datetime"
   ]
  },
  {
   "cell_type": "markdown",
   "id": "048a6297",
   "metadata": {},
   "source": [
    "### Enums"
   ]
  },
  {
   "cell_type": "code",
   "execution_count": 2,
   "id": "ac4eefbb",
   "metadata": {},
   "outputs": [],
   "source": [
    "class TrendCategories(Enum):\n",
    "    \"\"\"List of actionnables for the trends.\"\"\"\n",
    "    STRONG_BULLISH = \"STRONG_BULLISH\"\n",
    "    BULLISH = \"BULLISH\"\n",
    "    CONSOLIDATION = \"CONSOLIDATION\"\n",
    "    BEARISH = \"BEARISH\"\n",
    "    STRONG_BEARISH = \"STRONG_BEARISH\"\n",
    "\n",
    "\n",
    "class TradingActions(Enum):\n",
    "    \"\"\"List of trading actions.\"\"\"\n",
    "    BUY = \"BUY\"\n",
    "    OUTPERFORM = \"OUTPERFORM\"\n",
    "    HOLD = \"HOLD\"\n",
    "    UNDERPERFORM = \"UNDERPERFORM\"\n",
    "    SELL = \"SELL\"\n",
    "\n",
    "\n",
    "class SupportResistanceInteractionStatus(Enum):\n",
    "    \"\"\"List of support and resistance status.\"\"\"\n",
    "    PRICE_ABOVE_SUPPORT = \"PRICE_ABOVE_SUPPORT\"\n",
    "    TESTING_SUPPORT = \"TESTING_SUPPORT\"\n",
    "    BREAKING_BELOW_SUPPORT = \"BREAKING_BELOW_SUPPORT\"\n",
    "    PRICE_BELOW_RESISTANCE = \"PRICE_BELOW_RESISTANCE\"\n",
    "    TESTING_RESISTANCE = \"TESTING_RESISTANCE\"\n",
    "    BREAKING_ABOVE_RESISTANCE = \"BREAKING_ABOVE_RESISTANCE\"\n",
    "    CONSOLIDATING_NEAR_SUPPORT_RESISTANCE = \"CONSOLIDATING_NEAR_SUPPORT_RESISTANCE\"\n",
    "\n",
    "\n",
    "class SupportResistanceInteractionImplication(Enum):\n",
    "    \"\"\"List of support and resistance interaction implication.\"\"\"\n",
    "    POTENTIAL_BUY_ZONE = \"POTENTIAL_BUY_ZONE\"\n",
    "    STOP_LOSS_ZONE = \"STOP_LOSS_ZONE\"\n",
    "    POTENTIAL_SELL_ZONE = \"POTENTIAL_SELL_ZONE\"\n",
    "    TAKE_PROFIT_ZONE = \"TAKE_PROFIT_ZONE\"\n",
    "    CONFIRMATION_SIGNAL = \"CONFIRMATION_SIGNAL\"\n"
   ]
  },
  {
   "cell_type": "markdown",
   "id": "0639b25d",
   "metadata": {},
   "source": [
    "## Generic evaluation creator (except Support and Resistance)"
   ]
  },
  {
   "cell_type": "code",
   "execution_count": 3,
   "id": "53e9fe5d",
   "metadata": {},
   "outputs": [],
   "source": [
    "def create_generic_evaluation_model(evaluation_name: str, raw_tool_class: Optional[Type[BaseModel]] = None) -> Type[BaseModel]:\n",
    "    \"\"\"Creates a Pydantic model for a specific evaluation dynamically, allowing conditional field additions.\"\"\"\n",
    "\n",
    "    # Définir les alias et descriptions dynamiquement\n",
    "    trend_alias = f\"{evaluation_name}_trend\"\n",
    "    trading_action_alias = f\"{evaluation_name}_trading_action\"\n",
    "    primary_trend_alias = f\"primary_{evaluation_name}_trend\"\n",
    "    primary_trend_touches_alias = f\"primary_{evaluation_name}_trend_number_of_touches\"\n",
    "    secondary_trend_alias = f\"secondary_{evaluation_name}_trend\"\n",
    "    secondary_trend_touches_alias = f\"secondary_{evaluation_name}_trend_number_of_touches\"\n",
    "    minor_trend_alias = f\"minor_{evaluation_name}_trend\"\n",
    "    minor_trend_touches_alias = f\"minor_{evaluation_name}_trend_number_of_touches\"\n",
    "    raw_tool_data_alias = \"raw_tool_data\"\n",
    "\n",
    "    annotations: Dict[str, Type] = {\n",
    "        'trend': str,\n",
    "        'trading_action': TradingActions,\n",
    "        'primary_trend': TrendCategories,\n",
    "        'primary_trend_number_of_touches': int,\n",
    "        'secondary_trend': TrendCategories,\n",
    "        'secondary_trend_number_of_touches': int,\n",
    "        'minor_trend': TrendCategories,\n",
    "        'minor_trend_number_of_touches': int,\n",
    "    }\n",
    "\n",
    "    attributes_dict: Dict[str, Any] = {\n",
    "        'trend': Field(..., alias=trend_alias, description=f\"(str) {evaluation_name.upper()} trend on the graph.\"),\n",
    "        'trading_action': Field(..., alias=trading_action_alias, description=f\"(enum) Action to take based on {evaluation_name.upper()}. Type of action: TradingActions\"),\n",
    "        'primary_trend': Field(..., alias=primary_trend_alias, description=f\"(enum) Category of the primary {evaluation_name.upper()} trend. Type of category: TrendCategories\"),\n",
    "        'primary_trend_number_of_touches': Field(..., alias=primary_trend_touches_alias, description=f\"(int) Number of times the prices touch the primary {evaluation_name.upper()} trend.\"),\n",
    "        'secondary_trend': Field(..., alias=secondary_trend_alias, description=f\"(enum) Category of the secondary {evaluation_name.upper()} trend. Type of category: TrendCategories\"),\n",
    "        'secondary_trend_number_of_touches': Field(..., alias=secondary_trend_touches_alias, description=f\"(int) Number of times the prices touch the secondary {evaluation_name.upper()} trend.\"),\n",
    "        'minor_trend': Field(..., alias=minor_trend_alias, description=f\"(enum) Category of the minor {evaluation_name.upper()} trend. Type of category: TrendCategories\"),\n",
    "        'minor_trend_number_of_touches': Field(..., alias=minor_trend_touches_alias, description=f\"(int) Number of times the prices prices touch the minor {evaluation_name.upper()} trend.\"),\n",
    "\n",
    "        # Configuration Pydantic pour la classe générée\n",
    "        'model_config': ConfigDict(populate_by_name=True),\n",
    "    }\n",
    "\n",
    "    if raw_tool_class:\n",
    "        annotations.update({\n",
    "            'raw_tool_data': Optional[raw_tool_class] # Utilise la classe RawToolData passée en argument\n",
    "        })\n",
    "        attributes_dict.update({\n",
    "            'raw_tool_data': Field(None, alias=raw_tool_data_alias, description=f\"Raw data specific to the {evaluation_name.upper()} tool.\"),\n",
    "        })\n",
    "\n",
    "    if evaluation_name in [\"prices\", \"volumes\"]:\n",
    "       # Définir les alias et descriptions pour les champs spécifiques\n",
    "       trend_evaluation_alias = f\"{evaluation_name}_trend_evaluation\"\n",
    "       # Ajouter les champs à attributes_dict avec leurs définitions (Field, valeur par défaut, etc.)\n",
    "       attributes_dict.update({\n",
    "           'trend_evaluation': Field(..., alias=trend_evaluation_alias, description=f\"(str) {evaluation_name.upper()} trend on the graph.\"),\n",
    "       })\n",
    "       # Ajouter les annotations de type pour les champs spécifiques à annotations\n",
    "       annotations.update({\n",
    "           'trend_evaluation': str,\n",
    "       })\n",
    "\n",
    "    if evaluation_name in [\"prices\"]:\n",
    "        additional_attributes: Dict[str, Any] = {\n",
    "            \"chart_pattern\": Field(..., alias=\"chart_pattern\", description=\"(str) Description of the chart pattern if any\"),\n",
    "            \"potential_chart_pattern\": Field(..., alias=\"potential_chart_pattern\", description=\"(str) Description of potentials coming chart pattern to focus on if any\"),\n",
    "            \"candlestick_pattern\": Field(..., alias=\"candlestick_pattern\", description=\"(str) Description of the candlestick pattern if any\"),\n",
    "            \"potential_candlestick_pattern\": Field(..., alias=\"potential_candlestick_pattern\", description=\"(str) Description of potentials coming candlestick pattern to focus on if any\"),\n",
    "        }\n",
    "        attributes_dict.update(additional_attributes)\n",
    "        annotations.update({\n",
    "            \"chart_pattern\": str,\n",
    "            \"potential_chart_pattern\": str,\n",
    "            \"candlestick_pattern\": str,\n",
    "            \"potential_candlestick_pattern\": str,\n",
    "        })\n",
    "\n",
    "    attributes_dict['__annotations__'] = annotations\n",
    "\n",
    "    # Utiliser type() pour créer dynamiquement la classe du modèle d'évaluation\n",
    "    evaluation_model_name = f\"{evaluation_name.capitalize()}Evaluation\" # Ex: RsiEvaluation\n",
    "    return type(evaluation_model_name, (BaseModel,), attributes_dict)"
   ]
  },
  {
   "cell_type": "markdown",
   "id": "55204a2f",
   "metadata": {},
   "source": [
    "#### Raw indicators data"
   ]
  },
  {
   "cell_type": "code",
   "execution_count": 4,
   "id": "a6447a4a",
   "metadata": {},
   "outputs": [],
   "source": [
    "class RSIRawValue(BaseModel):\n",
    "    \"\"\"RSI raw value provided by the RSI tool.\"\"\"\n",
    "    rsi_value: float = Field(alias=\"rsi_value\", description=\"RSI raw value provided by the RSI tool.\")\n",
    "    model_config = ConfigDict(populate_by_name=True)\n",
    "\n",
    "\n",
    "class MACDRawValues(BaseModel):\n",
    "    \"\"\"MACD raw values provided by the MACD tool.\"\"\"\n",
    "    short_moving_average_value: float = Field(alias=\"short_moving_average_value\", description=\"Short moving avering raw value provided by the MACD tool.\")\n",
    "    long_moving_average_value: float = Field(alias=\"long_moving_average_value\", description=\"Long moving avering raw value provided by the MACD tool.\")\n",
    "    signal_value: float = Field(alias=\"signal_value\", description=\"Signal raw value provided by the MACD tool.\")\n",
    "    model_config = ConfigDict(populate_by_name=True)\n",
    "\n",
    "\n",
    "class BollignerBandsRawValues(BaseModel):\n",
    "    \"\"\"Bollinger Bands raw values provided by the Bollinger Bands tool.\"\"\"\n",
    "    bollinger_bands_moving_average_value: float = Field(alias=\"bollinger_bands_moving_average_value\", description=\"Moving avering raw value provided by the Bollinger Bands tool.\")\n",
    "    bollinger_bands_above_standard_deviation_value: float = Field(alias=\"bollinger_bands_above_standard_deviation_value\", description=\"Upper standard deviation provided by the Bollinger Bands tools.\")\n",
    "    bollinger_bands_below_standard_deviation_value: float = Field(alias=\"bollinger_bands_below_standard_deviation_value\", description=\"Lower standard deviation provided by the Bollinger Bands tools.\")\n",
    "    model_config = ConfigDict(populate_by_name=True)"
   ]
  },
  {
   "cell_type": "markdown",
   "id": "5acf8b24",
   "metadata": {},
   "source": [
    "## Generic Support and Resistance creator"
   ]
  },
  {
   "cell_type": "code",
   "execution_count": 5,
   "id": "8d15a014",
   "metadata": {},
   "outputs": [],
   "source": [
    "def create_support_resistance_evaluation_model(evaluation_name: str, raw_tool_class: Type[BaseModel]) -> Type[BaseModel]:\n",
    "    \"\"\"Creates a Pydantic model for either support or resistance evaluation dynamically.\"\"\"\n",
    "\n",
    "    evaluation_alias = f\"{evaluation_name}s_evaluation\"\n",
    "    interaction_status_alias = f\"{evaluation_name}_interaction_status\"\n",
    "    interaction_implication_alias = f\"{evaluation_name}_interaction_implication\"\n",
    "    close_level_alias = f\"close_{evaluation_name}_level\"\n",
    "    middle_level_alias = f\"middle_{evaluation_name}_level\"\n",
    "    far_level_alias = f\"far_{evaluation_name}_level\"\n",
    "    raw_tool_data_alias = \"raw_tool_data\"\n",
    "\n",
    "    annotations: Dict[str, Type] = {\n",
    "        \"evaluation\": str,\n",
    "        \"interaction_status\": SupportResistanceInteractionStatus,\n",
    "        \"interaction_implication\": SupportResistanceInteractionImplication,\n",
    "        \"close_level\": str,\n",
    "        \"middle_level\": str,\n",
    "        \"far_level\": str,\n",
    "        \"raw_tool_data\": Optional[raw_tool_class],\n",
    "    }\n",
    "\n",
    "    attributes_dict: Dict[str, Any] = {\n",
    "        \"evaluation\": Field(..., alias=evaluation_alias, description=f\"(str) Global evaluation of the {evaluation_name.upper()}s.\"),\n",
    "        \"interaction_status\": Field(..., alias=interaction_status_alias, description=f\"(enum) Category of the {evaluation_name.upper()} status, Type of category: SupportResistanceInteractionStatus.\"),\n",
    "        \"interaction_implication\": Field(..., alias=interaction_implication_alias, description=f\"(enum) Category of the {evaluation_name.upper()} implication, Type of category: SupportResistanceInteractionImplication.\"),\n",
    "        \"close_level\": Field(..., alias=close_level_alias, description=f\"(str) Evaluation and/or value of the closiest {evaluation_name.upper()} in relation to the price.\"),\n",
    "        \"middle_level\": Field(..., alias=middle_level_alias, description=f\"(str) Evaluation and/or value of the middle {evaluation_name.upper()} in relation to the price.\"),\n",
    "        \"far_level\": Field(..., alias=far_level_alias, description=f\"(str) Evaluation and/or value of the farest {evaluation_name.upper()} in relation to the price.\"),\n",
    "        'raw_tool_data': Field(None, alias=raw_tool_data_alias, description=f\"Raw data specific to the {evaluation_name.upper()} tool.\"),\n",
    "    \n",
    "        \"model_config\": ConfigDict(populate_by_name=True),\n",
    "    }\n",
    "\n",
    "    attributes_dict[\"__annotations__\"] = annotations\n",
    "\n",
    "    evaluation_model_name = f\"{evaluation_name.capitalize()}Evaluation\"\n",
    "    return type(evaluation_model_name, (BaseModel,), attributes_dict)"
   ]
  },
  {
   "cell_type": "markdown",
   "id": "653810eb",
   "metadata": {},
   "source": [
    "#### Support/Resistance"
   ]
  },
  {
   "cell_type": "code",
   "execution_count": 6,
   "id": "b269ccce",
   "metadata": {},
   "outputs": [],
   "source": [
    "def create_support_resistance_raw_values_model(model_name: str) -> Type[BaseModel]:\n",
    "    \"\"\"Creates a Pydantic model for either support or resistance raw values profided by prices graphical analysis.\"\"\"\n",
    "\n",
    "    close_value_alias = f\"close_{model_name}_value\"\n",
    "    middle_value_alias = f\"middle_{model_name}_value\"\n",
    "    far_value_alias = f\"far_{model_name}_value\"\n",
    "\n",
    "    annotations: Dict[str, Type] = {\n",
    "        \"close_value\": float,\n",
    "        \"middle_value\": float,\n",
    "        \"far_value\": float,\n",
    "    }\n",
    "\n",
    "    attributes_dict: Dict[str, Any] = {\n",
    "        \"close_value\": Field(..., alias=close_value_alias , description=f\"Raw value of the closest {model_name.upper()} in relation to the price.\"),\n",
    "        \"middle_value\": Field(..., alias=middle_value_alias , description=f\"Raw value of the middle {model_name.upper()} in relation to the price.\"),\n",
    "        \"far_value\": Field(..., alias=far_value_alias , description=f\"Raw value of the farest {model_name.upper()} in relation to the price.\"),\n",
    "    \n",
    "        \"model_config\": ConfigDict(populate_by_name=True),\n",
    "    }\n",
    "\n",
    "    attributes_dict[\"__annotations__\"] = annotations\n",
    "\n",
    "    model_class_name = f\"{model_name.capitalize()}RawToolData\"\n",
    "    return type(model_class_name, (BaseModel,), attributes_dict)"
   ]
  },
  {
   "cell_type": "markdown",
   "id": "7e60f9a3",
   "metadata": {},
   "source": [
    "## Technical BaseModel"
   ]
  },
  {
   "cell_type": "markdown",
   "id": "2604d49a",
   "metadata": {},
   "source": [
    "#### Indicators"
   ]
  },
  {
   "cell_type": "code",
   "execution_count": 7,
   "id": "9362a538",
   "metadata": {},
   "outputs": [],
   "source": [
    "RSIEvaluation = create_generic_evaluation_model(evaluation_name=\"rsi\", raw_tool_class=RSIRawValue)\n",
    "MACDEvaluation = create_generic_evaluation_model(evaluation_name=\"macd\", raw_tool_class=MACDRawValues)\n",
    "BOLLINGER_BANDSEvaluation = create_generic_evaluation_model(evaluation_name=\"bollinger_bands\", raw_tool_class=BollignerBandsRawValues)"
   ]
  },
  {
   "cell_type": "code",
   "execution_count": 8,
   "id": "39c0dbd7",
   "metadata": {},
   "outputs": [],
   "source": [
    "class Indicators(BaseModel):\n",
    "    \"\"\"\"\"\"\n",
    "    rsi_evaluation: Optional[RSIEvaluation] = Field(None, alias=\"rsi_evaluation\", description=\"RSI evaluation.\")\n",
    "    macd_evaluation: Optional[MACDEvaluation] = Field(None, alias=\"macd_evaluation\", description=\"MACD evaluation.\")\n",
    "    bollinger_bands_evaluation: Optional[BOLLINGER_BANDSEvaluation] = Field(None, alias=\"bollinger_bands_evaluation\", description=\"Bollinger Bands evaluation.\")"
   ]
  },
  {
   "cell_type": "markdown",
   "id": "dc1af8ba",
   "metadata": {},
   "source": [
    "#### Support and Resistance"
   ]
  },
  {
   "cell_type": "code",
   "execution_count": 9,
   "id": "e3cca762",
   "metadata": {},
   "outputs": [],
   "source": [
    "SUPPORTRawToolData = create_support_resistance_raw_values_model(model_name=\"support\")\n",
    "RESISTANCERawToolData = create_support_resistance_raw_values_model(model_name=\"resistance\")\n",
    "\n",
    "SUPPORTEvaluation = create_support_resistance_evaluation_model(evaluation_name=\"support\", raw_tool_class=SUPPORTRawToolData)\n",
    "RESISTANCEEvaluation = create_support_resistance_evaluation_model(evaluation_name=\"resistance\", raw_tool_class=RESISTANCERawToolData)"
   ]
  },
  {
   "cell_type": "markdown",
   "id": "71341527",
   "metadata": {},
   "source": [
    "## Timeframe data"
   ]
  },
  {
   "cell_type": "code",
   "execution_count": 10,
   "id": "8db28fdc",
   "metadata": {},
   "outputs": [],
   "source": [
    "PRICESEvaluation = create_generic_evaluation_model(evaluation_name=\"prices\")\n",
    "VOLUMESEvaluation = create_generic_evaluation_model(evaluation_name=\"volumes\")"
   ]
  },
  {
   "cell_type": "code",
   "execution_count": 11,
   "id": "9676fb18",
   "metadata": {},
   "outputs": [],
   "source": [
    "class ShortTimeframeData(BaseModel):\n",
    "    \"\"\"\"\"\"\n",
    "    data_timeframe: int = Field(default=5, alias=\"data_timeframe\", description=\"(int) Value in minutes of graph timeframe used as reference for the next values.\")\n",
    "    supports_evaluation: SUPPORTEvaluation = Field(..., alias=\"supports_evaluation\", description=\"\")\n",
    "    resistances_evaluation: RESISTANCEEvaluation = Field(..., alias=\"resistances_evaluation\", description=\"\")\n",
    "    prices_evaluation: PRICESEvaluation = Field(..., alias=\"prices_evaluation\", description=\"\")\n",
    "    indicators: Indicators = Field(..., alias=\"indicators\", description=\"\")\n",
    "    volumes_evaluation: VOLUMESEvaluation = Field(..., alias=\"volumes_evaluation\", description=\"\")\n",
    "    short_timeframe_data_synthesis: str = Field(..., alias=\"short_timeframe_data_synthesis\",  description=\"(str) Synthesis and conclusion of the timeframe.\")\n",
    "    short_timeframe_data_action: TradingActions = Field(..., alias=\"short_timeframe_data_action\", description=(\"(enum) Action to take. Type of action: TradingActions\"))\n",
    "\n",
    "    model_config = ConfigDict(populate_by_name=True)\n"
   ]
  },
  {
   "cell_type": "code",
   "execution_count": 12,
   "id": "155b2870",
   "metadata": {},
   "outputs": [],
   "source": [
    "class LongTimeframeData(BaseModel):\n",
    "    \"\"\"\"\"\"\n",
    "    data_timeframe: int = Field(default=60, alias=\"data_timeframe\", description=\"(int) Value in minutes of graph timeframe used as reference for the next values.\")\n",
    "    supports_evaluation: SUPPORTEvaluation = Field(..., alias=\"supports_evaluation\", description=\"\")\n",
    "    resistances_evaluation: RESISTANCEEvaluation = Field(..., alias=\"resistances_evaluation\", description=\"\")\n",
    "    prices_evaluation: PRICESEvaluation = Field(..., alias=\"prices_evaluation\", description=\"\")\n",
    "    indicators: Indicators = Field(..., alias=\"indicators\", description=\"\")\n",
    "    volumes_evaluation: VOLUMESEvaluation = Field(..., alias=\"volumes_evaluation\", description=\"\")\n",
    "    long_timeframe_data_synthesis: str = Field(..., alias=\"long_timeframe_data_synthesis\",  description=\"(str) Synthesis and conclusion of the timeframe.\")\n",
    "    long_timeframe_data_action: TradingActions = Field(..., alias=\"long_timeframe_data_action\", description=(\"(enum) Action to take. Type of action: TradingActions\"))\n",
    "\n",
    "    model_config = ConfigDict(populate_by_name=True)\n"
   ]
  },
  {
   "cell_type": "markdown",
   "id": "1a4500df",
   "metadata": {},
   "source": [
    "## Synthese"
   ]
  },
  {
   "cell_type": "code",
   "execution_count": 13,
   "id": "11e257de",
   "metadata": {},
   "outputs": [],
   "source": [
    "class Synthesis(BaseModel):\n",
    "    \"\"\"\"\"\"\n",
    "    conclusion: str = Field(..., alias=\"conclusion\", description=\"(str) Conclusion about the market at his time.\")\n",
    "    synthese_remarkable_values: Optional[Dict[str, Any]] = Field(None, alias=\"synthese_remarkable_values\",\n",
    "                                                                 description=(\"(dict) Remarkables values to keep in mind as dictionary. \"\n",
    "                                                                              \"Values of the dictionary can be anything (str, int, float, dict, list, etc...)\"\n",
    "                                                                              )\n",
    "                                                                )\n",
    "    synthese_trading_action: TradingActions = Field(..., alias=\"synthese_trading_action\", description=\"(enum) Action to take. Type of action: TradingAction.\")\n",
    "    synthese_support_resistance_comment: str = Field(..., alias=\"synthese_support_resistance_comment\", description=\"(str) Comments about supports and/or resistances.\")\n",
    "    synthese_support_resistance_interaction_status: SupportResistanceInteractionStatus = Field(..., alias=\"synthese_support_resistance_interaction_status\",\n",
    "                                                                                               description=(\"(enum) Category of the support status, Type of category: \"\n",
    "                                                                                                            \"SupportResistanceInteractionStatus\")\n",
    "                                                                                               )\n",
    "    synthese_support_resistance_interaction_implication: SupportResistanceInteractionImplication = Field(..., alias=\"synthese_support_resistance_interaction_implication\",\n",
    "                                                                                                         description=(\"(enum) Category of the support implication, Type of \"\n",
    "                                                                                                                      \"category: SupportResistanceInteractionImplication\")\n",
    "                                                                                                        )\n",
    "\n",
    "    model_config = ConfigDict(populate_by_name=True)"
   ]
  },
  {
   "cell_type": "markdown",
   "id": "a04e194e",
   "metadata": {},
   "source": [
    "## Ticker output model"
   ]
  },
  {
   "cell_type": "code",
   "execution_count": 14,
   "id": "19c7f501",
   "metadata": {},
   "outputs": [],
   "source": [
    "class TickerTechnicalAnalysis(BaseModel):\n",
    "    name_of_the_company: str = Field(..., alias=\"name_of_the_company\", description=\"(str) Name of the company\")\n",
    "    isin_of_the_company: str = Field(..., alias=\"isin_of_the_company\", description=\"(str) ISIN code of the company\")\n",
    "    time_of_the_report: datetime = Field(..., alias=\"time_of_the_report\", description=\"(str) datetime of the current report\")\n",
    "    short_timeframe_data: ShortTimeframeData = Field(..., alias=\"short_timeframe_data\", description=\"\")\n",
    "    long_timeframe_data: LongTimeframeData = Field(..., alias=\"long_timeframe_data\", description=\"\")\n",
    "    synthesis: Synthesis = Field(..., alias=\"synthesis\", description=\"\")\n",
    "\n",
    "    model_config = ConfigDict(populate_by_name=True)\n"
   ]
  },
  {
   "cell_type": "code",
   "execution_count": null,
   "id": "06a63479",
   "metadata": {},
   "outputs": [],
   "source": []
  }
 ],
 "metadata": {
  "kernelspec": {
   "display_name": "venv_langchain",
   "language": "python",
   "name": "python3"
  },
  "language_info": {
   "codemirror_mode": {
    "name": "ipython",
    "version": 3
   },
   "file_extension": ".py",
   "mimetype": "text/x-python",
   "name": "python",
   "nbconvert_exporter": "python",
   "pygments_lexer": "ipython3",
   "version": "3.10.16"
  }
 },
 "nbformat": 4,
 "nbformat_minor": 5
}
