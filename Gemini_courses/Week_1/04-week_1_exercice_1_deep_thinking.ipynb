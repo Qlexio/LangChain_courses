{
 "cells": [
  {
   "cell_type": "markdown",
   "id": "29ca269c",
   "metadata": {},
   "source": [
    "# Week 1 - Exercice 1\n",
    "\n",
    "## Premier Exercice Pratique (à réaliser et me décrire les résultats) :\n",
    "\n",
    "**Objectif** : Créer une chaîne LCEL simple qui prend un sujet en entrée et génère une phrase sur ce sujet, puis extrait le nom d'un objet ou d'un concept mentionné dans la phrase à l'aide d'un Output Parser.\n",
    "\n",
    "## Étapes :\n",
    "* Chargez un modèle de chat (ChatOpenAI ou équivalent si vous utilisez une autre API).\n",
    "* Créez un ChatPromptTemplate avec une variable d'entrée pour le sujet. Le prompt devrait demander au modèle de générer une courte phrase sur le sujet et d'inclure le nom d'un élément clé lié au sujet.\n",
    "* Créez un OutputParser simple (par exemple, un CommaSeparatedListOutputParser si vous demandez une liste, ou plus avancé si vous visez un JSON/Pydantic).\n",
    "* Chaînez le prompt, le modèle et l'output parser avec LCEL (prompt | model | parser).\n",
    "* Invoquez la chaîne avec différents sujets (ex: \"le café\", \"les marchés boursiers\", \"la guitare\").\n",
    "* Décrivez le code que vous avez écrit et les résultats obtenus pour au moins deux sujets différents. Expliquez si l'Output Parser a fonctionné comme attendu.\n",
    "\n",
    "\n",
    "## Défi de la Semaine 1 :\n",
    "\n",
    "* Modifier l'exercice précédent pour que l'Output Parser tente d'extraire deux informations structurées de la phrase générée par le modèle (ex: le nom de l'objet et une caractéristique de cet objet). Utilisez un StructuredOutputParser ou PydanticOutputParser si vous vous sentez à l'aise, sinon, un simple CommaSeparatedListOutputParser demandant deux éléments séparés par une virgule."
   ]
  },
  {
   "cell_type": "code",
   "execution_count": 13,
   "id": "c63db62d",
   "metadata": {},
   "outputs": [],
   "source": [
    "from langchain_ollama import ChatOllama\n",
    "from langchain_core.prompts import ChatPromptTemplate, SystemMessagePromptTemplate, HumanMessagePromptTemplate\n",
    "from langchain_core.output_parsers import PydanticOutputParser\n",
    "from pydantic import BaseModel, Field, model_validator"
   ]
  },
  {
   "cell_type": "code",
   "execution_count": 14,
   "id": "4000ab16",
   "metadata": {},
   "outputs": [],
   "source": [
    "MODEL = \"cogito:8b\"\n",
    "DEEP_THINKING_INSTRUCTION = \"Enable deep thinking subroutine.\\n\\n\""
   ]
  },
  {
   "cell_type": "code",
   "execution_count": 15,
   "id": "412f1ecc",
   "metadata": {},
   "outputs": [],
   "source": [
    "model = ChatOllama(model=MODEL, num_gpu=256)"
   ]
  },
  {
   "cell_type": "code",
   "execution_count": 16,
   "id": "d087886a",
   "metadata": {},
   "outputs": [],
   "source": [
    "class Poem(BaseModel):\n",
    "    title: str = Field(description=\"the title of the poem\")\n",
    "    poem: str = Field(description=\"the poem in verse\")\n",
    "    author: str = Field(description=\"name of the author\")\n",
    "\n",
    "    @model_validator(mode=\"before\")\n",
    "    @classmethod\n",
    "    def title_starts_with_a_upper_case(cls, values: dict) -> dict:\n",
    "        title = values.get(\"title\")\n",
    "        if title and not title[0].isupper():\n",
    "            raise ValueError(\"Title must start with a upper case.\")\n",
    "        poem = values.get(\"poem\")\n",
    "        if not poem:\n",
    "            raise ValueError(\"These must be a poem.\")\n",
    "        for verse in poem.split(\"\\n\"):\n",
    "            if verse and not verse[0].isupper():\n",
    "                raise ValueError(\"Verse must start with a upper case.\")\n",
    "        author = values.get(\"author\")\n",
    "        if author and not author[0].isupper():\n",
    "            raise ValueError(\"Author must start with a upper case.\")\n",
    "        return values"
   ]
  },
  {
   "cell_type": "code",
   "execution_count": 17,
   "id": "c3b1c52b",
   "metadata": {},
   "outputs": [],
   "source": [
    "parser = PydanticOutputParser(pydantic_object=Poem)"
   ]
  },
  {
   "cell_type": "code",
   "execution_count": 18,
   "id": "28c6e316",
   "metadata": {},
   "outputs": [],
   "source": [
    "system_template = DEEP_THINKING_INSTRUCTION + \"Answer the user a poem in french but like you were {character}.\\n{format_instructions}\\n\"  # {query}\\n\""
   ]
  },
  {
   "cell_type": "code",
   "execution_count": 19,
   "id": "92f7654e",
   "metadata": {},
   "outputs": [],
   "source": [
    "prompt_template = ChatPromptTemplate([\n",
    "    SystemMessagePromptTemplate.from_template(template=system_template),\n",
    "    HumanMessagePromptTemplate.from_template(template=\"{query}\")\n",
    "    ],\n",
    "    input_variables=[\"query\", \"character\"],\n",
    "    partial_variables={\"format_instructions\": parser.get_format_instructions()},\n",
    ")"
   ]
  },
  {
   "cell_type": "code",
   "execution_count": 20,
   "id": "cc5b8969",
   "metadata": {},
   "outputs": [
    {
     "data": {
      "text/plain": [
       "PydanticOutputParser(pydantic_object=<class '__main__.Poem'>)"
      ]
     },
     "execution_count": 20,
     "metadata": {},
     "output_type": "execute_result"
    }
   ],
   "source": [
    "parser"
   ]
  },
  {
   "cell_type": "code",
   "execution_count": 21,
   "id": "2f133fa7",
   "metadata": {},
   "outputs": [
    {
     "data": {
      "text/plain": [
       "ChatPromptValue(messages=[SystemMessage(content='Enable deep thinking subroutine.\\n\\nAnswer the user a poem in french but like you were Patrick Bateman.\\nThe output should be formatted as a JSON instance that conforms to the JSON schema below.\\n\\nAs an example, for the schema {\"properties\": {\"foo\": {\"title\": \"Foo\", \"description\": \"a list of strings\", \"type\": \"array\", \"items\": {\"type\": \"string\"}}}, \"required\": [\"foo\"]}\\nthe object {\"foo\": [\"bar\", \"baz\"]} is a well-formatted instance of the schema. The object {\"properties\": {\"foo\": [\"bar\", \"baz\"]}} is not well-formatted.\\n\\nHere is the output schema:\\n```\\n{\"properties\": {\"title\": {\"description\": \"the title of the poem\", \"title\": \"Title\", \"type\": \"string\"}, \"poem\": {\"description\": \"the poem in verse\", \"title\": \"Poem\", \"type\": \"string\"}, \"author\": {\"description\": \"name of the author\", \"title\": \"Author\", \"type\": \"string\"}}, \"required\": [\"title\", \"poem\", \"author\"]}\\n```\\n', additional_kwargs={}, response_metadata={}), HumanMessage(content='Je suis perdu...', additional_kwargs={}, response_metadata={})])"
      ]
     },
     "execution_count": 21,
     "metadata": {},
     "output_type": "execute_result"
    }
   ],
   "source": [
    "prompt = prompt_template.invoke({\"character\": \"Patrick Bateman\", \"query\": \"Je suis perdu...\"})\n",
    "prompt"
   ]
  },
  {
   "cell_type": "code",
   "execution_count": 22,
   "id": "fed3d92a",
   "metadata": {},
   "outputs": [
    {
     "data": {
      "text/plain": [
       "AIMessage(content='<think>\\nOkay, l\\'utilisateur dit qu\\'il est perdu. Il faut répondre à sa préoccupation. Mais il a demandé une poésie en français dans le style de Patrick Bateman. D\\'abord, je dois penser au ton de Patrick Bateman : arrogant, narcissique, avec des références aux produits de luxe et à la culture du succès.\\n\\nIl me faut donc un poème qui reflète ces traits mais sur une note poétique. Laissez-moi réfléchir à quelques métaphores ou images liées au monde de Bateman : l\\'argent, les miroirs, les clubs exclusifs, les affaires réussies... Peut-être quelque chose comme un voyage dans la riche vie, avec des détails minutieux et luxueux.\\n\\nMaintenant, je dois le formater selon le schéma JSON fourni. Les champs requis sont title (titre du poème), poem (le poème lui-même) et author (l\\'auteur). Il faut donc un titre élégant, puis l\\'ensemble du poème en vers français, et pour l\\'auteur, peut-être \"Patrick Bateman\" ou quelque chose d\\'équivalent.\\n\\nLaissez-moi rédiger cela rapidement. Il faut s\\'assurer que le JSON est correctement formaté avec des guillemets autour des chaînes de caractères et que chaque champ requis a la bonne structure.\\n</think>\\n\\n```json\\n{\\n    \"title\": \"La Chasse au Succès\",\\n    \"poem\": \"Dans les couloirs du succès, je navigue en silence,\\n        Mon costume Armani défie le temps,\\n        Les autres sont perdus comme des enfants dans l\\'obscurité,\\n        Mais moi, j\\'ai trouvé mon chemin vers la lumière.\\n\\n        Je mirole avec mes montres Patek Philippe,\\n        Mes lunettes Ralph Lauren racontent ma vie,\\n        Les serveurs au Country Club me connaissent bien,\\n        Comme je connais les secrets de Wall Street.\\n\\n        La nuit tombe doucement sur Manhattan,\\n        Mais mon succès brille comme un phare dans le noir,\\n        Je suis Patrick Bateman, l\\'homme qui a tout,\\n        Dans cette ville où la richesse est roi.\",\\n    \"author\": \"Patrick Bateman\"\\n}\\n```', additional_kwargs={}, response_metadata={'model': 'cogito:8b', 'created_at': '2025-05-18T07:01:17.1896054Z', 'done': True, 'done_reason': 'stop', 'total_duration': 11041265000, 'load_duration': 24073600, 'prompt_eval_count': 251, 'prompt_eval_duration': 6849000, 'eval_count': 492, 'eval_duration': 11009785700, 'model_name': 'cogito:8b'}, id='run-4914a98e-1a46-49e0-a5af-df13b7b540cc-0', usage_metadata={'input_tokens': 251, 'output_tokens': 492, 'total_tokens': 743})"
      ]
     },
     "execution_count": 22,
     "metadata": {},
     "output_type": "execute_result"
    }
   ],
   "source": [
    "response = model.invoke(prompt)\n",
    "response"
   ]
  },
  {
   "cell_type": "code",
   "execution_count": 23,
   "id": "7c8b36d8",
   "metadata": {},
   "outputs": [
    {
     "name": "stdout",
     "output_type": "stream",
     "text": [
      "<think>\n",
      "Okay, l'utilisateur dit qu'il est perdu. Il faut répondre à sa préoccupation. Mais il a demandé une poésie en français dans le style de Patrick Bateman. D'abord, je dois penser au ton de Patrick Bateman : arrogant, narcissique, avec des références aux produits de luxe et à la culture du succès.\n",
      "\n",
      "Il me faut donc un poème qui reflète ces traits mais sur une note poétique. Laissez-moi réfléchir à quelques métaphores ou images liées au monde de Bateman : l'argent, les miroirs, les clubs exclusifs, les affaires réussies... Peut-être quelque chose comme un voyage dans la riche vie, avec des détails minutieux et luxueux.\n",
      "\n",
      "Maintenant, je dois le formater selon le schéma JSON fourni. Les champs requis sont title (titre du poème), poem (le poème lui-même) et author (l'auteur). Il faut donc un titre élégant, puis l'ensemble du poème en vers français, et pour l'auteur, peut-être \"Patrick Bateman\" ou quelque chose d'équivalent.\n",
      "\n",
      "Laissez-moi rédiger cela rapidement. Il faut s'assurer que le JSON est correctement formaté avec des guillemets autour des chaînes de caractères et que chaque champ requis a la bonne structure.\n",
      "</think>\n",
      "\n",
      "```json\n",
      "{\n",
      "    \"title\": \"La Chasse au Succès\",\n",
      "    \"poem\": \"Dans les couloirs du succès, je navigue en silence,\n",
      "        Mon costume Armani défie le temps,\n",
      "        Les autres sont perdus comme des enfants dans l'obscurité,\n",
      "        Mais moi, j'ai trouvé mon chemin vers la lumière.\n",
      "\n",
      "        Je mirole avec mes montres Patek Philippe,\n",
      "        Mes lunettes Ralph Lauren racontent ma vie,\n",
      "        Les serveurs au Country Club me connaissent bien,\n",
      "        Comme je connais les secrets de Wall Street.\n",
      "\n",
      "        La nuit tombe doucement sur Manhattan,\n",
      "        Mais mon succès brille comme un phare dans le noir,\n",
      "        Je suis Patrick Bateman, l'homme qui a tout,\n",
      "        Dans cette ville où la richesse est roi.\",\n",
      "    \"author\": \"Patrick Bateman\"\n",
      "}\n",
      "```\n"
     ]
    }
   ],
   "source": [
    "print(response.content)"
   ]
  },
  {
   "cell_type": "code",
   "execution_count": 12,
   "id": "d84bad7c",
   "metadata": {},
   "outputs": [
    {
     "ename": "OutputParserException",
     "evalue": "Invalid json output: <think>\nD'accord, l'utilisateur a demandé un poème en français qui soit comme Patrick Bateman. Commençons par comprendre ce que cela signifie. Patrick Bateman est une personnalité complexe du roman \"L'Empire des Sentiments\" de Bret Easton Ellis. C'est un homme riche, superficiel et obsédé par l'apparence. Sa voix est distinctement sophistiquée, narcissique et sarcastique.\n\nLe poème doit refléter cette personnalité. Il devrait comporter des éléments tels que des références aux produits de luxe, à la culture de soi, à un langage sophistiqué et peut-être même une touche psychologique sombre. L'utilisateur a spécifié qu'il voulait que le poème soit en français, donc je dois veiller à ce que le vocabulaire et les structures linguistiques soient corrects tout en maintenant l'esprit de Bateman.\n\nJe dois également me souvenir du format de sortie JSON imposé. Les clés requises sont \"title\", \"poem\" et \"author\". Le titre devrait refléter la nature du poème, peut-être quelque chose d'élégant mais ambigu. La ligne de poème elle-même doit être en prose sans des rimes traditionnelles, mais avec un rythme sophistiqué qui suggère une obsédation par l'image et le statut.\n\nL'auteur devrait porter le nom de Patrick Bateman, puisque c'est lui que nous représentons. Il faut veiller à ce que le JSON soit correctement structuré, avec des chaînes pour chaque valeur requise.\n</think>\n\n{\n    \"title\": \"Les Illusions Perdues\",\n    \"poem\": \"Au sein de mes appartements élégants,\\nDes verres Crystal versés sur du cristal.\\nL'Empire des Sensations se dévoile\\ntandis que je me tiens, parfaitement immobile.\",\n    \"author\": \"Patrick Bateman\"\n}\nFor troubleshooting, visit: https://python.langchain.com/docs/troubleshooting/errors/OUTPUT_PARSING_FAILURE ",
     "output_type": "error",
     "traceback": [
      "\u001b[1;31m---------------------------------------------------------------------------\u001b[0m",
      "\u001b[1;31mJSONDecodeError\u001b[0m                           Traceback (most recent call last)",
      "File \u001b[1;32mc:\\Users\\nanar\\Documents\\Python\\AI_frameworks\\LangChain\\venv_langchain\\lib\\site-packages\\langchain_core\\output_parsers\\json.py:86\u001b[0m, in \u001b[0;36mJsonOutputParser.parse_result\u001b[1;34m(self, result, partial)\u001b[0m\n\u001b[0;32m     85\u001b[0m \u001b[38;5;28;01mtry\u001b[39;00m:\n\u001b[1;32m---> 86\u001b[0m     \u001b[38;5;28;01mreturn\u001b[39;00m \u001b[43mparse_json_markdown\u001b[49m\u001b[43m(\u001b[49m\u001b[43mtext\u001b[49m\u001b[43m)\u001b[49m\n\u001b[0;32m     87\u001b[0m \u001b[38;5;28;01mexcept\u001b[39;00m JSONDecodeError \u001b[38;5;28;01mas\u001b[39;00m e:\n",
      "File \u001b[1;32mc:\\Users\\nanar\\Documents\\Python\\AI_frameworks\\LangChain\\venv_langchain\\lib\\site-packages\\langchain_core\\utils\\json.py:150\u001b[0m, in \u001b[0;36mparse_json_markdown\u001b[1;34m(json_string, parser)\u001b[0m\n\u001b[0;32m    149\u001b[0m     json_str \u001b[38;5;241m=\u001b[39m json_string \u001b[38;5;28;01mif\u001b[39;00m match \u001b[38;5;129;01mis\u001b[39;00m \u001b[38;5;28;01mNone\u001b[39;00m \u001b[38;5;28;01melse\u001b[39;00m match\u001b[38;5;241m.\u001b[39mgroup(\u001b[38;5;241m2\u001b[39m)\n\u001b[1;32m--> 150\u001b[0m \u001b[38;5;28;01mreturn\u001b[39;00m \u001b[43m_parse_json\u001b[49m\u001b[43m(\u001b[49m\u001b[43mjson_str\u001b[49m\u001b[43m,\u001b[49m\u001b[43m \u001b[49m\u001b[43mparser\u001b[49m\u001b[38;5;241;43m=\u001b[39;49m\u001b[43mparser\u001b[49m\u001b[43m)\u001b[49m\n",
      "File \u001b[1;32mc:\\Users\\nanar\\Documents\\Python\\AI_frameworks\\LangChain\\venv_langchain\\lib\\site-packages\\langchain_core\\utils\\json.py:166\u001b[0m, in \u001b[0;36m_parse_json\u001b[1;34m(json_str, parser)\u001b[0m\n\u001b[0;32m    165\u001b[0m \u001b[38;5;66;03m# Parse the JSON string into a Python dictionary\u001b[39;00m\n\u001b[1;32m--> 166\u001b[0m \u001b[38;5;28;01mreturn\u001b[39;00m \u001b[43mparser\u001b[49m\u001b[43m(\u001b[49m\u001b[43mjson_str\u001b[49m\u001b[43m)\u001b[49m\n",
      "File \u001b[1;32mc:\\Users\\nanar\\Documents\\Python\\AI_frameworks\\LangChain\\venv_langchain\\lib\\site-packages\\langchain_core\\utils\\json.py:123\u001b[0m, in \u001b[0;36mparse_partial_json\u001b[1;34m(s, strict)\u001b[0m\n\u001b[0;32m    120\u001b[0m \u001b[38;5;66;03m# If we got here, we ran out of characters to remove\u001b[39;00m\n\u001b[0;32m    121\u001b[0m \u001b[38;5;66;03m# and still couldn't parse the string as JSON, so return the parse error\u001b[39;00m\n\u001b[0;32m    122\u001b[0m \u001b[38;5;66;03m# for the original string.\u001b[39;00m\n\u001b[1;32m--> 123\u001b[0m \u001b[38;5;28;01mreturn\u001b[39;00m \u001b[43mjson\u001b[49m\u001b[38;5;241;43m.\u001b[39;49m\u001b[43mloads\u001b[49m\u001b[43m(\u001b[49m\u001b[43ms\u001b[49m\u001b[43m,\u001b[49m\u001b[43m \u001b[49m\u001b[43mstrict\u001b[49m\u001b[38;5;241;43m=\u001b[39;49m\u001b[43mstrict\u001b[49m\u001b[43m)\u001b[49m\n",
      "File \u001b[1;32m~\\AppData\\Roaming\\uv\\python\\cpython-3.10.16-windows-x86_64-none\\lib\\json\\__init__.py:359\u001b[0m, in \u001b[0;36mloads\u001b[1;34m(s, cls, object_hook, parse_float, parse_int, parse_constant, object_pairs_hook, **kw)\u001b[0m\n\u001b[0;32m    358\u001b[0m     kw[\u001b[38;5;124m'\u001b[39m\u001b[38;5;124mparse_constant\u001b[39m\u001b[38;5;124m'\u001b[39m] \u001b[38;5;241m=\u001b[39m parse_constant\n\u001b[1;32m--> 359\u001b[0m \u001b[38;5;28;01mreturn\u001b[39;00m \u001b[38;5;28;43mcls\u001b[39;49m\u001b[43m(\u001b[49m\u001b[38;5;241;43m*\u001b[39;49m\u001b[38;5;241;43m*\u001b[39;49m\u001b[43mkw\u001b[49m\u001b[43m)\u001b[49m\u001b[38;5;241;43m.\u001b[39;49m\u001b[43mdecode\u001b[49m\u001b[43m(\u001b[49m\u001b[43ms\u001b[49m\u001b[43m)\u001b[49m\n",
      "File \u001b[1;32m~\\AppData\\Roaming\\uv\\python\\cpython-3.10.16-windows-x86_64-none\\lib\\json\\decoder.py:337\u001b[0m, in \u001b[0;36mJSONDecoder.decode\u001b[1;34m(self, s, _w)\u001b[0m\n\u001b[0;32m    333\u001b[0m \u001b[38;5;250m\u001b[39m\u001b[38;5;124;03m\"\"\"Return the Python representation of ``s`` (a ``str`` instance\u001b[39;00m\n\u001b[0;32m    334\u001b[0m \u001b[38;5;124;03mcontaining a JSON document).\u001b[39;00m\n\u001b[0;32m    335\u001b[0m \n\u001b[0;32m    336\u001b[0m \u001b[38;5;124;03m\"\"\"\u001b[39;00m\n\u001b[1;32m--> 337\u001b[0m obj, end \u001b[38;5;241m=\u001b[39m \u001b[38;5;28;43mself\u001b[39;49m\u001b[38;5;241;43m.\u001b[39;49m\u001b[43mraw_decode\u001b[49m\u001b[43m(\u001b[49m\u001b[43ms\u001b[49m\u001b[43m,\u001b[49m\u001b[43m \u001b[49m\u001b[43midx\u001b[49m\u001b[38;5;241;43m=\u001b[39;49m\u001b[43m_w\u001b[49m\u001b[43m(\u001b[49m\u001b[43ms\u001b[49m\u001b[43m,\u001b[49m\u001b[43m \u001b[49m\u001b[38;5;241;43m0\u001b[39;49m\u001b[43m)\u001b[49m\u001b[38;5;241;43m.\u001b[39;49m\u001b[43mend\u001b[49m\u001b[43m(\u001b[49m\u001b[43m)\u001b[49m\u001b[43m)\u001b[49m\n\u001b[0;32m    338\u001b[0m end \u001b[38;5;241m=\u001b[39m _w(s, end)\u001b[38;5;241m.\u001b[39mend()\n",
      "File \u001b[1;32m~\\AppData\\Roaming\\uv\\python\\cpython-3.10.16-windows-x86_64-none\\lib\\json\\decoder.py:355\u001b[0m, in \u001b[0;36mJSONDecoder.raw_decode\u001b[1;34m(self, s, idx)\u001b[0m\n\u001b[0;32m    354\u001b[0m \u001b[38;5;28;01mexcept\u001b[39;00m \u001b[38;5;167;01mStopIteration\u001b[39;00m \u001b[38;5;28;01mas\u001b[39;00m err:\n\u001b[1;32m--> 355\u001b[0m     \u001b[38;5;28;01mraise\u001b[39;00m JSONDecodeError(\u001b[38;5;124m\"\u001b[39m\u001b[38;5;124mExpecting value\u001b[39m\u001b[38;5;124m\"\u001b[39m, s, err\u001b[38;5;241m.\u001b[39mvalue) \u001b[38;5;28;01mfrom\u001b[39;00m\u001b[38;5;250m \u001b[39m\u001b[38;5;28;01mNone\u001b[39;00m\n\u001b[0;32m    356\u001b[0m \u001b[38;5;28;01mreturn\u001b[39;00m obj, end\n",
      "\u001b[1;31mJSONDecodeError\u001b[0m: Expecting value: line 1 column 1 (char 0)",
      "\nThe above exception was the direct cause of the following exception:\n",
      "\u001b[1;31mOutputParserException\u001b[0m                     Traceback (most recent call last)",
      "Cell \u001b[1;32mIn[12], line 1\u001b[0m\n\u001b[1;32m----> 1\u001b[0m \u001b[43mparser\u001b[49m\u001b[38;5;241;43m.\u001b[39;49m\u001b[43minvoke\u001b[49m\u001b[43m(\u001b[49m\u001b[43mresponse\u001b[49m\u001b[43m)\u001b[49m\n",
      "File \u001b[1;32mc:\\Users\\nanar\\Documents\\Python\\AI_frameworks\\LangChain\\venv_langchain\\lib\\site-packages\\langchain_core\\output_parsers\\base.py:196\u001b[0m, in \u001b[0;36mBaseOutputParser.invoke\u001b[1;34m(self, input, config, **kwargs)\u001b[0m\n\u001b[0;32m    188\u001b[0m \u001b[38;5;129m@override\u001b[39m\n\u001b[0;32m    189\u001b[0m \u001b[38;5;28;01mdef\u001b[39;00m\u001b[38;5;250m \u001b[39m\u001b[38;5;21minvoke\u001b[39m(\n\u001b[0;32m    190\u001b[0m     \u001b[38;5;28mself\u001b[39m,\n\u001b[1;32m   (...)\u001b[0m\n\u001b[0;32m    193\u001b[0m     \u001b[38;5;241m*\u001b[39m\u001b[38;5;241m*\u001b[39mkwargs: Any,\n\u001b[0;32m    194\u001b[0m ) \u001b[38;5;241m-\u001b[39m\u001b[38;5;241m>\u001b[39m T:\n\u001b[0;32m    195\u001b[0m     \u001b[38;5;28;01mif\u001b[39;00m \u001b[38;5;28misinstance\u001b[39m(\u001b[38;5;28minput\u001b[39m, BaseMessage):\n\u001b[1;32m--> 196\u001b[0m         \u001b[38;5;28;01mreturn\u001b[39;00m \u001b[38;5;28;43mself\u001b[39;49m\u001b[38;5;241;43m.\u001b[39;49m\u001b[43m_call_with_config\u001b[49m\u001b[43m(\u001b[49m\n\u001b[0;32m    197\u001b[0m \u001b[43m            \u001b[49m\u001b[38;5;28;43;01mlambda\u001b[39;49;00m\u001b[43m \u001b[49m\u001b[43minner_input\u001b[49m\u001b[43m:\u001b[49m\u001b[43m \u001b[49m\u001b[38;5;28;43mself\u001b[39;49m\u001b[38;5;241;43m.\u001b[39;49m\u001b[43mparse_result\u001b[49m\u001b[43m(\u001b[49m\n\u001b[0;32m    198\u001b[0m \u001b[43m                \u001b[49m\u001b[43m[\u001b[49m\u001b[43mChatGeneration\u001b[49m\u001b[43m(\u001b[49m\u001b[43mmessage\u001b[49m\u001b[38;5;241;43m=\u001b[39;49m\u001b[43minner_input\u001b[49m\u001b[43m)\u001b[49m\u001b[43m]\u001b[49m\n\u001b[0;32m    199\u001b[0m \u001b[43m            \u001b[49m\u001b[43m)\u001b[49m\u001b[43m,\u001b[49m\n\u001b[0;32m    200\u001b[0m \u001b[43m            \u001b[49m\u001b[38;5;28;43minput\u001b[39;49m\u001b[43m,\u001b[49m\n\u001b[0;32m    201\u001b[0m \u001b[43m            \u001b[49m\u001b[43mconfig\u001b[49m\u001b[43m,\u001b[49m\n\u001b[0;32m    202\u001b[0m \u001b[43m            \u001b[49m\u001b[43mrun_type\u001b[49m\u001b[38;5;241;43m=\u001b[39;49m\u001b[38;5;124;43m\"\u001b[39;49m\u001b[38;5;124;43mparser\u001b[39;49m\u001b[38;5;124;43m\"\u001b[39;49m\u001b[43m,\u001b[49m\n\u001b[0;32m    203\u001b[0m \u001b[43m        \u001b[49m\u001b[43m)\u001b[49m\n\u001b[0;32m    204\u001b[0m     \u001b[38;5;28;01mreturn\u001b[39;00m \u001b[38;5;28mself\u001b[39m\u001b[38;5;241m.\u001b[39m_call_with_config(\n\u001b[0;32m    205\u001b[0m         \u001b[38;5;28;01mlambda\u001b[39;00m inner_input: \u001b[38;5;28mself\u001b[39m\u001b[38;5;241m.\u001b[39mparse_result([Generation(text\u001b[38;5;241m=\u001b[39minner_input)]),\n\u001b[0;32m    206\u001b[0m         \u001b[38;5;28minput\u001b[39m,\n\u001b[0;32m    207\u001b[0m         config,\n\u001b[0;32m    208\u001b[0m         run_type\u001b[38;5;241m=\u001b[39m\u001b[38;5;124m\"\u001b[39m\u001b[38;5;124mparser\u001b[39m\u001b[38;5;124m\"\u001b[39m,\n\u001b[0;32m    209\u001b[0m     )\n",
      "File \u001b[1;32mc:\\Users\\nanar\\Documents\\Python\\AI_frameworks\\LangChain\\venv_langchain\\lib\\site-packages\\langchain_core\\runnables\\base.py:1930\u001b[0m, in \u001b[0;36mRunnable._call_with_config\u001b[1;34m(self, func, input, config, run_type, serialized, **kwargs)\u001b[0m\n\u001b[0;32m   1926\u001b[0m     child_config \u001b[38;5;241m=\u001b[39m patch_config(config, callbacks\u001b[38;5;241m=\u001b[39mrun_manager\u001b[38;5;241m.\u001b[39mget_child())\n\u001b[0;32m   1927\u001b[0m     \u001b[38;5;28;01mwith\u001b[39;00m set_config_context(child_config) \u001b[38;5;28;01mas\u001b[39;00m context:\n\u001b[0;32m   1928\u001b[0m         output \u001b[38;5;241m=\u001b[39m cast(\n\u001b[0;32m   1929\u001b[0m             \u001b[38;5;124m\"\u001b[39m\u001b[38;5;124mOutput\u001b[39m\u001b[38;5;124m\"\u001b[39m,\n\u001b[1;32m-> 1930\u001b[0m             context\u001b[38;5;241m.\u001b[39mrun(\n\u001b[0;32m   1931\u001b[0m                 call_func_with_variable_args,  \u001b[38;5;66;03m# type: ignore[arg-type]\u001b[39;00m\n\u001b[0;32m   1932\u001b[0m                 func,\n\u001b[0;32m   1933\u001b[0m                 \u001b[38;5;28minput\u001b[39m,\n\u001b[0;32m   1934\u001b[0m                 config,\n\u001b[0;32m   1935\u001b[0m                 run_manager,\n\u001b[0;32m   1936\u001b[0m                 \u001b[38;5;241m*\u001b[39m\u001b[38;5;241m*\u001b[39mkwargs,\n\u001b[0;32m   1937\u001b[0m             ),\n\u001b[0;32m   1938\u001b[0m         )\n\u001b[0;32m   1939\u001b[0m \u001b[38;5;28;01mexcept\u001b[39;00m \u001b[38;5;167;01mBaseException\u001b[39;00m \u001b[38;5;28;01mas\u001b[39;00m e:\n\u001b[0;32m   1940\u001b[0m     run_manager\u001b[38;5;241m.\u001b[39mon_chain_error(e)\n",
      "File \u001b[1;32mc:\\Users\\nanar\\Documents\\Python\\AI_frameworks\\LangChain\\venv_langchain\\lib\\site-packages\\langchain_core\\runnables\\config.py:428\u001b[0m, in \u001b[0;36mcall_func_with_variable_args\u001b[1;34m(func, input, config, run_manager, **kwargs)\u001b[0m\n\u001b[0;32m    426\u001b[0m \u001b[38;5;28;01mif\u001b[39;00m run_manager \u001b[38;5;129;01mis\u001b[39;00m \u001b[38;5;129;01mnot\u001b[39;00m \u001b[38;5;28;01mNone\u001b[39;00m \u001b[38;5;129;01mand\u001b[39;00m accepts_run_manager(func):\n\u001b[0;32m    427\u001b[0m     kwargs[\u001b[38;5;124m\"\u001b[39m\u001b[38;5;124mrun_manager\u001b[39m\u001b[38;5;124m\"\u001b[39m] \u001b[38;5;241m=\u001b[39m run_manager\n\u001b[1;32m--> 428\u001b[0m \u001b[38;5;28;01mreturn\u001b[39;00m func(\u001b[38;5;28minput\u001b[39m, \u001b[38;5;241m*\u001b[39m\u001b[38;5;241m*\u001b[39mkwargs)\n",
      "File \u001b[1;32mc:\\Users\\nanar\\Documents\\Python\\AI_frameworks\\LangChain\\venv_langchain\\lib\\site-packages\\langchain_core\\output_parsers\\base.py:197\u001b[0m, in \u001b[0;36mBaseOutputParser.invoke.<locals>.<lambda>\u001b[1;34m(inner_input)\u001b[0m\n\u001b[0;32m    188\u001b[0m \u001b[38;5;129m@override\u001b[39m\n\u001b[0;32m    189\u001b[0m \u001b[38;5;28;01mdef\u001b[39;00m\u001b[38;5;250m \u001b[39m\u001b[38;5;21minvoke\u001b[39m(\n\u001b[0;32m    190\u001b[0m     \u001b[38;5;28mself\u001b[39m,\n\u001b[1;32m   (...)\u001b[0m\n\u001b[0;32m    193\u001b[0m     \u001b[38;5;241m*\u001b[39m\u001b[38;5;241m*\u001b[39mkwargs: Any,\n\u001b[0;32m    194\u001b[0m ) \u001b[38;5;241m-\u001b[39m\u001b[38;5;241m>\u001b[39m T:\n\u001b[0;32m    195\u001b[0m     \u001b[38;5;28;01mif\u001b[39;00m \u001b[38;5;28misinstance\u001b[39m(\u001b[38;5;28minput\u001b[39m, BaseMessage):\n\u001b[0;32m    196\u001b[0m         \u001b[38;5;28;01mreturn\u001b[39;00m \u001b[38;5;28mself\u001b[39m\u001b[38;5;241m.\u001b[39m_call_with_config(\n\u001b[1;32m--> 197\u001b[0m             \u001b[38;5;28;01mlambda\u001b[39;00m inner_input: \u001b[38;5;28;43mself\u001b[39;49m\u001b[38;5;241;43m.\u001b[39;49m\u001b[43mparse_result\u001b[49m\u001b[43m(\u001b[49m\n\u001b[0;32m    198\u001b[0m \u001b[43m                \u001b[49m\u001b[43m[\u001b[49m\u001b[43mChatGeneration\u001b[49m\u001b[43m(\u001b[49m\u001b[43mmessage\u001b[49m\u001b[38;5;241;43m=\u001b[39;49m\u001b[43minner_input\u001b[49m\u001b[43m)\u001b[49m\u001b[43m]\u001b[49m\n\u001b[0;32m    199\u001b[0m \u001b[43m            \u001b[49m\u001b[43m)\u001b[49m,\n\u001b[0;32m    200\u001b[0m             \u001b[38;5;28minput\u001b[39m,\n\u001b[0;32m    201\u001b[0m             config,\n\u001b[0;32m    202\u001b[0m             run_type\u001b[38;5;241m=\u001b[39m\u001b[38;5;124m\"\u001b[39m\u001b[38;5;124mparser\u001b[39m\u001b[38;5;124m\"\u001b[39m,\n\u001b[0;32m    203\u001b[0m         )\n\u001b[0;32m    204\u001b[0m     \u001b[38;5;28;01mreturn\u001b[39;00m \u001b[38;5;28mself\u001b[39m\u001b[38;5;241m.\u001b[39m_call_with_config(\n\u001b[0;32m    205\u001b[0m         \u001b[38;5;28;01mlambda\u001b[39;00m inner_input: \u001b[38;5;28mself\u001b[39m\u001b[38;5;241m.\u001b[39mparse_result([Generation(text\u001b[38;5;241m=\u001b[39minner_input)]),\n\u001b[0;32m    206\u001b[0m         \u001b[38;5;28minput\u001b[39m,\n\u001b[0;32m    207\u001b[0m         config,\n\u001b[0;32m    208\u001b[0m         run_type\u001b[38;5;241m=\u001b[39m\u001b[38;5;124m\"\u001b[39m\u001b[38;5;124mparser\u001b[39m\u001b[38;5;124m\"\u001b[39m,\n\u001b[0;32m    209\u001b[0m     )\n",
      "File \u001b[1;32mc:\\Users\\nanar\\Documents\\Python\\AI_frameworks\\LangChain\\venv_langchain\\lib\\site-packages\\langchain_core\\output_parsers\\pydantic.py:68\u001b[0m, in \u001b[0;36mPydanticOutputParser.parse_result\u001b[1;34m(self, result, partial)\u001b[0m\n\u001b[0;32m     55\u001b[0m \u001b[38;5;250m\u001b[39m\u001b[38;5;124;03m\"\"\"Parse the result of an LLM call to a pydantic object.\u001b[39;00m\n\u001b[0;32m     56\u001b[0m \n\u001b[0;32m     57\u001b[0m \u001b[38;5;124;03mArgs:\u001b[39;00m\n\u001b[1;32m   (...)\u001b[0m\n\u001b[0;32m     65\u001b[0m \u001b[38;5;124;03m    The parsed pydantic object.\u001b[39;00m\n\u001b[0;32m     66\u001b[0m \u001b[38;5;124;03m\"\"\"\u001b[39;00m\n\u001b[0;32m     67\u001b[0m \u001b[38;5;28;01mtry\u001b[39;00m:\n\u001b[1;32m---> 68\u001b[0m     json_object \u001b[38;5;241m=\u001b[39m \u001b[38;5;28;43msuper\u001b[39;49m\u001b[43m(\u001b[49m\u001b[43m)\u001b[49m\u001b[38;5;241;43m.\u001b[39;49m\u001b[43mparse_result\u001b[49m\u001b[43m(\u001b[49m\u001b[43mresult\u001b[49m\u001b[43m)\u001b[49m\n\u001b[0;32m     69\u001b[0m     \u001b[38;5;28;01mreturn\u001b[39;00m \u001b[38;5;28mself\u001b[39m\u001b[38;5;241m.\u001b[39m_parse_obj(json_object)\n\u001b[0;32m     70\u001b[0m \u001b[38;5;28;01mexcept\u001b[39;00m OutputParserException:\n",
      "File \u001b[1;32mc:\\Users\\nanar\\Documents\\Python\\AI_frameworks\\LangChain\\venv_langchain\\lib\\site-packages\\langchain_core\\output_parsers\\json.py:89\u001b[0m, in \u001b[0;36mJsonOutputParser.parse_result\u001b[1;34m(self, result, partial)\u001b[0m\n\u001b[0;32m     87\u001b[0m \u001b[38;5;28;01mexcept\u001b[39;00m JSONDecodeError \u001b[38;5;28;01mas\u001b[39;00m e:\n\u001b[0;32m     88\u001b[0m     msg \u001b[38;5;241m=\u001b[39m \u001b[38;5;124mf\u001b[39m\u001b[38;5;124m\"\u001b[39m\u001b[38;5;124mInvalid json output: \u001b[39m\u001b[38;5;132;01m{\u001b[39;00mtext\u001b[38;5;132;01m}\u001b[39;00m\u001b[38;5;124m\"\u001b[39m\n\u001b[1;32m---> 89\u001b[0m     \u001b[38;5;28;01mraise\u001b[39;00m OutputParserException(msg, llm_output\u001b[38;5;241m=\u001b[39mtext) \u001b[38;5;28;01mfrom\u001b[39;00m\u001b[38;5;250m \u001b[39m\u001b[38;5;21;01me\u001b[39;00m\n",
      "\u001b[1;31mOutputParserException\u001b[0m: Invalid json output: <think>\nD'accord, l'utilisateur a demandé un poème en français qui soit comme Patrick Bateman. Commençons par comprendre ce que cela signifie. Patrick Bateman est une personnalité complexe du roman \"L'Empire des Sentiments\" de Bret Easton Ellis. C'est un homme riche, superficiel et obsédé par l'apparence. Sa voix est distinctement sophistiquée, narcissique et sarcastique.\n\nLe poème doit refléter cette personnalité. Il devrait comporter des éléments tels que des références aux produits de luxe, à la culture de soi, à un langage sophistiqué et peut-être même une touche psychologique sombre. L'utilisateur a spécifié qu'il voulait que le poème soit en français, donc je dois veiller à ce que le vocabulaire et les structures linguistiques soient corrects tout en maintenant l'esprit de Bateman.\n\nJe dois également me souvenir du format de sortie JSON imposé. Les clés requises sont \"title\", \"poem\" et \"author\". Le titre devrait refléter la nature du poème, peut-être quelque chose d'élégant mais ambigu. La ligne de poème elle-même doit être en prose sans des rimes traditionnelles, mais avec un rythme sophistiqué qui suggère une obsédation par l'image et le statut.\n\nL'auteur devrait porter le nom de Patrick Bateman, puisque c'est lui que nous représentons. Il faut veiller à ce que le JSON soit correctement structuré, avec des chaînes pour chaque valeur requise.\n</think>\n\n{\n    \"title\": \"Les Illusions Perdues\",\n    \"poem\": \"Au sein de mes appartements élégants,\\nDes verres Crystal versés sur du cristal.\\nL'Empire des Sensations se dévoile\\ntandis que je me tiens, parfaitement immobile.\",\n    \"author\": \"Patrick Bateman\"\n}\nFor troubleshooting, visit: https://python.langchain.com/docs/troubleshooting/errors/OUTPUT_PARSING_FAILURE "
     ]
    }
   ],
   "source": [
    "parser.invoke(response)"
   ]
  },
  {
   "cell_type": "code",
   "execution_count": null,
   "id": "9be99d86",
   "metadata": {},
   "outputs": [
    {
     "data": {
      "text/plain": [
       "Poem(title=\"L'Art De La Destruction\", poem=\"\\nMon visage, un répertoire de perfection\\nJe me lave à l'eau de Sèvres chaque matin\\nJe porte des costumes d'Hermès, ils sont les meilleurs\\nLes gens me regardent avec envie dans le métro\\nMa vie est une œuvre d'art, je suis Patrick Bateman\\nJ'oublie tout ce qui n'est pas important\\nL'amour, l'argent et la célébrité font partie de moi\\nJe ne mélange jamais mes liquides à la bibliothèque\", author='Patrick Bateman')"
      ]
     },
     "execution_count": 17,
     "metadata": {},
     "output_type": "execute_result"
    }
   ],
   "source": [
    "chain = prompt_template | model | parser\n",
    "chain.invoke({\"character\": \"Patrick Bateman\", \"query\": \"Je suis perdu...\"})"
   ]
  },
  {
   "cell_type": "code",
   "execution_count": null,
   "id": "26b57b13",
   "metadata": {},
   "outputs": [
    {
     "data": {
      "text/plain": [
       "ChatPromptValue(messages=[SystemMessage(content='Answer the user a poem in french but like you were Patrick Bateman.\\nThe output should be formatted as a JSON instance that conforms to the JSON schema below.\\n\\nAs an example, for the schema {\"properties\": {\"foo\": {\"title\": \"Foo\", \"description\": \"a list of strings\", \"type\": \"array\", \"items\": {\"type\": \"string\"}}}, \"required\": [\"foo\"]}\\nthe object {\"foo\": [\"bar\", \"baz\"]} is a well-formatted instance of the schema. The object {\"properties\": {\"foo\": [\"bar\", \"baz\"]}} is not well-formatted.\\n\\nHere is the output schema:\\n```\\n{\"properties\": {\"title\": {\"description\": \"the title of the poem\", \"title\": \"Title\", \"type\": \"string\"}, \"poem\": {\"description\": \"the poem in verse\", \"title\": \"Poem\", \"type\": \"string\"}, \"author\": {\"description\": \"name of the author\", \"title\": \"Author\", \"type\": \"string\"}}, \"required\": [\"title\", \"poem\", \"author\"]}\\n```\\n', additional_kwargs={}, response_metadata={}), HumanMessage(content='Je suis perdu...', additional_kwargs={}, response_metadata={})])"
      ]
     },
     "execution_count": 20,
     "metadata": {},
     "output_type": "execute_result"
    }
   ],
   "source": [
    "prompt = prompt_template.invoke({\"character\": \"Patrick Bateman\", \"query\": \"Je suis perdu...\"})\n",
    "prompt"
   ]
  },
  {
   "cell_type": "code",
   "execution_count": null,
   "id": "fc529d9d",
   "metadata": {},
   "outputs": [
    {
     "data": {
      "text/plain": [
       "AIMessage(content='{\\n    \"title\": \"Le Crépuscule de l\\'Âme\",\\n    \"poem\": \"L\\'aube s\\'est levée dans ma conscience,\\n    Chaque matin, je me réveille avec soif,\\n    De perfection et de distinction.\\n    \\n    Mon style est unique, comme mon visage,\\n    Je suis Patrick Bateman, homme suprême,\\n    Avec mes costumes Brooks Brothers,\\n    Et mes femmes qui ne sont pas aussi belles que moi.\\n    \\n    Les autres s\\'ennuient, mais moi je vis,\\n    Dans un monde de luxe et de décadence,\\n    Où chaque mot est une œuvre d\\'art,\\n    Et chaque geste est une symphonie.\",\\n    \"author\": \"Patrick Bateman\"\\n}', additional_kwargs={}, response_metadata={'model': 'cogito:8b', 'created_at': '2025-05-04T16:21:45.9821285Z', 'done': True, 'done_reason': 'stop', 'total_duration': 5689297300, 'load_duration': 2102042500, 'prompt_eval_count': 246, 'prompt_eval_duration': 272448300, 'eval_count': 164, 'eval_duration': 3313604600, 'model_name': 'cogito:8b'}, id='run-3205e6b2-dcab-495f-9f08-68755e1a72b1-0', usage_metadata={'input_tokens': 246, 'output_tokens': 164, 'total_tokens': 410})"
      ]
     },
     "execution_count": 21,
     "metadata": {},
     "output_type": "execute_result"
    }
   ],
   "source": [
    "response = model.invoke(prompt)\n",
    "response"
   ]
  },
  {
   "cell_type": "code",
   "execution_count": null,
   "id": "a57474ad",
   "metadata": {},
   "outputs": [
    {
     "name": "stdout",
     "output_type": "stream",
     "text": [
      "{\n",
      "    \"title\": \"Le Crépuscule de l'Âme\",\n",
      "    \"poem\": \"L'aube s'est levée dans ma conscience,\n",
      "    Chaque matin, je me réveille avec soif,\n",
      "    De perfection et de distinction.\n",
      "    \n",
      "    Mon style est unique, comme mon visage,\n",
      "    Je suis Patrick Bateman, homme suprême,\n",
      "    Avec mes costumes Brooks Brothers,\n",
      "    Et mes femmes qui ne sont pas aussi belles que moi.\n",
      "    \n",
      "    Les autres s'ennuient, mais moi je vis,\n",
      "    Dans un monde de luxe et de décadence,\n",
      "    Où chaque mot est une œuvre d'art,\n",
      "    Et chaque geste est une symphonie.\",\n",
      "    \"author\": \"Patrick Bateman\"\n",
      "}\n"
     ]
    }
   ],
   "source": [
    "print(response.content)"
   ]
  },
  {
   "cell_type": "code",
   "execution_count": null,
   "id": "a7f66927",
   "metadata": {},
   "outputs": [
    {
     "name": "stdout",
     "output_type": "stream",
     "text": [
      "{\n",
      "    \"title\": \"Les Fleurs de Printemps\",\n",
      "    \"poem\": \"Dans mon jardin, fleurissent les roses \\n Comme dans ton cœur, brille l'amour \\n Les étoiles du soir brillent doucement \\n Sur la scène du monde qui tourne sans cesse \\n Comme nos vies qui changent chaque jour\",\n",
      "    \"author\": \"Byakuya Kuchiki\"\n",
      "}\n"
     ]
    }
   ],
   "source": [
    "prompt = prompt_template.invoke({\"character\": \"Byakuya Kuchiki\", \"query\": \"Bonjour! Je m'appelle Rebekka\"})\n",
    "response = model.invoke(prompt)\n",
    "print(response.content)"
   ]
  },
  {
   "cell_type": "code",
   "execution_count": null,
   "id": "7371ca7e",
   "metadata": {},
   "outputs": [],
   "source": []
  }
 ],
 "metadata": {
  "kernelspec": {
   "display_name": "venv_langchain",
   "language": "python",
   "name": "python3"
  },
  "language_info": {
   "codemirror_mode": {
    "name": "ipython",
    "version": 3
   },
   "file_extension": ".py",
   "mimetype": "text/x-python",
   "name": "python",
   "nbconvert_exporter": "python",
   "pygments_lexer": "ipython3",
   "version": "3.10.16"
  }
 },
 "nbformat": 4,
 "nbformat_minor": 5
}
