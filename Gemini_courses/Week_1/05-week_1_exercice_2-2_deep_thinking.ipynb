{
 "cells": [
  {
   "cell_type": "markdown",
   "id": "21a2f527",
   "metadata": {},
   "source": [
    "# Week 1 - Exercice 2\n",
    "\n",
    "1. À votre retour, codez le modèle Pydantic correspondant à cette dernière version de votre structure de sortie technique.\n",
    "2. Créez la chaîne LCEL simple (Prompt adapté -> Modèle Ollama -> PydanticOutputParser avec votre nouveau modèle).\n",
    "3. Invoquez-la pour tester."
   ]
  },
  {
   "cell_type": "code",
   "execution_count": 1,
   "id": "b2d09ad2",
   "metadata": {},
   "outputs": [],
   "source": [
    "from langchain_ollama import ChatOllama\n",
    "from langchain_core.prompts import ChatPromptTemplate, HumanMessagePromptTemplate, SystemMessagePromptTemplate\n",
    "from langchain_core.output_parsers import PydanticOutputParser\n",
    "from pprint import pprint"
   ]
  },
  {
   "cell_type": "code",
   "execution_count": 2,
   "id": "7b76c20f",
   "metadata": {},
   "outputs": [],
   "source": [
    "import sys\n",
    "\n",
    "sys.path.append(\"../\")\n",
    "\n",
    "from agents.technical_analyst.technical_analysis_pydantic_model import TickerTechnicalAnalysis, ShortTimeframeData, LongTimeframeData"
   ]
  },
  {
   "cell_type": "code",
   "execution_count": 3,
   "id": "9dcbfb3f",
   "metadata": {},
   "outputs": [],
   "source": [
    "MODEL = \"cogito:8b\"\n",
    "DEEP_THINKING_INSTRUCTION = \"Enable deep thinking subroutine.\\n\\n\"\n",
    "invocation = {\"stock\": \"APPLE\"}"
   ]
  },
  {
   "cell_type": "code",
   "execution_count": 4,
   "id": "0c41b1bc",
   "metadata": {},
   "outputs": [],
   "source": [
    "model = ChatOllama(model=MODEL, num_gpu=256, num_ctx=4092 * 2, num_predict=1000 * 2)"
   ]
  },
  {
   "cell_type": "code",
   "execution_count": 5,
   "id": "ca6d9e00",
   "metadata": {},
   "outputs": [],
   "source": [
    "system_template = (\"As trading technical analyst expert, your task is to generate the technical analysis report for {stock} at the specified JSON format. \"\n",
    "                   \"Use the data (simulated for the exercice) to generate the technical analysis of {stock} action totally filling the JSON schema described below. \"\n",
    "\n",
    "                   \"The format of your response is CRITICAL and MUST ADHERE EXACTLY to the JSON schema described here:\"\n",
    "                   \"\\n{format_instructions}\\n\"\n",
    "                   \"Once again, the JSON schema described above is CRITICAL and MUST BE RESPECTED.\"\n",
    "                #    \"Remove the text between the '<think>' and '</think>' tags from the output.\"\n",
    "                )"
   ]
  },
  {
   "cell_type": "code",
   "execution_count": 6,
   "id": "a3aacd0c",
   "metadata": {},
   "outputs": [],
   "source": [
    "short_technical_parser = PydanticOutputParser(pydantic_object=ShortTimeframeData)\n",
    "\n",
    "short_prompt_template = ChatPromptTemplate([\n",
    "    SystemMessagePromptTemplate.from_template(template=system_template),\n",
    "    HumanMessagePromptTemplate.from_template(template=\"{stock}\"),\n",
    "    ],\n",
    "    input_variables=[\"stock\"],\n",
    "    partial_variables={\"format_instructions\": short_technical_parser.get_format_instructions(),\n",
    "                    #    \"output_json_schema\": technical_parser._get_schema(pydantic_object=TickerTechnicalAnalysis)\n",
    "                       }\n",
    ")"
   ]
  },
  {
   "cell_type": "code",
   "execution_count": 7,
   "id": "99cf62b1",
   "metadata": {},
   "outputs": [
    {
     "data": {
      "text/plain": [
       "ChatPromptValue(messages=[SystemMessage(content='As trading technical analyst expert, your task is to generate the technical analysis report for APPLE at the specified JSON format. Use the data (simulated for the exercice) to generate the technical analysis of APPLE action totally filling the JSON schema described below. The format of your response is CRITICAL and MUST ADHERE EXACTLY to the JSON schema described here:\\nThe output should be formatted as a JSON instance that conforms to the JSON schema below.\\n\\nAs an example, for the schema {\"properties\": {\"foo\": {\"title\": \"Foo\", \"description\": \"a list of strings\", \"type\": \"array\", \"items\": {\"type\": \"string\"}}}, \"required\": [\"foo\"]}\\nthe object {\"foo\": [\"bar\", \"baz\"]} is a well-formatted instance of the schema. The object {\"properties\": {\"foo\": [\"bar\", \"baz\"]}} is not well-formatted.\\n\\nHere is the output schema:\\n```\\n{\"$defs\": {\"BollignerBandsRawValues\": {\"description\": \"Bollinger Bands raw values provided by the Bollinger Bands tool.\", \"properties\": {\"bollinger_bands_moving_average_value\": {\"description\": \"Moving avering raw value provided by the Bollinger Bands tool.\", \"title\": \"Bollinger Bands Moving Average Value\", \"type\": \"number\"}, \"bollinger_bands_above_standard_deviation_value\": {\"description\": \"Upper standard deviation provided by the Bollinger Bands tools.\", \"title\": \"Bollinger Bands Above Standard Deviation Value\", \"type\": \"number\"}, \"bollinger_bands_below_standard_deviation_value\": {\"description\": \"Lower standard deviation provided by the Bollinger Bands tools.\", \"title\": \"Bollinger Bands Below Standard Deviation Value\", \"type\": \"number\"}}, \"required\": [\"bollinger_bands_moving_average_value\", \"bollinger_bands_above_standard_deviation_value\", \"bollinger_bands_below_standard_deviation_value\"], \"title\": \"BollignerBandsRawValues\", \"type\": \"object\"}, \"Bollinger_bandsEvaluation\": {\"properties\": {\"bollinger_bands_trend\": {\"description\": \"(str) BOLLINGER_BANDS trend on the graph.\", \"title\": \"Bollinger Bands Trend\", \"type\": \"string\"}, \"bollinger_bands_trading_action\": {\"$ref\": \"#/$defs/TradingActions\", \"description\": \"(enum) Action to take based on BOLLINGER_BANDS. Type of action: TradingActions\"}, \"primary_bollinger_bands_trend\": {\"$ref\": \"#/$defs/TrendCategories\", \"description\": \"(enum) Category of the primary BOLLINGER_BANDS trend. Type of category: TrendCategories\"}, \"primary_bollinger_bands_trend_number_of_touches\": {\"description\": \"(int) Number of times the prices touch the primary BOLLINGER_BANDS trend.\", \"title\": \"Primary Bollinger Bands Trend Number Of Touches\", \"type\": \"integer\"}, \"secondary_bollinger_bands_trend\": {\"$ref\": \"#/$defs/TrendCategories\", \"description\": \"(enum) Category of the secondary BOLLINGER_BANDS trend. Type of category: TrendCategories\"}, \"secondary_bollinger_bands_trend_number_of_touches\": {\"description\": \"(int) Number of times the prices touch the secondary BOLLINGER_BANDS trend.\", \"title\": \"Secondary Bollinger Bands Trend Number Of Touches\", \"type\": \"integer\"}, \"minor_bollinger_bands_trend\": {\"$ref\": \"#/$defs/TrendCategories\", \"description\": \"(enum) Category of the minor BOLLINGER_BANDS trend. Type of category: TrendCategories\"}, \"minor_bollinger_bands_trend_number_of_touches\": {\"description\": \"(int) Number of times the prices prices touch the minor BOLLINGER_BANDS trend.\", \"title\": \"Minor Bollinger Bands Trend Number Of Touches\", \"type\": \"integer\"}, \"raw_tool_data\": {\"$ref\": \"#/$defs/BollignerBandsRawValues\", \"description\": \"Raw data specific to the BOLLINGER_BANDS tool.\"}}, \"required\": [\"bollinger_bands_trend\", \"bollinger_bands_trading_action\", \"primary_bollinger_bands_trend\", \"primary_bollinger_bands_trend_number_of_touches\", \"secondary_bollinger_bands_trend\", \"secondary_bollinger_bands_trend_number_of_touches\", \"minor_bollinger_bands_trend\", \"minor_bollinger_bands_trend_number_of_touches\", \"raw_tool_data\"], \"title\": \"Bollinger_bandsEvaluation\", \"type\": \"object\"}, \"Indicators\": {\"properties\": {\"rsi_evaluation\": {\"anyOf\": [{\"$ref\": \"#/$defs/RsiEvaluation\"}, {\"type\": \"null\"}], \"default\": null, \"description\": \"RSI evaluation.\"}, \"macd_evaluation\": {\"anyOf\": [{\"$ref\": \"#/$defs/MacdEvaluation\"}, {\"type\": \"null\"}], \"default\": null, \"description\": \"MACD evaluation.\"}, \"bollinger_bands_evaluation\": {\"anyOf\": [{\"$ref\": \"#/$defs/Bollinger_bandsEvaluation\"}, {\"type\": \"null\"}], \"default\": null, \"description\": \"Bollinger Bands evaluation.\"}}, \"title\": \"Indicators\", \"type\": \"object\"}, \"MACDRawValues\": {\"description\": \"MACD raw values provided by the MACD tool.\", \"properties\": {\"short_moving_average_value\": {\"description\": \"Short moving avering raw value provided by the MACD tool.\", \"title\": \"Short Moving Average Value\", \"type\": \"number\"}, \"long_moving_average_value\": {\"description\": \"Long moving avering raw value provided by the MACD tool.\", \"title\": \"Long Moving Average Value\", \"type\": \"number\"}, \"signal_value\": {\"description\": \"Signal raw value provided by the MACD tool.\", \"title\": \"Signal Value\", \"type\": \"number\"}}, \"required\": [\"short_moving_average_value\", \"long_moving_average_value\", \"signal_value\"], \"title\": \"MACDRawValues\", \"type\": \"object\"}, \"MacdEvaluation\": {\"properties\": {\"macd_trend\": {\"description\": \"(str) MACD trend on the graph.\", \"title\": \"Macd Trend\", \"type\": \"string\"}, \"macd_trading_action\": {\"$ref\": \"#/$defs/TradingActions\", \"description\": \"(enum) Action to take based on MACD. Type of action: TradingActions\"}, \"primary_macd_trend\": {\"$ref\": \"#/$defs/TrendCategories\", \"description\": \"(enum) Category of the primary MACD trend. Type of category: TrendCategories\"}, \"primary_macd_trend_number_of_touches\": {\"description\": \"(int) Number of times the prices touch the primary MACD trend.\", \"title\": \"Primary Macd Trend Number Of Touches\", \"type\": \"integer\"}, \"secondary_macd_trend\": {\"$ref\": \"#/$defs/TrendCategories\", \"description\": \"(enum) Category of the secondary MACD trend. Type of category: TrendCategories\"}, \"secondary_macd_trend_number_of_touches\": {\"description\": \"(int) Number of times the prices touch the secondary MACD trend.\", \"title\": \"Secondary Macd Trend Number Of Touches\", \"type\": \"integer\"}, \"minor_macd_trend\": {\"$ref\": \"#/$defs/TrendCategories\", \"description\": \"(enum) Category of the minor MACD trend. Type of category: TrendCategories\"}, \"minor_macd_trend_number_of_touches\": {\"description\": \"(int) Number of times the prices prices touch the minor MACD trend.\", \"title\": \"Minor Macd Trend Number Of Touches\", \"type\": \"integer\"}, \"raw_tool_data\": {\"$ref\": \"#/$defs/MACDRawValues\", \"description\": \"Raw data specific to the MACD tool.\"}}, \"required\": [\"macd_trend\", \"macd_trading_action\", \"primary_macd_trend\", \"primary_macd_trend_number_of_touches\", \"secondary_macd_trend\", \"secondary_macd_trend_number_of_touches\", \"minor_macd_trend\", \"minor_macd_trend_number_of_touches\", \"raw_tool_data\"], \"title\": \"MacdEvaluation\", \"type\": \"object\"}, \"PRICESRawValue\": {\"description\": \"PRICES raw value provided by the chart.\", \"properties\": {\"prices_value\": {\"description\": \"PRICES raw value provided by the chart.\", \"title\": \"Prices Value\", \"type\": \"number\"}}, \"required\": [\"prices_value\"], \"title\": \"PRICESRawValue\", \"type\": \"object\"}, \"PricesEvaluation\": {\"properties\": {\"prices_trend\": {\"description\": \"(str) PRICES trend on the graph.\", \"title\": \"Prices Trend\", \"type\": \"string\"}, \"prices_trading_action\": {\"$ref\": \"#/$defs/TradingActions\", \"description\": \"(enum) Action to take based on PRICES. Type of action: TradingActions\"}, \"primary_prices_trend\": {\"$ref\": \"#/$defs/TrendCategories\", \"description\": \"(enum) Category of the primary PRICES trend. Type of category: TrendCategories\"}, \"primary_prices_trend_number_of_touches\": {\"description\": \"(int) Number of times the prices touch the primary PRICES trend.\", \"title\": \"Primary Prices Trend Number Of Touches\", \"type\": \"integer\"}, \"secondary_prices_trend\": {\"$ref\": \"#/$defs/TrendCategories\", \"description\": \"(enum) Category of the secondary PRICES trend. Type of category: TrendCategories\"}, \"secondary_prices_trend_number_of_touches\": {\"description\": \"(int) Number of times the prices touch the secondary PRICES trend.\", \"title\": \"Secondary Prices Trend Number Of Touches\", \"type\": \"integer\"}, \"minor_prices_trend\": {\"$ref\": \"#/$defs/TrendCategories\", \"description\": \"(enum) Category of the minor PRICES trend. Type of category: TrendCategories\"}, \"minor_prices_trend_number_of_touches\": {\"description\": \"(int) Number of times the prices prices touch the minor PRICES trend.\", \"title\": \"Minor Prices Trend Number Of Touches\", \"type\": \"integer\"}, \"raw_tool_data\": {\"$ref\": \"#/$defs/PRICESRawValue\", \"description\": \"Raw data specific to the PRICES tool.\"}, \"prices_trend_evaluation\": {\"description\": \"(str) PRICES trend on the graph.\", \"title\": \"Prices Trend Evaluation\", \"type\": \"string\"}, \"chart_pattern\": {\"description\": \"(str) Description of the chart pattern if any\", \"title\": \"Chart Pattern\", \"type\": \"string\"}, \"potential_chart_pattern\": {\"description\": \"(str) Description of potentials coming chart pattern to focus on if any\", \"title\": \"Potential Chart Pattern\", \"type\": \"string\"}, \"candlestick_pattern\": {\"description\": \"(str) Description of the candlestick pattern if any\", \"title\": \"Candlestick Pattern\", \"type\": \"string\"}, \"potential_candlestick_pattern\": {\"description\": \"(str) Description of potentials coming candlestick pattern to focus on if any\", \"title\": \"Potential Candlestick Pattern\", \"type\": \"string\"}}, \"required\": [\"prices_trend\", \"prices_trading_action\", \"primary_prices_trend\", \"primary_prices_trend_number_of_touches\", \"secondary_prices_trend\", \"secondary_prices_trend_number_of_touches\", \"minor_prices_trend\", \"minor_prices_trend_number_of_touches\", \"raw_tool_data\", \"prices_trend_evaluation\", \"chart_pattern\", \"potential_chart_pattern\", \"candlestick_pattern\", \"potential_candlestick_pattern\"], \"title\": \"PricesEvaluation\", \"type\": \"object\"}, \"RSIRawValue\": {\"description\": \"RSI raw value provided by the RSI tool.\", \"properties\": {\"rsi_value\": {\"description\": \"RSI raw value provided by the RSI tool.\", \"title\": \"Rsi Value\", \"type\": \"number\"}}, \"required\": [\"rsi_value\"], \"title\": \"RSIRawValue\", \"type\": \"object\"}, \"ResistanceEvaluation\": {\"properties\": {\"resistances_evaluation\": {\"description\": \"(str) Global evaluation of the RESISTANCEs.\", \"title\": \"Resistances Evaluation\", \"type\": \"string\"}, \"resistance_interaction_status\": {\"$ref\": \"#/$defs/SupportResistanceInteractionStatus\", \"description\": \"(enum) Category of the RESISTANCE status, Type of category: SupportResistanceInteractionStatus.\"}, \"resistance_interaction_implication\": {\"$ref\": \"#/$defs/SupportResistanceInteractionImplication\", \"description\": \"(enum) Category of the RESISTANCE implication, Type of category: SupportResistanceInteractionImplication.\"}, \"close_resistance_level\": {\"description\": \"(str) Evaluation and/or value of the closiest RESISTANCE in relation to the price.\", \"title\": \"Close Resistance Level\", \"type\": \"string\"}, \"middle_resistance_level\": {\"description\": \"(str) Evaluation and/or value of the middle RESISTANCE in relation to the price.\", \"title\": \"Middle Resistance Level\", \"type\": \"string\"}, \"far_resistance_level\": {\"description\": \"(str) Evaluation and/or value of the farest RESISTANCE in relation to the price.\", \"title\": \"Far Resistance Level\", \"type\": \"string\"}, \"raw_tool_data\": {\"$ref\": \"#/$defs/ResistanceRawToolData\", \"description\": \"Raw data specific to the RESISTANCE tool.\"}}, \"required\": [\"resistances_evaluation\", \"resistance_interaction_status\", \"resistance_interaction_implication\", \"close_resistance_level\", \"middle_resistance_level\", \"far_resistance_level\", \"raw_tool_data\"], \"title\": \"ResistanceEvaluation\", \"type\": \"object\"}, \"ResistanceRawToolData\": {\"properties\": {\"close_resistance_value\": {\"description\": \"Raw value of the closest RESISTANCE in relation to the price.\", \"title\": \"Close Resistance Value\", \"type\": \"number\"}, \"middle_resistance_value\": {\"description\": \"Raw value of the middle RESISTANCE in relation to the price.\", \"title\": \"Middle Resistance Value\", \"type\": \"number\"}, \"far_resistance_value\": {\"description\": \"Raw value of the farest RESISTANCE in relation to the price.\", \"title\": \"Far Resistance Value\", \"type\": \"number\"}}, \"required\": [\"close_resistance_value\", \"middle_resistance_value\", \"far_resistance_value\"], \"title\": \"ResistanceRawToolData\", \"type\": \"object\"}, \"RsiEvaluation\": {\"properties\": {\"rsi_trend\": {\"description\": \"(str) RSI trend on the graph.\", \"title\": \"Rsi Trend\", \"type\": \"string\"}, \"rsi_trading_action\": {\"$ref\": \"#/$defs/TradingActions\", \"description\": \"(enum) Action to take based on RSI. Type of action: TradingActions\"}, \"primary_rsi_trend\": {\"$ref\": \"#/$defs/TrendCategories\", \"description\": \"(enum) Category of the primary RSI trend. Type of category: TrendCategories\"}, \"primary_rsi_trend_number_of_touches\": {\"description\": \"(int) Number of times the prices touch the primary RSI trend.\", \"title\": \"Primary Rsi Trend Number Of Touches\", \"type\": \"integer\"}, \"secondary_rsi_trend\": {\"$ref\": \"#/$defs/TrendCategories\", \"description\": \"(enum) Category of the secondary RSI trend. Type of category: TrendCategories\"}, \"secondary_rsi_trend_number_of_touches\": {\"description\": \"(int) Number of times the prices touch the secondary RSI trend.\", \"title\": \"Secondary Rsi Trend Number Of Touches\", \"type\": \"integer\"}, \"minor_rsi_trend\": {\"$ref\": \"#/$defs/TrendCategories\", \"description\": \"(enum) Category of the minor RSI trend. Type of category: TrendCategories\"}, \"minor_rsi_trend_number_of_touches\": {\"description\": \"(int) Number of times the prices prices touch the minor RSI trend.\", \"title\": \"Minor Rsi Trend Number Of Touches\", \"type\": \"integer\"}, \"raw_tool_data\": {\"$ref\": \"#/$defs/RSIRawValue\", \"description\": \"Raw data specific to the RSI tool.\"}}, \"required\": [\"rsi_trend\", \"rsi_trading_action\", \"primary_rsi_trend\", \"primary_rsi_trend_number_of_touches\", \"secondary_rsi_trend\", \"secondary_rsi_trend_number_of_touches\", \"minor_rsi_trend\", \"minor_rsi_trend_number_of_touches\", \"raw_tool_data\"], \"title\": \"RsiEvaluation\", \"type\": \"object\"}, \"SupportEvaluation\": {\"properties\": {\"supports_evaluation\": {\"description\": \"(str) Global evaluation of the SUPPORTs.\", \"title\": \"Supports Evaluation\", \"type\": \"string\"}, \"support_interaction_status\": {\"$ref\": \"#/$defs/SupportResistanceInteractionStatus\", \"description\": \"(enum) Category of the SUPPORT status, Type of category: SupportResistanceInteractionStatus.\"}, \"support_interaction_implication\": {\"$ref\": \"#/$defs/SupportResistanceInteractionImplication\", \"description\": \"(enum) Category of the SUPPORT implication, Type of category: SupportResistanceInteractionImplication.\"}, \"close_support_level\": {\"description\": \"(str) Evaluation and/or value of the closiest SUPPORT in relation to the price.\", \"title\": \"Close Support Level\", \"type\": \"string\"}, \"middle_support_level\": {\"description\": \"(str) Evaluation and/or value of the middle SUPPORT in relation to the price.\", \"title\": \"Middle Support Level\", \"type\": \"string\"}, \"far_support_level\": {\"description\": \"(str) Evaluation and/or value of the farest SUPPORT in relation to the price.\", \"title\": \"Far Support Level\", \"type\": \"string\"}, \"raw_tool_data\": {\"$ref\": \"#/$defs/SupportRawToolData\", \"description\": \"Raw data specific to the SUPPORT tool.\"}}, \"required\": [\"supports_evaluation\", \"support_interaction_status\", \"support_interaction_implication\", \"close_support_level\", \"middle_support_level\", \"far_support_level\", \"raw_tool_data\"], \"title\": \"SupportEvaluation\", \"type\": \"object\"}, \"SupportRawToolData\": {\"properties\": {\"close_support_value\": {\"description\": \"Raw value of the closest SUPPORT in relation to the price.\", \"title\": \"Close Support Value\", \"type\": \"number\"}, \"middle_support_value\": {\"description\": \"Raw value of the middle SUPPORT in relation to the price.\", \"title\": \"Middle Support Value\", \"type\": \"number\"}, \"far_support_value\": {\"description\": \"Raw value of the farest SUPPORT in relation to the price.\", \"title\": \"Far Support Value\", \"type\": \"number\"}}, \"required\": [\"close_support_value\", \"middle_support_value\", \"far_support_value\"], \"title\": \"SupportRawToolData\", \"type\": \"object\"}, \"SupportResistanceInteractionImplication\": {\"description\": \"List of support and resistance interaction implication.\", \"enum\": [\"POTENTIAL_BUY_ZONE\", \"STOP_LOSS_ZONE\", \"POTENTIAL_SELL_ZONE\", \"TAKE_PROFIT_ZONE\", \"CONFIRMATION_SIGNAL\"], \"title\": \"SupportResistanceInteractionImplication\", \"type\": \"string\"}, \"SupportResistanceInteractionStatus\": {\"description\": \"List of support and resistance status.\", \"enum\": [\"PRICE_ABOVE_SUPPORT\", \"TESTING_SUPPORT\", \"BREAKING_BELOW_SUPPORT\", \"PRICE_BELOW_RESISTANCE\", \"TESTING_RESISTANCE\", \"BREAKING_ABOVE_RESISTANCE\", \"CONSOLIDATING_NEAR_SUPPORT_RESISTANCE\"], \"title\": \"SupportResistanceInteractionStatus\", \"type\": \"string\"}, \"Synthesis\": {\"properties\": {\"conclusion\": {\"description\": \"(str) Conclusion about the market at his time.\", \"title\": \"Conclusion\", \"type\": \"string\"}, \"synthese_remarkable_values\": {\"anyOf\": [{\"additionalProperties\": true, \"type\": \"object\"}, {\"type\": \"null\"}], \"default\": null, \"description\": \"(dict) Remarkables values to keep in mind as dictionary. Values of the dictionary can be anything (str, int, float, dict, list, etc...)\", \"title\": \"Synthese Remarkable Values\"}, \"synthese_trading_action\": {\"$ref\": \"#/$defs/TradingActions\", \"description\": \"(enum) Action to take. Type of action: TradingAction.\"}, \"synthese_support_resistance_comment\": {\"description\": \"(str) Comments about supports and/or resistances.\", \"title\": \"Synthese Support Resistance Comment\", \"type\": \"string\"}, \"synthese_support_resistance_interaction_status\": {\"$ref\": \"#/$defs/SupportResistanceInteractionStatus\", \"description\": \"(enum) Category of the support status, Type of category: SupportResistanceInteractionStatus\"}, \"synthese_support_resistance_interaction_implication\": {\"$ref\": \"#/$defs/SupportResistanceInteractionImplication\", \"description\": \"(enum) Category of the support implication, Type of category: SupportResistanceInteractionImplication\"}}, \"required\": [\"conclusion\", \"synthese_trading_action\", \"synthese_support_resistance_comment\", \"synthese_support_resistance_interaction_status\", \"synthese_support_resistance_interaction_implication\"], \"title\": \"Synthesis\", \"type\": \"object\"}, \"TradingActions\": {\"description\": \"List of trading actions.\", \"enum\": [\"BUY\", \"OUTPERFORM\", \"HOLD\", \"UNDERPERFORM\", \"SELL\"], \"title\": \"TradingActions\", \"type\": \"string\"}, \"TrendCategories\": {\"description\": \"List of actionnables for the trends.\", \"enum\": [\"STRONG_BULLISH\", \"BULLISH\", \"CONSOLIDATION\", \"BEARISH\", \"STRONG_BEARISH\"], \"title\": \"TrendCategories\", \"type\": \"string\"}, \"VOLUMESRawValue\": {\"description\": \"VOLUMES raw value provided by the chart.\", \"properties\": {\"volumes_value\": {\"description\": \"VOLUMES raw value provided by the chart.\", \"title\": \"Volumes Value\", \"type\": \"number\"}}, \"required\": [\"volumes_value\"], \"title\": \"VOLUMESRawValue\", \"type\": \"object\"}, \"VolumesEvaluation\": {\"properties\": {\"volumes_trend\": {\"description\": \"(str) VOLUMES trend on the graph.\", \"title\": \"Volumes Trend\", \"type\": \"string\"}, \"volumes_trading_action\": {\"$ref\": \"#/$defs/TradingActions\", \"description\": \"(enum) Action to take based on VOLUMES. Type of action: TradingActions\"}, \"primary_volumes_trend\": {\"$ref\": \"#/$defs/TrendCategories\", \"description\": \"(enum) Category of the primary VOLUMES trend. Type of category: TrendCategories\"}, \"primary_volumes_trend_number_of_touches\": {\"description\": \"(int) Number of times the prices touch the primary VOLUMES trend.\", \"title\": \"Primary Volumes Trend Number Of Touches\", \"type\": \"integer\"}, \"secondary_volumes_trend\": {\"$ref\": \"#/$defs/TrendCategories\", \"description\": \"(enum) Category of the secondary VOLUMES trend. Type of category: TrendCategories\"}, \"secondary_volumes_trend_number_of_touches\": {\"description\": \"(int) Number of times the prices touch the secondary VOLUMES trend.\", \"title\": \"Secondary Volumes Trend Number Of Touches\", \"type\": \"integer\"}, \"minor_volumes_trend\": {\"$ref\": \"#/$defs/TrendCategories\", \"description\": \"(enum) Category of the minor VOLUMES trend. Type of category: TrendCategories\"}, \"minor_volumes_trend_number_of_touches\": {\"description\": \"(int) Number of times the prices prices touch the minor VOLUMES trend.\", \"title\": \"Minor Volumes Trend Number Of Touches\", \"type\": \"integer\"}, \"raw_tool_data\": {\"$ref\": \"#/$defs/VOLUMESRawValue\", \"description\": \"Raw data specific to the VOLUMES tool.\"}, \"volumes_trend_evaluation\": {\"description\": \"(str) VOLUMES trend on the graph.\", \"title\": \"Volumes Trend Evaluation\", \"type\": \"string\"}}, \"required\": [\"volumes_trend\", \"volumes_trading_action\", \"primary_volumes_trend\", \"primary_volumes_trend_number_of_touches\", \"secondary_volumes_trend\", \"secondary_volumes_trend_number_of_touches\", \"minor_volumes_trend\", \"minor_volumes_trend_number_of_touches\", \"raw_tool_data\", \"volumes_trend_evaluation\"], \"title\": \"VolumesEvaluation\", \"type\": \"object\"}}, \"properties\": {\"data_timeframe\": {\"default\": 5, \"description\": \"(int) Value in minutes of graph timeframe used as reference for the next values.\", \"title\": \"Data Timeframe\", \"type\": \"integer\"}, \"supports_evaluation\": {\"$ref\": \"#/$defs/SupportEvaluation\", \"description\": \"\"}, \"resistances_evaluation\": {\"$ref\": \"#/$defs/ResistanceEvaluation\", \"description\": \"\"}, \"prices_evaluation\": {\"$ref\": \"#/$defs/PricesEvaluation\", \"description\": \"\"}, \"indicators\": {\"$ref\": \"#/$defs/Indicators\", \"description\": \"\"}, \"volumes_evaluation\": {\"$ref\": \"#/$defs/VolumesEvaluation\", \"description\": \"\"}, \"short_timeframe_data_synthesis\": {\"$ref\": \"#/$defs/Synthesis\", \"description\": \"\"}}, \"required\": [\"supports_evaluation\", \"resistances_evaluation\", \"prices_evaluation\", \"indicators\", \"volumes_evaluation\", \"short_timeframe_data_synthesis\"]}\\n```\\nOnce again, the JSON schema described above is CRITICAL and MUST BE RESPECTED.', additional_kwargs={}, response_metadata={}), HumanMessage(content='APPLE', additional_kwargs={}, response_metadata={})])"
      ]
     },
     "execution_count": 7,
     "metadata": {},
     "output_type": "execute_result"
    }
   ],
   "source": [
    "prompt = short_prompt_template.invoke(invocation)\n",
    "prompt"
   ]
  },
  {
   "cell_type": "code",
   "execution_count": 8,
   "id": "d158b4d2",
   "metadata": {},
   "outputs": [],
   "source": [
    "response = model.invoke(prompt)"
   ]
  },
  {
   "cell_type": "code",
   "execution_count": 9,
   "id": "fc802511",
   "metadata": {},
   "outputs": [
    {
     "data": {
      "text/plain": [
       "AIMessage(content='{\\n    \"data_timeframe\": 5,\\n    \"supports_evaluation\": {\\n        \"supports_evaluation\": \"TESTING_SUPPORT\",\\n        \"support_interaction_status\": \"PRICE_ABOVE_SUPPORT\",\\n        \"support_interaction_implication\": \"TAKE_PROFIT_ZONE\",\\n        \"close_support_level\": \"1,750.00\",\\n        \"middle_support_level\": \"1,600.00\",\\n        \"far_support_level\": \"1,450.00\",\\n        \"raw_tool_data\": {\\n            \"close_support_value\": 1750,\\n            \"middle_support_value\": 1600,\\n            \"far_support_value\": 1450\\n        }\\n    },\\n    \"resistances_evaluation\": {\\n        \"resistances_evaluation\": \"CONSOLIDATING_NEAR_SUPPORT_RESISTANCE\",\\n        \"resistance_interaction_status\": \"PRICE_ABOVE_SUPPORT\",\\n        \"resistance_interaction_implication\": \"TAKE_PROFIT_ZONE\",\\n        \"close_resistance_level\": \"1,800.00\",\\n        \"middle_resistance_level\": \"1,700.00\",\\n        \"far_resistance_level\": \"1,650.00\",\\n        \"raw_tool_data\": {\\n            \"close_resistance_value\": 1800,\\n            \"middle_resistance_value\": 1700,\\n            \"far_resistance_value\": 1650\\n        }\\n    },\\n    \"prices_evaluation\": {\\n        \"prices_trend\": \"STRONG_BULLISH\",\\n        \"prices_trading_action\": \"BUY\",\\n        \"primary_prices_trend\": \"BULLISH\",\\n        \"primary_prices_trend_number_of_touches\": 3,\\n        \"secondary_prices_trend\": \"BEARISH\",\\n        \"secondary_prices_trend_number_of_touches\": 2,\\n        \"minor_prices_trend\": \"CONSOLIDATION\",\\n        \"minor_prices_trend_number_of_touches\": 4,\\n        \"raw_tool_data\": {\\n            \"prices_value\": 1785.75\\n        },\\n        \"prices_trend_evaluation\": \"BULLISH\",\\n        \"chart_pattern\": \"Triple Top Formation\",\\n        \"potential_chart_pattern\": \"Double Bottom Potential\",\\n        \"candlestick_pattern\": \"Morning Star Pattern\",\\n        \"potential_candlestick_pattern\": \"Bullish Engulfing Potential\"\\n    },\\n    \"indicators\": {\\n        \"rsi_evaluation\": null,\\n        \"macd_evaluation\": null,\\n        \"bollinger_bands_evaluation\": null\\n    },\\n    \"volumes_evaluation\": {\\n        \"volumes_trend\": \"STRONG_BULLISH\",\\n        \"volumes_trading_action\": \"BUY\",\\n        \"primary_volumes_trend\": \"BULLISH\",\\n        \"primary_volumes_trend_number_of_touches\": 3,\\n        \"secondary_volumes_trend\": \"BEARISH\",\\n        \"secondary_volumes_trend_number_of_touches\": 2,\\n        \"minor_volumes_trend\": \"CONSOLIDATION\",\\n        \"minor_volumes_trend_number_of_touches\": 4,\\n        \"raw_tool_data\": {\\n            \"volumes_value\": 1650.75\\n        },\\n        \"volumes_trend_evaluation\": \"BULLISH\"\\n    },\\n    \"short_timeframe_data_synthesis\": {\\n        \"conclusion\": \"Strong Bullish Trend with High Volume Confirmation\",\\n        \"synthese_trading_action\": \"BUY\",\\n        \"synthese_support_resistance_comment\": \"Support at 1,750.00 and Resistance at 1,800.00 are key levels to watch\",\\n        \"synthese_support_resistance_interaction_status\": \"PRICE_ABOVE_SUPPORT\",\\n        \"synthese_support_resistance_interaction_implication\": \"TAKE_PROFIT_ZONE\"\\n    }\\n}', additional_kwargs={}, response_metadata={'model': 'cogito:8b', 'created_at': '2025-05-18T11:40:36.0489128Z', 'done': True, 'done_reason': 'stop', 'total_duration': 21908703500, 'load_duration': 21025600, 'prompt_eval_count': 5462, 'prompt_eval_duration': 9885300, 'eval_count': 756, 'eval_duration': 21872047400, 'model_name': 'cogito:8b'}, id='run-b18652ab-71e4-4d6a-8ad8-e3c534cc518e-0', usage_metadata={'input_tokens': 5462, 'output_tokens': 756, 'total_tokens': 6218})"
      ]
     },
     "execution_count": 9,
     "metadata": {},
     "output_type": "execute_result"
    }
   ],
   "source": [
    "response"
   ]
  },
  {
   "cell_type": "code",
   "execution_count": 10,
   "id": "99204483",
   "metadata": {},
   "outputs": [
    {
     "data": {
      "text/plain": [
       "{'model': 'cogito:8b',\n",
       " 'created_at': '2025-05-18T11:40:36.0489128Z',\n",
       " 'done': True,\n",
       " 'done_reason': 'stop',\n",
       " 'total_duration': 21908703500,\n",
       " 'load_duration': 21025600,\n",
       " 'prompt_eval_count': 5462,\n",
       " 'prompt_eval_duration': 9885300,\n",
       " 'eval_count': 756,\n",
       " 'eval_duration': 21872047400,\n",
       " 'model_name': 'cogito:8b'}"
      ]
     },
     "execution_count": 10,
     "metadata": {},
     "output_type": "execute_result"
    }
   ],
   "source": [
    "response.response_metadata"
   ]
  },
  {
   "cell_type": "code",
   "execution_count": 11,
   "id": "5e5a69a3",
   "metadata": {},
   "outputs": [
    {
     "data": {
      "text/plain": [
       "{'input_tokens': 5462, 'output_tokens': 756, 'total_tokens': 6218}"
      ]
     },
     "execution_count": 11,
     "metadata": {},
     "output_type": "execute_result"
    }
   ],
   "source": [
    "response.usage_metadata"
   ]
  },
  {
   "cell_type": "code",
   "execution_count": 12,
   "id": "70509ac0",
   "metadata": {},
   "outputs": [
    {
     "data": {
      "text/plain": [
       "'{\\n    \"data_timeframe\": 5,\\n    \"supports_evaluation\": {\\n        \"supports_evaluation\": \"TESTING_SUPPORT\",\\n        \"support_interaction_status\": \"PRICE_ABOVE_SUPPORT\",\\n        \"support_interaction_implication\": \"TAKE_PROFIT_ZONE\",\\n        \"close_support_level\": \"1,750.00\",\\n        \"middle_support_level\": \"1,600.00\",\\n        \"far_support_level\": \"1,450.00\",\\n        \"raw_tool_data\": {\\n            \"close_support_value\": 1750,\\n            \"middle_support_value\": 1600,\\n            \"far_support_value\": 1450\\n        }\\n    },\\n    \"resistances_evaluation\": {\\n        \"resistances_evaluation\": \"CONSOLIDATING_NEAR_SUPPORT_RESISTANCE\",\\n        \"resistance_interaction_status\": \"PRICE_ABOVE_SUPPORT\",\\n        \"resistance_interaction_implication\": \"TAKE_PROFIT_ZONE\",\\n        \"close_resistance_level\": \"1,800.00\",\\n        \"middle_resistance_level\": \"1,700.00\",\\n        \"far_resistance_level\": \"1,650.00\",\\n        \"raw_tool_data\": {\\n            \"close_resistance_value\": 1800,\\n            \"middle_resistance_value\": 1700,\\n            \"far_resistance_value\": 1650\\n        }\\n    },\\n    \"prices_evaluation\": {\\n        \"prices_trend\": \"STRONG_BULLISH\",\\n        \"prices_trading_action\": \"BUY\",\\n        \"primary_prices_trend\": \"BULLISH\",\\n        \"primary_prices_trend_number_of_touches\": 3,\\n        \"secondary_prices_trend\": \"BEARISH\",\\n        \"secondary_prices_trend_number_of_touches\": 2,\\n        \"minor_prices_trend\": \"CONSOLIDATION\",\\n        \"minor_prices_trend_number_of_touches\": 4,\\n        \"raw_tool_data\": {\\n            \"prices_value\": 1785.75\\n        },\\n        \"prices_trend_evaluation\": \"BULLISH\",\\n        \"chart_pattern\": \"Triple Top Formation\",\\n        \"potential_chart_pattern\": \"Double Bottom Potential\",\\n        \"candlestick_pattern\": \"Morning Star Pattern\",\\n        \"potential_candlestick_pattern\": \"Bullish Engulfing Potential\"\\n    },\\n    \"indicators\": {\\n        \"rsi_evaluation\": null,\\n        \"macd_evaluation\": null,\\n        \"bollinger_bands_evaluation\": null\\n    },\\n    \"volumes_evaluation\": {\\n        \"volumes_trend\": \"STRONG_BULLISH\",\\n        \"volumes_trading_action\": \"BUY\",\\n        \"primary_volumes_trend\": \"BULLISH\",\\n        \"primary_volumes_trend_number_of_touches\": 3,\\n        \"secondary_volumes_trend\": \"BEARISH\",\\n        \"secondary_volumes_trend_number_of_touches\": 2,\\n        \"minor_volumes_trend\": \"CONSOLIDATION\",\\n        \"minor_volumes_trend_number_of_touches\": 4,\\n        \"raw_tool_data\": {\\n            \"volumes_value\": 1650.75\\n        },\\n        \"volumes_trend_evaluation\": \"BULLISH\"\\n    },\\n    \"short_timeframe_data_synthesis\": {\\n        \"conclusion\": \"Strong Bullish Trend with High Volume Confirmation\",\\n        \"synthese_trading_action\": \"BUY\",\\n        \"synthese_support_resistance_comment\": \"Support at 1,750.00 and Resistance at 1,800.00 are key levels to watch\",\\n        \"synthese_support_resistance_interaction_status\": \"PRICE_ABOVE_SUPPORT\",\\n        \"synthese_support_resistance_interaction_implication\": \"TAKE_PROFIT_ZONE\"\\n    }\\n}'"
      ]
     },
     "execution_count": 12,
     "metadata": {},
     "output_type": "execute_result"
    }
   ],
   "source": [
    "response.content"
   ]
  },
  {
   "cell_type": "code",
   "execution_count": 13,
   "id": "53b43dd0",
   "metadata": {},
   "outputs": [
    {
     "data": {
      "text/plain": [
       "['{\\n    \"data_timeframe\": 5,\\n    \"supports_evaluation\": {\\n        \"supports_evaluation\": \"TESTING_SUPPORT\",\\n        \"support_interaction_status\": \"PRICE_ABOVE_SUPPORT\",\\n        \"support_interaction_implication\": \"TAKE_PROFIT_ZONE\",\\n        \"close_support_level\": \"1,750.00\",\\n        \"middle_support_level\": \"1,600.00\",\\n        \"far_support_level\": \"1,450.00\",\\n        \"raw_tool_data\": {\\n            \"close_support_value\": 1750,\\n            \"middle_support_value\": 1600,\\n            \"far_support_value\": 1450\\n        }\\n    },\\n    \"resistances_evaluation\": {\\n        \"resistances_evaluation\": \"CONSOLIDATING_NEAR_SUPPORT_RESISTANCE\",\\n        \"resistance_interaction_status\": \"PRICE_ABOVE_SUPPORT\",\\n        \"resistance_interaction_implication\": \"TAKE_PROFIT_ZONE\",\\n        \"close_resistance_level\": \"1,800.00\",\\n        \"middle_resistance_level\": \"1,700.00\",\\n        \"far_resistance_level\": \"1,650.00\",\\n        \"raw_tool_data\": {\\n            \"close_resistance_value\": 1800,\\n            \"middle_resistance_value\": 1700,\\n            \"far_resistance_value\": 1650\\n        }\\n    },\\n    \"prices_evaluation\": {\\n        \"prices_trend\": \"STRONG_BULLISH\",\\n        \"prices_trading_action\": \"BUY\",\\n        \"primary_prices_trend\": \"BULLISH\",\\n        \"primary_prices_trend_number_of_touches\": 3,\\n        \"secondary_prices_trend\": \"BEARISH\",\\n        \"secondary_prices_trend_number_of_touches\": 2,\\n        \"minor_prices_trend\": \"CONSOLIDATION\",\\n        \"minor_prices_trend_number_of_touches\": 4,\\n        \"raw_tool_data\": {\\n            \"prices_value\": 1785.75\\n        },\\n        \"prices_trend_evaluation\": \"BULLISH\",\\n        \"chart_pattern\": \"Triple Top Formation\",\\n        \"potential_chart_pattern\": \"Double Bottom Potential\",\\n        \"candlestick_pattern\": \"Morning Star Pattern\",\\n        \"potential_candlestick_pattern\": \"Bullish Engulfing Potential\"\\n    },\\n    \"indicators\": {\\n        \"rsi_evaluation\": null,\\n        \"macd_evaluation\": null,\\n        \"bollinger_bands_evaluation\": null\\n    },\\n    \"volumes_evaluation\": {\\n        \"volumes_trend\": \"STRONG_BULLISH\",\\n        \"volumes_trading_action\": \"BUY\",\\n        \"primary_volumes_trend\": \"BULLISH\",\\n        \"primary_volumes_trend_number_of_touches\": 3,\\n        \"secondary_volumes_trend\": \"BEARISH\",\\n        \"secondary_volumes_trend_number_of_touches\": 2,\\n        \"minor_volumes_trend\": \"CONSOLIDATION\",\\n        \"minor_volumes_trend_number_of_touches\": 4,\\n        \"raw_tool_data\": {\\n            \"volumes_value\": 1650.75\\n        },\\n        \"volumes_trend_evaluation\": \"BULLISH\"\\n    },\\n    \"short_timeframe_data_synthesis\": {\\n        \"conclusion\": \"Strong Bullish Trend with High Volume Confirmation\",\\n        \"synthese_trading_action\": \"BUY\",\\n        \"synthese_support_resistance_comment\": \"Support at 1,750.00 and Resistance at 1,800.00 are key levels to watch\",\\n        \"synthese_support_resistance_interaction_status\": \"PRICE_ABOVE_SUPPORT\",\\n        \"synthese_support_resistance_interaction_implication\": \"TAKE_PROFIT_ZONE\"\\n    }\\n}']"
      ]
     },
     "execution_count": 13,
     "metadata": {},
     "output_type": "execute_result"
    }
   ],
   "source": [
    "tmp = response.content.split(\"\\n\\n\")\n",
    "tmp"
   ]
  },
  {
   "cell_type": "code",
   "execution_count": 14,
   "id": "35fd2cf7",
   "metadata": {},
   "outputs": [
    {
     "data": {
      "text/plain": [
       "1"
      ]
     },
     "execution_count": 14,
     "metadata": {},
     "output_type": "execute_result"
    }
   ],
   "source": [
    "len(tmp)"
   ]
  },
  {
   "cell_type": "code",
   "execution_count": 21,
   "id": "f76b37cb",
   "metadata": {},
   "outputs": [
    {
     "data": {
      "text/plain": [
       "'{\\n    \"data_timeframe\": 5,\\n    \"supports_evaluation\": {\\n        \"$ref\": \"#/$defs/SupportEvaluation\"\\n    },\\n    \"resistances_evaluation\": {\\n        \"$ref\": \"#/$defs/ResistanceEvaluation\",\\n        \"raw_tool_data\": {\\n            \"close_resistance_value\": 145.00,\\n            \"middle_resistance_value\": 148.50,\\n            \"far_resistance_value\": 152.75\\n        }\\n    },\\n    \"prices_evaluation\": {\\n        \"$ref\": \"#/$defs/PricesEvaluation\"\\n    },\\n    \"indicators\": {\\n        \"$ref\": \"#/$defs/Indicators\",\\n        \"rsi_evaluation\": null,\\n        \"macd_evaluation\": {\\n            \"primary_macd_trend\": \"STRONG_BULLISH\",\\n            \"primary_macd_trend_number_of_touches\": 12\\n        }\\n    },\\n    \"volumes_evaluation\": {\\n        \"$ref\": \"#/$defs/VolumesEvaluation\"\\n    },\\n    \"short_timeframe_data_synthesis\": {\\n        \"$ref\": \"#/$defs/Synthesis\",\\n        \"conclusion\": \"Strong bullish momentum continues with positive RSI and MACD signals.\",\\n        \"synthese_remarkable_values\": {\\n            \"RSI_overbought_zone\": 70,\\n            \"MACD_signal_line_crossover\": 14.25\\n        },\\n        \"synthese_trading_action\": \"BUY\",\\n        \"synthese_support_resistance_comment\": \"Key support at $145 with strong buying volume.\",\\n        \"synthese_support_resistance_interaction_status\": \"PRICE_ABOVE_SUPPORT\"\\n    }\\n}'"
      ]
     },
     "execution_count": 21,
     "metadata": {},
     "output_type": "execute_result"
    }
   ],
   "source": [
    "tmp[-1]"
   ]
  },
  {
   "cell_type": "code",
   "execution_count": 16,
   "id": "07e9eaef",
   "metadata": {},
   "outputs": [],
   "source": [
    "import json\n",
    "import ast\n",
    "import re"
   ]
  },
  {
   "cell_type": "code",
   "execution_count": 17,
   "id": "c3fb0f1e",
   "metadata": {},
   "outputs": [
    {
     "data": {
      "text/plain": [
       "'{\\n    \"data_timeframe\": 5,\\n    \"supports_evaluation\": {\\n        \"$ref\": \"#/$defs/SupportEvaluation\"\\n    },\\n    \"resistances_evaluation\": {\\n        \"$ref\": \"#/$defs/ResistanceEvaluation\",\\n        \"raw_tool_data\": {\\n            \"close_resistance_value\": 156.78,\\n            \"middle_resistance_value\": 159.23,\\n            \"far_resistance_value\": 162.45\\n        }\\n    },\\n    \"prices_evaluation\": {\\n        \"$ref\": \"#/$defs/PricesEvaluation\"\\n    },\\n    \"indicators\": {\\n        \"$ref\": \"#/$defs/Indicators\",\\n        \"rsi_evaluation\": null,\\n        \"macd_evaluation\": null,\\n        \"bollinger_bands_evaluation\": null\\n    },\\n    \"volumes_evaluation\": {\\n        \"$ref\": \"#/$defs/VolumesEvaluation\"\\n    },\\n    \"short_timeframe_data_synthesis\": {\\n        \"$ref\": \"#/$defs/Synthesis\",\\n        \"conclusion\": \"Apple is in a strong upward trend, with technical indicators confirming potential buying opportunities.\",\\n        \"synthese_trading_action\": \"BUY\",\\n        \"synthese_support_resistance_comment\": \"Key support level at 155.23 being tested strongly\",\\n        \"synthese_support_resistance_interaction_status\": \"PRICE_ABOVE_SUPPORT\",\\n        \"synthese_support_resistance_interaction_implication\": \"POTENTIAL_BUY_ZONE\"\\n    }\\n}'"
      ]
     },
     "execution_count": 17,
     "metadata": {},
     "output_type": "execute_result"
    }
   ],
   "source": [
    "tmp2 = re.sub(r\"(?<=\\d),(?=\\d)\", \"\", tmp[-1])\n",
    "# tmp2 = re.sub(r\"null\", \"None\", tmp2)\n",
    "tmp2"
   ]
  },
  {
   "cell_type": "code",
   "execution_count": 18,
   "id": "624e2a46",
   "metadata": {},
   "outputs": [],
   "source": [
    "# ast.literal_eval(tmp2)"
   ]
  },
  {
   "cell_type": "code",
   "execution_count": 15,
   "id": "876d7d01",
   "metadata": {},
   "outputs": [
    {
     "data": {
      "text/plain": [
       "ShortTimeframeData(data_timeframe=5, supports_evaluation=SupportEvaluation(evaluation='TESTING_SUPPORT', interaction_status=<SupportResistanceInteractionStatus.PRICE_ABOVE_SUPPORT: 'PRICE_ABOVE_SUPPORT'>, interaction_implication=<SupportResistanceInteractionImplication.TAKE_PROFIT_ZONE: 'TAKE_PROFIT_ZONE'>, close_level='1,750.00', middle_level='1,600.00', far_level='1,450.00', raw_tool_data=SupportRawToolData(close_value=1750.0, middle_value=1600.0, far_value=1450.0)), resistances_evaluation=ResistanceEvaluation(evaluation='CONSOLIDATING_NEAR_SUPPORT_RESISTANCE', interaction_status=<SupportResistanceInteractionStatus.PRICE_ABOVE_SUPPORT: 'PRICE_ABOVE_SUPPORT'>, interaction_implication=<SupportResistanceInteractionImplication.TAKE_PROFIT_ZONE: 'TAKE_PROFIT_ZONE'>, close_level='1,800.00', middle_level='1,700.00', far_level='1,650.00', raw_tool_data=ResistanceRawToolData(close_value=1800.0, middle_value=1700.0, far_value=1650.0)), prices_evaluation=PricesEvaluation(trend='STRONG_BULLISH', trading_action=<TradingActions.BUY: 'BUY'>, primary_trend=<TrendCategories.BULLISH: 'BULLISH'>, primary_trend_number_of_touches=3, secondary_trend=<TrendCategories.BEARISH: 'BEARISH'>, secondary_trend_number_of_touches=2, minor_trend=<TrendCategories.CONSOLIDATION: 'CONSOLIDATION'>, minor_trend_number_of_touches=4, raw_tool_data=PRICESRawValue(prices_value=1785.75), trend_evaluation='BULLISH', chart_pattern='Triple Top Formation', potential_chart_pattern='Double Bottom Potential', candlestick_pattern='Morning Star Pattern', potential_candlestick_pattern='Bullish Engulfing Potential'), indicators=Indicators(rsi_evaluation=None, macd_evaluation=None, bollinger_bands_evaluation=None), volumes_evaluation=VolumesEvaluation(trend='STRONG_BULLISH', trading_action=<TradingActions.BUY: 'BUY'>, primary_trend=<TrendCategories.BULLISH: 'BULLISH'>, primary_trend_number_of_touches=3, secondary_trend=<TrendCategories.BEARISH: 'BEARISH'>, secondary_trend_number_of_touches=2, minor_trend=<TrendCategories.CONSOLIDATION: 'CONSOLIDATION'>, minor_trend_number_of_touches=4, raw_tool_data=VOLUMESRawValue(volumes_value=1650.75), trend_evaluation='BULLISH'), short_timeframe_data_synthesis=Synthesis(conclusion='Strong Bullish Trend with High Volume Confirmation', synthese_remarkable_values=None, synthese_trading_action=<TradingActions.BUY: 'BUY'>, synthese_support_resistance_comment='Support at 1,750.00 and Resistance at 1,800.00 are key levels to watch', synthese_support_resistance_interaction_status=<SupportResistanceInteractionStatus.PRICE_ABOVE_SUPPORT: 'PRICE_ABOVE_SUPPORT'>, synthese_support_resistance_interaction_implication=<SupportResistanceInteractionImplication.TAKE_PROFIT_ZONE: 'TAKE_PROFIT_ZONE'>))"
      ]
     },
     "execution_count": 15,
     "metadata": {},
     "output_type": "execute_result"
    }
   ],
   "source": [
    "short_technical_parser.invoke(tmp[-1])"
   ]
  },
  {
   "cell_type": "code",
   "execution_count": null,
   "id": "9085ad84",
   "metadata": {},
   "outputs": [
    {
     "ename": "KeyboardInterrupt",
     "evalue": "",
     "output_type": "error",
     "traceback": [
      "\u001b[1;31m---------------------------------------------------------------------------\u001b[0m",
      "\u001b[1;31mKeyboardInterrupt\u001b[0m                         Traceback (most recent call last)",
      "Cell \u001b[1;32mIn[7], line 14\u001b[0m\n\u001b[0;32m      3\u001b[0m short_prompt_template \u001b[38;5;241m=\u001b[39m ChatPromptTemplate([\n\u001b[0;32m      4\u001b[0m     SystemMessagePromptTemplate\u001b[38;5;241m.\u001b[39mfrom_template(template\u001b[38;5;241m=\u001b[39msystem_template),\n\u001b[0;32m      5\u001b[0m     HumanMessagePromptTemplate\u001b[38;5;241m.\u001b[39mfrom_template(template\u001b[38;5;241m=\u001b[39m\u001b[38;5;124m\"\u001b[39m\u001b[38;5;132;01m{stock}\u001b[39;00m\u001b[38;5;124m\"\u001b[39m),\n\u001b[1;32m   (...)\u001b[0m\n\u001b[0;32m     10\u001b[0m                        }\n\u001b[0;32m     11\u001b[0m )\n\u001b[0;32m     13\u001b[0m short_chain \u001b[38;5;241m=\u001b[39m short_prompt_template \u001b[38;5;241m|\u001b[39m model \u001b[38;5;241m|\u001b[39m short_technical_parser\n\u001b[1;32m---> 14\u001b[0m short_json \u001b[38;5;241m=\u001b[39m \u001b[43mshort_chain\u001b[49m\u001b[38;5;241;43m.\u001b[39;49m\u001b[43minvoke\u001b[49m\u001b[43m(\u001b[49m\u001b[43minvocation\u001b[49m\u001b[43m)\u001b[49m\n\u001b[0;32m     15\u001b[0m short_json\n",
      "File \u001b[1;32mc:\\Users\\nanar\\Documents\\Python\\AI_frameworks\\LangChain\\venv_langchain\\lib\\site-packages\\langchain_core\\runnables\\base.py:3034\u001b[0m, in \u001b[0;36mRunnableSequence.invoke\u001b[1;34m(self, input, config, **kwargs)\u001b[0m\n\u001b[0;32m   3032\u001b[0m                 \u001b[38;5;28minput\u001b[39m \u001b[38;5;241m=\u001b[39m context\u001b[38;5;241m.\u001b[39mrun(step\u001b[38;5;241m.\u001b[39minvoke, \u001b[38;5;28minput\u001b[39m, config, \u001b[38;5;241m*\u001b[39m\u001b[38;5;241m*\u001b[39mkwargs)\n\u001b[0;32m   3033\u001b[0m             \u001b[38;5;28;01melse\u001b[39;00m:\n\u001b[1;32m-> 3034\u001b[0m                 \u001b[38;5;28minput\u001b[39m \u001b[38;5;241m=\u001b[39m \u001b[43mcontext\u001b[49m\u001b[38;5;241;43m.\u001b[39;49m\u001b[43mrun\u001b[49m\u001b[43m(\u001b[49m\u001b[43mstep\u001b[49m\u001b[38;5;241;43m.\u001b[39;49m\u001b[43minvoke\u001b[49m\u001b[43m,\u001b[49m\u001b[43m \u001b[49m\u001b[38;5;28;43minput\u001b[39;49m\u001b[43m,\u001b[49m\u001b[43m \u001b[49m\u001b[43mconfig\u001b[49m\u001b[43m)\u001b[49m\n\u001b[0;32m   3035\u001b[0m \u001b[38;5;66;03m# finish the root run\u001b[39;00m\n\u001b[0;32m   3036\u001b[0m \u001b[38;5;28;01mexcept\u001b[39;00m \u001b[38;5;167;01mBaseException\u001b[39;00m \u001b[38;5;28;01mas\u001b[39;00m e:\n",
      "File \u001b[1;32mc:\\Users\\nanar\\Documents\\Python\\AI_frameworks\\LangChain\\venv_langchain\\lib\\site-packages\\langchain_core\\language_models\\chat_models.py:369\u001b[0m, in \u001b[0;36mBaseChatModel.invoke\u001b[1;34m(self, input, config, stop, **kwargs)\u001b[0m\n\u001b[0;32m    357\u001b[0m \u001b[38;5;129m@override\u001b[39m\n\u001b[0;32m    358\u001b[0m \u001b[38;5;28;01mdef\u001b[39;00m\u001b[38;5;250m \u001b[39m\u001b[38;5;21minvoke\u001b[39m(\n\u001b[0;32m    359\u001b[0m     \u001b[38;5;28mself\u001b[39m,\n\u001b[1;32m   (...)\u001b[0m\n\u001b[0;32m    364\u001b[0m     \u001b[38;5;241m*\u001b[39m\u001b[38;5;241m*\u001b[39mkwargs: Any,\n\u001b[0;32m    365\u001b[0m ) \u001b[38;5;241m-\u001b[39m\u001b[38;5;241m>\u001b[39m BaseMessage:\n\u001b[0;32m    366\u001b[0m     config \u001b[38;5;241m=\u001b[39m ensure_config(config)\n\u001b[0;32m    367\u001b[0m     \u001b[38;5;28;01mreturn\u001b[39;00m cast(\n\u001b[0;32m    368\u001b[0m         \u001b[38;5;124m\"\u001b[39m\u001b[38;5;124mChatGeneration\u001b[39m\u001b[38;5;124m\"\u001b[39m,\n\u001b[1;32m--> 369\u001b[0m         \u001b[38;5;28mself\u001b[39m\u001b[38;5;241m.\u001b[39mgenerate_prompt(\n\u001b[0;32m    370\u001b[0m             [\u001b[38;5;28mself\u001b[39m\u001b[38;5;241m.\u001b[39m_convert_input(\u001b[38;5;28minput\u001b[39m)],\n\u001b[0;32m    371\u001b[0m             stop\u001b[38;5;241m=\u001b[39mstop,\n\u001b[0;32m    372\u001b[0m             callbacks\u001b[38;5;241m=\u001b[39mconfig\u001b[38;5;241m.\u001b[39mget(\u001b[38;5;124m\"\u001b[39m\u001b[38;5;124mcallbacks\u001b[39m\u001b[38;5;124m\"\u001b[39m),\n\u001b[0;32m    373\u001b[0m             tags\u001b[38;5;241m=\u001b[39mconfig\u001b[38;5;241m.\u001b[39mget(\u001b[38;5;124m\"\u001b[39m\u001b[38;5;124mtags\u001b[39m\u001b[38;5;124m\"\u001b[39m),\n\u001b[0;32m    374\u001b[0m             metadata\u001b[38;5;241m=\u001b[39mconfig\u001b[38;5;241m.\u001b[39mget(\u001b[38;5;124m\"\u001b[39m\u001b[38;5;124mmetadata\u001b[39m\u001b[38;5;124m\"\u001b[39m),\n\u001b[0;32m    375\u001b[0m             run_name\u001b[38;5;241m=\u001b[39mconfig\u001b[38;5;241m.\u001b[39mget(\u001b[38;5;124m\"\u001b[39m\u001b[38;5;124mrun_name\u001b[39m\u001b[38;5;124m\"\u001b[39m),\n\u001b[0;32m    376\u001b[0m             run_id\u001b[38;5;241m=\u001b[39mconfig\u001b[38;5;241m.\u001b[39mpop(\u001b[38;5;124m\"\u001b[39m\u001b[38;5;124mrun_id\u001b[39m\u001b[38;5;124m\"\u001b[39m, \u001b[38;5;28;01mNone\u001b[39;00m),\n\u001b[0;32m    377\u001b[0m             \u001b[38;5;241m*\u001b[39m\u001b[38;5;241m*\u001b[39mkwargs,\n\u001b[0;32m    378\u001b[0m         )\u001b[38;5;241m.\u001b[39mgenerations[\u001b[38;5;241m0\u001b[39m][\u001b[38;5;241m0\u001b[39m],\n\u001b[0;32m    379\u001b[0m     )\u001b[38;5;241m.\u001b[39mmessage\n",
      "File \u001b[1;32mc:\\Users\\nanar\\Documents\\Python\\AI_frameworks\\LangChain\\venv_langchain\\lib\\site-packages\\langchain_core\\language_models\\chat_models.py:946\u001b[0m, in \u001b[0;36mBaseChatModel.generate_prompt\u001b[1;34m(self, prompts, stop, callbacks, **kwargs)\u001b[0m\n\u001b[0;32m    937\u001b[0m \u001b[38;5;129m@override\u001b[39m\n\u001b[0;32m    938\u001b[0m \u001b[38;5;28;01mdef\u001b[39;00m\u001b[38;5;250m \u001b[39m\u001b[38;5;21mgenerate_prompt\u001b[39m(\n\u001b[0;32m    939\u001b[0m     \u001b[38;5;28mself\u001b[39m,\n\u001b[1;32m   (...)\u001b[0m\n\u001b[0;32m    943\u001b[0m     \u001b[38;5;241m*\u001b[39m\u001b[38;5;241m*\u001b[39mkwargs: Any,\n\u001b[0;32m    944\u001b[0m ) \u001b[38;5;241m-\u001b[39m\u001b[38;5;241m>\u001b[39m LLMResult:\n\u001b[0;32m    945\u001b[0m     prompt_messages \u001b[38;5;241m=\u001b[39m [p\u001b[38;5;241m.\u001b[39mto_messages() \u001b[38;5;28;01mfor\u001b[39;00m p \u001b[38;5;129;01min\u001b[39;00m prompts]\n\u001b[1;32m--> 946\u001b[0m     \u001b[38;5;28;01mreturn\u001b[39;00m \u001b[38;5;28mself\u001b[39m\u001b[38;5;241m.\u001b[39mgenerate(prompt_messages, stop\u001b[38;5;241m=\u001b[39mstop, callbacks\u001b[38;5;241m=\u001b[39mcallbacks, \u001b[38;5;241m*\u001b[39m\u001b[38;5;241m*\u001b[39mkwargs)\n",
      "File \u001b[1;32mc:\\Users\\nanar\\Documents\\Python\\AI_frameworks\\LangChain\\venv_langchain\\lib\\site-packages\\langchain_core\\language_models\\chat_models.py:765\u001b[0m, in \u001b[0;36mBaseChatModel.generate\u001b[1;34m(self, messages, stop, callbacks, tags, metadata, run_name, run_id, **kwargs)\u001b[0m\n\u001b[0;32m    762\u001b[0m \u001b[38;5;28;01mfor\u001b[39;00m i, m \u001b[38;5;129;01min\u001b[39;00m \u001b[38;5;28menumerate\u001b[39m(input_messages):\n\u001b[0;32m    763\u001b[0m     \u001b[38;5;28;01mtry\u001b[39;00m:\n\u001b[0;32m    764\u001b[0m         results\u001b[38;5;241m.\u001b[39mappend(\n\u001b[1;32m--> 765\u001b[0m             \u001b[38;5;28mself\u001b[39m\u001b[38;5;241m.\u001b[39m_generate_with_cache(\n\u001b[0;32m    766\u001b[0m                 m,\n\u001b[0;32m    767\u001b[0m                 stop\u001b[38;5;241m=\u001b[39mstop,\n\u001b[0;32m    768\u001b[0m                 run_manager\u001b[38;5;241m=\u001b[39mrun_managers[i] \u001b[38;5;28;01mif\u001b[39;00m run_managers \u001b[38;5;28;01melse\u001b[39;00m \u001b[38;5;28;01mNone\u001b[39;00m,\n\u001b[0;32m    769\u001b[0m                 \u001b[38;5;241m*\u001b[39m\u001b[38;5;241m*\u001b[39mkwargs,\n\u001b[0;32m    770\u001b[0m             )\n\u001b[0;32m    771\u001b[0m         )\n\u001b[0;32m    772\u001b[0m     \u001b[38;5;28;01mexcept\u001b[39;00m \u001b[38;5;167;01mBaseException\u001b[39;00m \u001b[38;5;28;01mas\u001b[39;00m e:\n\u001b[0;32m    773\u001b[0m         \u001b[38;5;28;01mif\u001b[39;00m run_managers:\n",
      "File \u001b[1;32mc:\\Users\\nanar\\Documents\\Python\\AI_frameworks\\LangChain\\venv_langchain\\lib\\site-packages\\langchain_core\\language_models\\chat_models.py:1011\u001b[0m, in \u001b[0;36mBaseChatModel._generate_with_cache\u001b[1;34m(self, messages, stop, run_manager, **kwargs)\u001b[0m\n\u001b[0;32m   1009\u001b[0m     result \u001b[38;5;241m=\u001b[39m generate_from_stream(\u001b[38;5;28miter\u001b[39m(chunks))\n\u001b[0;32m   1010\u001b[0m \u001b[38;5;28;01melif\u001b[39;00m inspect\u001b[38;5;241m.\u001b[39msignature(\u001b[38;5;28mself\u001b[39m\u001b[38;5;241m.\u001b[39m_generate)\u001b[38;5;241m.\u001b[39mparameters\u001b[38;5;241m.\u001b[39mget(\u001b[38;5;124m\"\u001b[39m\u001b[38;5;124mrun_manager\u001b[39m\u001b[38;5;124m\"\u001b[39m):\n\u001b[1;32m-> 1011\u001b[0m     result \u001b[38;5;241m=\u001b[39m \u001b[38;5;28mself\u001b[39m\u001b[38;5;241m.\u001b[39m_generate(\n\u001b[0;32m   1012\u001b[0m         messages, stop\u001b[38;5;241m=\u001b[39mstop, run_manager\u001b[38;5;241m=\u001b[39mrun_manager, \u001b[38;5;241m*\u001b[39m\u001b[38;5;241m*\u001b[39mkwargs\n\u001b[0;32m   1013\u001b[0m     )\n\u001b[0;32m   1014\u001b[0m \u001b[38;5;28;01melse\u001b[39;00m:\n\u001b[0;32m   1015\u001b[0m     result \u001b[38;5;241m=\u001b[39m \u001b[38;5;28mself\u001b[39m\u001b[38;5;241m.\u001b[39m_generate(messages, stop\u001b[38;5;241m=\u001b[39mstop, \u001b[38;5;241m*\u001b[39m\u001b[38;5;241m*\u001b[39mkwargs)\n",
      "File \u001b[1;32mc:\\Users\\nanar\\Documents\\Python\\AI_frameworks\\LangChain\\venv_langchain\\lib\\site-packages\\langchain_ollama\\chat_models.py:715\u001b[0m, in \u001b[0;36mChatOllama._generate\u001b[1;34m(self, messages, stop, run_manager, **kwargs)\u001b[0m\n\u001b[0;32m    708\u001b[0m \u001b[38;5;28;01mdef\u001b[39;00m\u001b[38;5;250m \u001b[39m\u001b[38;5;21m_generate\u001b[39m(\n\u001b[0;32m    709\u001b[0m     \u001b[38;5;28mself\u001b[39m,\n\u001b[0;32m    710\u001b[0m     messages: \u001b[38;5;28mlist\u001b[39m[BaseMessage],\n\u001b[1;32m   (...)\u001b[0m\n\u001b[0;32m    713\u001b[0m     \u001b[38;5;241m*\u001b[39m\u001b[38;5;241m*\u001b[39mkwargs: Any,\n\u001b[0;32m    714\u001b[0m ) \u001b[38;5;241m-\u001b[39m\u001b[38;5;241m>\u001b[39m ChatResult:\n\u001b[1;32m--> 715\u001b[0m     final_chunk \u001b[38;5;241m=\u001b[39m \u001b[38;5;28mself\u001b[39m\u001b[38;5;241m.\u001b[39m_chat_stream_with_aggregation(\n\u001b[0;32m    716\u001b[0m         messages, stop, run_manager, verbose\u001b[38;5;241m=\u001b[39m\u001b[38;5;28mself\u001b[39m\u001b[38;5;241m.\u001b[39mverbose, \u001b[38;5;241m*\u001b[39m\u001b[38;5;241m*\u001b[39mkwargs\n\u001b[0;32m    717\u001b[0m     )\n\u001b[0;32m    718\u001b[0m     generation_info \u001b[38;5;241m=\u001b[39m final_chunk\u001b[38;5;241m.\u001b[39mgeneration_info\n\u001b[0;32m    719\u001b[0m     chat_generation \u001b[38;5;241m=\u001b[39m ChatGeneration(\n\u001b[0;32m    720\u001b[0m         message\u001b[38;5;241m=\u001b[39mAIMessage(\n\u001b[0;32m    721\u001b[0m             content\u001b[38;5;241m=\u001b[39mfinal_chunk\u001b[38;5;241m.\u001b[39mtext,\n\u001b[1;32m   (...)\u001b[0m\n\u001b[0;32m    726\u001b[0m         generation_info\u001b[38;5;241m=\u001b[39mgeneration_info,\n\u001b[0;32m    727\u001b[0m     )\n",
      "File \u001b[1;32mc:\\Users\\nanar\\Documents\\Python\\AI_frameworks\\LangChain\\venv_langchain\\lib\\site-packages\\langchain_ollama\\chat_models.py:652\u001b[0m, in \u001b[0;36mChatOllama._chat_stream_with_aggregation\u001b[1;34m(self, messages, stop, run_manager, verbose, **kwargs)\u001b[0m\n\u001b[0;32m    643\u001b[0m \u001b[38;5;28;01mdef\u001b[39;00m\u001b[38;5;250m \u001b[39m\u001b[38;5;21m_chat_stream_with_aggregation\u001b[39m(\n\u001b[0;32m    644\u001b[0m     \u001b[38;5;28mself\u001b[39m,\n\u001b[0;32m    645\u001b[0m     messages: \u001b[38;5;28mlist\u001b[39m[BaseMessage],\n\u001b[1;32m   (...)\u001b[0m\n\u001b[0;32m    649\u001b[0m     \u001b[38;5;241m*\u001b[39m\u001b[38;5;241m*\u001b[39mkwargs: Any,\n\u001b[0;32m    650\u001b[0m ) \u001b[38;5;241m-\u001b[39m\u001b[38;5;241m>\u001b[39m ChatGenerationChunk:\n\u001b[0;32m    651\u001b[0m     final_chunk \u001b[38;5;241m=\u001b[39m \u001b[38;5;28;01mNone\u001b[39;00m\n\u001b[1;32m--> 652\u001b[0m     \u001b[38;5;28;01mfor\u001b[39;00m chunk \u001b[38;5;129;01min\u001b[39;00m \u001b[38;5;28mself\u001b[39m\u001b[38;5;241m.\u001b[39m_iterate_over_stream(messages, stop, \u001b[38;5;241m*\u001b[39m\u001b[38;5;241m*\u001b[39mkwargs):\n\u001b[0;32m    653\u001b[0m         \u001b[38;5;28;01mif\u001b[39;00m final_chunk \u001b[38;5;129;01mis\u001b[39;00m \u001b[38;5;28;01mNone\u001b[39;00m:\n\u001b[0;32m    654\u001b[0m             final_chunk \u001b[38;5;241m=\u001b[39m chunk\n",
      "File \u001b[1;32mc:\\Users\\nanar\\Documents\\Python\\AI_frameworks\\LangChain\\venv_langchain\\lib\\site-packages\\langchain_ollama\\chat_models.py:737\u001b[0m, in \u001b[0;36mChatOllama._iterate_over_stream\u001b[1;34m(self, messages, stop, **kwargs)\u001b[0m\n\u001b[0;32m    730\u001b[0m \u001b[38;5;28;01mdef\u001b[39;00m\u001b[38;5;250m \u001b[39m\u001b[38;5;21m_iterate_over_stream\u001b[39m(\n\u001b[0;32m    731\u001b[0m     \u001b[38;5;28mself\u001b[39m,\n\u001b[0;32m    732\u001b[0m     messages: \u001b[38;5;28mlist\u001b[39m[BaseMessage],\n\u001b[0;32m    733\u001b[0m     stop: Optional[\u001b[38;5;28mlist\u001b[39m[\u001b[38;5;28mstr\u001b[39m]] \u001b[38;5;241m=\u001b[39m \u001b[38;5;28;01mNone\u001b[39;00m,\n\u001b[0;32m    734\u001b[0m     \u001b[38;5;241m*\u001b[39m\u001b[38;5;241m*\u001b[39mkwargs: Any,\n\u001b[0;32m    735\u001b[0m ) \u001b[38;5;241m-\u001b[39m\u001b[38;5;241m>\u001b[39m Iterator[ChatGenerationChunk]:\n\u001b[0;32m    736\u001b[0m     is_thinking \u001b[38;5;241m=\u001b[39m \u001b[38;5;28;01mFalse\u001b[39;00m\n\u001b[1;32m--> 737\u001b[0m     \u001b[38;5;28;01mfor\u001b[39;00m stream_resp \u001b[38;5;129;01min\u001b[39;00m \u001b[38;5;28mself\u001b[39m\u001b[38;5;241m.\u001b[39m_create_chat_stream(messages, stop, \u001b[38;5;241m*\u001b[39m\u001b[38;5;241m*\u001b[39mkwargs):\n\u001b[0;32m    738\u001b[0m         \u001b[38;5;28;01mif\u001b[39;00m \u001b[38;5;129;01mnot\u001b[39;00m \u001b[38;5;28misinstance\u001b[39m(stream_resp, \u001b[38;5;28mstr\u001b[39m):\n\u001b[0;32m    739\u001b[0m             \u001b[38;5;28;01mif\u001b[39;00m stream_resp\u001b[38;5;241m.\u001b[39mget(\u001b[38;5;124m\"\u001b[39m\u001b[38;5;124mdone\u001b[39m\u001b[38;5;124m\"\u001b[39m) \u001b[38;5;129;01mis\u001b[39;00m \u001b[38;5;28;01mTrue\u001b[39;00m:\n",
      "File \u001b[1;32mc:\\Users\\nanar\\Documents\\Python\\AI_frameworks\\LangChain\\venv_langchain\\lib\\site-packages\\langchain_ollama\\chat_models.py:639\u001b[0m, in \u001b[0;36mChatOllama._create_chat_stream\u001b[1;34m(self, messages, stop, **kwargs)\u001b[0m\n\u001b[0;32m    636\u001b[0m chat_params \u001b[38;5;241m=\u001b[39m \u001b[38;5;28mself\u001b[39m\u001b[38;5;241m.\u001b[39m_chat_params(messages, stop, \u001b[38;5;241m*\u001b[39m\u001b[38;5;241m*\u001b[39mkwargs)\n\u001b[0;32m    638\u001b[0m \u001b[38;5;28;01mif\u001b[39;00m chat_params[\u001b[38;5;124m\"\u001b[39m\u001b[38;5;124mstream\u001b[39m\u001b[38;5;124m\"\u001b[39m]:\n\u001b[1;32m--> 639\u001b[0m     \u001b[38;5;28;01myield from\u001b[39;00m \u001b[38;5;28mself\u001b[39m\u001b[38;5;241m.\u001b[39m_client\u001b[38;5;241m.\u001b[39mchat(\u001b[38;5;241m*\u001b[39m\u001b[38;5;241m*\u001b[39mchat_params)\n\u001b[0;32m    640\u001b[0m \u001b[38;5;28;01melse\u001b[39;00m:\n\u001b[0;32m    641\u001b[0m     \u001b[38;5;28;01myield\u001b[39;00m \u001b[38;5;28mself\u001b[39m\u001b[38;5;241m.\u001b[39m_client\u001b[38;5;241m.\u001b[39mchat(\u001b[38;5;241m*\u001b[39m\u001b[38;5;241m*\u001b[39mchat_params)\n",
      "File \u001b[1;32mc:\\Users\\nanar\\Documents\\Python\\AI_frameworks\\LangChain\\venv_langchain\\lib\\site-packages\\ollama\\_client.py:170\u001b[0m, in \u001b[0;36mClient._request.<locals>.inner\u001b[1;34m()\u001b[0m\n\u001b[0;32m    167\u001b[0m   e\u001b[38;5;241m.\u001b[39mresponse\u001b[38;5;241m.\u001b[39mread()\n\u001b[0;32m    168\u001b[0m   \u001b[38;5;28;01mraise\u001b[39;00m ResponseError(e\u001b[38;5;241m.\u001b[39mresponse\u001b[38;5;241m.\u001b[39mtext, e\u001b[38;5;241m.\u001b[39mresponse\u001b[38;5;241m.\u001b[39mstatus_code) \u001b[38;5;28;01mfrom\u001b[39;00m\u001b[38;5;250m \u001b[39m\u001b[38;5;28;01mNone\u001b[39;00m\n\u001b[1;32m--> 170\u001b[0m \u001b[38;5;28;01mfor\u001b[39;00m line \u001b[38;5;129;01min\u001b[39;00m r\u001b[38;5;241m.\u001b[39miter_lines():\n\u001b[0;32m    171\u001b[0m   part \u001b[38;5;241m=\u001b[39m json\u001b[38;5;241m.\u001b[39mloads(line)\n\u001b[0;32m    172\u001b[0m   \u001b[38;5;28;01mif\u001b[39;00m err \u001b[38;5;241m:=\u001b[39m part\u001b[38;5;241m.\u001b[39mget(\u001b[38;5;124m'\u001b[39m\u001b[38;5;124merror\u001b[39m\u001b[38;5;124m'\u001b[39m):\n",
      "File \u001b[1;32mc:\\Users\\nanar\\Documents\\Python\\AI_frameworks\\LangChain\\venv_langchain\\lib\\site-packages\\httpx\\_models.py:929\u001b[0m, in \u001b[0;36mResponse.iter_lines\u001b[1;34m(self)\u001b[0m\n\u001b[0;32m    927\u001b[0m decoder \u001b[38;5;241m=\u001b[39m LineDecoder()\n\u001b[0;32m    928\u001b[0m \u001b[38;5;28;01mwith\u001b[39;00m request_context(request\u001b[38;5;241m=\u001b[39m\u001b[38;5;28mself\u001b[39m\u001b[38;5;241m.\u001b[39m_request):\n\u001b[1;32m--> 929\u001b[0m     \u001b[38;5;28;01mfor\u001b[39;00m text \u001b[38;5;129;01min\u001b[39;00m \u001b[38;5;28mself\u001b[39m\u001b[38;5;241m.\u001b[39miter_text():\n\u001b[0;32m    930\u001b[0m         \u001b[38;5;28;01mfor\u001b[39;00m line \u001b[38;5;129;01min\u001b[39;00m decoder\u001b[38;5;241m.\u001b[39mdecode(text):\n\u001b[0;32m    931\u001b[0m             \u001b[38;5;28;01myield\u001b[39;00m line\n",
      "File \u001b[1;32mc:\\Users\\nanar\\Documents\\Python\\AI_frameworks\\LangChain\\venv_langchain\\lib\\site-packages\\httpx\\_models.py:916\u001b[0m, in \u001b[0;36mResponse.iter_text\u001b[1;34m(self, chunk_size)\u001b[0m\n\u001b[0;32m    914\u001b[0m chunker \u001b[38;5;241m=\u001b[39m TextChunker(chunk_size\u001b[38;5;241m=\u001b[39mchunk_size)\n\u001b[0;32m    915\u001b[0m \u001b[38;5;28;01mwith\u001b[39;00m request_context(request\u001b[38;5;241m=\u001b[39m\u001b[38;5;28mself\u001b[39m\u001b[38;5;241m.\u001b[39m_request):\n\u001b[1;32m--> 916\u001b[0m     \u001b[38;5;28;01mfor\u001b[39;00m byte_content \u001b[38;5;129;01min\u001b[39;00m \u001b[38;5;28mself\u001b[39m\u001b[38;5;241m.\u001b[39miter_bytes():\n\u001b[0;32m    917\u001b[0m         text_content \u001b[38;5;241m=\u001b[39m decoder\u001b[38;5;241m.\u001b[39mdecode(byte_content)\n\u001b[0;32m    918\u001b[0m         \u001b[38;5;28;01mfor\u001b[39;00m chunk \u001b[38;5;129;01min\u001b[39;00m chunker\u001b[38;5;241m.\u001b[39mdecode(text_content):\n",
      "File \u001b[1;32mc:\\Users\\nanar\\Documents\\Python\\AI_frameworks\\LangChain\\venv_langchain\\lib\\site-packages\\httpx\\_models.py:897\u001b[0m, in \u001b[0;36mResponse.iter_bytes\u001b[1;34m(self, chunk_size)\u001b[0m\n\u001b[0;32m    895\u001b[0m chunker \u001b[38;5;241m=\u001b[39m ByteChunker(chunk_size\u001b[38;5;241m=\u001b[39mchunk_size)\n\u001b[0;32m    896\u001b[0m \u001b[38;5;28;01mwith\u001b[39;00m request_context(request\u001b[38;5;241m=\u001b[39m\u001b[38;5;28mself\u001b[39m\u001b[38;5;241m.\u001b[39m_request):\n\u001b[1;32m--> 897\u001b[0m     \u001b[38;5;28;01mfor\u001b[39;00m raw_bytes \u001b[38;5;129;01min\u001b[39;00m \u001b[38;5;28mself\u001b[39m\u001b[38;5;241m.\u001b[39miter_raw():\n\u001b[0;32m    898\u001b[0m         decoded \u001b[38;5;241m=\u001b[39m decoder\u001b[38;5;241m.\u001b[39mdecode(raw_bytes)\n\u001b[0;32m    899\u001b[0m         \u001b[38;5;28;01mfor\u001b[39;00m chunk \u001b[38;5;129;01min\u001b[39;00m chunker\u001b[38;5;241m.\u001b[39mdecode(decoded):\n",
      "File \u001b[1;32mc:\\Users\\nanar\\Documents\\Python\\AI_frameworks\\LangChain\\venv_langchain\\lib\\site-packages\\httpx\\_models.py:951\u001b[0m, in \u001b[0;36mResponse.iter_raw\u001b[1;34m(self, chunk_size)\u001b[0m\n\u001b[0;32m    948\u001b[0m chunker \u001b[38;5;241m=\u001b[39m ByteChunker(chunk_size\u001b[38;5;241m=\u001b[39mchunk_size)\n\u001b[0;32m    950\u001b[0m \u001b[38;5;28;01mwith\u001b[39;00m request_context(request\u001b[38;5;241m=\u001b[39m\u001b[38;5;28mself\u001b[39m\u001b[38;5;241m.\u001b[39m_request):\n\u001b[1;32m--> 951\u001b[0m     \u001b[38;5;28;01mfor\u001b[39;00m raw_stream_bytes \u001b[38;5;129;01min\u001b[39;00m \u001b[38;5;28mself\u001b[39m\u001b[38;5;241m.\u001b[39mstream:\n\u001b[0;32m    952\u001b[0m         \u001b[38;5;28mself\u001b[39m\u001b[38;5;241m.\u001b[39m_num_bytes_downloaded \u001b[38;5;241m+\u001b[39m\u001b[38;5;241m=\u001b[39m \u001b[38;5;28mlen\u001b[39m(raw_stream_bytes)\n\u001b[0;32m    953\u001b[0m         \u001b[38;5;28;01mfor\u001b[39;00m chunk \u001b[38;5;129;01min\u001b[39;00m chunker\u001b[38;5;241m.\u001b[39mdecode(raw_stream_bytes):\n",
      "File \u001b[1;32mc:\\Users\\nanar\\Documents\\Python\\AI_frameworks\\LangChain\\venv_langchain\\lib\\site-packages\\httpx\\_client.py:153\u001b[0m, in \u001b[0;36mBoundSyncStream.__iter__\u001b[1;34m(self)\u001b[0m\n\u001b[0;32m    152\u001b[0m \u001b[38;5;28;01mdef\u001b[39;00m\u001b[38;5;250m \u001b[39m\u001b[38;5;21m__iter__\u001b[39m(\u001b[38;5;28mself\u001b[39m) \u001b[38;5;241m-\u001b[39m\u001b[38;5;241m>\u001b[39m typing\u001b[38;5;241m.\u001b[39mIterator[\u001b[38;5;28mbytes\u001b[39m]:\n\u001b[1;32m--> 153\u001b[0m     \u001b[38;5;28;01mfor\u001b[39;00m chunk \u001b[38;5;129;01min\u001b[39;00m \u001b[38;5;28mself\u001b[39m\u001b[38;5;241m.\u001b[39m_stream:\n\u001b[0;32m    154\u001b[0m         \u001b[38;5;28;01myield\u001b[39;00m chunk\n",
      "File \u001b[1;32mc:\\Users\\nanar\\Documents\\Python\\AI_frameworks\\LangChain\\venv_langchain\\lib\\site-packages\\httpx\\_transports\\default.py:127\u001b[0m, in \u001b[0;36mResponseStream.__iter__\u001b[1;34m(self)\u001b[0m\n\u001b[0;32m    125\u001b[0m \u001b[38;5;28;01mdef\u001b[39;00m\u001b[38;5;250m \u001b[39m\u001b[38;5;21m__iter__\u001b[39m(\u001b[38;5;28mself\u001b[39m) \u001b[38;5;241m-\u001b[39m\u001b[38;5;241m>\u001b[39m typing\u001b[38;5;241m.\u001b[39mIterator[\u001b[38;5;28mbytes\u001b[39m]:\n\u001b[0;32m    126\u001b[0m     \u001b[38;5;28;01mwith\u001b[39;00m map_httpcore_exceptions():\n\u001b[1;32m--> 127\u001b[0m         \u001b[38;5;28;01mfor\u001b[39;00m part \u001b[38;5;129;01min\u001b[39;00m \u001b[38;5;28mself\u001b[39m\u001b[38;5;241m.\u001b[39m_httpcore_stream:\n\u001b[0;32m    128\u001b[0m             \u001b[38;5;28;01myield\u001b[39;00m part\n",
      "File \u001b[1;32mc:\\Users\\nanar\\Documents\\Python\\AI_frameworks\\LangChain\\venv_langchain\\lib\\site-packages\\httpcore\\_sync\\connection_pool.py:407\u001b[0m, in \u001b[0;36mPoolByteStream.__iter__\u001b[1;34m(self)\u001b[0m\n\u001b[0;32m    405\u001b[0m \u001b[38;5;28;01mexcept\u001b[39;00m \u001b[38;5;167;01mBaseException\u001b[39;00m \u001b[38;5;28;01mas\u001b[39;00m exc:\n\u001b[0;32m    406\u001b[0m     \u001b[38;5;28mself\u001b[39m\u001b[38;5;241m.\u001b[39mclose()\n\u001b[1;32m--> 407\u001b[0m     \u001b[38;5;28;01mraise\u001b[39;00m exc \u001b[38;5;28;01mfrom\u001b[39;00m\u001b[38;5;250m \u001b[39m\u001b[38;5;28;01mNone\u001b[39;00m\n",
      "File \u001b[1;32mc:\\Users\\nanar\\Documents\\Python\\AI_frameworks\\LangChain\\venv_langchain\\lib\\site-packages\\httpcore\\_sync\\connection_pool.py:403\u001b[0m, in \u001b[0;36mPoolByteStream.__iter__\u001b[1;34m(self)\u001b[0m\n\u001b[0;32m    401\u001b[0m \u001b[38;5;28;01mdef\u001b[39;00m\u001b[38;5;250m \u001b[39m\u001b[38;5;21m__iter__\u001b[39m(\u001b[38;5;28mself\u001b[39m) \u001b[38;5;241m-\u001b[39m\u001b[38;5;241m>\u001b[39m typing\u001b[38;5;241m.\u001b[39mIterator[\u001b[38;5;28mbytes\u001b[39m]:\n\u001b[0;32m    402\u001b[0m     \u001b[38;5;28;01mtry\u001b[39;00m:\n\u001b[1;32m--> 403\u001b[0m         \u001b[38;5;28;01mfor\u001b[39;00m part \u001b[38;5;129;01min\u001b[39;00m \u001b[38;5;28mself\u001b[39m\u001b[38;5;241m.\u001b[39m_stream:\n\u001b[0;32m    404\u001b[0m             \u001b[38;5;28;01myield\u001b[39;00m part\n\u001b[0;32m    405\u001b[0m     \u001b[38;5;28;01mexcept\u001b[39;00m \u001b[38;5;167;01mBaseException\u001b[39;00m \u001b[38;5;28;01mas\u001b[39;00m exc:\n",
      "File \u001b[1;32mc:\\Users\\nanar\\Documents\\Python\\AI_frameworks\\LangChain\\venv_langchain\\lib\\site-packages\\httpcore\\_sync\\http11.py:342\u001b[0m, in \u001b[0;36mHTTP11ConnectionByteStream.__iter__\u001b[1;34m(self)\u001b[0m\n\u001b[0;32m    340\u001b[0m \u001b[38;5;28;01mwith\u001b[39;00m ShieldCancellation():\n\u001b[0;32m    341\u001b[0m     \u001b[38;5;28mself\u001b[39m\u001b[38;5;241m.\u001b[39mclose()\n\u001b[1;32m--> 342\u001b[0m \u001b[38;5;28;01mraise\u001b[39;00m exc\n",
      "File \u001b[1;32mc:\\Users\\nanar\\Documents\\Python\\AI_frameworks\\LangChain\\venv_langchain\\lib\\site-packages\\httpcore\\_sync\\http11.py:334\u001b[0m, in \u001b[0;36mHTTP11ConnectionByteStream.__iter__\u001b[1;34m(self)\u001b[0m\n\u001b[0;32m    332\u001b[0m \u001b[38;5;28;01mtry\u001b[39;00m:\n\u001b[0;32m    333\u001b[0m     \u001b[38;5;28;01mwith\u001b[39;00m Trace(\u001b[38;5;124m\"\u001b[39m\u001b[38;5;124mreceive_response_body\u001b[39m\u001b[38;5;124m\"\u001b[39m, logger, \u001b[38;5;28mself\u001b[39m\u001b[38;5;241m.\u001b[39m_request, kwargs):\n\u001b[1;32m--> 334\u001b[0m         \u001b[38;5;28;01mfor\u001b[39;00m chunk \u001b[38;5;129;01min\u001b[39;00m \u001b[38;5;28mself\u001b[39m\u001b[38;5;241m.\u001b[39m_connection\u001b[38;5;241m.\u001b[39m_receive_response_body(\u001b[38;5;241m*\u001b[39m\u001b[38;5;241m*\u001b[39mkwargs):\n\u001b[0;32m    335\u001b[0m             \u001b[38;5;28;01myield\u001b[39;00m chunk\n\u001b[0;32m    336\u001b[0m \u001b[38;5;28;01mexcept\u001b[39;00m \u001b[38;5;167;01mBaseException\u001b[39;00m \u001b[38;5;28;01mas\u001b[39;00m exc:\n\u001b[0;32m    337\u001b[0m     \u001b[38;5;66;03m# If we get an exception while streaming the response,\u001b[39;00m\n\u001b[0;32m    338\u001b[0m     \u001b[38;5;66;03m# we want to close the response (and possibly the connection)\u001b[39;00m\n\u001b[0;32m    339\u001b[0m     \u001b[38;5;66;03m# before raising that exception.\u001b[39;00m\n",
      "File \u001b[1;32mc:\\Users\\nanar\\Documents\\Python\\AI_frameworks\\LangChain\\venv_langchain\\lib\\site-packages\\httpcore\\_sync\\http11.py:203\u001b[0m, in \u001b[0;36mHTTP11Connection._receive_response_body\u001b[1;34m(self, request)\u001b[0m\n\u001b[0;32m    200\u001b[0m timeout \u001b[38;5;241m=\u001b[39m timeouts\u001b[38;5;241m.\u001b[39mget(\u001b[38;5;124m\"\u001b[39m\u001b[38;5;124mread\u001b[39m\u001b[38;5;124m\"\u001b[39m, \u001b[38;5;28;01mNone\u001b[39;00m)\n\u001b[0;32m    202\u001b[0m \u001b[38;5;28;01mwhile\u001b[39;00m \u001b[38;5;28;01mTrue\u001b[39;00m:\n\u001b[1;32m--> 203\u001b[0m     event \u001b[38;5;241m=\u001b[39m \u001b[38;5;28;43mself\u001b[39;49m\u001b[38;5;241;43m.\u001b[39;49m\u001b[43m_receive_event\u001b[49m\u001b[43m(\u001b[49m\u001b[43mtimeout\u001b[49m\u001b[38;5;241;43m=\u001b[39;49m\u001b[43mtimeout\u001b[49m\u001b[43m)\u001b[49m\n\u001b[0;32m    204\u001b[0m     \u001b[38;5;28;01mif\u001b[39;00m \u001b[38;5;28misinstance\u001b[39m(event, h11\u001b[38;5;241m.\u001b[39mData):\n\u001b[0;32m    205\u001b[0m         \u001b[38;5;28;01myield\u001b[39;00m \u001b[38;5;28mbytes\u001b[39m(event\u001b[38;5;241m.\u001b[39mdata)\n",
      "File \u001b[1;32mc:\\Users\\nanar\\Documents\\Python\\AI_frameworks\\LangChain\\venv_langchain\\lib\\site-packages\\httpcore\\_sync\\http11.py:217\u001b[0m, in \u001b[0;36mHTTP11Connection._receive_event\u001b[1;34m(self, timeout)\u001b[0m\n\u001b[0;32m    214\u001b[0m     event \u001b[38;5;241m=\u001b[39m \u001b[38;5;28mself\u001b[39m\u001b[38;5;241m.\u001b[39m_h11_state\u001b[38;5;241m.\u001b[39mnext_event()\n\u001b[0;32m    216\u001b[0m \u001b[38;5;28;01mif\u001b[39;00m event \u001b[38;5;129;01mis\u001b[39;00m h11\u001b[38;5;241m.\u001b[39mNEED_DATA:\n\u001b[1;32m--> 217\u001b[0m     data \u001b[38;5;241m=\u001b[39m \u001b[38;5;28;43mself\u001b[39;49m\u001b[38;5;241;43m.\u001b[39;49m\u001b[43m_network_stream\u001b[49m\u001b[38;5;241;43m.\u001b[39;49m\u001b[43mread\u001b[49m\u001b[43m(\u001b[49m\n\u001b[0;32m    218\u001b[0m \u001b[43m        \u001b[49m\u001b[38;5;28;43mself\u001b[39;49m\u001b[38;5;241;43m.\u001b[39;49m\u001b[43mREAD_NUM_BYTES\u001b[49m\u001b[43m,\u001b[49m\u001b[43m \u001b[49m\u001b[43mtimeout\u001b[49m\u001b[38;5;241;43m=\u001b[39;49m\u001b[43mtimeout\u001b[49m\n\u001b[0;32m    219\u001b[0m \u001b[43m    \u001b[49m\u001b[43m)\u001b[49m\n\u001b[0;32m    221\u001b[0m     \u001b[38;5;66;03m# If we feed this case through h11 we'll raise an exception like:\u001b[39;00m\n\u001b[0;32m    222\u001b[0m     \u001b[38;5;66;03m#\u001b[39;00m\n\u001b[0;32m    223\u001b[0m     \u001b[38;5;66;03m#     httpcore.RemoteProtocolError: can't handle event type\u001b[39;00m\n\u001b[1;32m   (...)\u001b[0m\n\u001b[0;32m    227\u001b[0m     \u001b[38;5;66;03m# perspective. Instead we handle this case distinctly and treat\u001b[39;00m\n\u001b[0;32m    228\u001b[0m     \u001b[38;5;66;03m# it as a ConnectError.\u001b[39;00m\n\u001b[0;32m    229\u001b[0m     \u001b[38;5;28;01mif\u001b[39;00m data \u001b[38;5;241m==\u001b[39m \u001b[38;5;124mb\u001b[39m\u001b[38;5;124m\"\u001b[39m\u001b[38;5;124m\"\u001b[39m \u001b[38;5;129;01mand\u001b[39;00m \u001b[38;5;28mself\u001b[39m\u001b[38;5;241m.\u001b[39m_h11_state\u001b[38;5;241m.\u001b[39mtheir_state \u001b[38;5;241m==\u001b[39m h11\u001b[38;5;241m.\u001b[39mSEND_RESPONSE:\n",
      "File \u001b[1;32mc:\\Users\\nanar\\Documents\\Python\\AI_frameworks\\LangChain\\venv_langchain\\lib\\site-packages\\httpcore\\_backends\\sync.py:128\u001b[0m, in \u001b[0;36mSyncStream.read\u001b[1;34m(self, max_bytes, timeout)\u001b[0m\n\u001b[0;32m    126\u001b[0m \u001b[38;5;28;01mwith\u001b[39;00m map_exceptions(exc_map):\n\u001b[0;32m    127\u001b[0m     \u001b[38;5;28mself\u001b[39m\u001b[38;5;241m.\u001b[39m_sock\u001b[38;5;241m.\u001b[39msettimeout(timeout)\n\u001b[1;32m--> 128\u001b[0m     \u001b[38;5;28;01mreturn\u001b[39;00m \u001b[38;5;28;43mself\u001b[39;49m\u001b[38;5;241;43m.\u001b[39;49m\u001b[43m_sock\u001b[49m\u001b[38;5;241;43m.\u001b[39;49m\u001b[43mrecv\u001b[49m\u001b[43m(\u001b[49m\u001b[43mmax_bytes\u001b[49m\u001b[43m)\u001b[49m\n",
      "\u001b[1;31mKeyboardInterrupt\u001b[0m: "
     ]
    }
   ],
   "source": [
    "\n",
    "\n",
    "short_chain = short_prompt_template | model | short_technical_parser\n",
    "short_json = short_chain.invoke(invocation)\n",
    "short_json"
   ]
  },
  {
   "cell_type": "code",
   "execution_count": 18,
   "id": "ae72ffd3",
   "metadata": {},
   "outputs": [
    {
     "name": "stdout",
     "output_type": "stream",
     "text": [
      "('{\"data_timeframe\":5,\"supports_evaluation\":{\"evaluation\":\"Strong support '\n",
      " 'levels identified at $130 and '\n",
      " '$135\",\"interaction_status\":\"PRICE_ABOVE_SUPPORT\",\"interaction_implication\":\"TAKE_PROFIT_ZONE\",\"close_level\":\"$130\",\"middle_level\":\"$132.5\",\"far_level\":\"$135\",\"raw_tool_data\":{\"close_value\":130.0,\"middle_value\":132.5,\"far_value\":135.0}},\"resistances_evaluation\":{\"evaluation\":\"Key '\n",
      " 'resistance levels at $165 and '\n",
      " '$170\",\"interaction_status\":\"PRICE_BELOW_RESISTANCE\",\"interaction_implication\":\"STOP_LOSS_ZONE\",\"close_level\":\"$165\",\"middle_level\":\"$167.5\",\"far_level\":\"$170\",\"raw_tool_data\":{\"close_value\":165.0,\"middle_value\":167.5,\"far_value\":170.0}},\"prices_evaluation\":{\"trend\":\"BULLISH\",\"trading_action\":\"BUY\",\"primary_trend\":\"STRONG_BULLISH\",\"primary_trend_number_of_touches\":3,\"secondary_trend\":\"BULLISH\",\"secondary_trend_number_of_touches\":2,\"minor_trend\":\"CONSOLIDATION\",\"minor_trend_number_of_touches\":1,\"raw_tool_data\":{\"prices_value\":155.0},\"trend_evaluation\":\"BULLISH\",\"chart_pattern\":\"Double '\n",
      " 'Bottom Pattern\",\"potential_chart_pattern\":\"Bullish Flag '\n",
      " 'Pattern\",\"candlestick_pattern\":\"Three White '\n",
      " 'Soldiers\",\"potential_candlestick_pattern\":\"Three Black '\n",
      " 'Crows\"},\"indicators\":{\"rsi_evaluation\":null,\"macd_evaluation\":null,\"bollinger_bands_evaluation\":null},\"volumes_evaluation\":{\"trend\":\"INCREASING\",\"trading_action\":\"BUY\",\"primary_trend\":\"STRONG_BULLISH\",\"primary_trend_number_of_touches\":2,\"secondary_trend\":\"BULLISH\",\"secondary_trend_number_of_touches\":1,\"minor_trend\":\"CONSOLIDATION\",\"minor_trend_number_of_touches\":0,\"raw_tool_data\":{\"volumes_value\":2.0},\"trend_evaluation\":\"INCREASING\"},\"short_timeframe_data_synthesis\":{\"conclusion\":\"Strong '\n",
      " 'buy signal for Apple shares with high volume confirmation. Multiple support '\n",
      " 'levels identified and bullish chart '\n",
      " 'patterns.\",\"synthese_remarkable_values\":null,\"synthese_trading_action\":\"BUY\",\"synthese_support_resistance_comment\":\"Key '\n",
      " 'support levels at $130-$135 and resistance zones at '\n",
      " '$165-$170.\",\"synthese_support_resistance_interaction_status\":\"PRICE_ABOVE_SUPPORT\",\"synthese_support_resistance_interaction_implication\":\"TAKE_PROFIT_ZONE\"}}')\n"
     ]
    }
   ],
   "source": [
    "pprint(short_json.model_dump_json())"
   ]
  },
  {
   "cell_type": "code",
   "execution_count": 7,
   "id": "4433c1a5",
   "metadata": {},
   "outputs": [
    {
     "data": {
      "text/plain": [
       "LongTimeframeData(data_timeframe=60, supports_evaluation=SupportEvaluation(evaluation='Strong Support Levels Present', interaction_status=<SupportResistanceInteractionStatus.PRICE_ABOVE_SUPPORT: 'PRICE_ABOVE_SUPPORT'>, interaction_implication=<SupportResistanceInteractionImplication.POTENTIAL_BUY_ZONE: 'POTENTIAL_BUY_ZONE'>, close_level='144.50', middle_level='139.25', far_level='134.00', raw_tool_data=SupportRawToolData(close_value=144.5, middle_value=139.25, far_value=134.0)), resistances_evaluation=ResistanceEvaluation(evaluation='Multiple Resistance Levels Active', interaction_status=<SupportResistanceInteractionStatus.PRICE_BELOW_RESISTANCE: 'PRICE_BELOW_RESISTANCE'>, interaction_implication=<SupportResistanceInteractionImplication.STOP_LOSS_ZONE: 'STOP_LOSS_ZONE'>, close_level='155.75', middle_level='150.50', far_level='145.25', raw_tool_data=ResistanceRawToolData(close_value=155.75, middle_value=150.5, far_value=145.25)), prices_evaluation=PricesEvaluation(trend='BULLISH', trading_action=<TradingActions.OUTPERFORM: 'OUTPERFORM'>, primary_trend=<TrendCategories.STRONG_BULLISH: 'STRONG_BULLISH'>, primary_trend_number_of_touches=5, secondary_trend=<TrendCategories.BEARISH: 'BEARISH'>, secondary_trend_number_of_touches=2, minor_trend=<TrendCategories.CONSOLIDATION: 'CONSOLIDATION'>, minor_trend_number_of_touches=1, raw_tool_data=PRICESRawValue(prices_value=149.5), trend_evaluation='Positive Momentum', chart_pattern='Bullish Flag Pattern Forming', potential_chart_pattern='Ascending Triangle Pattern Developing', candlestick_pattern='Golden Cross Confirmed', potential_candlestick_pattern='Potential Three White Soldiers Pattern'), indicators=Indicators(rsi_evaluation=None, macd_evaluation=None, bollinger_bands_evaluation=None), volumes_evaluation=VolumesEvaluation(trend='BULLISH', trading_action=<TradingActions.OUTPERFORM: 'OUTPERFORM'>, primary_trend=<TrendCategories.STRONG_BULLISH: 'STRONG_BULLISH'>, primary_trend_number_of_touches=4, secondary_trend=<TrendCategories.BEARISH: 'BEARISH'>, secondary_trend_number_of_touches=1, minor_trend=<TrendCategories.CONSOLIDATION: 'CONSOLIDATION'>, minor_trend_number_of_touches=0, raw_tool_data=VOLUMESRawValue(volumes_value=3.5), trend_evaluation='Increasing Volume'), long_timeframe_data_synthesis=Synthesis(conclusion='Overall Bullish Trend with Strong Support Levels and Multiple Resistance Zones', synthese_remarkable_values=None, synthese_trading_action=<TradingActions.BUY: 'BUY'>, synthese_support_resistance_comment='Key support at 144.50 - multiple touches confirmed', synthese_support_resistance_interaction_status=<SupportResistanceInteractionStatus.PRICE_ABOVE_SUPPORT: 'PRICE_ABOVE_SUPPORT'>, synthese_support_resistance_interaction_implication=<SupportResistanceInteractionImplication.POTENTIAL_BUY_ZONE: 'POTENTIAL_BUY_ZONE'>))"
      ]
     },
     "execution_count": 7,
     "metadata": {},
     "output_type": "execute_result"
    }
   ],
   "source": [
    "long_technical_parser = PydanticOutputParser(pydantic_object=LongTimeframeData)\n",
    "\n",
    "long_prompt_template = ChatPromptTemplate([\n",
    "    SystemMessagePromptTemplate.from_template(template=system_template),\n",
    "    HumanMessagePromptTemplate.from_template(template=\"{stock}\"),\n",
    "    ],\n",
    "    input_variables=[\"stock\"],\n",
    "    partial_variables={\"format_instructions\": long_technical_parser.get_format_instructions(),\n",
    "                    #    \"output_json_schema\": technical_parser._get_schema(pydantic_object=TickerTechnicalAnalysis)\n",
    "                       }\n",
    ")\n",
    "\n",
    "long_chain = long_prompt_template | model | long_technical_parser\n",
    "long_json = long_chain.invoke(invocation)\n",
    "long_json"
   ]
  },
  {
   "cell_type": "code",
   "execution_count": 19,
   "id": "5f493798",
   "metadata": {},
   "outputs": [
    {
     "name": "stdout",
     "output_type": "stream",
     "text": [
      "('{\"data_timeframe\":60,\"supports_evaluation\":{\"evaluation\":\"Strong Support '\n",
      " 'Levels '\n",
      " 'Present\",\"interaction_status\":\"PRICE_ABOVE_SUPPORT\",\"interaction_implication\":\"POTENTIAL_BUY_ZONE\",\"close_level\":\"144.50\",\"middle_level\":\"139.25\",\"far_level\":\"134.00\",\"raw_tool_data\":{\"close_value\":144.5,\"middle_value\":139.25,\"far_value\":134.0}},\"resistances_evaluation\":{\"evaluation\":\"Multiple '\n",
      " 'Resistance Levels '\n",
      " 'Active\",\"interaction_status\":\"PRICE_BELOW_RESISTANCE\",\"interaction_implication\":\"STOP_LOSS_ZONE\",\"close_level\":\"155.75\",\"middle_level\":\"150.50\",\"far_level\":\"145.25\",\"raw_tool_data\":{\"close_value\":155.75,\"middle_value\":150.5,\"far_value\":145.25}},\"prices_evaluation\":{\"trend\":\"BULLISH\",\"trading_action\":\"OUTPERFORM\",\"primary_trend\":\"STRONG_BULLISH\",\"primary_trend_number_of_touches\":5,\"secondary_trend\":\"BEARISH\",\"secondary_trend_number_of_touches\":2,\"minor_trend\":\"CONSOLIDATION\",\"minor_trend_number_of_touches\":1,\"raw_tool_data\":{\"prices_value\":149.5},\"trend_evaluation\":\"Positive '\n",
      " 'Momentum\",\"chart_pattern\":\"Bullish Flag Pattern '\n",
      " 'Forming\",\"potential_chart_pattern\":\"Ascending Triangle Pattern '\n",
      " 'Developing\",\"candlestick_pattern\":\"Golden Cross '\n",
      " 'Confirmed\",\"potential_candlestick_pattern\":\"Potential Three White Soldiers '\n",
      " 'Pattern\"},\"indicators\":{\"rsi_evaluation\":null,\"macd_evaluation\":null,\"bollinger_bands_evaluation\":null},\"volumes_evaluation\":{\"trend\":\"BULLISH\",\"trading_action\":\"OUTPERFORM\",\"primary_trend\":\"STRONG_BULLISH\",\"primary_trend_number_of_touches\":4,\"secondary_trend\":\"BEARISH\",\"secondary_trend_number_of_touches\":1,\"minor_trend\":\"CONSOLIDATION\",\"minor_trend_number_of_touches\":0,\"raw_tool_data\":{\"volumes_value\":3.5},\"trend_evaluation\":\"Increasing '\n",
      " 'Volume\"},\"long_timeframe_data_synthesis\":{\"conclusion\":\"Overall Bullish '\n",
      " 'Trend with Strong Support Levels and Multiple Resistance '\n",
      " 'Zones\",\"synthese_remarkable_values\":null,\"synthese_trading_action\":\"BUY\",\"synthese_support_resistance_comment\":\"Key '\n",
      " 'support at 144.50 - multiple touches '\n",
      " 'confirmed\",\"synthese_support_resistance_interaction_status\":\"PRICE_ABOVE_SUPPORT\",\"synthese_support_resistance_interaction_implication\":\"POTENTIAL_BUY_ZONE\"}}')\n"
     ]
    }
   ],
   "source": [
    "pprint(long_json.model_dump_json())"
   ]
  },
  {
   "cell_type": "code",
   "execution_count": 8,
   "id": "13140314",
   "metadata": {},
   "outputs": [],
   "source": [
    "global_system_template = (\"As trading technical analyst expert, your task is to generate the technical analysis report for {stock} at the specified JSON format. \"\n",
    "                   \"The JSON of the short timeframe analysis is {short_json}.\"\n",
    "                   \"The JSON of the long timeframe analysis is {long_json}.\"\n",
    "                   \"Use the data (simulated for the exercice) to generate the technical analysis of {stock} action totally filling the JSON schema described below. \"\n",
    "\n",
    "                   \"The format of your response is CRITICAL and MUST ADHERE EXACTLY to the JSON schema described here:\"\n",
    "                   \"\\n{format_instructions}\\n\"\n",
    "                   \"Once again, the JSON schema described above is CRITICAL and MUST BE RESPECTED.\"\n",
    "                )"
   ]
  },
  {
   "cell_type": "code",
   "execution_count": 9,
   "id": "d142f65c",
   "metadata": {},
   "outputs": [],
   "source": [
    "global_invocation = {\"stock\": \"APPLE\", \"short_json\":short_json.model_dump_json(), \"long_json\":long_json.model_dump_json()}"
   ]
  },
  {
   "cell_type": "code",
   "execution_count": 11,
   "id": "4a90e59e",
   "metadata": {},
   "outputs": [
    {
     "data": {
      "text/plain": [
       "TickerTechnicalAnalysis(name_of_the_company='Apple Inc.', isin_of_the_company='US0378331005', time_of_the_report=datetime.datetime(2023, 8, 16, 10, 0, tzinfo=TzInfo(UTC)), synthesis=Synthesis(conclusion='Strong bullish trend with multiple support levels at $130-$135 and resistance zones at $165-$170. Key technical patterns include a Double Bottom Pattern forming on the short timeframe, while a Bullish Flag Pattern is developing on the long timeframe.', synthese_remarkable_values=None, synthese_trading_action=<TradingActions.BUY: 'BUY'>, synthese_support_resistance_comment='Key support levels at $130-$135 and resistance zones at $165-$170. Multiple touches confirmed on support levels with strong volume confirmation.', synthese_support_resistance_interaction_status=<SupportResistanceInteractionStatus.PRICE_ABOVE_SUPPORT: 'PRICE_ABOVE_SUPPORT'>, synthese_support_resistance_interaction_implication=<SupportResistanceInteractionImplication.TAKE_PROFIT_ZONE: 'TAKE_PROFIT_ZONE'>))"
      ]
     },
     "execution_count": 11,
     "metadata": {},
     "output_type": "execute_result"
    }
   ],
   "source": [
    "global_technical_parser = PydanticOutputParser(pydantic_object=TickerTechnicalAnalysis)\n",
    "\n",
    "global_prompt_template = ChatPromptTemplate([\n",
    "    SystemMessagePromptTemplate.from_template(template=global_system_template),\n",
    "    HumanMessagePromptTemplate.from_template(template=\"{stock}\"),\n",
    "    ],\n",
    "    input_variables=[\"stock\", \"short_json\", \"long_json\"],\n",
    "    partial_variables={\"format_instructions\": global_technical_parser.get_format_instructions(),\n",
    "                    #    \"output_json_schema\": technical_parser._get_schema(pydantic_object=TickerTechnicalAnalysis)\n",
    "                       }\n",
    ")\n",
    "\n",
    "global_chain = global_prompt_template | model | global_technical_parser\n",
    "global_json = global_chain.invoke(global_invocation)\n",
    "global_json"
   ]
  },
  {
   "cell_type": "code",
   "execution_count": null,
   "id": "a0dfc1dd",
   "metadata": {},
   "outputs": [
    {
     "name": "stdout",
     "output_type": "stream",
     "text": [
      "('{\"name_of_the_company\":\"Apple '\n",
      " 'Inc.\",\"isin_of_the_company\":\"US0378331005\",\"time_of_the_report\":\"2023-08-16T10:00:00Z\",\"synthesis\":{\"conclusion\":\"Strong '\n",
      " 'bullish trend with multiple support levels at $130-$135 and resistance zones '\n",
      " 'at $165-$170. Key technical patterns include a Double Bottom Pattern forming '\n",
      " 'on the short timeframe, while a Bullish Flag Pattern is developing on the '\n",
      " 'long '\n",
      " 'timeframe.\",\"synthese_remarkable_values\":null,\"synthese_trading_action\":\"BUY\",\"synthese_support_resistance_comment\":\"Key '\n",
      " 'support levels at $130-$135 and resistance zones at $165-$170. Multiple '\n",
      " 'touches confirmed on support levels with strong volume '\n",
      " 'confirmation.\",\"synthese_support_resistance_interaction_status\":\"PRICE_ABOVE_SUPPORT\",\"synthese_support_resistance_interaction_implication\":\"TAKE_PROFIT_ZONE\"}}')\n"
     ]
    }
   ],
   "source": [
    "pprint(global_json.model_dump_json())"
   ]
  },
  {
   "cell_type": "code",
   "execution_count": null,
   "id": "e27d75c9",
   "metadata": {},
   "outputs": [],
   "source": []
  }
 ],
 "metadata": {
  "kernelspec": {
   "display_name": "venv_langchain",
   "language": "python",
   "name": "python3"
  },
  "language_info": {
   "codemirror_mode": {
    "name": "ipython",
    "version": 3
   },
   "file_extension": ".py",
   "mimetype": "text/x-python",
   "name": "python",
   "nbconvert_exporter": "python",
   "pygments_lexer": "ipython3",
   "version": "3.10.16"
  }
 },
 "nbformat": 4,
 "nbformat_minor": 5
}
