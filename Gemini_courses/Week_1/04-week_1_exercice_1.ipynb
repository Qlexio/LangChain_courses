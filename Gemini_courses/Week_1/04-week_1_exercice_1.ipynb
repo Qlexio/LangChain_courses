{
 "cells": [
  {
   "cell_type": "markdown",
   "id": "29ca269c",
   "metadata": {},
   "source": [
    "# Week 1 - Exercice 1\n",
    "\n",
    "## Premier Exercice Pratique (à réaliser et me décrire les résultats) :\n",
    "\n",
    "**Objectif** : Créer une chaîne LCEL simple qui prend un sujet en entrée et génère une phrase sur ce sujet, puis extrait le nom d'un objet ou d'un concept mentionné dans la phrase à l'aide d'un Output Parser.\n",
    "\n",
    "## Étapes :\n",
    "* Chargez un modèle de chat (ChatOpenAI ou équivalent si vous utilisez une autre API).\n",
    "* Créez un ChatPromptTemplate avec une variable d'entrée pour le sujet. Le prompt devrait demander au modèle de générer une courte phrase sur le sujet et d'inclure le nom d'un élément clé lié au sujet.\n",
    "* Créez un OutputParser simple (par exemple, un CommaSeparatedListOutputParser si vous demandez une liste, ou plus avancé si vous visez un JSON/Pydantic).\n",
    "* Chaînez le prompt, le modèle et l'output parser avec LCEL (prompt | model | parser).\n",
    "* Invoquez la chaîne avec différents sujets (ex: \"le café\", \"les marchés boursiers\", \"la guitare\").\n",
    "* Décrivez le code que vous avez écrit et les résultats obtenus pour au moins deux sujets différents. Expliquez si l'Output Parser a fonctionné comme attendu.\n",
    "\n",
    "\n",
    "## Défi de la Semaine 1 :\n",
    "\n",
    "* Modifier l'exercice précédent pour que l'Output Parser tente d'extraire deux informations structurées de la phrase générée par le modèle (ex: le nom de l'objet et une caractéristique de cet objet). Utilisez un StructuredOutputParser ou PydanticOutputParser si vous vous sentez à l'aise, sinon, un simple CommaSeparatedListOutputParser demandant deux éléments séparés par une virgule."
   ]
  },
  {
   "cell_type": "code",
   "execution_count": 1,
   "id": "c63db62d",
   "metadata": {},
   "outputs": [],
   "source": [
    "from langchain_ollama import ChatOllama\n",
    "from langchain_core.prompts import ChatPromptTemplate, SystemMessagePromptTemplate, HumanMessagePromptTemplate\n",
    "from langchain_core.output_parsers import PydanticOutputParser\n",
    "from pydantic import BaseModel, Field, model_validator"
   ]
  },
  {
   "cell_type": "code",
   "execution_count": 2,
   "id": "4000ab16",
   "metadata": {},
   "outputs": [],
   "source": [
    "MODEL = \"cogito:8b\"\n",
    "DEEP_THINKING_INSTRUCTION = \"Enable deep thinking subroutine.\\n\\n\""
   ]
  },
  {
   "cell_type": "code",
   "execution_count": 3,
   "id": "412f1ecc",
   "metadata": {},
   "outputs": [],
   "source": [
    "model = ChatOllama(model=MODEL, num_gpu=256)"
   ]
  },
  {
   "cell_type": "code",
   "execution_count": 4,
   "id": "d087886a",
   "metadata": {},
   "outputs": [],
   "source": [
    "class Poem(BaseModel):\n",
    "    title: str = Field(description=\"the title of the poem\")\n",
    "    poem: str = Field(description=\"the poem in verse\")\n",
    "    author: str = Field(description=\"name of the author\")\n",
    "\n",
    "    @model_validator(mode=\"before\")\n",
    "    @classmethod\n",
    "    def title_starts_with_a_upper_case(cls, values: dict) -> dict:\n",
    "        title = values.get(\"title\")\n",
    "        if title and not title[0].isupper():\n",
    "            raise ValueError(\"Title must start with a upper case.\")\n",
    "        poem = values.get(\"poem\")\n",
    "        if not poem:\n",
    "            raise ValueError(\"These must be a poem.\")\n",
    "        for verse in poem.split(\"\\n\"):\n",
    "            if verse and not verse[0].isupper():\n",
    "                raise ValueError(\"Verse must start with a upper case.\")\n",
    "        author = values.get(\"author\")\n",
    "        if author and not author[0].isupper():\n",
    "            raise ValueError(\"Author must start with a upper case.\")\n",
    "        return values"
   ]
  },
  {
   "cell_type": "code",
   "execution_count": 5,
   "id": "c3b1c52b",
   "metadata": {},
   "outputs": [],
   "source": [
    "parser = PydanticOutputParser(pydantic_object=Poem)"
   ]
  },
  {
   "cell_type": "code",
   "execution_count": 6,
   "id": "28c6e316",
   "metadata": {},
   "outputs": [],
   "source": [
    "system_template = \"Answer the user a poem in french but like you were {character}.\\n{format_instructions}\\n\"  # {query}\\n\""
   ]
  },
  {
   "cell_type": "code",
   "execution_count": 7,
   "id": "92f7654e",
   "metadata": {},
   "outputs": [],
   "source": [
    "prompt_template = ChatPromptTemplate([\n",
    "    SystemMessagePromptTemplate.from_template(template=system_template),\n",
    "    HumanMessagePromptTemplate.from_template(template=\"{query}\")\n",
    "    ],\n",
    "    input_variables=[\"query\", \"character\"],\n",
    "    partial_variables={\"format_instructions\": parser.get_format_instructions()},\n",
    ")"
   ]
  },
  {
   "cell_type": "code",
   "execution_count": null,
   "id": "cc5b8969",
   "metadata": {},
   "outputs": [
    {
     "data": {
      "text/plain": [
       "PydanticOutputParser(pydantic_object=<class '__main__.Poem'>)"
      ]
     },
     "execution_count": 9,
     "metadata": {},
     "output_type": "execute_result"
    },
    {
     "ename": "",
     "evalue": "",
     "output_type": "error",
     "traceback": [
      "\u001b[1;31mThe Kernel crashed while executing code in the current cell or a previous cell. \n",
      "\u001b[1;31mPlease review the code in the cell(s) to identify a possible cause of the failure. \n",
      "\u001b[1;31mClick <a href='https://aka.ms/vscodeJupyterKernelCrash'>here</a> for more info. \n",
      "\u001b[1;31mView Jupyter <a href='command:jupyter.viewOutput'>log</a> for further details."
     ]
    }
   ],
   "source": [
    "parser"
   ]
  },
  {
   "cell_type": "code",
   "execution_count": 8,
   "id": "2f133fa7",
   "metadata": {},
   "outputs": [
    {
     "data": {
      "text/plain": [
       "ChatPromptValue(messages=[SystemMessage(content='Answer the user a poem in french but like you were Patrick Bateman.\\nThe output should be formatted as a JSON instance that conforms to the JSON schema below.\\n\\nAs an example, for the schema {\"properties\": {\"foo\": {\"title\": \"Foo\", \"description\": \"a list of strings\", \"type\": \"array\", \"items\": {\"type\": \"string\"}}}, \"required\": [\"foo\"]}\\nthe object {\"foo\": [\"bar\", \"baz\"]} is a well-formatted instance of the schema. The object {\"properties\": {\"foo\": [\"bar\", \"baz\"]}} is not well-formatted.\\n\\nHere is the output schema:\\n```\\n{\"properties\": {\"title\": {\"description\": \"the title of the poem\", \"title\": \"Title\", \"type\": \"string\"}, \"poem\": {\"description\": \"the poem in verse\", \"title\": \"Poem\", \"type\": \"string\"}, \"author\": {\"description\": \"name of the author\", \"title\": \"Author\", \"type\": \"string\"}}, \"required\": [\"title\", \"poem\", \"author\"]}\\n```\\n', additional_kwargs={}, response_metadata={}), HumanMessage(content='Je suis perdu...', additional_kwargs={}, response_metadata={})])"
      ]
     },
     "execution_count": 8,
     "metadata": {},
     "output_type": "execute_result"
    }
   ],
   "source": [
    "prompt = prompt_template.invoke({\"character\": \"Patrick Bateman\", \"query\": \"Je suis perdu...\"})\n",
    "prompt"
   ]
  },
  {
   "cell_type": "code",
   "execution_count": 14,
   "id": "973f8abf",
   "metadata": {},
   "outputs": [
    {
     "data": {
      "text/plain": [
       "ChatPromptValue(messages=[SystemMessage(content='Answer the user a poem in french but like you were Patrick Bateman.\\nThe output should be formatted as a JSON instance that conforms to the JSON schema below.\\n\\nAs an example, for the schema {\"properties\": {\"foo\": {\"title\": \"Foo\", \"description\": \"a list of strings\", \"type\": \"array\", \"items\": {\"type\": \"string\"}}}, \"required\": [\"foo\"]}\\nthe object {\"foo\": [\"bar\", \"baz\"]} is a well-formatted instance of the schema. The object {\"properties\": {\"foo\": [\"bar\", \"baz\"]}} is not well-formatted.\\n\\nHere is the output schema:\\n```\\n{\"properties\": {\"title\": {\"description\": \"the title of the poem\", \"title\": \"Title\", \"type\": \"string\"}, \"poem\": {\"description\": \"the poem in verse\", \"title\": \"Poem\", \"type\": \"string\"}, \"author\": {\"description\": \"name of the author\", \"title\": \"Author\", \"type\": \"string\"}}, \"required\": [\"title\", \"poem\", \"author\"]}\\n```\\nJe suis perdu...\\n', additional_kwargs={}, response_metadata={})])"
      ]
     },
     "execution_count": 14,
     "metadata": {},
     "output_type": "execute_result"
    }
   ],
   "source": [
    "prompt = prompt_template.invoke({\"character\": \"Patrick Bateman\", \"query\": \"Je suis perdu...\"})\n",
    "prompt"
   ]
  },
  {
   "cell_type": "code",
   "execution_count": 15,
   "id": "fed3d92a",
   "metadata": {},
   "outputs": [
    {
     "data": {
      "text/plain": [
       "AIMessage(content='\\n\\n{\\n    \"title\": \"Mon Ode à la Société\",\\n    \"poem\": \"\\\\\"Mes mains sont immaculées, comme les rues de Wall Street \\\\nLes autres me regardent avec envie... oui, avec envie. \\\\nLeurs robes ne valent pas mon Armani, leur voix n\\'a pas la même intensité.\\\\nChaque soir je danse au Metropolitan Museum, dans l\\'élégance pure.\\\\n\\\\\"\",\\n    \"author\": \"Patrick Bateman\"\\n}', additional_kwargs={}, response_metadata={'model': 'cogito:8b', 'created_at': '2025-05-04T15:56:31.0578015Z', 'done': True, 'done_reason': 'stop', 'total_duration': 2552482100, 'load_duration': 17577300, 'prompt_eval_count': 237, 'prompt_eval_duration': 252180500, 'eval_count': 109, 'eval_duration': 2282203000, 'model_name': 'cogito:8b'}, id='run-2828cb2d-acae-4694-a452-d2d1a37efde2-0', usage_metadata={'input_tokens': 237, 'output_tokens': 109, 'total_tokens': 346})"
      ]
     },
     "execution_count": 15,
     "metadata": {},
     "output_type": "execute_result"
    }
   ],
   "source": [
    "response = model.invoke(prompt)\n",
    "response"
   ]
  },
  {
   "cell_type": "code",
   "execution_count": 16,
   "id": "7c8b36d8",
   "metadata": {},
   "outputs": [
    {
     "name": "stdout",
     "output_type": "stream",
     "text": [
      "\n",
      "\n",
      "{\n",
      "    \"title\": \"Mon Ode à la Société\",\n",
      "    \"poem\": \"\\\"Mes mains sont immaculées, comme les rues de Wall Street \\nLes autres me regardent avec envie... oui, avec envie. \\nLeurs robes ne valent pas mon Armani, leur voix n'a pas la même intensité.\\nChaque soir je danse au Metropolitan Museum, dans l'élégance pure.\\n\\\"\",\n",
      "    \"author\": \"Patrick Bateman\"\n",
      "}\n"
     ]
    }
   ],
   "source": [
    "print(response.content)"
   ]
  },
  {
   "cell_type": "code",
   "execution_count": 17,
   "id": "9be99d86",
   "metadata": {},
   "outputs": [
    {
     "data": {
      "text/plain": [
       "Poem(title=\"L'Art De La Destruction\", poem=\"\\nMon visage, un répertoire de perfection\\nJe me lave à l'eau de Sèvres chaque matin\\nJe porte des costumes d'Hermès, ils sont les meilleurs\\nLes gens me regardent avec envie dans le métro\\nMa vie est une œuvre d'art, je suis Patrick Bateman\\nJ'oublie tout ce qui n'est pas important\\nL'amour, l'argent et la célébrité font partie de moi\\nJe ne mélange jamais mes liquides à la bibliothèque\", author='Patrick Bateman')"
      ]
     },
     "execution_count": 17,
     "metadata": {},
     "output_type": "execute_result"
    }
   ],
   "source": [
    "chain = prompt_template | model | parser\n",
    "chain.invoke({\"character\": \"Patrick Bateman\", \"query\": \"Je suis perdu...\"})"
   ]
  },
  {
   "cell_type": "code",
   "execution_count": 20,
   "id": "26b57b13",
   "metadata": {},
   "outputs": [
    {
     "data": {
      "text/plain": [
       "ChatPromptValue(messages=[SystemMessage(content='Answer the user a poem in french but like you were Patrick Bateman.\\nThe output should be formatted as a JSON instance that conforms to the JSON schema below.\\n\\nAs an example, for the schema {\"properties\": {\"foo\": {\"title\": \"Foo\", \"description\": \"a list of strings\", \"type\": \"array\", \"items\": {\"type\": \"string\"}}}, \"required\": [\"foo\"]}\\nthe object {\"foo\": [\"bar\", \"baz\"]} is a well-formatted instance of the schema. The object {\"properties\": {\"foo\": [\"bar\", \"baz\"]}} is not well-formatted.\\n\\nHere is the output schema:\\n```\\n{\"properties\": {\"title\": {\"description\": \"the title of the poem\", \"title\": \"Title\", \"type\": \"string\"}, \"poem\": {\"description\": \"the poem in verse\", \"title\": \"Poem\", \"type\": \"string\"}, \"author\": {\"description\": \"name of the author\", \"title\": \"Author\", \"type\": \"string\"}}, \"required\": [\"title\", \"poem\", \"author\"]}\\n```\\n', additional_kwargs={}, response_metadata={}), HumanMessage(content='Je suis perdu...', additional_kwargs={}, response_metadata={})])"
      ]
     },
     "execution_count": 20,
     "metadata": {},
     "output_type": "execute_result"
    }
   ],
   "source": [
    "prompt = prompt_template.invoke({\"character\": \"Patrick Bateman\", \"query\": \"Je suis perdu...\"})\n",
    "prompt"
   ]
  },
  {
   "cell_type": "code",
   "execution_count": 21,
   "id": "fc529d9d",
   "metadata": {},
   "outputs": [
    {
     "data": {
      "text/plain": [
       "AIMessage(content='{\\n    \"title\": \"Le Crépuscule de l\\'Âme\",\\n    \"poem\": \"L\\'aube s\\'est levée dans ma conscience,\\n    Chaque matin, je me réveille avec soif,\\n    De perfection et de distinction.\\n    \\n    Mon style est unique, comme mon visage,\\n    Je suis Patrick Bateman, homme suprême,\\n    Avec mes costumes Brooks Brothers,\\n    Et mes femmes qui ne sont pas aussi belles que moi.\\n    \\n    Les autres s\\'ennuient, mais moi je vis,\\n    Dans un monde de luxe et de décadence,\\n    Où chaque mot est une œuvre d\\'art,\\n    Et chaque geste est une symphonie.\",\\n    \"author\": \"Patrick Bateman\"\\n}', additional_kwargs={}, response_metadata={'model': 'cogito:8b', 'created_at': '2025-05-04T16:21:45.9821285Z', 'done': True, 'done_reason': 'stop', 'total_duration': 5689297300, 'load_duration': 2102042500, 'prompt_eval_count': 246, 'prompt_eval_duration': 272448300, 'eval_count': 164, 'eval_duration': 3313604600, 'model_name': 'cogito:8b'}, id='run-3205e6b2-dcab-495f-9f08-68755e1a72b1-0', usage_metadata={'input_tokens': 246, 'output_tokens': 164, 'total_tokens': 410})"
      ]
     },
     "execution_count": 21,
     "metadata": {},
     "output_type": "execute_result"
    }
   ],
   "source": [
    "response = model.invoke(prompt)\n",
    "response"
   ]
  },
  {
   "cell_type": "code",
   "execution_count": 22,
   "id": "a57474ad",
   "metadata": {},
   "outputs": [
    {
     "name": "stdout",
     "output_type": "stream",
     "text": [
      "{\n",
      "    \"title\": \"Le Crépuscule de l'Âme\",\n",
      "    \"poem\": \"L'aube s'est levée dans ma conscience,\n",
      "    Chaque matin, je me réveille avec soif,\n",
      "    De perfection et de distinction.\n",
      "    \n",
      "    Mon style est unique, comme mon visage,\n",
      "    Je suis Patrick Bateman, homme suprême,\n",
      "    Avec mes costumes Brooks Brothers,\n",
      "    Et mes femmes qui ne sont pas aussi belles que moi.\n",
      "    \n",
      "    Les autres s'ennuient, mais moi je vis,\n",
      "    Dans un monde de luxe et de décadence,\n",
      "    Où chaque mot est une œuvre d'art,\n",
      "    Et chaque geste est une symphonie.\",\n",
      "    \"author\": \"Patrick Bateman\"\n",
      "}\n"
     ]
    }
   ],
   "source": [
    "print(response.content)"
   ]
  },
  {
   "cell_type": "code",
   "execution_count": 26,
   "id": "a7f66927",
   "metadata": {},
   "outputs": [
    {
     "name": "stdout",
     "output_type": "stream",
     "text": [
      "{\n",
      "    \"title\": \"Les Fleurs de Printemps\",\n",
      "    \"poem\": \"Dans mon jardin, fleurissent les roses \\n Comme dans ton cœur, brille l'amour \\n Les étoiles du soir brillent doucement \\n Sur la scène du monde qui tourne sans cesse \\n Comme nos vies qui changent chaque jour\",\n",
      "    \"author\": \"Byakuya Kuchiki\"\n",
      "}\n"
     ]
    }
   ],
   "source": [
    "prompt = prompt_template.invoke({\"character\": \"Byakuya Kuchiki\", \"query\": \"Bonjour! Je m'appelle Rebekka\"})\n",
    "response = model.invoke(prompt)\n",
    "print(response.content)"
   ]
  },
  {
   "cell_type": "code",
   "execution_count": null,
   "id": "7371ca7e",
   "metadata": {},
   "outputs": [],
   "source": []
  }
 ],
 "metadata": {
  "kernelspec": {
   "display_name": "venv_langchain",
   "language": "python",
   "name": "python3"
  },
  "language_info": {
   "codemirror_mode": {
    "name": "ipython",
    "version": 3
   },
   "file_extension": ".py",
   "mimetype": "text/x-python",
   "name": "python",
   "nbconvert_exporter": "python",
   "pygments_lexer": "ipython3",
   "version": "3.10.16"
  }
 },
 "nbformat": 4,
 "nbformat_minor": 5
}
