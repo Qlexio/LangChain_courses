{
 "cells": [
  {
   "cell_type": "markdown",
   "id": "28e6f680",
   "metadata": {},
   "source": [
    "# Persistance\n",
    "\n",
    "ressource: https://langchain-ai.github.io/langgraph/concepts/persistence"
   ]
  },
  {
   "cell_type": "markdown",
   "id": "44c35f96",
   "metadata": {},
   "source": [
    "## Checkpoints\n"
   ]
  },
  {
   "cell_type": "code",
   "execution_count": null,
   "id": "35902a8d",
   "metadata": {},
   "outputs": [],
   "source": [
    "from langgraph.graph import StateGraph, START, END\n",
    "from langgraph.checkpoint.memory import InMemorySaver\n",
    "from typing import Annotated\n",
    "from typing_extensions import TypedDict\n",
    "from operator import add\n",
    "from pprint import pprint"
   ]
  },
  {
   "cell_type": "code",
   "execution_count": null,
   "id": "de31255f",
   "metadata": {},
   "outputs": [],
   "source": [
    "class State(TypedDict):\n",
    "    foo: str\n",
    "    bar: Annotated[list[str], add]"
   ]
  },
  {
   "cell_type": "code",
   "execution_count": null,
   "id": "212d1167",
   "metadata": {},
   "outputs": [],
   "source": [
    "def node_a(state: State):\n",
    "    return {\"foo\": \"a\", \"bar\": [\"a\"]}"
   ]
  },
  {
   "cell_type": "code",
   "execution_count": null,
   "id": "74e87af2",
   "metadata": {},
   "outputs": [],
   "source": [
    "def node_b(state: State):\n",
    "    return {\"foo\": \"b\", \"bar\": [\"b\"]}"
   ]
  },
  {
   "cell_type": "code",
   "execution_count": null,
   "id": "4ad7b642",
   "metadata": {},
   "outputs": [],
   "source": [
    "workflow = StateGraph(State)"
   ]
  },
  {
   "cell_type": "code",
   "execution_count": null,
   "id": "c97ed92c",
   "metadata": {},
   "outputs": [],
   "source": [
    "workflow.add_node(node=node_a)\n",
    "workflow.add_node(node=node_b)"
   ]
  },
  {
   "cell_type": "code",
   "execution_count": null,
   "id": "4b42009b",
   "metadata": {},
   "outputs": [],
   "source": [
    "workflow.add_edge(START, \"node_a\")\n",
    "workflow.add_edge(\"node_a\", \"node_b\")\n",
    "workflow.add_edge(\"node_b\", END)"
   ]
  },
  {
   "cell_type": "code",
   "execution_count": null,
   "id": "51812cf5",
   "metadata": {},
   "outputs": [],
   "source": [
    "checkpointer = InMemorySaver()\n",
    "graph = workflow.compile(checkpointer=checkpointer)"
   ]
  },
  {
   "cell_type": "code",
   "execution_count": null,
   "id": "8bf2cf1b",
   "metadata": {},
   "outputs": [],
   "source": [
    "config = {\"configurable\": {\"thread_id\": \"1\"}}\n",
    "graph.invoke({\"foo\": \"\"}, config)"
   ]
  },
  {
   "cell_type": "markdown",
   "id": "3e53698d",
   "metadata": {},
   "source": [
    "## Get state"
   ]
  },
  {
   "cell_type": "code",
   "execution_count": null,
   "id": "9c22048d",
   "metadata": {},
   "outputs": [],
   "source": [
    "# Get the latest state snapshot\n",
    "config = {\"configurable\": {\"thread_id\": \"1\"}}\n",
    "pprint(graph.get_state(config=config))"
   ]
  },
  {
   "cell_type": "code",
   "execution_count": null,
   "id": "7ae833cc",
   "metadata": {},
   "outputs": [],
   "source": [
    "# Get a state snapshot for a specific checkpoint_id\n",
    "config = {\"configurable\": {\"thread_id\": \"1\", \"checkpoint_id\": \"1f044dd5-8725-69d4-8002-7134a86a0d7f\"}}\n",
    "graph.get_state(config=config)"
   ]
  },
  {
   "cell_type": "markdown",
   "id": "aecf180d",
   "metadata": {},
   "source": [
    "## Get state history & replay"
   ]
  },
  {
   "cell_type": "code",
   "execution_count": null,
   "id": "210b0149",
   "metadata": {},
   "outputs": [],
   "source": [
    "config = {\"configurable\": {\"thread_id\": \"1\"}}\n",
    "pprint(list(graph.get_state_history(config=config)))"
   ]
  },
  {
   "cell_type": "code",
   "execution_count": null,
   "id": "1d39d6ea",
   "metadata": {},
   "outputs": [],
   "source": [
    "config = {\"configurable\": {\"thread_id\": \"1\", \"checkpoint_id\": \"1f044dd5-8712-6033-8000-2161a17ab1dc\"}}\n",
    "graph.invoke({\"foo\": \"z\"}, config=config)"
   ]
  },
  {
   "cell_type": "code",
   "execution_count": null,
   "id": "f9526c3a",
   "metadata": {},
   "outputs": [],
   "source": [
    "pprint(list(graph.get_state_history(config={\"configurable\": {\"thread_id\": \"1\"}})))"
   ]
  },
  {
   "cell_type": "code",
   "execution_count": null,
   "id": "85be93dd",
   "metadata": {},
   "outputs": [],
   "source": [
    "config = {\"configurable\": {\"thread_id\": \"1\", \"checkpoint_id\": \"1f044dd5-8712-6033-8000-2161a17ab1dc\"}}\n",
    "graph.invoke({\"bar\": [\"42\"]}, config=config)"
   ]
  },
  {
   "cell_type": "code",
   "execution_count": null,
   "id": "b2c869ac",
   "metadata": {},
   "outputs": [],
   "source": [
    "pprint(list(graph.get_state_history(config={\"configurable\": {\"thread_id\": \"1\"}})))"
   ]
  },
  {
   "cell_type": "markdown",
   "id": "f72ad683",
   "metadata": {},
   "source": [
    "## Memory store"
   ]
  },
  {
   "cell_type": "markdown",
   "id": "c1f38be4",
   "metadata": {},
   "source": [
    "#### Basic usage"
   ]
  },
  {
   "cell_type": "code",
   "execution_count": 4,
   "id": "3aed1f42",
   "metadata": {},
   "outputs": [],
   "source": [
    "from langgraph.store.memory import InMemoryStore\n",
    "import uuid"
   ]
  },
  {
   "cell_type": "code",
   "execution_count": 2,
   "id": "ae82635f",
   "metadata": {},
   "outputs": [],
   "source": [
    "in_memory_store = InMemoryStore()"
   ]
  },
  {
   "cell_type": "code",
   "execution_count": 3,
   "id": "93e4d8b4",
   "metadata": {},
   "outputs": [],
   "source": [
    "user_id = \"1\"\n",
    "namespace_for_memory = (user_id, \"memories\")"
   ]
  },
  {
   "cell_type": "code",
   "execution_count": 5,
   "id": "d68f8c26",
   "metadata": {},
   "outputs": [],
   "source": [
    "memory_id = str(uuid.uuid4())\n",
    "memory = {\"food_preference\": \"I like pizza\"}\n",
    "in_memory_store.put(namespace=namespace_for_memory, key=memory_id, value=memory)"
   ]
  },
  {
   "cell_type": "code",
   "execution_count": 6,
   "id": "3d0c0389",
   "metadata": {},
   "outputs": [
    {
     "data": {
      "text/plain": [
       "{'namespace': ['1', 'memories'],\n",
       " 'key': '0be9a0a1-899a-4c54-b580-7b86a59ac5c0',\n",
       " 'value': {'food_preference': 'I like pizza'},\n",
       " 'created_at': '2025-06-10T19:10:10.313727+00:00',\n",
       " 'updated_at': '2025-06-10T19:10:10.313727+00:00',\n",
       " 'score': None}"
      ]
     },
     "execution_count": 6,
     "metadata": {},
     "output_type": "execute_result"
    }
   ],
   "source": [
    "memories = in_memory_store.search(namespace_for_memory)\n",
    "memories[-1].dict()"
   ]
  },
  {
   "cell_type": "code",
   "execution_count": 8,
   "id": "42b7f7f5",
   "metadata": {},
   "outputs": [
    {
     "data": {
      "text/plain": [
       "[Item(namespace=['1', 'memories'], key='0be9a0a1-899a-4c54-b580-7b86a59ac5c0', value={'food_preference': 'I like pizza'}, created_at='2025-06-10T19:10:10.313727+00:00', updated_at='2025-06-10T19:10:10.313727+00:00', score=None)]"
      ]
     },
     "execution_count": 8,
     "metadata": {},
     "output_type": "execute_result"
    }
   ],
   "source": [
    "memories"
   ]
  },
  {
   "cell_type": "markdown",
   "id": "f6d9ae0d",
   "metadata": {},
   "source": [
    "#### Semantic search"
   ]
  },
  {
   "cell_type": "code",
   "execution_count": 1,
   "id": "2ed74877",
   "metadata": {},
   "outputs": [],
   "source": [
    "# from langchain.embeddings import init_embeddings\n",
    "from langgraph.store.memory import InMemoryStore\n",
    "from langchain_ollama.embeddings import OllamaEmbeddings\n",
    "import uuid"
   ]
  },
  {
   "cell_type": "code",
   "execution_count": 2,
   "id": "1be38e59",
   "metadata": {},
   "outputs": [],
   "source": [
    "user_id = \"1\"\n",
    "namespace_for_memory = (user_id, \"memories\")"
   ]
  },
  {
   "cell_type": "code",
   "execution_count": 3,
   "id": "b89f0f0e",
   "metadata": {},
   "outputs": [],
   "source": [
    "store = InMemoryStore(\n",
    "    index={\n",
    "        \"embed\": OllamaEmbeddings(model=\"granite-embedding:278m\"),  # Embedding provider\n",
    "        \"dims\": 1536,  # Embedding dimensions\n",
    "        \"fields\": [\"food_preference\",\"$\"]  # Fields to embed\n",
    "    }\n",
    ")"
   ]
  },
  {
   "cell_type": "code",
   "execution_count": 4,
   "id": "b017931c",
   "metadata": {},
   "outputs": [],
   "source": [
    "# Find memories about food preferences\n",
    "# (This can be done after putting memories into the store)\n",
    "memories = store.search(\n",
    "    namespace_for_memory,\n",
    "    query=\"What does the user like to eat?\",\n",
    "    limit=3  # Return top 3 matches\n",
    ")"
   ]
  },
  {
   "cell_type": "code",
   "execution_count": 5,
   "id": "178e2723",
   "metadata": {},
   "outputs": [
    {
     "data": {
      "text/plain": [
       "[]"
      ]
     },
     "execution_count": 5,
     "metadata": {},
     "output_type": "execute_result"
    }
   ],
   "source": [
    "memories"
   ]
  },
  {
   "cell_type": "code",
   "execution_count": 6,
   "id": "8c2a5e44",
   "metadata": {},
   "outputs": [],
   "source": [
    "# Store with specific fields to embed\n",
    "store.put(\n",
    "    namespace=namespace_for_memory,\n",
    "    key=str(uuid.uuid4()),\n",
    "    value={\n",
    "        \"food_preference\": \"I love Italian cuisine\",\n",
    "        \"context\": \"Discussing dinner plans\"\n",
    "    },\n",
    "    index=[\"food_preference\"]  # Only embed \"food_preference\" field\n",
    ")"
   ]
  },
  {
   "cell_type": "code",
   "execution_count": 7,
   "id": "f6f3fec0",
   "metadata": {},
   "outputs": [],
   "source": [
    "# Store without embedding (still rerievable, bbut not searchable)\n",
    "store.put(\n",
    "    namespace=namespace_for_memory,\n",
    "    key=str(uuid.uuid4()),\n",
    "    value={\n",
    "        \"system_info\": \"Last updated: 2025-04-01\"\n",
    "    },\n",
    "    index=False,\n",
    ")"
   ]
  },
  {
   "cell_type": "code",
   "execution_count": 8,
   "id": "d5578cc2",
   "metadata": {},
   "outputs": [],
   "source": [
    "memories = store.search(\n",
    "    namespace_for_memory,\n",
    "    query=\"What does the user like to eat?\",\n",
    "    limit=3  # Return top 3 matches\n",
    ")"
   ]
  },
  {
   "cell_type": "code",
   "execution_count": 9,
   "id": "4f76f207",
   "metadata": {},
   "outputs": [
    {
     "data": {
      "text/plain": [
       "[Item(namespace=['1', 'memories'], key='bbd4e492-d3b6-4341-8c14-11530f0a347c', value={'food_preference': 'I love Italian cuisine', 'context': 'Discussing dinner plans'}, created_at='2025-06-13T22:10:37.573013+00:00', updated_at='2025-06-13T22:10:37.573013+00:00', score=0.6458198803706252),\n",
       " Item(namespace=['1', 'memories'], key='80a7f034-1553-42e9-bbf6-11543223bbdf', value={'system_info': 'Last updated: 2025-04-01'}, created_at='2025-06-13T22:10:41.049718+00:00', updated_at='2025-06-13T22:10:41.049718+00:00', score=None)]"
      ]
     },
     "execution_count": 9,
     "metadata": {},
     "output_type": "execute_result"
    }
   ],
   "source": [
    "memories"
   ]
  },
  {
   "cell_type": "code",
   "execution_count": 10,
   "id": "fc4c3ffd",
   "metadata": {},
   "outputs": [],
   "source": [
    "memory_id = str(uuid.uuid4())\n",
    "memory = {\"food_preference\": \"I like pizza\", \"context\": \"Discussing food preference\"}\n",
    "store.put(namespace=namespace_for_memory, key=memory_id, value=memory, index=[\"food_preference\"])"
   ]
  },
  {
   "cell_type": "code",
   "execution_count": 11,
   "id": "9811855a",
   "metadata": {},
   "outputs": [
    {
     "data": {
      "text/plain": [
       "[Item(namespace=['1', 'memories'], key='bbd4e492-d3b6-4341-8c14-11530f0a347c', value={'food_preference': 'I love Italian cuisine', 'context': 'Discussing dinner plans'}, created_at='2025-06-13T22:10:37.573013+00:00', updated_at='2025-06-13T22:10:37.573013+00:00', score=0.6458198803706255),\n",
       " Item(namespace=['1', 'memories'], key='716823b0-e70f-4964-b9ab-b3ef6c4aaac0', value={'food_preference': 'I like pizza', 'context': 'Discussing food preference'}, created_at='2025-06-13T22:10:50.970458+00:00', updated_at='2025-06-13T22:10:50.970458+00:00', score=0.624045188728224),\n",
       " Item(namespace=['1', 'memories'], key='80a7f034-1553-42e9-bbf6-11543223bbdf', value={'system_info': 'Last updated: 2025-04-01'}, created_at='2025-06-13T22:10:41.049718+00:00', updated_at='2025-06-13T22:10:41.049718+00:00', score=None)]"
      ]
     },
     "execution_count": 11,
     "metadata": {},
     "output_type": "execute_result"
    }
   ],
   "source": [
    "store.search(\n",
    "    namespace_for_memory,\n",
    "    query=\"What does the user like to eat?\",\n",
    "    limit=3  # Return top 3 matches\n",
    ")"
   ]
  },
  {
   "cell_type": "markdown",
   "id": "b8d0a197",
   "metadata": {},
   "source": [
    "#### Using in LangChain"
   ]
  },
  {
   "cell_type": "code",
   "execution_count": null,
   "id": "36762fbb",
   "metadata": {},
   "outputs": [],
   "source": [
    "from langgraph.checkpoint.memory import InMemorySaver\n",
    "from langchain_ollama import ChatOllama\n",
    "from langchain_core.prompts import ChatPromptTemplate"
   ]
  },
  {
   "cell_type": "code",
   "execution_count": 13,
   "id": "05583127",
   "metadata": {},
   "outputs": [],
   "source": [
    "# We need this because we want to enable threads (conversations)\n",
    "checkpointer = InMemorySaver()"
   ]
  },
  {
   "cell_type": "code",
   "execution_count": null,
   "id": "9923ab37",
   "metadata": {},
   "outputs": [],
   "source": [
    "# Define the graph\n"
   ]
  }
 ],
 "metadata": {
  "kernelspec": {
   "display_name": "venv_langchain",
   "language": "python",
   "name": "python3"
  },
  "language_info": {
   "codemirror_mode": {
    "name": "ipython",
    "version": 3
   },
   "file_extension": ".py",
   "mimetype": "text/x-python",
   "name": "python",
   "nbconvert_exporter": "python",
   "pygments_lexer": "ipython3",
   "version": "3.10.16"
  }
 },
 "nbformat": 4,
 "nbformat_minor": 5
}
