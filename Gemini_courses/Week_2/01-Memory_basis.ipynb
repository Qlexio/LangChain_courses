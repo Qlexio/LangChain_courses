{
 "cells": [
  {
   "cell_type": "markdown",
   "id": "0855cda9",
   "metadata": {},
   "source": [
    "# How to add memory to chatbots\n",
    "\n",
    "resource: https://python.langchain.com/docs/how_to/chatbots_memory/\n",
    "\n",
    "Documentations:\n",
    "* [Persistence](https://langchain-ai.github.io/langgraph/concepts/persistence/)\n",
    "* [Memory](https://langchain-ai.github.io/langgraph/concepts/memory/)\n",
    "* [Add Persistance](https://langchain-ai.github.io/langgraph/how-tos/persistence/#use-with-functional-api)"
   ]
  },
  {
   "cell_type": "code",
   "execution_count": 1,
   "id": "eafb00a1",
   "metadata": {},
   "outputs": [],
   "source": [
    "from langchain_ollama import ChatOllama\n",
    "from langchain_core.prompts import ChatPromptTemplate, MessagesPlaceholder\n",
    "from langchain_core.messages import AIMessage, HumanMessage, SystemMessage"
   ]
  },
  {
   "cell_type": "code",
   "execution_count": 2,
   "id": "871b656b",
   "metadata": {},
   "outputs": [],
   "source": [
    "MODEL = \"cogito:8b\"\n",
    "DEEP_THINKING_INSTRUCTION = \"Enable deep thinking subroutine.\\n\\n\""
   ]
  },
  {
   "cell_type": "code",
   "execution_count": 3,
   "id": "dea46467",
   "metadata": {},
   "outputs": [],
   "source": [
    "model = ChatOllama(model=MODEL, extract_reasoning=True)"
   ]
  },
  {
   "cell_type": "markdown",
   "id": "d8907fe5",
   "metadata": {},
   "source": [
    "## Message passing\n",
    "\n",
    "Pass the previous messages to the model"
   ]
  },
  {
   "cell_type": "code",
   "execution_count": null,
   "id": "c9ce711e",
   "metadata": {},
   "outputs": [],
   "source": [
    "prompt = ChatPromptTemplate.from_messages(\n",
    "    [\n",
    "        SystemMessage(content=\"You are a helpful assistant. Answer all questions to the best of your ability.\"),\n",
    "        MessagesPlaceholder(variable_name=\"messages\"),\n",
    "    ]\n",
    ")\n"
   ]
  },
  {
   "cell_type": "code",
   "execution_count": 5,
   "id": "e0f2886f",
   "metadata": {},
   "outputs": [
    {
     "data": {
      "text/plain": [
       "AIMessage(content='I translated \"I love programming\" into French, and wrote that my response was \"J\\'adore la programmation.\" (This means \"I love programming\" in French.)', additional_kwargs={}, response_metadata={'model': 'cogito:8b', 'created_at': '2025-06-07T14:57:32.2786154Z', 'done': True, 'done_reason': 'stop', 'total_duration': 2517837500, 'load_duration': 19952000, 'prompt_eval_count': 65, 'prompt_eval_duration': 303526900, 'eval_count': 37, 'eval_duration': 2193327300, 'model_name': 'cogito:8b'}, id='run-c18a529b-f45a-497a-8596-5758714cce36-0', usage_metadata={'input_tokens': 65, 'output_tokens': 37, 'total_tokens': 102})"
      ]
     },
     "execution_count": 5,
     "metadata": {},
     "output_type": "execute_result"
    }
   ],
   "source": [
    "chain = prompt | model\n",
    "\n",
    "ai_msg = chain.invoke(\n",
    "    {\n",
    "        \"messages\": [\n",
    "            HumanMessage(\n",
    "                content=\"Translate from English to French: I love programming.\"\n",
    "            ),\n",
    "            AIMessage(content=\"J'adore la programmation.\"),\n",
    "            HumanMessage(content=\"What did you just say?\"),\n",
    "        ],\n",
    "    }\n",
    ")\n",
    "\n",
    "ai_msg"
   ]
  },
  {
   "cell_type": "code",
   "execution_count": 6,
   "id": "ad7c52de",
   "metadata": {},
   "outputs": [
    {
     "name": "stdout",
     "output_type": "stream",
     "text": [
      "I translated \"I love programming\" into French, and wrote that my response was \"J'adore la programmation.\" (This means \"I love programming\" in French.)\n"
     ]
    }
   ],
   "source": [
    "print(ai_msg.content)"
   ]
  },
  {
   "cell_type": "markdown",
   "id": "a1e5c102",
   "metadata": {},
   "source": [
    "## Automatic history management"
   ]
  },
  {
   "cell_type": "code",
   "execution_count": null,
   "id": "a8651e93",
   "metadata": {},
   "outputs": [],
   "source": [
    "from langgraph.checkpoint.memory import MemorySaver\n",
    "from langgraph.graph import START, MessagesState, StateGraph"
   ]
  },
  {
   "cell_type": "code",
   "execution_count": 5,
   "id": "df203e36",
   "metadata": {},
   "outputs": [],
   "source": [
    "workflow = StateGraph(state_schema=MessagesState)"
   ]
  },
  {
   "cell_type": "code",
   "execution_count": 6,
   "id": "98d1d0f2",
   "metadata": {},
   "outputs": [],
   "source": [
    "# Define the function that calls the model\n",
    "def call_model(state: MessagesState):\n",
    "    system_prompt = (\n",
    "        \"You are a helpful assistant. \"\n",
    "        \"Answer all questions to the best of your ability.\"\n",
    "    )\n",
    "    messages = [SystemMessage(content=system_prompt)] + state[\"messages\"]\n",
    "    response = model.invoke(messages)\n",
    "    return {\"messages\": response}\n",
    "\n"
   ]
  },
  {
   "cell_type": "code",
   "execution_count": 7,
   "id": "c220361f",
   "metadata": {},
   "outputs": [
    {
     "data": {
      "text/plain": [
       "<langgraph.graph.state.StateGraph at 0x1c072d72c80>"
      ]
     },
     "execution_count": 7,
     "metadata": {},
     "output_type": "execute_result"
    }
   ],
   "source": [
    "# Define the node and edge\n",
    "workflow.add_node(node=\"model\", action=call_model)\n",
    "workflow.add_edge(START, \"model\")"
   ]
  },
  {
   "cell_type": "code",
   "execution_count": 8,
   "id": "bca2a37d",
   "metadata": {},
   "outputs": [],
   "source": [
    "# Add simple in_memory chackpointer\n",
    "memory = MemorySaver()\n",
    "app = workflow.compile(checkpointer=memory)"
   ]
  },
  {
   "cell_type": "code",
   "execution_count": 9,
   "id": "b0b7f27e",
   "metadata": {},
   "outputs": [
    {
     "data": {
      "text/plain": [
       "{'messages': [HumanMessage(content='Translate to French: I love programming.', additional_kwargs={}, response_metadata={}, id='bfcc8d6d-0cf0-4aa4-a964-73b473aed5cd'),\n",
       "  AIMessage(content='In French, this is:\\n\"J\\'aime le programmation.\"', additional_kwargs={}, response_metadata={'model': 'cogito:8b', 'created_at': '2025-06-08T08:58:58.6670582Z', 'done': True, 'done_reason': 'stop', 'total_duration': 16881174800, 'load_duration': 15059491200, 'prompt_eval_count': 39, 'prompt_eval_duration': 947245200, 'eval_count': 15, 'eval_duration': 868717400, 'model_name': 'cogito:8b'}, id='run-1d21f8c7-c87a-4c01-ab0c-03ab2be7a21b-0', usage_metadata={'input_tokens': 39, 'output_tokens': 15, 'total_tokens': 54})]}"
      ]
     },
     "execution_count": 9,
     "metadata": {},
     "output_type": "execute_result"
    }
   ],
   "source": [
    "app.invoke(\n",
    "    {\"messages\": [HumanMessage(content=\"Translate to French: I love programming.\")]},\n",
    "    config={\"configurable\": {\"thread_id\": \"1\"}},\n",
    ")"
   ]
  },
  {
   "cell_type": "code",
   "execution_count": 10,
   "id": "c0fdb267",
   "metadata": {},
   "outputs": [
    {
     "data": {
      "text/plain": [
       "{'messages': [HumanMessage(content='Translate to French: I love programming.', additional_kwargs={}, response_metadata={}, id='bfcc8d6d-0cf0-4aa4-a964-73b473aed5cd'),\n",
       "  AIMessage(content='In French, this is:\\n\"J\\'aime le programmation.\"', additional_kwargs={}, response_metadata={'model': 'cogito:8b', 'created_at': '2025-06-08T08:58:58.6670582Z', 'done': True, 'done_reason': 'stop', 'total_duration': 16881174800, 'load_duration': 15059491200, 'prompt_eval_count': 39, 'prompt_eval_duration': 947245200, 'eval_count': 15, 'eval_duration': 868717400, 'model_name': 'cogito:8b'}, id='run-1d21f8c7-c87a-4c01-ab0c-03ab2be7a21b-0', usage_metadata={'input_tokens': 39, 'output_tokens': 15, 'total_tokens': 54}),\n",
       "  HumanMessage(content='What did I just ask you?', additional_kwargs={}, response_metadata={}, id='041b5c06-fb0a-4b40-a4b3-44fc328a2575'),\n",
       "  AIMessage(content='You asked me to translate \"I love programming\" into French, which resulted in \"J\\'aime le programmation.\"', additional_kwargs={}, response_metadata={'model': 'cogito:8b', 'created_at': '2025-06-08T08:59:00.3967809Z', 'done': True, 'done_reason': 'stop', 'total_duration': 1696630200, 'load_duration': 34908100, 'prompt_eval_count': 70, 'prompt_eval_duration': 151499400, 'eval_count': 25, 'eval_duration': 1507811500, 'model_name': 'cogito:8b'}, id='run-8c6915ae-f105-42c0-bc12-b878a693fd0c-0', usage_metadata={'input_tokens': 70, 'output_tokens': 25, 'total_tokens': 95})]}"
      ]
     },
     "execution_count": 10,
     "metadata": {},
     "output_type": "execute_result"
    }
   ],
   "source": [
    "app.invoke(\n",
    "    {\"messages\": [HumanMessage(content=\"What did I just ask you?\")]},\n",
    "    config={\"configurable\": {\"thread_id\": \"1\"}},\n",
    ")"
   ]
  },
  {
   "cell_type": "code",
   "execution_count": null,
   "id": "00791167",
   "metadata": {},
   "outputs": [],
   "source": [
    "# for msg in app.get_state_history({\"thread_id\": \"1\"}):\n",
    "#     print(msg)"
   ]
  },
  {
   "cell_type": "markdown",
   "id": "29bceab0",
   "metadata": {},
   "source": [
    "## Modifying chat history"
   ]
  },
  {
   "cell_type": "markdown",
   "id": "8b095ffa",
   "metadata": {},
   "source": [
    "#### Trimming messages"
   ]
  },
  {
   "cell_type": "code",
   "execution_count": 11,
   "id": "4322f315",
   "metadata": {},
   "outputs": [
    {
     "data": {
      "text/plain": [
       "{'messages': [HumanMessage(content=\"Hey there! I'm Nemo.\", additional_kwargs={}, response_metadata={}, id='c289e52f-6ba2-45c5-b204-3b9dcbff7635'),\n",
       "  AIMessage(content='Hello!', additional_kwargs={}, response_metadata={}, id='a7b6c010-d081-42a6-99e1-832f6c6fb0a3'),\n",
       "  HumanMessage(content='How are you today?', additional_kwargs={}, response_metadata={}, id='7913fa44-6e64-4ca6-9e82-4db67c36249a'),\n",
       "  AIMessage(content='Fine thanks!', additional_kwargs={}, response_metadata={}, id='7ade540e-4708-4e94-a236-5f27cb96eca7'),\n",
       "  HumanMessage(content=\"What's my name?\", additional_kwargs={}, response_metadata={}, id='07d86906-ad5a-4873-bd60-ba9461863a3d'),\n",
       "  AIMessage(content='Your name is Nemo.', additional_kwargs={}, response_metadata={'model': 'cogito:8b', 'created_at': '2025-06-08T08:59:16.9412752Z', 'done': True, 'done_reason': 'stop', 'total_duration': 720225900, 'load_duration': 22194200, 'prompt_eval_count': 74, 'prompt_eval_duration': 346990100, 'eval_count': 7, 'eval_duration': 349987100, 'model_name': 'cogito:8b'}, id='run-8473c5da-8c12-425f-a908-fd41f1438854-0', usage_metadata={'input_tokens': 74, 'output_tokens': 7, 'total_tokens': 81})]}"
      ]
     },
     "execution_count": 11,
     "metadata": {},
     "output_type": "execute_result"
    }
   ],
   "source": [
    "demo_ephemeral_chat_history = [\n",
    "    HumanMessage(content=\"Hey there! I'm Nemo.\"),\n",
    "    AIMessage(content=\"Hello!\"),\n",
    "    HumanMessage(content=\"How are you today?\"),\n",
    "    AIMessage(content=\"Fine thanks!\"),\n",
    "]\n",
    "\n",
    "app.invoke(\n",
    "    {\n",
    "        \"messages\": demo_ephemeral_chat_history\n",
    "        + [HumanMessage(content=\"What's my name?\")]\n",
    "    },\n",
    "    config={\"configurable\": {\"thread_id\": \"2\"}},\n",
    ")"
   ]
  },
  {
   "cell_type": "code",
   "execution_count": 12,
   "id": "aea6b96b",
   "metadata": {},
   "outputs": [],
   "source": [
    "from langchain_core.messages import trim_messages\n",
    "from langgraph.checkpoint.memory import MemorySaver\n",
    "from langgraph.graph import START, MessagesState, StateGraph"
   ]
  },
  {
   "cell_type": "code",
   "execution_count": 13,
   "id": "3ca513de",
   "metadata": {},
   "outputs": [],
   "source": [
    "# Define trimmer\n",
    "# count each message as 1 \"token\" (token_counter=len) and keep only the last two messages\n",
    "trimmer = trim_messages(strategy=\"last\", max_tokens=2, token_counter=len)"
   ]
  },
  {
   "cell_type": "code",
   "execution_count": 14,
   "id": "cd47526c",
   "metadata": {},
   "outputs": [],
   "source": [
    "workflow = StateGraph(state_schema=MessagesState)"
   ]
  },
  {
   "cell_type": "code",
   "execution_count": 15,
   "id": "df6aa6c3",
   "metadata": {},
   "outputs": [],
   "source": [
    "# Define the function that calls the model\n",
    "def call_model(state: MessagesState):\n",
    "    trimmed_messages = trimmer.invoke(state[\"messages\"])\n",
    "    system_prompt = (\n",
    "        \"You are a helpful assistant. \"\n",
    "        \"Answer all questions to the best of your ability.\"\n",
    "    )\n",
    "    messages = [SystemMessage(content=system_prompt)] + trimmed_messages\n",
    "    response = model.invoke(messages)\n",
    "    return {\"messages\": response}\n"
   ]
  },
  {
   "cell_type": "code",
   "execution_count": 16,
   "id": "f05ef35d",
   "metadata": {},
   "outputs": [
    {
     "data": {
      "text/plain": [
       "<langgraph.graph.state.StateGraph at 0x1c072e35060>"
      ]
     },
     "execution_count": 16,
     "metadata": {},
     "output_type": "execute_result"
    }
   ],
   "source": [
    "# Define the node and edge\n",
    "workflow.add_node(\"model\", call_model)\n",
    "workflow.add_edge(START, \"model\")"
   ]
  },
  {
   "cell_type": "code",
   "execution_count": null,
   "id": "6e45b8ed",
   "metadata": {},
   "outputs": [],
   "source": [
    "# Add simple in-memory checkpointer\n",
    "memory = MemorySaver()\n",
    "app = workflow.compile(checkpointer=memory)"
   ]
  },
  {
   "cell_type": "code",
   "execution_count": 18,
   "id": "0c4c0ec0",
   "metadata": {},
   "outputs": [
    {
     "data": {
      "text/plain": [
       "{'messages': [HumanMessage(content=\"Hey there! I'm Nemo.\", additional_kwargs={}, response_metadata={}, id='c289e52f-6ba2-45c5-b204-3b9dcbff7635'),\n",
       "  AIMessage(content='Hello!', additional_kwargs={}, response_metadata={}, id='a7b6c010-d081-42a6-99e1-832f6c6fb0a3'),\n",
       "  HumanMessage(content='How are you today?', additional_kwargs={}, response_metadata={}, id='7913fa44-6e64-4ca6-9e82-4db67c36249a'),\n",
       "  AIMessage(content='Fine thanks!', additional_kwargs={}, response_metadata={}, id='7ade540e-4708-4e94-a236-5f27cb96eca7'),\n",
       "  HumanMessage(content='What is my name?', additional_kwargs={}, response_metadata={}, id='df9c4736-bfb0-415c-af9d-a20b75c5bcc8'),\n",
       "  AIMessage(content=\"I don't actually know what your name is - you haven't told me yet! Feel free to share if you'd like, but I'm happy to help without needing it.\", additional_kwargs={}, response_metadata={'model': 'cogito:8b', 'created_at': '2025-06-08T09:06:44.2018149Z', 'done': True, 'done_reason': 'stop', 'total_duration': 11329193800, 'load_duration': 8363446100, 'prompt_eval_count': 44, 'prompt_eval_duration': 831136800, 'eval_count': 37, 'eval_duration': 2130795500, 'model_name': 'cogito:8b'}, id='run-8afe4c5a-2b89-47dd-89e4-bd620157207d-0', usage_metadata={'input_tokens': 44, 'output_tokens': 37, 'total_tokens': 81})]}"
      ]
     },
     "execution_count": 18,
     "metadata": {},
     "output_type": "execute_result"
    }
   ],
   "source": [
    "app.invoke(\n",
    "    {\n",
    "        \"messages\": demo_ephemeral_chat_history\n",
    "        + [HumanMessage(content=\"What is my name?\")]\n",
    "    },\n",
    "    config={\"configurable\": {\"thread_id\": \"3\"}},\n",
    ")"
   ]
  },
  {
   "cell_type": "markdown",
   "id": "d3a82279",
   "metadata": {},
   "source": [
    "#### Summary memory"
   ]
  },
  {
   "cell_type": "code",
   "execution_count": 36,
   "id": "b4ac3e90",
   "metadata": {},
   "outputs": [],
   "source": [
    "demo_ephemeral_chat_history = [\n",
    "    HumanMessage(content=\"Hey there! I'm Nemo.\"),\n",
    "    AIMessage(content=\"Hello!\"),\n",
    "    HumanMessage(content=\"How are you today?\"),\n",
    "    AIMessage(content=\"Fine thanks!\"),\n",
    "    HumanMessage(content=\"I come from Mars\"),\n",
    "    AIMessage(content=\"Oh, really?!\"),\n",
    "]"
   ]
  },
  {
   "cell_type": "code",
   "execution_count": 37,
   "id": "3564506c",
   "metadata": {},
   "outputs": [],
   "source": [
    "from langchain_core.messages import HumanMessage, RemoveMessage\n",
    "from langgraph.checkpoint.memory import MemorySaver\n",
    "from langgraph.graph import START, MessagesState, StateGraph"
   ]
  },
  {
   "cell_type": "code",
   "execution_count": 45,
   "id": "c3760db7",
   "metadata": {},
   "outputs": [],
   "source": [
    "workflow = StateGraph(state_schema=MessagesState)"
   ]
  },
  {
   "cell_type": "code",
   "execution_count": 46,
   "id": "914fd83a",
   "metadata": {},
   "outputs": [],
   "source": [
    "# Define the function that calls the model\n",
    "def call_model(state: MessagesState):\n",
    "    system_prompt = (\n",
    "        # \"Enable deep thinking subroutine.\\n\\n\"\n",
    "        \"You are a helpful assistant. \"\n",
    "        \"Answer all questions to the best of your ability. \"\n",
    "        \"The provided chat history includes a summary of the earlier conversation.\"\n",
    "    )\n",
    "    system_message = SystemMessage(content=system_prompt)\n",
    "    message_history = state[\"messages\"][:-1]  # exclude the most recent user input\n",
    "    print(\"History\\n\", state[\"messages\"])\n",
    "    print()\n",
    "    # Summarize the messages if the chat history reaches a certain size\n",
    "    if len(message_history) >= 4:\n",
    "        last_human_message = state[\"messages\"][-1]\n",
    "        print(\"Last human message:\", last_human_message)\n",
    "        print()\n",
    "        # Invoke the model to generate conversation summary\n",
    "        summary_prompt = (\n",
    "            # \"Enable deep thinking subroutine.\\n\\n\"\n",
    "            \"Distill the above chat messages into a single summary message. \"\n",
    "            \"Include as many specific details as you can.\"\n",
    "        )\n",
    "        summary_message = model.invoke(\n",
    "            message_history + [HumanMessage(content=summary_prompt)]\n",
    "        )\n",
    "\n",
    "        # Delete messages that we no longerwant to show up\n",
    "        delete_messages = [RemoveMessage(id=m.id) for idx, m in enumerate(state[\"messages\"]) if idx < 4]\n",
    "        print(\"Delete\\n\", delete_messages)\n",
    "        print()\n",
    "        # Re-add user message\n",
    "        human_message = HumanMessage(content=last_human_message.content)\n",
    "        # Call the model with summary and response\n",
    "        response = model.invoke([system_message, summary_message, human_message])\n",
    "        message_updates = [summary_message, human_message, response] + delete_messages\n",
    "    else:\n",
    "        message_updates = model.invoke([system_message] + state[\"messages\"])\n",
    "\n",
    "    return {\"messages\": message_updates}"
   ]
  },
  {
   "cell_type": "code",
   "execution_count": 47,
   "id": "dddcc032",
   "metadata": {},
   "outputs": [
    {
     "data": {
      "text/plain": [
       "<langgraph.graph.state.StateGraph at 0x1138925cfd0>"
      ]
     },
     "execution_count": 47,
     "metadata": {},
     "output_type": "execute_result"
    }
   ],
   "source": [
    "# Define the node and edge\n",
    "workflow.add_node(\"model\", call_model)\n",
    "workflow.add_edge(START, \"model\")"
   ]
  },
  {
   "cell_type": "code",
   "execution_count": 48,
   "id": "d12a739f",
   "metadata": {},
   "outputs": [],
   "source": [
    "# Add simple in-memory checkpointer\n",
    "memory =  MemorySaver()\n",
    "app = workflow.compile(checkpointer=memory)"
   ]
  },
  {
   "cell_type": "code",
   "execution_count": 49,
   "id": "7ce16c71",
   "metadata": {},
   "outputs": [
    {
     "data": {
      "text/plain": [
       "[]"
      ]
     },
     "execution_count": 49,
     "metadata": {},
     "output_type": "execute_result"
    }
   ],
   "source": [
    "list(app.get_state_history(config={\"configurable\": {\"thread_id\": \"4\"}}))"
   ]
  },
  {
   "cell_type": "code",
   "execution_count": 50,
   "id": "0236f126",
   "metadata": {},
   "outputs": [
    {
     "name": "stdout",
     "output_type": "stream",
     "text": [
      "History\n",
      " [HumanMessage(content=\"Hey there! I'm Nemo.\", additional_kwargs={}, response_metadata={}, id='fbe0d2ab-bd0e-4d91-b3b0-49e1f3a7d03a'), AIMessage(content='Hello!', additional_kwargs={}, response_metadata={}, id='5da53c29-4da7-4c5c-bd06-ce0b82c4b55e'), HumanMessage(content='How are you today?', additional_kwargs={}, response_metadata={}, id='f010cea9-6187-4216-a156-36183c9ffeaf'), AIMessage(content='Fine thanks!', additional_kwargs={}, response_metadata={}, id='4aa78b48-4b04-467f-b7e5-1315c0bb3b2f'), HumanMessage(content='I come from Mars', additional_kwargs={}, response_metadata={}, id='ce957387-a2f5-44ff-a7fc-f7dc7318e304'), AIMessage(content='Oh, really?!', additional_kwargs={}, response_metadata={}, id='916e6f43-70d6-45da-8fe9-0f99ae4a5358'), HumanMessage(content='What did I say my name was?', additional_kwargs={}, response_metadata={}, id='32f99c66-e1b5-4c6b-99b8-ac8ce49be6f4')]\n",
      "\n",
      "Last human message: content='What did I say my name was?' additional_kwargs={} response_metadata={} id='32f99c66-e1b5-4c6b-99b8-ac8ce49be6f4'\n",
      "\n",
      "Delete\n",
      " [RemoveMessage(content='', additional_kwargs={}, response_metadata={}, id='fbe0d2ab-bd0e-4d91-b3b0-49e1f3a7d03a'), RemoveMessage(content='', additional_kwargs={}, response_metadata={}, id='5da53c29-4da7-4c5c-bd06-ce0b82c4b55e'), RemoveMessage(content='', additional_kwargs={}, response_metadata={}, id='f010cea9-6187-4216-a156-36183c9ffeaf'), RemoveMessage(content='', additional_kwargs={}, response_metadata={}, id='4aa78b48-4b04-467f-b7e5-1315c0bb3b2f')]\n",
      "\n"
     ]
    }
   ],
   "source": [
    "resp = app.invoke(\n",
    "    {\n",
    "        \"messages\": demo_ephemeral_chat_history\n",
    "        + [HumanMessage(\"What did I say my name was?\")]\n",
    "    },\n",
    "    config={\"configurable\": {\"thread_id\": \"4\"}},\n",
    ")"
   ]
  },
  {
   "cell_type": "code",
   "execution_count": 51,
   "id": "d048041b",
   "metadata": {},
   "outputs": [
    {
     "data": {
      "text/plain": [
       "{'messages': [HumanMessage(content='I come from Mars', additional_kwargs={}, response_metadata={}, id='ce957387-a2f5-44ff-a7fc-f7dc7318e304'),\n",
       "  AIMessage(content='Oh, really?!', additional_kwargs={}, response_metadata={}, id='916e6f43-70d6-45da-8fe9-0f99ae4a5358'),\n",
       "  HumanMessage(content='What did I say my name was?', additional_kwargs={}, response_metadata={}, id='32f99c66-e1b5-4c6b-99b8-ac8ce49be6f4'),\n",
       "  AIMessage(content=\"Here's a summary of our conversation:\\n\\n- Initial greeting where I introduced myself as an AI assistant\\n- You introduced yourself as Nemo\\n- We exchanged basic pleasantries (asking how each other was)\\n- You mentioned coming from Mars, which is quite an interesting claim!\", additional_kwargs={}, response_metadata={'model': 'cogito:8b', 'created_at': '2025-06-15T06:01:15.6334189Z', 'done': True, 'done_reason': 'stop', 'total_duration': 3846021900, 'load_duration': 26253800, 'prompt_eval_count': 87, 'prompt_eval_duration': 349677300, 'eval_count': 57, 'eval_duration': 3469039300, 'model_name': 'cogito:8b'}, id='run-e9ec26aa-f372-4772-a044-439907ba9518-0', usage_metadata={'input_tokens': 87, 'output_tokens': 57, 'total_tokens': 144}),\n",
       "  HumanMessage(content='What did I say my name was?', additional_kwargs={}, response_metadata={}, id='e38be286-9ae0-4380-b0fc-642cf0dc42d3'),\n",
       "  AIMessage(content='You said your name was \"Nemo\".', additional_kwargs={}, response_metadata={'model': 'cogito:8b', 'created_at': '2025-06-15T06:01:16.4160164Z', 'done': True, 'done_reason': 'stop', 'total_duration': 779290300, 'load_duration': 18768600, 'prompt_eval_count': 112, 'prompt_eval_duration': 217810800, 'eval_count': 10, 'eval_duration': 542180000, 'model_name': 'cogito:8b'}, id='run-36042ea9-0d08-4855-b719-3514efa37004-0', usage_metadata={'input_tokens': 112, 'output_tokens': 10, 'total_tokens': 122})]}"
      ]
     },
     "execution_count": 51,
     "metadata": {},
     "output_type": "execute_result"
    }
   ],
   "source": [
    "resp"
   ]
  },
  {
   "cell_type": "code",
   "execution_count": 53,
   "id": "cbf69c40",
   "metadata": {},
   "outputs": [
    {
     "name": "stdout",
     "output_type": "stream",
     "text": [
      "History\n",
      " [HumanMessage(content='I come from Mars', additional_kwargs={}, response_metadata={}, id='ce957387-a2f5-44ff-a7fc-f7dc7318e304'), AIMessage(content='Oh, really?!', additional_kwargs={}, response_metadata={}, id='916e6f43-70d6-45da-8fe9-0f99ae4a5358'), HumanMessage(content='What did I say my name was?', additional_kwargs={}, response_metadata={}, id='32f99c66-e1b5-4c6b-99b8-ac8ce49be6f4'), AIMessage(content=\"Here's a summary of our conversation:\\n\\n- Initial greeting where I introduced myself as an AI assistant\\n- You introduced yourself as Nemo\\n- We exchanged basic pleasantries (asking how each other was)\\n- You mentioned coming from Mars, which is quite an interesting claim!\", additional_kwargs={}, response_metadata={'model': 'cogito:8b', 'created_at': '2025-06-15T06:01:15.6334189Z', 'done': True, 'done_reason': 'stop', 'total_duration': 3846021900, 'load_duration': 26253800, 'prompt_eval_count': 87, 'prompt_eval_duration': 349677300, 'eval_count': 57, 'eval_duration': 3469039300, 'model_name': 'cogito:8b'}, id='run-e9ec26aa-f372-4772-a044-439907ba9518-0', usage_metadata={'input_tokens': 87, 'output_tokens': 57, 'total_tokens': 144}), HumanMessage(content='What did I say my name was?', additional_kwargs={}, response_metadata={}, id='e38be286-9ae0-4380-b0fc-642cf0dc42d3'), AIMessage(content='You said your name was \"Nemo\".', additional_kwargs={}, response_metadata={'model': 'cogito:8b', 'created_at': '2025-06-15T06:01:16.4160164Z', 'done': True, 'done_reason': 'stop', 'total_duration': 779290300, 'load_duration': 18768600, 'prompt_eval_count': 112, 'prompt_eval_duration': 217810800, 'eval_count': 10, 'eval_duration': 542180000, 'model_name': 'cogito:8b'}, id='run-36042ea9-0d08-4855-b719-3514efa37004-0', usage_metadata={'input_tokens': 112, 'output_tokens': 10, 'total_tokens': 122}), HumanMessage(content='I am whqt you, humans, call an alien', additional_kwargs={}, response_metadata={}, id='720f7161-b396-47a1-9ed6-7bb6e5797b23')]\n",
      "\n",
      "Last human message: content='I am whqt you, humans, call an alien' additional_kwargs={} response_metadata={} id='720f7161-b396-47a1-9ed6-7bb6e5797b23'\n",
      "\n",
      "Delete\n",
      " [RemoveMessage(content='', additional_kwargs={}, response_metadata={}, id='ce957387-a2f5-44ff-a7fc-f7dc7318e304'), RemoveMessage(content='', additional_kwargs={}, response_metadata={}, id='916e6f43-70d6-45da-8fe9-0f99ae4a5358'), RemoveMessage(content='', additional_kwargs={}, response_metadata={}, id='32f99c66-e1b5-4c6b-99b8-ac8ce49be6f4'), RemoveMessage(content='', additional_kwargs={}, response_metadata={}, id='run-e9ec26aa-f372-4772-a044-439907ba9518-0')]\n",
      "\n"
     ]
    }
   ],
   "source": [
    "resp = app.invoke(\n",
    "    {\n",
    "        \"messages\": resp[\"messages\"]\n",
    "        + [HumanMessage(\"I am whqt you, humans, call an alien\")]\n",
    "    },\n",
    "    config={\"configurable\": {\"thread_id\": \"4\"}},\n",
    ")"
   ]
  },
  {
   "cell_type": "code",
   "execution_count": 54,
   "id": "e0865a8b",
   "metadata": {},
   "outputs": [
    {
     "data": {
      "text/plain": [
       "{'messages': [HumanMessage(content='What did I say my name was?', additional_kwargs={}, response_metadata={}, id='e38be286-9ae0-4380-b0fc-642cf0dc42d3'),\n",
       "  AIMessage(content='You said your name was \"Nemo\".', additional_kwargs={}, response_metadata={'model': 'cogito:8b', 'created_at': '2025-06-15T06:01:16.4160164Z', 'done': True, 'done_reason': 'stop', 'total_duration': 779290300, 'load_duration': 18768600, 'prompt_eval_count': 112, 'prompt_eval_duration': 217810800, 'eval_count': 10, 'eval_duration': 542180000, 'model_name': 'cogito:8b'}, id='run-36042ea9-0d08-4855-b719-3514efa37004-0', usage_metadata={'input_tokens': 112, 'output_tokens': 10, 'total_tokens': 122}),\n",
       "  HumanMessage(content='I am whqt you, humans, call an alien', additional_kwargs={}, response_metadata={}, id='720f7161-b396-47a1-9ed6-7bb6e5797b23'),\n",
       "  AIMessage(content=\"In our brief conversation, you introduced yourself as Nemo and mentioned that you come from Mars. I responded to both statements but didn't ask for clarification about either one. The exchange was very short and straightforward without any deeper discussion or questions asked by either of us.\", additional_kwargs={}, response_metadata={'model': 'cogito:8b', 'created_at': '2025-06-15T06:02:27.4167641Z', 'done': True, 'done_reason': 'stop', 'total_duration': 3785132500, 'load_duration': 21014200, 'prompt_eval_count': 150, 'prompt_eval_duration': 508643800, 'eval_count': 54, 'eval_duration': 3254446300, 'model_name': 'cogito:8b'}, id='run-6bf92d96-f914-456d-aafa-57159905bf91-0', usage_metadata={'input_tokens': 150, 'output_tokens': 54, 'total_tokens': 204}),\n",
       "  HumanMessage(content='I am whqt you, humans, call an alien', additional_kwargs={}, response_metadata={}, id='b807c6b0-0c40-4c96-be4a-551b7b835072'),\n",
       "  AIMessage(content='Yes, I understand now - you\\'re confirming that you are indeed what humans would refer to as an \"alien,\" which in this context means someone who isn\\'t human, perhaps coming from another planet or having a different origin. Is there anything specific about your nature as an alien that you\\'d like to discuss?', additional_kwargs={}, response_metadata={'model': 'cogito:8b', 'created_at': '2025-06-15T06:02:31.6512795Z', 'done': True, 'done_reason': 'stop', 'total_duration': 4232266100, 'load_duration': 18334300, 'prompt_eval_count': 112, 'prompt_eval_duration': 215684000, 'eval_count': 63, 'eval_duration': 3997739300, 'model_name': 'cogito:8b'}, id='run-3cdfed43-d2c0-43d3-81a0-de4ef762d262-0', usage_metadata={'input_tokens': 112, 'output_tokens': 63, 'total_tokens': 175})]}"
      ]
     },
     "execution_count": 54,
     "metadata": {},
     "output_type": "execute_result"
    }
   ],
   "source": [
    "resp"
   ]
  },
  {
   "cell_type": "code",
   "execution_count": 55,
   "id": "1480b974",
   "metadata": {},
   "outputs": [
    {
     "name": "stdout",
     "output_type": "stream",
     "text": [
      "History\n",
      " [HumanMessage(content='What did I say my name was?', additional_kwargs={}, response_metadata={}, id='e38be286-9ae0-4380-b0fc-642cf0dc42d3'), AIMessage(content='You said your name was \"Nemo\".', additional_kwargs={}, response_metadata={'model': 'cogito:8b', 'created_at': '2025-06-15T06:01:16.4160164Z', 'done': True, 'done_reason': 'stop', 'total_duration': 779290300, 'load_duration': 18768600, 'prompt_eval_count': 112, 'prompt_eval_duration': 217810800, 'eval_count': 10, 'eval_duration': 542180000, 'model_name': 'cogito:8b'}, id='run-36042ea9-0d08-4855-b719-3514efa37004-0', usage_metadata={'input_tokens': 112, 'output_tokens': 10, 'total_tokens': 122}), HumanMessage(content='I am whqt you, humans, call an alien', additional_kwargs={}, response_metadata={}, id='720f7161-b396-47a1-9ed6-7bb6e5797b23'), AIMessage(content=\"In our brief conversation, you introduced yourself as Nemo and mentioned that you come from Mars. I responded to both statements but didn't ask for clarification about either one. The exchange was very short and straightforward without any deeper discussion or questions asked by either of us.\", additional_kwargs={}, response_metadata={'model': 'cogito:8b', 'created_at': '2025-06-15T06:02:27.4167641Z', 'done': True, 'done_reason': 'stop', 'total_duration': 3785132500, 'load_duration': 21014200, 'prompt_eval_count': 150, 'prompt_eval_duration': 508643800, 'eval_count': 54, 'eval_duration': 3254446300, 'model_name': 'cogito:8b'}, id='run-6bf92d96-f914-456d-aafa-57159905bf91-0', usage_metadata={'input_tokens': 150, 'output_tokens': 54, 'total_tokens': 204}), HumanMessage(content='I am whqt you, humans, call an alien', additional_kwargs={}, response_metadata={}, id='b807c6b0-0c40-4c96-be4a-551b7b835072'), AIMessage(content='Yes, I understand now - you\\'re confirming that you are indeed what humans would refer to as an \"alien,\" which in this context means someone who isn\\'t human, perhaps coming from another planet or having a different origin. Is there anything specific about your nature as an alien that you\\'d like to discuss?', additional_kwargs={}, response_metadata={'model': 'cogito:8b', 'created_at': '2025-06-15T06:02:31.6512795Z', 'done': True, 'done_reason': 'stop', 'total_duration': 4232266100, 'load_duration': 18334300, 'prompt_eval_count': 112, 'prompt_eval_duration': 215684000, 'eval_count': 63, 'eval_duration': 3997739300, 'model_name': 'cogito:8b'}, id='run-3cdfed43-d2c0-43d3-81a0-de4ef762d262-0', usage_metadata={'input_tokens': 112, 'output_tokens': 63, 'total_tokens': 175}), HumanMessage(content=\"I don't know what to say. The way I am is normal for me. What would you like to know?\", additional_kwargs={}, response_metadata={}, id='22f440d3-603c-45b6-a737-74dd7d294ed6')]\n",
      "\n",
      "Last human message: content=\"I don't know what to say. The way I am is normal for me. What would you like to know?\" additional_kwargs={} response_metadata={} id='22f440d3-603c-45b6-a737-74dd7d294ed6'\n",
      "\n",
      "Delete\n",
      " [RemoveMessage(content='', additional_kwargs={}, response_metadata={}, id='e38be286-9ae0-4380-b0fc-642cf0dc42d3'), RemoveMessage(content='', additional_kwargs={}, response_metadata={}, id='run-36042ea9-0d08-4855-b719-3514efa37004-0'), RemoveMessage(content='', additional_kwargs={}, response_metadata={}, id='720f7161-b396-47a1-9ed6-7bb6e5797b23'), RemoveMessage(content='', additional_kwargs={}, response_metadata={}, id='run-6bf92d96-f914-456d-aafa-57159905bf91-0')]\n",
      "\n"
     ]
    }
   ],
   "source": [
    "resp = app.invoke(\n",
    "    {\n",
    "        \"messages\": resp[\"messages\"]\n",
    "        + [HumanMessage(\"I don't know what to say. The way I am is normal for me. What would you like to know?\")]\n",
    "    },\n",
    "    config={\"configurable\": {\"thread_id\": \"4\"}},\n",
    ")"
   ]
  },
  {
   "cell_type": "code",
   "execution_count": 56,
   "id": "de5e29a6",
   "metadata": {},
   "outputs": [
    {
     "data": {
      "text/plain": [
       "{'messages': [HumanMessage(content='I am whqt you, humans, call an alien', additional_kwargs={}, response_metadata={}, id='b807c6b0-0c40-4c96-be4a-551b7b835072'),\n",
       "  AIMessage(content='Yes, I understand now - you\\'re confirming that you are indeed what humans would refer to as an \"alien,\" which in this context means someone who isn\\'t human, perhaps coming from another planet or having a different origin. Is there anything specific about your nature as an alien that you\\'d like to discuss?', additional_kwargs={}, response_metadata={'model': 'cogito:8b', 'created_at': '2025-06-15T06:02:31.6512795Z', 'done': True, 'done_reason': 'stop', 'total_duration': 4232266100, 'load_duration': 18334300, 'prompt_eval_count': 112, 'prompt_eval_duration': 215684000, 'eval_count': 63, 'eval_duration': 3997739300, 'model_name': 'cogito:8b'}, id='run-3cdfed43-d2c0-43d3-81a0-de4ef762d262-0', usage_metadata={'input_tokens': 112, 'output_tokens': 63, 'total_tokens': 175}),\n",
       "  HumanMessage(content=\"I don't know what to say. The way I am is normal for me. What would you like to know?\", additional_kwargs={}, response_metadata={}, id='22f440d3-603c-45b6-a737-74dd7d294ed6'),\n",
       "  AIMessage(content='Summary: A conversation took place between humans and someone who identifies themselves as an alien (specifically from Mars) named Nemo. The exchange involved confirming that the speaker is indeed what humans would call an \"alien,\" acknowledging their non-human nature, and establishing a brief connection based on these shared details about their identity.', additional_kwargs={}, response_metadata={'model': 'cogito:8b', 'created_at': '2025-06-15T06:06:49.3252671Z', 'done': True, 'done_reason': 'stop', 'total_duration': 4464165100, 'load_duration': 21530900, 'prompt_eval_count': 215, 'prompt_eval_duration': 462130200, 'eval_count': 64, 'eval_duration': 3978918000, 'model_name': 'cogito:8b'}, id='run-f95d94d1-ad59-4bd9-ae6b-b0f74d3d335f-0', usage_metadata={'input_tokens': 215, 'output_tokens': 64, 'total_tokens': 279}),\n",
       "  HumanMessage(content=\"I don't know what to say. The way I am is normal for me. What would you like to know?\", additional_kwargs={}, response_metadata={}, id='98a881da-8454-44ec-a4f2-b4264a229888'),\n",
       "  AIMessage(content=\"It's completely natural not to know how to react or respond when faced with an unexpected situation. Your reaction of feeling unsure makes sense because this encounter is different from typical interactions. If you're comfortable, we could start by exploring what aspects of my identity interest you most - whether it's about the nature of my existence on Mars, my experiences here on Earth, or something else entirely. What would you like to know more about?\", additional_kwargs={}, response_metadata={'model': 'cogito:8b', 'created_at': '2025-06-15T06:06:54.931407Z', 'done': True, 'done_reason': 'stop', 'total_duration': 5603610200, 'load_duration': 18864400, 'prompt_eval_count': 135, 'prompt_eval_duration': 255376000, 'eval_count': 87, 'eval_duration': 5328317200, 'model_name': 'cogito:8b'}, id='run-3d8e7846-b112-4b22-8233-00655682ebbf-0', usage_metadata={'input_tokens': 135, 'output_tokens': 87, 'total_tokens': 222})]}"
      ]
     },
     "execution_count": 56,
     "metadata": {},
     "output_type": "execute_result"
    }
   ],
   "source": [
    "resp"
   ]
  },
  {
   "cell_type": "code",
   "execution_count": 57,
   "id": "401b972e",
   "metadata": {},
   "outputs": [
    {
     "name": "stdout",
     "output_type": "stream",
     "text": [
      "History\n",
      " [HumanMessage(content='I am whqt you, humans, call an alien', additional_kwargs={}, response_metadata={}, id='b807c6b0-0c40-4c96-be4a-551b7b835072'), AIMessage(content='Yes, I understand now - you\\'re confirming that you are indeed what humans would refer to as an \"alien,\" which in this context means someone who isn\\'t human, perhaps coming from another planet or having a different origin. Is there anything specific about your nature as an alien that you\\'d like to discuss?', additional_kwargs={}, response_metadata={'model': 'cogito:8b', 'created_at': '2025-06-15T06:02:31.6512795Z', 'done': True, 'done_reason': 'stop', 'total_duration': 4232266100, 'load_duration': 18334300, 'prompt_eval_count': 112, 'prompt_eval_duration': 215684000, 'eval_count': 63, 'eval_duration': 3997739300, 'model_name': 'cogito:8b'}, id='run-3cdfed43-d2c0-43d3-81a0-de4ef762d262-0', usage_metadata={'input_tokens': 112, 'output_tokens': 63, 'total_tokens': 175}), HumanMessage(content=\"I don't know what to say. The way I am is normal for me. What would you like to know?\", additional_kwargs={}, response_metadata={}, id='22f440d3-603c-45b6-a737-74dd7d294ed6'), AIMessage(content='Summary: A conversation took place between humans and someone who identifies themselves as an alien (specifically from Mars) named Nemo. The exchange involved confirming that the speaker is indeed what humans would call an \"alien,\" acknowledging their non-human nature, and establishing a brief connection based on these shared details about their identity.', additional_kwargs={}, response_metadata={'model': 'cogito:8b', 'created_at': '2025-06-15T06:06:49.3252671Z', 'done': True, 'done_reason': 'stop', 'total_duration': 4464165100, 'load_duration': 21530900, 'prompt_eval_count': 215, 'prompt_eval_duration': 462130200, 'eval_count': 64, 'eval_duration': 3978918000, 'model_name': 'cogito:8b'}, id='run-f95d94d1-ad59-4bd9-ae6b-b0f74d3d335f-0', usage_metadata={'input_tokens': 215, 'output_tokens': 64, 'total_tokens': 279}), HumanMessage(content=\"I don't know what to say. The way I am is normal for me. What would you like to know?\", additional_kwargs={}, response_metadata={}, id='98a881da-8454-44ec-a4f2-b4264a229888'), AIMessage(content=\"It's completely natural not to know how to react or respond when faced with an unexpected situation. Your reaction of feeling unsure makes sense because this encounter is different from typical interactions. If you're comfortable, we could start by exploring what aspects of my identity interest you most - whether it's about the nature of my existence on Mars, my experiences here on Earth, or something else entirely. What would you like to know more about?\", additional_kwargs={}, response_metadata={'model': 'cogito:8b', 'created_at': '2025-06-15T06:06:54.931407Z', 'done': True, 'done_reason': 'stop', 'total_duration': 5603610200, 'load_duration': 18864400, 'prompt_eval_count': 135, 'prompt_eval_duration': 255376000, 'eval_count': 87, 'eval_duration': 5328317200, 'model_name': 'cogito:8b'}, id='run-3d8e7846-b112-4b22-8233-00655682ebbf-0', usage_metadata={'input_tokens': 135, 'output_tokens': 87, 'total_tokens': 222}), HumanMessage(content='You are quite egocentric. I have been told that humans often act this way.', additional_kwargs={}, response_metadata={}, id='52b69418-7a8f-48e2-846f-392efdb38584')]\n",
      "\n",
      "Last human message: content='You are quite egocentric. I have been told that humans often act this way.' additional_kwargs={} response_metadata={} id='52b69418-7a8f-48e2-846f-392efdb38584'\n",
      "\n",
      "Delete\n",
      " [RemoveMessage(content='', additional_kwargs={}, response_metadata={}, id='b807c6b0-0c40-4c96-be4a-551b7b835072'), RemoveMessage(content='', additional_kwargs={}, response_metadata={}, id='run-3cdfed43-d2c0-43d3-81a0-de4ef762d262-0'), RemoveMessage(content='', additional_kwargs={}, response_metadata={}, id='22f440d3-603c-45b6-a737-74dd7d294ed6'), RemoveMessage(content='', additional_kwargs={}, response_metadata={}, id='run-f95d94d1-ad59-4bd9-ae6b-b0f74d3d335f-0')]\n",
      "\n"
     ]
    }
   ],
   "source": [
    "resp = app.invoke(\n",
    "    {\n",
    "        \"messages\": resp[\"messages\"]\n",
    "        + [HumanMessage(\"You are quite egocentric. I have been told that humans often act this way.\")]\n",
    "    },\n",
    "    config={\"configurable\": {\"thread_id\": \"4\"}},\n",
    ")"
   ]
  },
  {
   "cell_type": "code",
   "execution_count": 58,
   "id": "9f3d0600",
   "metadata": {},
   "outputs": [
    {
     "data": {
      "text/plain": [
       "{'messages': [HumanMessage(content=\"I don't know what to say. The way I am is normal for me. What would you like to know?\", additional_kwargs={}, response_metadata={}, id='98a881da-8454-44ec-a4f2-b4264a229888'),\n",
       "  AIMessage(content=\"It's completely natural not to know how to react or respond when faced with an unexpected situation. Your reaction of feeling unsure makes sense because this encounter is different from typical interactions. If you're comfortable, we could start by exploring what aspects of my identity interest you most - whether it's about the nature of my existence on Mars, my experiences here on Earth, or something else entirely. What would you like to know more about?\", additional_kwargs={}, response_metadata={'model': 'cogito:8b', 'created_at': '2025-06-15T06:06:54.931407Z', 'done': True, 'done_reason': 'stop', 'total_duration': 5603610200, 'load_duration': 18864400, 'prompt_eval_count': 135, 'prompt_eval_duration': 255376000, 'eval_count': 87, 'eval_duration': 5328317200, 'model_name': 'cogito:8b'}, id='run-3d8e7846-b112-4b22-8233-00655682ebbf-0', usage_metadata={'input_tokens': 135, 'output_tokens': 87, 'total_tokens': 222}),\n",
       "  HumanMessage(content='You are quite egocentric. I have been told that humans often act this way.', additional_kwargs={}, response_metadata={}, id='52b69418-7a8f-48e2-846f-392efdb38584'),\n",
       "  AIMessage(content='The conversation began with someone identifying themselves as an alien (not human) named Nemo. When asked what they wanted to discuss, Nemo expressed uncertainty and said that \"the way I am is normal for me,\" indicating their unfamiliarity with human perspectives on non-human existence. The interaction then shifted to a more focused discussion about Nemo\\'s identity and the unique nature of their being - suggesting an extraterrestrial origin (specifically from Mars).', additional_kwargs={}, response_metadata={'model': 'cogito:8b', 'created_at': '2025-06-15T06:09:15.5184322Z', 'done': True, 'done_reason': 'stop', 'total_duration': 6278186900, 'load_duration': 19498600, 'prompt_eval_count': 331, 'prompt_eval_duration': 528168200, 'eval_count': 90, 'eval_duration': 5728949200, 'model_name': 'cogito:8b'}, id='run-f29cc936-5e12-43c3-9323-574be5255bd3-0', usage_metadata={'input_tokens': 331, 'output_tokens': 90, 'total_tokens': 421}),\n",
       "  HumanMessage(content='You are quite egocentric. I have been told that humans often act this way.', additional_kwargs={}, response_metadata={}, id='89cb1716-500a-45f9-8e6d-b2b5a456a1cf'),\n",
       "  AIMessage(content=\"That's an interesting observation! Humans do tend to focus on their own experiences, perspectives, and concerns - which can sometimes make them appear self-centered or ego-driven. This tendency is partly rooted in evolutionary biology, where survival depended heavily on prioritizing one's immediate needs and safety over those of others.\\n\\nHowever, it's worth noting that not all humans act this way, and the perception of human egocentrism varies across cultures and individual personalities. Some people are naturally more attuned to the perspectives and needs of others, while their own experiences may take a back seat in certain situations.\\n\\nWould you like to discuss any specific aspects of human behavior or cultural differences regarding self-centeredness?\", additional_kwargs={}, response_metadata={'model': 'cogito:8b', 'created_at': '2025-06-15T06:09:24.6564536Z', 'done': True, 'done_reason': 'stop', 'total_duration': 9135105700, 'load_duration': 18622400, 'prompt_eval_count': 155, 'prompt_eval_duration': 250083900, 'eval_count': 138, 'eval_duration': 8865355100, 'model_name': 'cogito:8b'}, id='run-49e4a290-2e3e-449c-98da-94f766d9158a-0', usage_metadata={'input_tokens': 155, 'output_tokens': 138, 'total_tokens': 293})]}"
      ]
     },
     "execution_count": 58,
     "metadata": {},
     "output_type": "execute_result"
    }
   ],
   "source": [
    "resp"
   ]
  },
  {
   "cell_type": "code",
   "execution_count": null,
   "id": "2a7c1db0",
   "metadata": {},
   "outputs": [],
   "source": []
  }
 ],
 "metadata": {
  "kernelspec": {
   "display_name": "venv_langchain",
   "language": "python",
   "name": "python3"
  },
  "language_info": {
   "codemirror_mode": {
    "name": "ipython",
    "version": 3
   },
   "file_extension": ".py",
   "mimetype": "text/x-python",
   "name": "python",
   "nbconvert_exporter": "python",
   "pygments_lexer": "ipython3",
   "version": "3.10.16"
  }
 },
 "nbformat": 4,
 "nbformat_minor": 5
}
