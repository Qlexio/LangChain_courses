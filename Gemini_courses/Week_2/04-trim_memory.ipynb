{
 "cells": [
  {
   "cell_type": "markdown",
   "id": "57120968",
   "metadata": {},
   "source": [
    "# How to trim messages\n",
    "\n",
    "resource: https://python.langchain.com/docs/how_to/trim_messages/"
   ]
  },
  {
   "cell_type": "code",
   "execution_count": null,
   "id": "b72447fd",
   "metadata": {
    "vscode": {
     "languageId": "plaintext"
    }
   },
   "outputs": [],
   "source": []
  }
 ],
 "metadata": {
  "language_info": {
   "name": "python"
  }
 },
 "nbformat": 4,
 "nbformat_minor": 5
}
