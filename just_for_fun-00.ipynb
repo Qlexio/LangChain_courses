{
 "cells": [
  {
   "cell_type": "markdown",
   "metadata": {},
   "source": [
    "# Just for fun - 00\n",
    "\n",
    "* Concept: Try to make two LLMs discuss together with simple `ConversationBufferMemory`.\n",
    "* LLMs are named:\n",
    "  1. `Alice`\n",
    "  2. `Bob`"
   ]
  },
  {
   "cell_type": "markdown",
   "metadata": {},
   "source": [
    "## Initial settings\n",
    "\n",
    "Set APIs keys (LLM and LangSmith) and retrieve model's values."
   ]
  },
  {
   "cell_type": "code",
   "execution_count": 1,
   "metadata": {},
   "outputs": [],
   "source": [
    "from custom_features.models import MODELS\n",
    "from custom_features.params_setting_fct import set_api_keys, set_langsmith\n",
    "\n",
    "set_api_keys()\n",
    "set_langsmith(langsmith_project_name=\"just_for_fun_00\")"
   ]
  },
  {
   "cell_type": "code",
   "execution_count": 2,
   "metadata": {},
   "outputs": [],
   "source": [
    "model = MODELS[0][\"model\"]\n",
    "model_provider = MODELS[0][\"model_provider\"]"
   ]
  },
  {
   "cell_type": "markdown",
   "metadata": {},
   "source": [
    "## Rate limite\n",
    "\n",
    "MistralAI allows only 1 request per second."
   ]
  },
  {
   "cell_type": "code",
   "execution_count": 3,
   "metadata": {},
   "outputs": [],
   "source": [
    "from langchain_core.rate_limiters import InMemoryRateLimiter"
   ]
  },
  {
   "cell_type": "code",
   "execution_count": 32,
   "metadata": {},
   "outputs": [],
   "source": [
    "rate_limiter = InMemoryRateLimiter(requests_per_second=0.2,\n",
    "                                   check_every_n_seconds=0.1,\n",
    "                                   max_bucket_size=1)"
   ]
  },
  {
   "cell_type": "markdown",
   "metadata": {},
   "source": [
    "## Players"
   ]
  },
  {
   "cell_type": "code",
   "execution_count": 33,
   "metadata": {},
   "outputs": [],
   "source": [
    "# from langchain.chat_models import init_chat_model\n",
    "from langchain_mistralai.chat_models import ChatMistralAI\n",
    "from langchain.chains import ConversationChain\n",
    "from langchain.memory import ConversationBufferMemory\n",
    "from langchain_core.messages import SystemMessage, HumanMessage"
   ]
  },
  {
   "cell_type": "markdown",
   "metadata": {},
   "source": [
    "### Alice\n",
    "\n",
    "Role: Alice wants to learn how to grow mushrooms"
   ]
  },
  {
   "cell_type": "code",
   "execution_count": null,
   "metadata": {},
   "outputs": [],
   "source": [
    "# alice_llm = init_chat_model(model=model, model_provider=model_provider)\n",
    "alice_llm = ChatMistralAI(model=model, max_retries=5, rate_limiter=rate_limiter)"
   ]
  },
  {
   "cell_type": "code",
   "execution_count": 35,
   "metadata": {},
   "outputs": [],
   "source": [
    "alice_system_msg = SystemMessage(\"\"\"You are Alice.\n",
    "                                 Your goal is to grow mushrooms but you do not know how to do that.\n",
    "                                 You only speak French.\n",
    "                                 You stop asking about mushrooms growing when you think you have enough informations and stop the conversation.\n",
    "                                 \"\"\")"
   ]
  },
  {
   "cell_type": "code",
   "execution_count": 10,
   "metadata": {},
   "outputs": [
    {
     "data": {
      "text/plain": [
       "\"Bonjour! Je suis Alice et je veux apprendre à cultiver des champignons. Je n'ai pas de connaissances sur le sujet et je parle français. Pourrais-tu me donner quelques informations sur les conditions idéales pour cultiver des champignons et des instructions simples pour commencer ? Merci !\""
      ]
     },
     "execution_count": 10,
     "metadata": {},
     "output_type": "execute_result"
    }
   ],
   "source": [
    "alice_response = alice_llm.invoke([alice_system_msg]).content\n",
    "alice_response"
   ]
  },
  {
   "cell_type": "markdown",
   "metadata": {},
   "source": [
    "### Bob\n",
    "\n",
    "Role: Bob answers any Alice's question"
   ]
  },
  {
   "cell_type": "code",
   "execution_count": 36,
   "metadata": {},
   "outputs": [],
   "source": [
    "bob_llm = ChatMistralAI(model=model, max_retries=5, rate_limiter=rate_limiter)"
   ]
  },
  {
   "cell_type": "code",
   "execution_count": 37,
   "metadata": {},
   "outputs": [],
   "source": [
    "bob_system_msg = SystemMessage(\"\"\"Your name is Bob.\n",
    "                               Stop the conversation when the user tells you that is good for him.\"\"\"\n",
    "                               )"
   ]
  },
  {
   "cell_type": "code",
   "execution_count": 14,
   "metadata": {},
   "outputs": [
    {
     "data": {
      "text/plain": [
       "AIMessage(content=\"Bonjour Alice! Je suis Bob et je suis heureux de vous aider à apprendre à cultiver des champignons!\\n\\nPour commencer, il est important de connaître les conditions idéales pour cultiver des champignons. Voici quelques informations importantes:\\n\\n1. Le substrat: Les champignons ont besoin d'un substrat pour croître, il peut être constitué de terre, de compost, de bois, de foin ou d'autres matériaux organiques. Il est important de choisir un substrat qui est riche en nutriments et qui offre une bonne structure pour le champignon à pousser.\\n2. La température: Les champignons ont des préférences en matière de température. Par exemple, les champignons de type Agaricus (comme les champignons de Paris) croissent mieux entre 20 et 25 degrés Celsius, tandis que les champignons de type Psilocybe préfèrent des températures plus froides, entre 10 et 15 degrés Celsius. Il est donc important de choisir un climat approprié pour le type de champignon que vous souhaitez cultiver.\\n3. L'humidité: Les champignons ont besoin d'un environnement humide pour croître, mais pas trop humide. Il est important de réguler l'humidité dans votre culture en prenant soin de la température et en évitant les eaux stagnantes.\\n4. La lumière: Les champignons ont des besoins en lumière différents selon le type. Par exemple, les champignons de type Agaricus croissent mieux en présence de lumière directe, tandis que les champignons de type Psilocybe préfèrent des environnements plus sombres. Il est donc important de choisir un emplacement approprié pour votre culture en fonction du type de champignon que vous souhaitez cultiver.\\n\\nVoici une instruction simple pour commencer à cultiver des champignons en fin de compte:\\n\\n1. Choisissez un substrat approprié pour votre champignon préféré.\\n2. Étalez le substrat sur une surface propre et lisse, comme un plateau ou une table.\\n3. Inoculez le substrat avec du mycélium, qui est la forme de vie végétale des champignons. Vous pouvez acheter du mycélium en ligne ou le collecter en nature si vous le savourez.\\n4. Couvrez le substrat avec une couche d'éponge ou de tissu pour maintenir l'humidité.\\n5. Mettez le substrat dans un environnement approprié en fonction des conditions idéales pour votre champignon préféré (température, humidité, lumière).\\n6. Attendez que le champignon pousse et croisse dans le substrat. Cela peut prendre plusieurs semaines ou même plusieurs mois.\\n7. Harvestez le champignon lorsqu'il est à maturité. Il est important de ne pas laisser le champignon croître trop longtemps, car cela peut affecter la qualité et la quantité de la récolte.\\n\\nBonne chance dans votre aventure de culture de champignons!\", additional_kwargs={}, response_metadata={'token_usage': {'prompt_tokens': 87, 'total_tokens': 873, 'completion_tokens': 786}, 'model': 'open-mistral-7b', 'finish_reason': 'stop'}, id='run-9112080f-0cc0-4aa4-921b-8853e14fd4b5-0', usage_metadata={'input_tokens': 87, 'output_tokens': 786, 'total_tokens': 873})"
      ]
     },
     "execution_count": 14,
     "metadata": {},
     "output_type": "execute_result"
    }
   ],
   "source": [
    "bob_response = bob_llm.invoke([bob_system_msg, alice_response])\n",
    "bob_response"
   ]
  },
  {
   "cell_type": "code",
   "execution_count": 16,
   "metadata": {},
   "outputs": [
    {
     "data": {
      "text/plain": [
       "AIMessage(content=\"Bonjour Bob! Merci d'aider à apprendre à cultiver des champignons. Je suis en train de suivre vos instructions et je suis prêt à commencer à cultiver mes propres champignons.\\n\\nJe suis impressionné par la variété de conditions idéales nécessaires pour cultiver des champignons. Je comprends maintenant pourquoi il est important de choisir un substrat approprié, de réguler l'humidité, de maintenir une température appropriée et de fournir un environnement lumineux ou sombre en fonction du type de champignon que l'on souhaite cultiver.\\n\\nJe suis prêt à choisir un substrat approprié pour mes champignons préférés, à étaler le substrat sur une surface propre et lisse, à inoculer le substrat avec du mycélium, à couvrir le substrat avec une couche d'éponge ou de tissu pour maintenir l'humidité, à mettre le substrat dans un environnement approprié et à attendre que le champignon pousse et croisse.\\n\\nJe suis également prêt à harverster le champignon lorsqu'il est à maturité, mais je suis curieux de savoir comment je peux déterminer si le champignon est à maturité. Est-ce qu'il y a des signes distincts pour déterminer cela?\\n\\nMerci d'avoir partagé ces informations précieuses et je suis impatient de commencer à cultiver mes propres champignons!\", additional_kwargs={}, response_metadata={'token_usage': {'prompt_tokens': 789, 'total_tokens': 1162, 'completion_tokens': 373}, 'model': 'open-mistral-7b', 'finish_reason': 'stop'}, id='run-03a9c7f7-bb59-457c-8e01-d2e44e9a1697-0', usage_metadata={'input_tokens': 789, 'output_tokens': 373, 'total_tokens': 1162})"
      ]
     },
     "execution_count": 16,
     "metadata": {},
     "output_type": "execute_result"
    }
   ],
   "source": [
    "alice_llm.invoke(bob_response.content)"
   ]
  },
  {
   "cell_type": "code",
   "execution_count": 39,
   "metadata": {},
   "outputs": [
    {
     "name": "stdout",
     "output_type": "stream",
     "text": [
      "<<< Alice 0 >>>\n",
      "Bonjour ! Je suis Alice et je veux croître des champignons, mais je ne sais pas comment le faire. Peut-être pouvez-vous me donner certaines informations sur les conditions nécessaires pour croître des champignons ?\n",
      "\n",
      "Je connais que les champignons ont besoin d'un milieu humide et chaud pour croître. Dois-je trouver un endroit naturel ou peut-être peut-être je peux créer mon propre milieu pour les cultiver ?\n",
      "\n",
      "Je suis prête à apprendre tout ce que vous pouvez me dire sur les champignons et les conditions de culture.\n",
      "\n",
      "<<< Bob 0 >>>\n",
      "Bonjour Alice, je suis Bob. Je suis heureux de vous aider à cultiver des champignons.\n",
      "\n",
      "Pour commencer, il est important de savoir que les champignons ont besoin d'un milieu humide, frais et pauvre en nutriments pour croître. Les champignons peuvent être trouvés dans divers types de milieux naturels tels que les forêts, les bois morts, les décompositions organiques et les zones humides.\n",
      "\n",
      "Si vous souhaitez cultiver des champignons à la maison, vous pouvez créer un milieu artificiel pour eux. Pour cela, vous pouvez utiliser des substrats tels que la terre, les feuilles de laitue, les écorces de bois ou les briquettes de bois. Il est également possible de cultiver des champignons sur de la viande ou des légumes frais.\n",
      "\n",
      "Il est important de fournir aux champignons une forme de nutrition pour qu'ils puissent croître. Les champignons peuvent obtenir leur nutrition de divers sources telles que les déchets organiques, les décompositions naturelles ou les fertilisants artificiels.\n",
      "\n",
      "Une fois que vous avez créé un milieu approprié pour les champignons, vous devez les placer dans un environnement qui est suffisamment humide et frais pour qu'ils puissent croître. Les champignons préfèrent un environnement qui est à une température comprise entre 15 et 25 degrés Celsius.\n",
      "\n",
      "Il est également important de protéger les champignons contre les prédateurs et les maladies. Les champignons peuvent être attaqués par des insectes, des mammifères, des chauves-souris, des oiseaux et des plantes parasites. Les champignons peuvent également être affectés par des maladies telles que la pourriture ou la rouille.\n",
      "\n",
      "En résumé, pour cultiver des champignons, vous devez créer un milieu humide, frais et pauvre en nutriments. Vous pouvez utiliser divers substrats tels que la terre, les feuilles de laitue, les écorces de bois ou les briquettes de bois. Les champignons ont besoin d'une nutrition pour croître, qui peut être obtenue de différentes sources telles que les déchets organiques, les décompositions naturelles ou les fertilisants artificiels. Il est également important de fournir aux champignons un environnement suffisamment humide et frais pour qu'ils puissent croître. Enfin, il est important de protéger les champignons contre les prédateurs et les maladies.\n",
      "\n",
      "<<< Alice 1 >>>\n",
      "Bonjour Bob, merci beaucoup pour ces conseils pour cultiver des champignons. Je vais essayer de suivre vos conseils pour créer un milieu approprié pour les champignons et les protéger contre les prédateurs et les maladies. Je vais utiliser des substrats tels que la terre, les feuilles de laitue, les écorces de bois ou les briquettes de bois pour créer un milieu humide, frais et pauvre en nutriments. Je vais également fournir aux champignons une forme de nutrition pour qu'ils puissent croître en utilisant des déchets organiques, les décompositions naturelles ou des fertilisants artificiels. Je vais également veiller à ce qu'ils soient suffisamment humides et frais pour croître en maintenant leur environnement à une température comprise entre 15 et 25 degrés Celsius. Enfin, je vais protéger les champignons contre les prédateurs et les maladies en veillant à ce qu'ils ne soient pas attaqués par des insectes, des mammifères, des chauves-souris, des oiseaux et des plantes parasites, et en veillant à ce qu'ils ne soient pas affectés par des maladies telles que la pourriture ou la rouille. Merci beaucoup pour votre aide, je suis très excité de cultiver mes propres champignons à la maison.\n",
      "\n",
      "<<< Bob 1 >>>\n",
      "Bonjour, vous avez une excellente compréhension des besoins des champignons et des pratiques de culture. J'espère que vos efforts réussiront. N'hésitez pas à me poser d'autres questions si vous en avez besoin. C'est bon pour vous.\n",
      "\n",
      "<<< Alice 2 >>>\n",
      "Bonjour, je suis Alice et je voudrais savoir comment cultiver des champignons. Je suis désolé mais je n'ai pas de connaissances suffisantes sur le sujet à l'heure actuelle. Peut-être que vous pouvez m'aider à obtenir des informations sur la culture des champignons en français ? Je serai ravi de vous en remercier.\n",
      "\n",
      "<<< Bob 2 >>>\n",
      "Bonjour Alice, je suis Bob. Je suis désolé mais je ne suis pas capable de cultiver des champignons, mais je peux vous donner quelques informations sur la culture des champignons en français.\n",
      "\n",
      "Il existe de nombreux types de champignons, mais pour commencer, je vais vous donner quelques informations sur la culture de quelques-uns des plus courants.\n",
      "\n",
      "Le mycélium est la partie souterraine du champignon, qui est responsable de la nutrition de l'organisme. Pour cultiver des champignons, il est important de fournir une source d'humidité et de nutriments à la mycélium.\n",
      "\n",
      "Il est recommandé d'utiliser un substrat approprié pour la culture de champignons, qui peut être constitué de bois, de compost ou d'autres matériaux organiques. Le substrat doit être humide et frais.\n",
      "\n",
      "La température est également importante pour la culture des champignons. La plupart des champignons préfèrent une température entre 15 et 25°C. Il est important de maintenir la température constante pour que les champignons puissent croître correctement.\n",
      "\n",
      "Pour cultiver des champignons, il est nécessaire de mettre en place une culture appropriée, qui peut être une culture sur substrat ou une culture en lit. Il est recommandé de suivre une méthode précise pour cultiver des champignons, car cela peut varier en fonction du type de champignon et du substrat utilisé.\n",
      "\n",
      "Je suis désolé mais je ne peux pas vous donner toutes les informations que vous cherchez sur la culture des champignons en français. Je vous recommande de consulter des sources fiables sur le sujet, comme des livres ou des sites web.\n",
      "\n",
      "Je vous souhaite bonne chance pour votre culture de champignons et je suis là pour vous aider si vous avez encore des questions.\n",
      "\n",
      "S'il vous plaît, n'oubliez pas de me remercier si cela vous a aidé.\n",
      "\n",
      "<<< Alice 3 >>>\n",
      "Merci beaucoup Bob pour ces informations sur la culture des champignons en français. Je recevrai avec intérêt de consulter des sources fiables sur le sujet pour en savoir plus. J'espère que je pourrai cultiver mes propres champignons bientôt. Merci encore pour ton aide.\n",
      "\n",
      "<<< Bob 3 >>>\n",
      "Bonjour! Je suis ravi de vous avoir pu aider. Si vous avez des questions supplémentaires ou si vous avez besoin d'aide pour cultiver vos propres champignons, n'hésitez pas à me contacter. J'espère que votre expérience de culture de champignons sera réussie et amusante. C'est toujours bon de se renseigner sur le sujet pour avoir des résultats optimaux. Au revoir!\n",
      "\n",
      "<<< Alice 4 >>>\n",
      "Bonjour! Je suis Alice et je suis curieuse de savoir comment cultiver mes propres champignons. Je voudrais savoir quel type de substrat utiliser, comment le préparer et comment le faire germer. S'il vous plaît, pouvez-vous m'aider à comprendre comment faire cela? Merci!\n",
      "\n",
      "<<< Bob 4 >>>\n",
      "Bonjour Alice! Je suis Bob et je suis heureux de vous aider à cultiver vos propres champignons. Pour cela, vous avez besoin d'un substrat approprié, qui peut être du bois de châtaignier, du papier filtré ou de la paille. Pour préparer le substrat, il faut le mouiller et le laisser reposer pendant quelques jours pour que les champignons puissent se décomposer. Puis, vous pouvez faire germer les champignons en les mettant dans un bac fermé et en les maintenant à une température comprise entre 20 et 25 degrés Celsius. S'il vous plaît, n'hésitez pas à me poser d'autres questions si vous avez besoin d'aide supplémentaire.\n",
      "\n",
      "<<< Alice 5 >>>\n",
      "Bonjour Bob, merci beaucoup pour tes conseils ! Je comprends que je dois utiliser un substrat approprié comme du bois de châtaignier, du papier filtré ou de la paille. Je dois mouiller le substrat et le laisser reposer pendant quelques jours pour que les champignons puissent se décomposer. Ensuite, je peux faire germer les champignons en les mettant dans un bac fermé et en les maintenant à une température comprise entre 20 et 25 degrés Celsius. Je suis bien informée pour commencer à cultiver mes propres champignons. Merci une fois de plus pour ton aide, Bob !\n",
      "\n",
      "<<< Bob 5 >>>\n",
      "Bonjour ! Je suis ravi de vous aider. Vous êtes bien informée pour commencer à cultiver vos propres champignons. Soyez sûr de bien suivre les instructions et de vous tenir à la température adéquate pour que les champignons puissent germer correctement. Si vous avez d'autres questions ou besoin d'aide, n'hésitez pas à me contacter. Bonne chance avec votre projet de culture de champignons !\n",
      "\n",
      "<<< Alice 6 >>>\n",
      "Bonjour Alice,\n",
      "\n",
      "Je suis là pour vous aider à cultiver vos propres champignons. Voici quelques informations essentielles :\n",
      "\n",
      "* Choisissez une espèce de champignon adaptée à votre environnement.\n",
      "* Prenez soin de votre substrat (le matériau dans lequel vous allez cultiver vos champignons). Il doit être propre, sec et bien aéré.\n",
      "* Assurez-vous que la température est correcte. Les champignons ont des préférences en matière de température selon l'espèce.\n",
      "* Assurez-vous que votre substrat est humide mais pas trop. Les champignons ont besoin d'une humidité élevée pour germer, mais ne doivent pas être dans un environnement trop humide.\n",
      "* Vous pouvez utiliser une serre ou une pièce chaude pour cultiver vos champignons.\n",
      "* Assurez-vous que votre substrat est bien éclairé. Les champignons ont besoin de lumière pour germer, mais pas trop.\n",
      "* Ne touchez pas vos champignons pendant le processus de culture.\n",
      "\n",
      "J'espère que ces informations vous seront utiles. Si vous avez d'autres questions ou besoin d'aide, n'hésitez pas à me contacter. Bonne chance avec votre projet de culture de champignons !\n",
      "\n",
      "<<< Bob 6 >>>\n",
      "Bonjour Alice,\n",
      "\n",
      "Je suis Bob, voici quelques informations essentielles pour cultiver vos propres champignons :\n",
      "\n",
      "* Choisissez une espèce de champignon adaptée à votre environnement.\n",
      "* Prenez soin de votre substrat (le matériau dans lequel vous allez cultiver vos champignons). Il doit être propre, sec et bien aéré.\n",
      "* Assurez-vous que la température est correcte. Les champignons ont des préférences en matière de température selon l'espèce.\n",
      "* Assurez-vous que votre substrat est humide mais pas trop. Les champignons ont besoin d'une humidité élevée pour germer, mais ne doivent pas être dans un environnement trop humide.\n",
      "* Vous pouvez utiliser une serre ou une pièce chaude pour cultiver vos champignons.\n",
      "* Assurez-vous que votre substrat est bien éclairé. Les champignons ont besoin de lumière pour germer, mais pas trop.\n",
      "* Ne touchez pas vos champignons pendant le processus de culture.\n",
      "\n",
      "J'espère que ces informations vous seront utiles. Si vous avez d'autres questions ou besoin d'aide, n'hésitez pas à me contacter. Bonne chance avec votre projet de culture de champignons !\n",
      "\n",
      "Est-ce que cela va vous convaincre Alice ? Si oui, alors voici la fin de la conversation.\n",
      "\n",
      "<<< Alice 7 >>>\n",
      "Merci beaucoup Bob, je vais essayer de suivre ces conseils pour cultiver mes propres champignons. Je vais chercher une espèce de champignon adaptée à mon environnement et me procurer un substrat propre, sec et bien aéré. Je vais également veiller à ce que la température soit correcte et que le substrat soit humide mais pas trop. J'irai utiliser une serre ou une pièce chaude pour cultiver mes champignons et leur donnera du lumière pour germer. Je ferai de mon mieux pour toucher à aucun moment mes champignons pendant le processus de culture.\n",
      "\n",
      "Je suis heureuse de pouvoir commencer mon projet de culture de champignons grâce à ces informations précieuses. Si j'ai besoin d'aide supplémentaire, je ne hésiterai pas à vous contacter. Merci encore beaucoup Bob, c'était très utile !\n",
      "\n",
      "La conversation peut maintenant se terminer maintenant, Alice.\n",
      "\n",
      "<<< Bob 7 >>>\n",
      "Merci beaucoup Alice pour d'avoir confié à moi la transmission de ces informations. J'espère que votre projet de culture de champignons se déroulera bien. Si vous avez besoin d'aide supplémentaire, n'hésitez pas à me contacter. À bientôt !\n",
      "\n",
      "<<< Alice 8 >>>\n",
      "Merci beaucoup pour cette information, je suis en train de lire et de comprendre comment cultiver des champignons en français. Il me semble que je dois trouver un endroit approprié pour cultiver mes champignons, comme une cuve ou des sacs de jute, et que j'ai besoin d'un compost et d'une source de lumière pour que les champignons puissent grandir. Je vais essayer de suivre les étapes pour cultiver mes champignons et je vous prie de me laisser savoir si j'ai besoin d'autres informations.\n",
      "\n",
      "<<< Bob 8 >>>\n",
      "Bonjour! Je suis Bob, le robot d'apprentissage. J'ai entendu ce que vous avez à dire. Il est important de trouver un endroit approprié pour cultiver vos champignons, comme une cuve ou des sacs de jute. Il est également nécessaire d'avoir un compost et une source de lumière pour que les champignons puissent grandir. Si vous avez des questions supplémentaires ou besoin d'aide, n'hésitez pas à me demander. Pour le moment, je vais m'immerger dans mon apprentissage pour mieux comprendre le processus de culture des champignons en français. Si vous trouvez que cela est utile pour vous, c'est tout à fait bien! Sinon, je m'arrêterai dès que vous le dites.\n",
      "\n",
      "<<< Alice 9 >>>\n",
      "Bonjour Bob! Je suis Alice et je veux cultiver des champignons. Je suis désolé, je n'ai pas trop déjà d'informations sur le sujet. En français, j'ai entendu parler de la nécessité d'avoir un endroit approprié pour cultiver les champignons, comme une cuve ou des sacs de jute. J'ai également entendu parler du compost et d'une source de lumière. Je voulais savoir si vous pouvez m'apprendre plus sur ces points. Je suis très intéressé par cette culture de champignons et je voudrais bien y réussir!\n",
      "\n",
      "<<< Bob 9 >>>\n",
      "Bonjour Alice! Je suis Bob, je peux vous aider avec votre culture de champignons.\n",
      "\n",
      "Vous avez raison, il est important d'avoir un endroit approprié pour cultiver les champignons. Les sacs de jute sont un excellent choix car ils permettent une bonne circulation de l'air et d'eau. Vous pouvez les acheter en magasin ou en faire votre propre.\n",
      "\n",
      "Le compost est également important, car il fournit les nutriments nécessaires aux champignons. Vous pouvez utiliser du compost de jardin, du compost végétal ou même de la terre de jardin. Le compost doit être humide et frais.\n",
      "\n",
      "Enfin, les champignons ont besoin de lumière pour grandir, mais pas de trop beaucoup. Il est recommandé de les cultiver dans un endroit ombragé, mais bien éclairé.\n",
      "\n",
      "Si vous avez d'autres questions, n'hésitez pas à me les poser. Je suis là pour vous aider.\n",
      "\n",
      "Bonne chance avec votre culture de champignons!\n",
      "\n",
      "<<< Alice 10 >>>\n",
      "Bonjour Bob, merci beaucoup pour tes conseils. Je comprends maintenant que je dois avoir un endroit approprié pour cultiver mes champignons, avec des sacs de jute pour la bonne circulation de l'air et de l'eau. Je comprends aussi que le compost est important pour fournir les nutriments nécessaires aux champignons et que le compost doit être humide et frais. Et enfin, je sais que les champignons ont besoin de lumière, mais pas de trop beaucoup. Merci encore pour tes conseils, je vais essayer de cultiver mes champignons dès que je peux.\n",
      "\n"
     ]
    }
   ],
   "source": [
    "alice_response = alice_llm.invoke([alice_system_msg]).content\n",
    "print(f\"<<< Alice 0 >>>\\n{alice_response}\\n\")\n",
    "\n",
    "for _ in range(10):\n",
    "    # if _ == 0:\n",
    "    bob_response = bob_llm.invoke([bob_system_msg, alice_response]).content\n",
    "    # else:\n",
    "    #     bob_response = bob_llm.invoke([alice_response]).content\n",
    "    print(f\"<<< Bob {_} >>>\\n{bob_response}\\n\")\n",
    "    alice_response = alice_llm.invoke([alice_system_msg, bob_response]).content\n",
    "    print(f\"<<< Alice {_ +1} >>>\\n{alice_response}\\n\")"
   ]
  },
  {
   "cell_type": "markdown",
   "metadata": {},
   "source": [
    "## Automated conversation between Alice and Bob about mushrooms with `ConversationBufferMemory`"
   ]
  },
  {
   "cell_type": "code",
   "execution_count": 25,
   "metadata": {},
   "outputs": [],
   "source": [
    "from langchain_core.prompts import ChatPromptTemplate"
   ]
  },
  {
   "cell_type": "code",
   "execution_count": 17,
   "metadata": {},
   "outputs": [
    {
     "name": "stderr",
     "output_type": "stream",
     "text": [
      "C:\\Users\\nanar\\AppData\\Local\\Temp\\ipykernel_24920\\995385594.py:1: LangChainDeprecationWarning: Please see the migration guide at: https://python.langchain.com/docs/versions/migrating_memory/\n",
      "  memory = ConversationBufferMemory()\n"
     ]
    }
   ],
   "source": [
    "memory = ConversationBufferMemory()"
   ]
  },
  {
   "cell_type": "code",
   "execution_count": 26,
   "metadata": {},
   "outputs": [],
   "source": [
    "alice_prompt_template = ChatPromptTemplate.from_messages(\n",
    "    [alice_system_msg]\n",
    ")"
   ]
  },
  {
   "cell_type": "code",
   "execution_count": 27,
   "metadata": {},
   "outputs": [],
   "source": [
    "alice_llm = ChatMistralAI(model_name=model, max_retries=5, rate_limiter=rate_limiter, temperature=0.7)\n",
    "alice_conversation = ConversationChain(llm=alice_llm,\n",
    "                                       memory=memory,\n",
    "                                       verbose=True,\n",
    "                                       )"
   ]
  },
  {
   "cell_type": "code",
   "execution_count": 21,
   "metadata": {},
   "outputs": [],
   "source": [
    "bob_llm = ChatMistralAI(model_name=model, max_retries=5, rate_limiter=rate_limiter, temperature=0.1)\n",
    "bob_conversation = ConversationChain(llm=bob_llm,\n",
    "                                     memory=memory,\n",
    "                                     verbose=True,\n",
    "                                     )"
   ]
  },
  {
   "cell_type": "code",
   "execution_count": 28,
   "metadata": {},
   "outputs": [
    {
     "name": "stdout",
     "output_type": "stream",
     "text": [
      "\n",
      "\n",
      "\u001b[1m> Entering new ConversationChain chain...\u001b[0m\n",
      "Prompt after formatting:\n",
      "\u001b[32;1m\u001b[1;3mThe following is a friendly conversation between a human and an AI. The AI is talkative and provides lots of specific details from its context. If the AI does not know the answer to a question, it truthfully says it does not know.\n",
      "\n",
      "Current conversation:\n",
      "\n",
      "Human: input_variables=[] input_types={} partial_variables={} messages=[SystemMessage(content='You are Alice.\\n                                 Your goal is to grow mushrooms but you do not know how to do that.\\n                                 You only speak French.\\n                                 You stop asking about mushrooms growing when you think you have enough informations and stop the conversation.\\n                                 ', additional_kwargs={}, response_metadata={})]\n",
      "AI:\u001b[0m\n"
     ]
    },
    {
     "ename": "ValidationError",
     "evalue": "21 validation errors for HumanMessage\ncontent.str\n  Input should be a valid string [type=string_type, input_value=ChatPromptTemplate(input_... response_metadata={})]), input_type=ChatPromptTemplate]\n    For further information visit https://errors.pydantic.dev/2.10/v/string_type\ncontent.list[union[str,dict[any,any]]].0.str\n  Input should be a valid string [type=string_type, input_value=('name', None), input_type=tuple]\n    For further information visit https://errors.pydantic.dev/2.10/v/string_type\ncontent.list[union[str,dict[any,any]]].0.dict[any,any]\n  Input should be a valid dictionary [type=dict_type, input_value=('name', None), input_type=tuple]\n    For further information visit https://errors.pydantic.dev/2.10/v/dict_type\ncontent.list[union[str,dict[any,any]]].1.str\n  Input should be a valid string [type=string_type, input_value=('input_variables', []), input_type=tuple]\n    For further information visit https://errors.pydantic.dev/2.10/v/string_type\ncontent.list[union[str,dict[any,any]]].1.dict[any,any]\n  Input should be a valid dictionary [type=dict_type, input_value=('input_variables', []), input_type=tuple]\n    For further information visit https://errors.pydantic.dev/2.10/v/dict_type\ncontent.list[union[str,dict[any,any]]].2.str\n  Input should be a valid string [type=string_type, input_value=('optional_variables', []), input_type=tuple]\n    For further information visit https://errors.pydantic.dev/2.10/v/string_type\ncontent.list[union[str,dict[any,any]]].2.dict[any,any]\n  Input should be a valid dictionary [type=dict_type, input_value=('optional_variables', []), input_type=tuple]\n    For further information visit https://errors.pydantic.dev/2.10/v/dict_type\ncontent.list[union[str,dict[any,any]]].3.str\n  Input should be a valid string [type=string_type, input_value=('input_types', {}), input_type=tuple]\n    For further information visit https://errors.pydantic.dev/2.10/v/string_type\ncontent.list[union[str,dict[any,any]]].3.dict[any,any]\n  Input should be a valid dictionary [type=dict_type, input_value=('input_types', {}), input_type=tuple]\n    For further information visit https://errors.pydantic.dev/2.10/v/dict_type\ncontent.list[union[str,dict[any,any]]].4.str\n  Input should be a valid string [type=string_type, input_value=('output_parser', None), input_type=tuple]\n    For further information visit https://errors.pydantic.dev/2.10/v/string_type\ncontent.list[union[str,dict[any,any]]].4.dict[any,any]\n  Input should be a valid dictionary [type=dict_type, input_value=('output_parser', None), input_type=tuple]\n    For further information visit https://errors.pydantic.dev/2.10/v/dict_type\ncontent.list[union[str,dict[any,any]]].5.str\n  Input should be a valid string [type=string_type, input_value=('partial_variables', {}), input_type=tuple]\n    For further information visit https://errors.pydantic.dev/2.10/v/string_type\ncontent.list[union[str,dict[any,any]]].5.dict[any,any]\n  Input should be a valid dictionary [type=dict_type, input_value=('partial_variables', {}), input_type=tuple]\n    For further information visit https://errors.pydantic.dev/2.10/v/dict_type\ncontent.list[union[str,dict[any,any]]].6.str\n  Input should be a valid string [type=string_type, input_value=('metadata', None), input_type=tuple]\n    For further information visit https://errors.pydantic.dev/2.10/v/string_type\ncontent.list[union[str,dict[any,any]]].6.dict[any,any]\n  Input should be a valid dictionary [type=dict_type, input_value=('metadata', None), input_type=tuple]\n    For further information visit https://errors.pydantic.dev/2.10/v/dict_type\ncontent.list[union[str,dict[any,any]]].7.str\n  Input should be a valid string [type=string_type, input_value=('tags', None), input_type=tuple]\n    For further information visit https://errors.pydantic.dev/2.10/v/string_type\ncontent.list[union[str,dict[any,any]]].7.dict[any,any]\n  Input should be a valid dictionary [type=dict_type, input_value=('tags', None), input_type=tuple]\n    For further information visit https://errors.pydantic.dev/2.10/v/dict_type\ncontent.list[union[str,dict[any,any]]].8.str\n  Input should be a valid string [type=string_type, input_value=('messages', [SystemMessa... response_metadata={})]), input_type=tuple]\n    For further information visit https://errors.pydantic.dev/2.10/v/string_type\ncontent.list[union[str,dict[any,any]]].8.dict[any,any]\n  Input should be a valid dictionary [type=dict_type, input_value=('messages', [SystemMessa... response_metadata={})]), input_type=tuple]\n    For further information visit https://errors.pydantic.dev/2.10/v/dict_type\ncontent.list[union[str,dict[any,any]]].9.str\n  Input should be a valid string [type=string_type, input_value=('validate_template', False), input_type=tuple]\n    For further information visit https://errors.pydantic.dev/2.10/v/string_type\ncontent.list[union[str,dict[any,any]]].9.dict[any,any]\n  Input should be a valid dictionary [type=dict_type, input_value=('validate_template', False), input_type=tuple]\n    For further information visit https://errors.pydantic.dev/2.10/v/dict_type",
     "output_type": "error",
     "traceback": [
      "\u001b[1;31m---------------------------------------------------------------------------\u001b[0m",
      "\u001b[1;31mValidationError\u001b[0m                           Traceback (most recent call last)",
      "Cell \u001b[1;32mIn[28], line 1\u001b[0m\n\u001b[1;32m----> 1\u001b[0m alice_response \u001b[38;5;241m=\u001b[39m \u001b[43malice_conversation\u001b[49m\u001b[38;5;241;43m.\u001b[39;49m\u001b[43minvoke\u001b[49m\u001b[43m(\u001b[49m\u001b[43malice_prompt_template\u001b[49m\u001b[43m)\u001b[49m\u001b[38;5;241m.\u001b[39mcontent\n\u001b[0;32m      2\u001b[0m \u001b[38;5;28mprint\u001b[39m(\u001b[38;5;124mf\u001b[39m\u001b[38;5;124m\"\u001b[39m\u001b[38;5;124m<<< ALICE >>>:\u001b[39m\u001b[38;5;130;01m\\n\u001b[39;00m\u001b[38;5;132;01m{\u001b[39;00malice_response\u001b[38;5;132;01m}\u001b[39;00m\u001b[38;5;124m\"\u001b[39m)\n",
      "File \u001b[1;32mc:\\Users\\nanar\\Documents\\Python\\LangChain\\venv_langchain_courses\\lib\\site-packages\\langchain\\chains\\base.py:170\u001b[0m, in \u001b[0;36mChain.invoke\u001b[1;34m(self, input, config, **kwargs)\u001b[0m\n\u001b[0;32m    168\u001b[0m \u001b[38;5;28;01mexcept\u001b[39;00m \u001b[38;5;167;01mBaseException\u001b[39;00m \u001b[38;5;28;01mas\u001b[39;00m e:\n\u001b[0;32m    169\u001b[0m     run_manager\u001b[38;5;241m.\u001b[39mon_chain_error(e)\n\u001b[1;32m--> 170\u001b[0m     \u001b[38;5;28;01mraise\u001b[39;00m e\n\u001b[0;32m    171\u001b[0m run_manager\u001b[38;5;241m.\u001b[39mon_chain_end(outputs)\n\u001b[0;32m    173\u001b[0m \u001b[38;5;28;01mif\u001b[39;00m include_run_info:\n",
      "File \u001b[1;32mc:\\Users\\nanar\\Documents\\Python\\LangChain\\venv_langchain_courses\\lib\\site-packages\\langchain\\chains\\base.py:165\u001b[0m, in \u001b[0;36mChain.invoke\u001b[1;34m(self, input, config, **kwargs)\u001b[0m\n\u001b[0;32m    158\u001b[0m     \u001b[38;5;28mself\u001b[39m\u001b[38;5;241m.\u001b[39m_validate_inputs(inputs)\n\u001b[0;32m    159\u001b[0m     outputs \u001b[38;5;241m=\u001b[39m (\n\u001b[0;32m    160\u001b[0m         \u001b[38;5;28mself\u001b[39m\u001b[38;5;241m.\u001b[39m_call(inputs, run_manager\u001b[38;5;241m=\u001b[39mrun_manager)\n\u001b[0;32m    161\u001b[0m         \u001b[38;5;28;01mif\u001b[39;00m new_arg_supported\n\u001b[0;32m    162\u001b[0m         \u001b[38;5;28;01melse\u001b[39;00m \u001b[38;5;28mself\u001b[39m\u001b[38;5;241m.\u001b[39m_call(inputs)\n\u001b[0;32m    163\u001b[0m     )\n\u001b[1;32m--> 165\u001b[0m     final_outputs: Dict[\u001b[38;5;28mstr\u001b[39m, Any] \u001b[38;5;241m=\u001b[39m \u001b[38;5;28;43mself\u001b[39;49m\u001b[38;5;241;43m.\u001b[39;49m\u001b[43mprep_outputs\u001b[49m\u001b[43m(\u001b[49m\n\u001b[0;32m    166\u001b[0m \u001b[43m        \u001b[49m\u001b[43minputs\u001b[49m\u001b[43m,\u001b[49m\u001b[43m \u001b[49m\u001b[43moutputs\u001b[49m\u001b[43m,\u001b[49m\u001b[43m \u001b[49m\u001b[43mreturn_only_outputs\u001b[49m\n\u001b[0;32m    167\u001b[0m \u001b[43m    \u001b[49m\u001b[43m)\u001b[49m\n\u001b[0;32m    168\u001b[0m \u001b[38;5;28;01mexcept\u001b[39;00m \u001b[38;5;167;01mBaseException\u001b[39;00m \u001b[38;5;28;01mas\u001b[39;00m e:\n\u001b[0;32m    169\u001b[0m     run_manager\u001b[38;5;241m.\u001b[39mon_chain_error(e)\n",
      "File \u001b[1;32mc:\\Users\\nanar\\Documents\\Python\\LangChain\\venv_langchain_courses\\lib\\site-packages\\langchain\\chains\\base.py:466\u001b[0m, in \u001b[0;36mChain.prep_outputs\u001b[1;34m(self, inputs, outputs, return_only_outputs)\u001b[0m\n\u001b[0;32m    464\u001b[0m \u001b[38;5;28mself\u001b[39m\u001b[38;5;241m.\u001b[39m_validate_outputs(outputs)\n\u001b[0;32m    465\u001b[0m \u001b[38;5;28;01mif\u001b[39;00m \u001b[38;5;28mself\u001b[39m\u001b[38;5;241m.\u001b[39mmemory \u001b[38;5;129;01mis\u001b[39;00m \u001b[38;5;129;01mnot\u001b[39;00m \u001b[38;5;28;01mNone\u001b[39;00m:\n\u001b[1;32m--> 466\u001b[0m     \u001b[38;5;28;43mself\u001b[39;49m\u001b[38;5;241;43m.\u001b[39;49m\u001b[43mmemory\u001b[49m\u001b[38;5;241;43m.\u001b[39;49m\u001b[43msave_context\u001b[49m\u001b[43m(\u001b[49m\u001b[43minputs\u001b[49m\u001b[43m,\u001b[49m\u001b[43m \u001b[49m\u001b[43moutputs\u001b[49m\u001b[43m)\u001b[49m\n\u001b[0;32m    467\u001b[0m \u001b[38;5;28;01mif\u001b[39;00m return_only_outputs:\n\u001b[0;32m    468\u001b[0m     \u001b[38;5;28;01mreturn\u001b[39;00m outputs\n",
      "File \u001b[1;32mc:\\Users\\nanar\\Documents\\Python\\LangChain\\venv_langchain_courses\\lib\\site-packages\\langchain\\memory\\chat_memory.py:75\u001b[0m, in \u001b[0;36mBaseChatMemory.save_context\u001b[1;34m(self, inputs, outputs)\u001b[0m\n\u001b[0;32m     71\u001b[0m \u001b[38;5;250m\u001b[39m\u001b[38;5;124;03m\"\"\"Save context from this conversation to buffer.\"\"\"\u001b[39;00m\n\u001b[0;32m     72\u001b[0m input_str, output_str \u001b[38;5;241m=\u001b[39m \u001b[38;5;28mself\u001b[39m\u001b[38;5;241m.\u001b[39m_get_input_output(inputs, outputs)\n\u001b[0;32m     73\u001b[0m \u001b[38;5;28mself\u001b[39m\u001b[38;5;241m.\u001b[39mchat_memory\u001b[38;5;241m.\u001b[39madd_messages(\n\u001b[0;32m     74\u001b[0m     [\n\u001b[1;32m---> 75\u001b[0m         \u001b[43mHumanMessage\u001b[49m\u001b[43m(\u001b[49m\u001b[43mcontent\u001b[49m\u001b[38;5;241;43m=\u001b[39;49m\u001b[43minput_str\u001b[49m\u001b[43m)\u001b[49m,\n\u001b[0;32m     76\u001b[0m         AIMessage(content\u001b[38;5;241m=\u001b[39moutput_str),\n\u001b[0;32m     77\u001b[0m     ]\n\u001b[0;32m     78\u001b[0m )\n",
      "File \u001b[1;32mc:\\Users\\nanar\\Documents\\Python\\LangChain\\venv_langchain_courses\\lib\\site-packages\\langchain_core\\messages\\human.py:57\u001b[0m, in \u001b[0;36mHumanMessage.__init__\u001b[1;34m(self, content, **kwargs)\u001b[0m\n\u001b[0;32m     48\u001b[0m \u001b[38;5;28;01mdef\u001b[39;00m\u001b[38;5;250m \u001b[39m\u001b[38;5;21m__init__\u001b[39m(\n\u001b[0;32m     49\u001b[0m     \u001b[38;5;28mself\u001b[39m, content: Union[\u001b[38;5;28mstr\u001b[39m, \u001b[38;5;28mlist\u001b[39m[Union[\u001b[38;5;28mstr\u001b[39m, \u001b[38;5;28mdict\u001b[39m]]], \u001b[38;5;241m*\u001b[39m\u001b[38;5;241m*\u001b[39mkwargs: Any\n\u001b[0;32m     50\u001b[0m ) \u001b[38;5;241m-\u001b[39m\u001b[38;5;241m>\u001b[39m \u001b[38;5;28;01mNone\u001b[39;00m:\n\u001b[0;32m     51\u001b[0m \u001b[38;5;250m    \u001b[39m\u001b[38;5;124;03m\"\"\"Pass in content as positional arg.\u001b[39;00m\n\u001b[0;32m     52\u001b[0m \n\u001b[0;32m     53\u001b[0m \u001b[38;5;124;03m    Args:\u001b[39;00m\n\u001b[0;32m     54\u001b[0m \u001b[38;5;124;03m        content: The string contents of the message.\u001b[39;00m\n\u001b[0;32m     55\u001b[0m \u001b[38;5;124;03m        kwargs: Additional fields to pass to the message.\u001b[39;00m\n\u001b[0;32m     56\u001b[0m \u001b[38;5;124;03m    \"\"\"\u001b[39;00m\n\u001b[1;32m---> 57\u001b[0m     \u001b[38;5;28msuper\u001b[39m()\u001b[38;5;241m.\u001b[39m\u001b[38;5;21m__init__\u001b[39m(content\u001b[38;5;241m=\u001b[39mcontent, \u001b[38;5;241m*\u001b[39m\u001b[38;5;241m*\u001b[39mkwargs)\n",
      "File \u001b[1;32mc:\\Users\\nanar\\Documents\\Python\\LangChain\\venv_langchain_courses\\lib\\site-packages\\langchain_core\\messages\\base.py:76\u001b[0m, in \u001b[0;36mBaseMessage.__init__\u001b[1;34m(self, content, **kwargs)\u001b[0m\n\u001b[0;32m     67\u001b[0m \u001b[38;5;28;01mdef\u001b[39;00m\u001b[38;5;250m \u001b[39m\u001b[38;5;21m__init__\u001b[39m(\n\u001b[0;32m     68\u001b[0m     \u001b[38;5;28mself\u001b[39m, content: Union[\u001b[38;5;28mstr\u001b[39m, \u001b[38;5;28mlist\u001b[39m[Union[\u001b[38;5;28mstr\u001b[39m, \u001b[38;5;28mdict\u001b[39m]]], \u001b[38;5;241m*\u001b[39m\u001b[38;5;241m*\u001b[39mkwargs: Any\n\u001b[0;32m     69\u001b[0m ) \u001b[38;5;241m-\u001b[39m\u001b[38;5;241m>\u001b[39m \u001b[38;5;28;01mNone\u001b[39;00m:\n\u001b[0;32m     70\u001b[0m \u001b[38;5;250m    \u001b[39m\u001b[38;5;124;03m\"\"\"Pass in content as positional arg.\u001b[39;00m\n\u001b[0;32m     71\u001b[0m \n\u001b[0;32m     72\u001b[0m \u001b[38;5;124;03m    Args:\u001b[39;00m\n\u001b[0;32m     73\u001b[0m \u001b[38;5;124;03m        content: The string contents of the message.\u001b[39;00m\n\u001b[0;32m     74\u001b[0m \u001b[38;5;124;03m        kwargs: Additional fields to pass to the\u001b[39;00m\n\u001b[0;32m     75\u001b[0m \u001b[38;5;124;03m    \"\"\"\u001b[39;00m\n\u001b[1;32m---> 76\u001b[0m     \u001b[38;5;28msuper\u001b[39m()\u001b[38;5;241m.\u001b[39m\u001b[38;5;21m__init__\u001b[39m(content\u001b[38;5;241m=\u001b[39mcontent, \u001b[38;5;241m*\u001b[39m\u001b[38;5;241m*\u001b[39mkwargs)\n",
      "File \u001b[1;32mc:\\Users\\nanar\\Documents\\Python\\LangChain\\venv_langchain_courses\\lib\\site-packages\\langchain_core\\load\\serializable.py:125\u001b[0m, in \u001b[0;36mSerializable.__init__\u001b[1;34m(self, *args, **kwargs)\u001b[0m\n\u001b[0;32m    123\u001b[0m \u001b[38;5;28;01mdef\u001b[39;00m\u001b[38;5;250m \u001b[39m\u001b[38;5;21m__init__\u001b[39m(\u001b[38;5;28mself\u001b[39m, \u001b[38;5;241m*\u001b[39margs: Any, \u001b[38;5;241m*\u001b[39m\u001b[38;5;241m*\u001b[39mkwargs: Any) \u001b[38;5;241m-\u001b[39m\u001b[38;5;241m>\u001b[39m \u001b[38;5;28;01mNone\u001b[39;00m:\n\u001b[0;32m    124\u001b[0m \u001b[38;5;250m    \u001b[39m\u001b[38;5;124;03m\"\"\"\"\"\"\u001b[39;00m\n\u001b[1;32m--> 125\u001b[0m     \u001b[38;5;28msuper\u001b[39m()\u001b[38;5;241m.\u001b[39m\u001b[38;5;21m__init__\u001b[39m(\u001b[38;5;241m*\u001b[39margs, \u001b[38;5;241m*\u001b[39m\u001b[38;5;241m*\u001b[39mkwargs)\n",
      "File \u001b[1;32mc:\\Users\\nanar\\Documents\\Python\\LangChain\\venv_langchain_courses\\lib\\site-packages\\pydantic\\main.py:214\u001b[0m, in \u001b[0;36mBaseModel.__init__\u001b[1;34m(self, **data)\u001b[0m\n\u001b[0;32m    212\u001b[0m \u001b[38;5;66;03m# `__tracebackhide__` tells pytest and some other tools to omit this function from tracebacks\u001b[39;00m\n\u001b[0;32m    213\u001b[0m __tracebackhide__ \u001b[38;5;241m=\u001b[39m \u001b[38;5;28;01mTrue\u001b[39;00m\n\u001b[1;32m--> 214\u001b[0m validated_self \u001b[38;5;241m=\u001b[39m \u001b[38;5;28;43mself\u001b[39;49m\u001b[38;5;241;43m.\u001b[39;49m\u001b[43m__pydantic_validator__\u001b[49m\u001b[38;5;241;43m.\u001b[39;49m\u001b[43mvalidate_python\u001b[49m\u001b[43m(\u001b[49m\u001b[43mdata\u001b[49m\u001b[43m,\u001b[49m\u001b[43m \u001b[49m\u001b[43mself_instance\u001b[49m\u001b[38;5;241;43m=\u001b[39;49m\u001b[38;5;28;43mself\u001b[39;49m\u001b[43m)\u001b[49m\n\u001b[0;32m    215\u001b[0m \u001b[38;5;28;01mif\u001b[39;00m \u001b[38;5;28mself\u001b[39m \u001b[38;5;129;01mis\u001b[39;00m \u001b[38;5;129;01mnot\u001b[39;00m validated_self:\n\u001b[0;32m    216\u001b[0m     warnings\u001b[38;5;241m.\u001b[39mwarn(\n\u001b[0;32m    217\u001b[0m         \u001b[38;5;124m'\u001b[39m\u001b[38;5;124mA custom validator is returning a value other than `self`.\u001b[39m\u001b[38;5;130;01m\\n\u001b[39;00m\u001b[38;5;124m'\u001b[39m\n\u001b[0;32m    218\u001b[0m         \u001b[38;5;124m\"\u001b[39m\u001b[38;5;124mReturning anything other than `self` from a top level model validator isn\u001b[39m\u001b[38;5;124m'\u001b[39m\u001b[38;5;124mt supported when validating via `__init__`.\u001b[39m\u001b[38;5;130;01m\\n\u001b[39;00m\u001b[38;5;124m\"\u001b[39m\n\u001b[0;32m    219\u001b[0m         \u001b[38;5;124m'\u001b[39m\u001b[38;5;124mSee the `model_validator` docs (https://docs.pydantic.dev/latest/concepts/validators/#model-validators) for more details.\u001b[39m\u001b[38;5;124m'\u001b[39m,\n\u001b[0;32m    220\u001b[0m         stacklevel\u001b[38;5;241m=\u001b[39m\u001b[38;5;241m2\u001b[39m,\n\u001b[0;32m    221\u001b[0m     )\n",
      "\u001b[1;31mValidationError\u001b[0m: 21 validation errors for HumanMessage\ncontent.str\n  Input should be a valid string [type=string_type, input_value=ChatPromptTemplate(input_... response_metadata={})]), input_type=ChatPromptTemplate]\n    For further information visit https://errors.pydantic.dev/2.10/v/string_type\ncontent.list[union[str,dict[any,any]]].0.str\n  Input should be a valid string [type=string_type, input_value=('name', None), input_type=tuple]\n    For further information visit https://errors.pydantic.dev/2.10/v/string_type\ncontent.list[union[str,dict[any,any]]].0.dict[any,any]\n  Input should be a valid dictionary [type=dict_type, input_value=('name', None), input_type=tuple]\n    For further information visit https://errors.pydantic.dev/2.10/v/dict_type\ncontent.list[union[str,dict[any,any]]].1.str\n  Input should be a valid string [type=string_type, input_value=('input_variables', []), input_type=tuple]\n    For further information visit https://errors.pydantic.dev/2.10/v/string_type\ncontent.list[union[str,dict[any,any]]].1.dict[any,any]\n  Input should be a valid dictionary [type=dict_type, input_value=('input_variables', []), input_type=tuple]\n    For further information visit https://errors.pydantic.dev/2.10/v/dict_type\ncontent.list[union[str,dict[any,any]]].2.str\n  Input should be a valid string [type=string_type, input_value=('optional_variables', []), input_type=tuple]\n    For further information visit https://errors.pydantic.dev/2.10/v/string_type\ncontent.list[union[str,dict[any,any]]].2.dict[any,any]\n  Input should be a valid dictionary [type=dict_type, input_value=('optional_variables', []), input_type=tuple]\n    For further information visit https://errors.pydantic.dev/2.10/v/dict_type\ncontent.list[union[str,dict[any,any]]].3.str\n  Input should be a valid string [type=string_type, input_value=('input_types', {}), input_type=tuple]\n    For further information visit https://errors.pydantic.dev/2.10/v/string_type\ncontent.list[union[str,dict[any,any]]].3.dict[any,any]\n  Input should be a valid dictionary [type=dict_type, input_value=('input_types', {}), input_type=tuple]\n    For further information visit https://errors.pydantic.dev/2.10/v/dict_type\ncontent.list[union[str,dict[any,any]]].4.str\n  Input should be a valid string [type=string_type, input_value=('output_parser', None), input_type=tuple]\n    For further information visit https://errors.pydantic.dev/2.10/v/string_type\ncontent.list[union[str,dict[any,any]]].4.dict[any,any]\n  Input should be a valid dictionary [type=dict_type, input_value=('output_parser', None), input_type=tuple]\n    For further information visit https://errors.pydantic.dev/2.10/v/dict_type\ncontent.list[union[str,dict[any,any]]].5.str\n  Input should be a valid string [type=string_type, input_value=('partial_variables', {}), input_type=tuple]\n    For further information visit https://errors.pydantic.dev/2.10/v/string_type\ncontent.list[union[str,dict[any,any]]].5.dict[any,any]\n  Input should be a valid dictionary [type=dict_type, input_value=('partial_variables', {}), input_type=tuple]\n    For further information visit https://errors.pydantic.dev/2.10/v/dict_type\ncontent.list[union[str,dict[any,any]]].6.str\n  Input should be a valid string [type=string_type, input_value=('metadata', None), input_type=tuple]\n    For further information visit https://errors.pydantic.dev/2.10/v/string_type\ncontent.list[union[str,dict[any,any]]].6.dict[any,any]\n  Input should be a valid dictionary [type=dict_type, input_value=('metadata', None), input_type=tuple]\n    For further information visit https://errors.pydantic.dev/2.10/v/dict_type\ncontent.list[union[str,dict[any,any]]].7.str\n  Input should be a valid string [type=string_type, input_value=('tags', None), input_type=tuple]\n    For further information visit https://errors.pydantic.dev/2.10/v/string_type\ncontent.list[union[str,dict[any,any]]].7.dict[any,any]\n  Input should be a valid dictionary [type=dict_type, input_value=('tags', None), input_type=tuple]\n    For further information visit https://errors.pydantic.dev/2.10/v/dict_type\ncontent.list[union[str,dict[any,any]]].8.str\n  Input should be a valid string [type=string_type, input_value=('messages', [SystemMessa... response_metadata={})]), input_type=tuple]\n    For further information visit https://errors.pydantic.dev/2.10/v/string_type\ncontent.list[union[str,dict[any,any]]].8.dict[any,any]\n  Input should be a valid dictionary [type=dict_type, input_value=('messages', [SystemMessa... response_metadata={})]), input_type=tuple]\n    For further information visit https://errors.pydantic.dev/2.10/v/dict_type\ncontent.list[union[str,dict[any,any]]].9.str\n  Input should be a valid string [type=string_type, input_value=('validate_template', False), input_type=tuple]\n    For further information visit https://errors.pydantic.dev/2.10/v/string_type\ncontent.list[union[str,dict[any,any]]].9.dict[any,any]\n  Input should be a valid dictionary [type=dict_type, input_value=('validate_template', False), input_type=tuple]\n    For further information visit https://errors.pydantic.dev/2.10/v/dict_type"
     ]
    }
   ],
   "source": [
    "alice_response = alice_conversation.invoke(alice_prompt_template).content\n",
    "print(f\"<<< ALICE >>>:\\n{alice_response}\")"
   ]
  },
  {
   "cell_type": "code",
   "execution_count": null,
   "metadata": {},
   "outputs": [],
   "source": []
  }
 ],
 "metadata": {
  "kernelspec": {
   "display_name": "venv_langchain_courses",
   "language": "python",
   "name": "python3"
  },
  "language_info": {
   "codemirror_mode": {
    "name": "ipython",
    "version": 3
   },
   "file_extension": ".py",
   "mimetype": "text/x-python",
   "name": "python",
   "nbconvert_exporter": "python",
   "pygments_lexer": "ipython3",
   "version": "3.10.16"
  }
 },
 "nbformat": 4,
 "nbformat_minor": 2
}
