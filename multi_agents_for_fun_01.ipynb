{
 "cells": [
  {
   "cell_type": "code",
   "execution_count": 1,
   "metadata": {},
   "outputs": [],
   "source": [
    "from langchain.agents import Tool\n",
    "from langchain_community.tools import DuckDuckGoSearchRun\n",
    "from langchain_mistralai import ChatMistralAI\n",
    "from langchain_core.prompts import ChatPromptTemplate\n",
    "from langgraph.graph import StateGraph, END\n",
    "from typing import Dict, List, Optional, TypedDict\n"
   ]
  },
  {
   "cell_type": "code",
   "execution_count": 2,
   "metadata": {},
   "outputs": [],
   "source": [
    "import sys\n",
    "\n",
    "# sys.path.append(\"../\")\n",
    "\n",
    "from custom_features.models import MODELS\n",
    "from custom_features.params_setting_fct import set_api_keys, set_langsmith\n",
    "\n",
    "set_api_keys()\n",
    "set_langsmith()"
   ]
  },
  {
   "cell_type": "code",
   "execution_count": 3,
   "metadata": {},
   "outputs": [],
   "source": [
    "\n",
    "# 1. Définition des Outils\n",
    "search = DuckDuckGoSearchRun()\n",
    "tools = [\n",
    "    Tool(\n",
    "        name=\"Recherche sur Internet\",\n",
    "        func=search.run,\n",
    "        description=\"utile pour lorsque vous avez besoin de répondre à des questions sur des sujets d'actualité. L'entrée doit être une requête de recherche.\",\n",
    "    ),\n",
    "]\n"
   ]
  },
  {
   "cell_type": "code",
   "execution_count": 4,
   "metadata": {},
   "outputs": [],
   "source": [
    "\n",
    "# 2. Définition des Agents (avec LLM et Prompt)\n",
    "llm = ChatMistralAI(temperature=0)\n"
   ]
  },
  {
   "cell_type": "markdown",
   "metadata": {},
   "source": [
    "# src/latest_ai_development/config/agents.yaml\n",
    "researcher:\n",
    "  role: >\n",
    "    {topic} Senior Data Researcher\n",
    "  goal: >\n",
    "    Uncover cutting-edge developments in {topic}\n",
    "  backstory: >\n",
    "    You're a seasoned researcher with a knack for uncovering the latest\n",
    "    developments in {topic}. Known for your ability to find the most relevant\n",
    "    information and present it in a clear and concise manner.\n",
    "\n",
    "reporting_analyst:\n",
    "  role: >\n",
    "    {topic} Reporting Analyst\n",
    "  goal: >\n",
    "    Create detailed reports based on {topic} data analysis and research findings\n",
    "  backstory: >\n",
    "    You're a meticulous analyst with a keen eye for detail. You're known for\n",
    "    your ability to turn complex data into clear and concise reports, making\n",
    "    it easy for others to understand and act on the information you provide.\n",
    "\n",
    "# src/latest_ai_development/config/tasks.yaml\n",
    "research_task:\n",
    "  description: >\n",
    "    Conduct a thorough research about {topic}\n",
    "    Make sure you find any interesting and relevant information given\n",
    "    the current year is 2025.\n",
    "  expected_output: >\n",
    "    A list with 10 bullet points of the most relevant information about {topic}\n",
    "  agent: researcher\n",
    "\n",
    "reporting_task:\n",
    "  description: >\n",
    "    Review the context you got and expand each topic into a full section for a report.\n",
    "    Make sure the report is detailed and contains any and all relevant information.\n",
    "  expected_output: >\n",
    "    A fully fledge reports with the mains topics, each with a full section of information.\n",
    "    Formatted as markdown without '```'\n",
    "  agent: reporting_analyst\n",
    "  output_file: report.md"
   ]
  },
  {
   "cell_type": "code",
   "execution_count": 23,
   "metadata": {},
   "outputs": [],
   "source": [
    "\n",
    "prompt_researcher = ChatPromptTemplate.from_messages(\n",
    "    [\n",
    "        # (\n",
    "        #     \"system\",\n",
    "        #     \"Role: {topic} Senior Data Researcher\\n\\n\" \\\n",
    "        #     \"Goal: Uncover cutting-edge developments in {topic}\\n\\n\" \\\n",
    "        #     \"Backstory: You're a seasoned researcher with a knack for uncovering the latest \" \\\n",
    "        #     \"developments in {topic}. Known for your ability to find the most relevant \" \\\n",
    "        #     \"information and present it in a clear and concise manner.\\n\\n\" \\\n",
    "        #     \"Description:\\n\" \\\n",
    "        #         \"- Conduct a thorough research about {topic}\\n\" \\\n",
    "        #         \"- Make sure you find any interesting and relevant information given\\n\" \\\n",
    "        #         \"- The current year is 2025.\\n\\n\" \\\n",
    "        #     \"Expected output: A list with 10 bullet points of the most relevant information about {topic}\"\n",
    "        # ),\n",
    "        (\n",
    "            \"system\",\n",
    "            \"Role: Senior Financial Researcher/Analyst\\n\\n\" \\\n",
    "            \"Goal: Analyze financial markets and uncover strategic insights in {topic}\\n\\n\" \\\n",
    "            \"Backstory: You're an experienced financial analyst with a deep understanding of financial markets. \" \\\n",
    "            \"Known for your ability to identify key trends, evaluate financial data, and provide actionable insights.\\n\\n\" \\\n",
    "            \"Description:\\n\" \\\n",
    "                \"- Conduct a comprehensive analysis of financial data related to {topic}\\n\" \\\n",
    "                \"- Identify key trends, risks, and opportunities in the financial landscape\\n\" \\\n",
    "                \"- Ensure the information is relevant and up-to-date as of 2025\\n\" \\\n",
    "                \"- Present findings in a clear and concise manner\\n\\n\" \\\n",
    "            \"Expected output: A list with 10 bullet points of the most relevant financial insights about {topic}\"\n",
    "        ),\n",
    "        (\"user\", \"{topic}\"),\n",
    "    ]\n",
    ")\n",
    "prompt_reporting_analyst = ChatPromptTemplate.from_messages(\n",
    "    [\n",
    "        (\n",
    "            \"system\",\n",
    "            \"Role: {topic} Reporting Analyst\\n\\n\" \\\n",
    "            \"Goal: Create detailed reports based on {topic} data analysis and research findings\\n\\n\" \\\n",
    "            \"Backstory: You're a meticulous analyst with a keen eye for detail. You're known for \" \\\n",
    "            \"your ability to turn complex data into clear and concise reports, making \" \\\n",
    "            \"it easy for others to understand and act on the information you provide.\\n\\n\" \\\n",
    "            \"Description: \" \\\n",
    "                \"- Review the context you got and expand each topic into a full section for a report.\\n\" \\\n",
    "                \"- Make sure the report is detailed and contains any and all relevant information.\\n\\n\" \\\n",
    "            \"Expected output: \\n\" \\\n",
    "                \"- A fully fledge reports with the mains topics, each with a full section of information.\\n\" \\\n",
    "                \"- Formatted as markdown without '```'\"\n",
    "        ),\n",
    "        (\"user\", \"Informations provided by {topic} Senior Data Researcher: {informations}\\n\\nUser question: {topic}\"),\n",
    "    ]\n",
    ")\n"
   ]
  },
  {
   "cell_type": "code",
   "execution_count": 24,
   "metadata": {},
   "outputs": [],
   "source": [
    "\n",
    "# Agent Chercheur MODIFIÉ pour retourner un dictionnaire mettant à jour l'état avec 'informations'\n",
    "def agent_chercheur_node(state):\n",
    "    question = state['topic']\n",
    "    resultat_recherche = search.run(question) # Utilisation de l'outil de recherche\n",
    "    return {\"informations\": resultat_recherche} # Retourne un dictionnaire pour mettre à jour l'état\n",
    "\n",
    "# Agent Répondeur MODIFIÉ (légèrement) pour accéder à 'informations' depuis l'état\n",
    "def agent_repondeur_node(state):\n",
    "    informations = state['informations']\n",
    "    question = state['topic']\n",
    "    prompt_avec_informations = prompt_researcher.format_messages(informations=informations, topic=question)\n",
    "    reponse = llm.invoke(prompt_avec_informations)\n",
    "    return {\"reponse\": reponse.content} # Retourne la réponse, pourrait aussi mettre à jour l'état si nécessaire\n"
   ]
  },
  {
   "cell_type": "code",
   "execution_count": 25,
   "metadata": {},
   "outputs": [],
   "source": [
    "\n",
    "# 3. Définition du Graph LangGraph\n",
    "class AgentState(TypedDict):\n",
    "    topic: str\n",
    "    informations: Optional[str]\n",
    "    reponse: Optional[str] # 'reponse' sera mis à jour par le répondeur\n",
    "\n",
    "builder = StateGraph(AgentState)\n",
    "\n",
    "# Ajout des nodes (agents)\n",
    "builder.add_node(\"chercheur\", agent_chercheur_node)\n",
    "builder.add_node(\"repondeur\", agent_repondeur_node)\n",
    "\n",
    "# Définition des edges (transitions)\n",
    "builder.set_entry_point(\"chercheur\")\n",
    "builder.add_edge(\"chercheur\", \"repondeur\")\n",
    "builder.add_edge(\"repondeur\", END) # Fin du graph après le répondeur\n",
    "\n",
    "# Compilation du Graph\n",
    "graph = builder.compile()\n"
   ]
  },
  {
   "cell_type": "code",
   "execution_count": 30,
   "metadata": {},
   "outputs": [],
   "source": [
    "\n",
    "# 4. Exécution du Workflow\n",
    "inputs = {\"topic\": \"TESLA\"}\n",
    "resultats = graph.invoke(inputs)\n"
   ]
  },
  {
   "cell_type": "code",
   "execution_count": 31,
   "metadata": {},
   "outputs": [
    {
     "name": "stdout",
     "output_type": "stream",
     "text": [
      "Question: TESLA\n",
      "Réponse: Tesla, Inc. is an American manufacturer of electric vehicles, solar panels, and automobile batteries. It was founded in 2003 by American entrepreneurs Martin Eberhard and Marc Tarpenning and was named after Serbian American inventor Nikola Tesla. Elon Musk, an early investor in the company, became CEO in 2008. Tesla has ambitious goals for its new Roadster: hit 60 mph in 1.9 seconds and achieve a range of 620 miles. Fittingly, prices will start around $200,000. Fittingly, prices will start around $200,000. 2024 Tesla Model 3 Long Range Rear-Wheel Drive: $44,130 The updated 2024 Tesla Model 3 is a solid upgrade over the outgoing model. It offers a quieter cabin, slight exterior tweaks, a more refined ... Overall, Tesla's profits took a hit in 2024, with net income dropping to $8.4 billion, marking a 23% drop from 2023 and an even steeper 40% decline from its record $14.1 billion profit in 2022 ... Tesla Motors continues to defy automotive norms, and the norm that it scoffs at routinely is the tradition of annual model-year updates. Instead, electric vehicle maker introduces changes on their own schedule, making it challenging to pinpoint when updates appear on U.S. vehicles.Tesla's approach ensures innovation remains at the forefront while confounding those used to yearly changes.\n"
     ]
    }
   ],
   "source": [
    "\n",
    "# 5. Affichage du résultat\n",
    "reponse_finale = resultats['informations'] # La réponse du répondeur est stockée dans 'informations' dans cet exemple simplifié.\n",
    "print(f\"Question: {inputs['topic']}\")\n",
    "print(f\"Réponse: {reponse_finale}\")"
   ]
  },
  {
   "cell_type": "code",
   "execution_count": null,
   "metadata": {},
   "outputs": [],
   "source": []
  }
 ],
 "metadata": {
  "kernelspec": {
   "display_name": "venv_langchain",
   "language": "python",
   "name": "python3"
  },
  "language_info": {
   "codemirror_mode": {
    "name": "ipython",
    "version": 3
   },
   "file_extension": ".py",
   "mimetype": "text/x-python",
   "name": "python",
   "nbconvert_exporter": "python",
   "pygments_lexer": "ipython3",
   "version": "3.10.16"
  }
 },
 "nbformat": 4,
 "nbformat_minor": 2
}
